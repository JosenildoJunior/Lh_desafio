{
  "nbformat": 4,
  "nbformat_minor": 0,
  "metadata": {
    "colab": {
      "provenance": [],
      "collapsed_sections": [
        "gFJ7CHMT1NYf",
        "pmREMmzT1VyX",
        "qFJsoXVFxUwT",
        "MHKu9Bga3jXv",
        "qobSwR6U2EAH",
        "ljv1NJ_wYwqM",
        "ClSVjBPZz9hQ"
      ],
      "authorship_tag": "ABX9TyMh7Z9BqU4tHbzs9zBEqbte",
      "include_colab_link": true
    },
    "kernelspec": {
      "name": "python3",
      "display_name": "Python 3"
    },
    "language_info": {
      "name": "python"
    }
  },
  "cells": [
    {
      "cell_type": "markdown",
      "metadata": {
        "id": "view-in-github",
        "colab_type": "text"
      },
      "source": [
        "<a href=\"https://colab.research.google.com/github/JosenildoJunior/Lh_desafio/blob/main/Desafio_indicium.ipynb\" target=\"_parent\"><img src=\"https://colab.research.google.com/assets/colab-badge.svg\" alt=\"Open In Colab\"/></a>"
      ]
    },
    {
      "cell_type": "markdown",
      "source": [
        "# **Desafio**"
      ],
      "metadata": {
        "id": "gFJ7CHMT1NYf"
      }
    },
    {
      "cell_type": "markdown",
      "source": [
        "Você foi contratado por um estúdio de Hollywood chamado PProductions, e agora deve fazer uma análise em cima de um banco de dados cinematográfico para orientar qual tipo de filme deve ser o próximo a ser desenvolvido. Lembre-se que há muito dinheiro envolvido, então a análise deve ser muito detalhada e levar em consideração o máximo de fatores possíveis (a introdução de dados externos é permitida - e encorajada).\n"
      ],
      "metadata": {
        "id": "LlLftPWP1QGn"
      }
    },
    {
      "cell_type": "markdown",
      "source": [
        "# **Entregas**"
      ],
      "metadata": {
        "id": "pmREMmzT1VyX"
      }
    },
    {
      "cell_type": "markdown",
      "source": [
        "- 1. Faça uma análise exploratória dos dados (EDA), demonstrando as principais características entre as variáveis e apresentando algumas hipóteses relacionadas. Seja criativo!\n",
        "\n",
        "- 2. Responda também às seguintes perguntas:\n",
        "\n",
        "  - Qual filme você recomendaria para uma pessoa que você não conhece?\n",
        "  - Quais são os principais fatores que estão relacionados com alta expectativa de faturamento de um filme?\n",
        "  - Quais insights podem ser tirados com a coluna Overview? É possível inferir o gênero do filme a partir dessa coluna?\n",
        "\n",
        "- 3. Explique como você faria a previsão da nota do imdb a partir dos dados. Quais variáveis e/ou suas transformações você utilizou e por quê? Qual tipo de problema estamos resolvendo (regressão, classificação)? Qual modelo melhor se aproxima dos dados e quais seus prós e contras? Qual medida de performance do modelo foi escolhida e por quê?\n",
        "\n",
        "- 4.Supondo um filme com as seguintes características:\n",
        "\n",
        "  {'Series_Title': 'The Shawshank Redemption',\n",
        "  'Released_Year': '1994',\n",
        "  'Certificate': 'A',\n",
        "  'Runtime': '142 min',\n",
        "  'Genre': 'Drama',\n",
        "  'Overview': 'Two imprisoned men bond over a number of years, finding solace and eventual redemption through acts of common decency.',\n",
        "  'Meta_score': 80.0,\n",
        "  'Director': 'Frank Darabont',\n",
        "  'Star1': 'Tim Robbins',\n",
        "  'Star2': 'Morgan Freeman',\n",
        "  'Star3': 'Bob Gunton',\n",
        "  'Star4': 'William Sadler',\n",
        "  'No_of_Votes': 2343110,\n",
        "  'Gross': '28,341,469'}\n",
        "\n",
        "\n",
        "Qual seria a nota do IMDB?\n",
        "\n",
        "- 5. Salve o modelo desenvolvido no formato .pkl.\n",
        "- 6. A entrega deve ser feita através de um repositório de código público que contenha:\n",
        "\n",
        "  - README explicando como instalar e executar o projeto\n",
        "  - Arquivo de requisitos com todos os pacotes utilizados e suas versões\n",
        "  - Relatórios das análises estatísticas e EDA em PDF, Jupyter Notebook ou semelhante conforme passo 1 e 2.\n",
        "  - Códigos de modelagem utilizados no passo 3 (pode ser entregue no mesmo Jupyter Notebook).\n",
        "  - Arquivo .pkl conforme passo 5 acima.\n",
        "  Todos os códigos produzidos devem seguir as boas práticas de codificação.\n"
      ],
      "metadata": {
        "id": "_RcWRPKh1XP3"
      }
    },
    {
      "cell_type": "markdown",
      "source": [
        "# **Ajustes iniciais**"
      ],
      "metadata": {
        "id": "qFJsoXVFxUwT"
      }
    },
    {
      "cell_type": "markdown",
      "source": [
        "Antes de tudo, vamos importar as bibliotecas que serão necessárias para realizarmos nossas análises."
      ],
      "metadata": {
        "id": "MpU3PDun31ym"
      }
    },
    {
      "cell_type": "code",
      "source": [
        "# Manipulação de dados\n",
        "import pandas as pd\n",
        "\n",
        "# Algébra linear\n",
        "import numpy as np\n",
        "\n",
        "# Visualização de dados\n",
        "import matplotlib.pyplot as plt\n",
        "import seaborn as sns\n",
        "\n",
        "# Funções estatísticas\n",
        "import statistics\n",
        "from scipy import stats\n",
        "\n",
        "# Importando o skew\n",
        "from scipy.stats import skew"
      ],
      "metadata": {
        "id": "EaJ3sqTY3sEW"
      },
      "execution_count": 1,
      "outputs": []
    },
    {
      "cell_type": "markdown",
      "source": [
        "Agora vamos importar nossos dados."
      ],
      "metadata": {
        "id": "E1T2WCp5346O"
      }
    },
    {
      "cell_type": "code",
      "source": [
        "# Acesso ao drive\n",
        "from google.colab import drive\n",
        "drive.mount('/content/drive')"
      ],
      "metadata": {
        "colab": {
          "base_uri": "https://localhost:8080/"
        },
        "id": "F7K35Xoz35K4",
        "outputId": "0818f375-7c1e-4de7-dc5d-2b7a04809568"
      },
      "execution_count": 2,
      "outputs": [
        {
          "output_type": "stream",
          "name": "stdout",
          "text": [
            "Mounted at /content/drive\n"
          ]
        }
      ]
    },
    {
      "cell_type": "code",
      "source": [
        "# Importando o dataset\n",
        "df = pd.read_csv('/content/drive/MyDrive/Dados/desafio_indicium_imdb.csv')\n",
        "\n",
        "# Observando os primeiro registros\n",
        "df.head()"
      ],
      "metadata": {
        "colab": {
          "base_uri": "https://localhost:8080/",
          "height": 328
        },
        "id": "dY3LaUAd38Qf",
        "outputId": "e45ec80e-83f7-4b15-8bc8-52955aa54a93"
      },
      "execution_count": 3,
      "outputs": [
        {
          "output_type": "execute_result",
          "data": {
            "text/plain": [
              "   Unnamed: 0                                   Series_Title Released_Year  \\\n",
              "0           1                                  The Godfather          1972   \n",
              "1           2                                The Dark Knight          2008   \n",
              "2           3                         The Godfather: Part II          1974   \n",
              "3           4                                   12 Angry Men          1957   \n",
              "4           5  The Lord of the Rings: The Return of the King          2003   \n",
              "\n",
              "  Certificate  Runtime                     Genre  IMDB_Rating  \\\n",
              "0           A  175 min              Crime, Drama          9.2   \n",
              "1          UA  152 min      Action, Crime, Drama          9.0   \n",
              "2           A  202 min              Crime, Drama          9.0   \n",
              "3           U   96 min              Crime, Drama          9.0   \n",
              "4           U  201 min  Action, Adventure, Drama          8.9   \n",
              "\n",
              "                                            Overview  Meta_score  \\\n",
              "0  An organized crime dynasty's aging patriarch t...       100.0   \n",
              "1  When the menace known as the Joker wreaks havo...        84.0   \n",
              "2  The early life and career of Vito Corleone in ...        90.0   \n",
              "3  A jury holdout attempts to prevent a miscarria...        96.0   \n",
              "4  Gandalf and Aragorn lead the World of Men agai...        94.0   \n",
              "\n",
              "               Director           Star1            Star2          Star3  \\\n",
              "0  Francis Ford Coppola   Marlon Brando        Al Pacino     James Caan   \n",
              "1     Christopher Nolan  Christian Bale     Heath Ledger  Aaron Eckhart   \n",
              "2  Francis Ford Coppola       Al Pacino   Robert De Niro  Robert Duvall   \n",
              "3          Sidney Lumet     Henry Fonda      Lee J. Cobb  Martin Balsam   \n",
              "4         Peter Jackson     Elijah Wood  Viggo Mortensen   Ian McKellen   \n",
              "\n",
              "           Star4  No_of_Votes        Gross  \n",
              "0   Diane Keaton      1620367  134,966,411  \n",
              "1  Michael Caine      2303232  534,858,444  \n",
              "2   Diane Keaton      1129952   57,300,000  \n",
              "3   John Fiedler       689845    4,360,000  \n",
              "4  Orlando Bloom      1642758  377,845,905  "
            ],
            "text/html": [
              "\n",
              "  <div id=\"df-84b3a797-871d-489f-a1a9-b4826bb6601c\" class=\"colab-df-container\">\n",
              "    <div>\n",
              "<style scoped>\n",
              "    .dataframe tbody tr th:only-of-type {\n",
              "        vertical-align: middle;\n",
              "    }\n",
              "\n",
              "    .dataframe tbody tr th {\n",
              "        vertical-align: top;\n",
              "    }\n",
              "\n",
              "    .dataframe thead th {\n",
              "        text-align: right;\n",
              "    }\n",
              "</style>\n",
              "<table border=\"1\" class=\"dataframe\">\n",
              "  <thead>\n",
              "    <tr style=\"text-align: right;\">\n",
              "      <th></th>\n",
              "      <th>Unnamed: 0</th>\n",
              "      <th>Series_Title</th>\n",
              "      <th>Released_Year</th>\n",
              "      <th>Certificate</th>\n",
              "      <th>Runtime</th>\n",
              "      <th>Genre</th>\n",
              "      <th>IMDB_Rating</th>\n",
              "      <th>Overview</th>\n",
              "      <th>Meta_score</th>\n",
              "      <th>Director</th>\n",
              "      <th>Star1</th>\n",
              "      <th>Star2</th>\n",
              "      <th>Star3</th>\n",
              "      <th>Star4</th>\n",
              "      <th>No_of_Votes</th>\n",
              "      <th>Gross</th>\n",
              "    </tr>\n",
              "  </thead>\n",
              "  <tbody>\n",
              "    <tr>\n",
              "      <th>0</th>\n",
              "      <td>1</td>\n",
              "      <td>The Godfather</td>\n",
              "      <td>1972</td>\n",
              "      <td>A</td>\n",
              "      <td>175 min</td>\n",
              "      <td>Crime, Drama</td>\n",
              "      <td>9.2</td>\n",
              "      <td>An organized crime dynasty's aging patriarch t...</td>\n",
              "      <td>100.0</td>\n",
              "      <td>Francis Ford Coppola</td>\n",
              "      <td>Marlon Brando</td>\n",
              "      <td>Al Pacino</td>\n",
              "      <td>James Caan</td>\n",
              "      <td>Diane Keaton</td>\n",
              "      <td>1620367</td>\n",
              "      <td>134,966,411</td>\n",
              "    </tr>\n",
              "    <tr>\n",
              "      <th>1</th>\n",
              "      <td>2</td>\n",
              "      <td>The Dark Knight</td>\n",
              "      <td>2008</td>\n",
              "      <td>UA</td>\n",
              "      <td>152 min</td>\n",
              "      <td>Action, Crime, Drama</td>\n",
              "      <td>9.0</td>\n",
              "      <td>When the menace known as the Joker wreaks havo...</td>\n",
              "      <td>84.0</td>\n",
              "      <td>Christopher Nolan</td>\n",
              "      <td>Christian Bale</td>\n",
              "      <td>Heath Ledger</td>\n",
              "      <td>Aaron Eckhart</td>\n",
              "      <td>Michael Caine</td>\n",
              "      <td>2303232</td>\n",
              "      <td>534,858,444</td>\n",
              "    </tr>\n",
              "    <tr>\n",
              "      <th>2</th>\n",
              "      <td>3</td>\n",
              "      <td>The Godfather: Part II</td>\n",
              "      <td>1974</td>\n",
              "      <td>A</td>\n",
              "      <td>202 min</td>\n",
              "      <td>Crime, Drama</td>\n",
              "      <td>9.0</td>\n",
              "      <td>The early life and career of Vito Corleone in ...</td>\n",
              "      <td>90.0</td>\n",
              "      <td>Francis Ford Coppola</td>\n",
              "      <td>Al Pacino</td>\n",
              "      <td>Robert De Niro</td>\n",
              "      <td>Robert Duvall</td>\n",
              "      <td>Diane Keaton</td>\n",
              "      <td>1129952</td>\n",
              "      <td>57,300,000</td>\n",
              "    </tr>\n",
              "    <tr>\n",
              "      <th>3</th>\n",
              "      <td>4</td>\n",
              "      <td>12 Angry Men</td>\n",
              "      <td>1957</td>\n",
              "      <td>U</td>\n",
              "      <td>96 min</td>\n",
              "      <td>Crime, Drama</td>\n",
              "      <td>9.0</td>\n",
              "      <td>A jury holdout attempts to prevent a miscarria...</td>\n",
              "      <td>96.0</td>\n",
              "      <td>Sidney Lumet</td>\n",
              "      <td>Henry Fonda</td>\n",
              "      <td>Lee J. Cobb</td>\n",
              "      <td>Martin Balsam</td>\n",
              "      <td>John Fiedler</td>\n",
              "      <td>689845</td>\n",
              "      <td>4,360,000</td>\n",
              "    </tr>\n",
              "    <tr>\n",
              "      <th>4</th>\n",
              "      <td>5</td>\n",
              "      <td>The Lord of the Rings: The Return of the King</td>\n",
              "      <td>2003</td>\n",
              "      <td>U</td>\n",
              "      <td>201 min</td>\n",
              "      <td>Action, Adventure, Drama</td>\n",
              "      <td>8.9</td>\n",
              "      <td>Gandalf and Aragorn lead the World of Men agai...</td>\n",
              "      <td>94.0</td>\n",
              "      <td>Peter Jackson</td>\n",
              "      <td>Elijah Wood</td>\n",
              "      <td>Viggo Mortensen</td>\n",
              "      <td>Ian McKellen</td>\n",
              "      <td>Orlando Bloom</td>\n",
              "      <td>1642758</td>\n",
              "      <td>377,845,905</td>\n",
              "    </tr>\n",
              "  </tbody>\n",
              "</table>\n",
              "</div>\n",
              "    <div class=\"colab-df-buttons\">\n",
              "\n",
              "  <div class=\"colab-df-container\">\n",
              "    <button class=\"colab-df-convert\" onclick=\"convertToInteractive('df-84b3a797-871d-489f-a1a9-b4826bb6601c')\"\n",
              "            title=\"Convert this dataframe to an interactive table.\"\n",
              "            style=\"display:none;\">\n",
              "\n",
              "  <svg xmlns=\"http://www.w3.org/2000/svg\" height=\"24px\" viewBox=\"0 -960 960 960\">\n",
              "    <path d=\"M120-120v-720h720v720H120Zm60-500h600v-160H180v160Zm220 220h160v-160H400v160Zm0 220h160v-160H400v160ZM180-400h160v-160H180v160Zm440 0h160v-160H620v160ZM180-180h160v-160H180v160Zm440 0h160v-160H620v160Z\"/>\n",
              "  </svg>\n",
              "    </button>\n",
              "\n",
              "  <style>\n",
              "    .colab-df-container {\n",
              "      display:flex;\n",
              "      gap: 12px;\n",
              "    }\n",
              "\n",
              "    .colab-df-convert {\n",
              "      background-color: #E8F0FE;\n",
              "      border: none;\n",
              "      border-radius: 50%;\n",
              "      cursor: pointer;\n",
              "      display: none;\n",
              "      fill: #1967D2;\n",
              "      height: 32px;\n",
              "      padding: 0 0 0 0;\n",
              "      width: 32px;\n",
              "    }\n",
              "\n",
              "    .colab-df-convert:hover {\n",
              "      background-color: #E2EBFA;\n",
              "      box-shadow: 0px 1px 2px rgba(60, 64, 67, 0.3), 0px 1px 3px 1px rgba(60, 64, 67, 0.15);\n",
              "      fill: #174EA6;\n",
              "    }\n",
              "\n",
              "    .colab-df-buttons div {\n",
              "      margin-bottom: 4px;\n",
              "    }\n",
              "\n",
              "    [theme=dark] .colab-df-convert {\n",
              "      background-color: #3B4455;\n",
              "      fill: #D2E3FC;\n",
              "    }\n",
              "\n",
              "    [theme=dark] .colab-df-convert:hover {\n",
              "      background-color: #434B5C;\n",
              "      box-shadow: 0px 1px 3px 1px rgba(0, 0, 0, 0.15);\n",
              "      filter: drop-shadow(0px 1px 2px rgba(0, 0, 0, 0.3));\n",
              "      fill: #FFFFFF;\n",
              "    }\n",
              "  </style>\n",
              "\n",
              "    <script>\n",
              "      const buttonEl =\n",
              "        document.querySelector('#df-84b3a797-871d-489f-a1a9-b4826bb6601c button.colab-df-convert');\n",
              "      buttonEl.style.display =\n",
              "        google.colab.kernel.accessAllowed ? 'block' : 'none';\n",
              "\n",
              "      async function convertToInteractive(key) {\n",
              "        const element = document.querySelector('#df-84b3a797-871d-489f-a1a9-b4826bb6601c');\n",
              "        const dataTable =\n",
              "          await google.colab.kernel.invokeFunction('convertToInteractive',\n",
              "                                                    [key], {});\n",
              "        if (!dataTable) return;\n",
              "\n",
              "        const docLinkHtml = 'Like what you see? Visit the ' +\n",
              "          '<a target=\"_blank\" href=https://colab.research.google.com/notebooks/data_table.ipynb>data table notebook</a>'\n",
              "          + ' to learn more about interactive tables.';\n",
              "        element.innerHTML = '';\n",
              "        dataTable['output_type'] = 'display_data';\n",
              "        await google.colab.output.renderOutput(dataTable, element);\n",
              "        const docLink = document.createElement('div');\n",
              "        docLink.innerHTML = docLinkHtml;\n",
              "        element.appendChild(docLink);\n",
              "      }\n",
              "    </script>\n",
              "  </div>\n",
              "\n",
              "\n",
              "<div id=\"df-3974ef2c-f1db-4f0a-be40-3dfcbb176339\">\n",
              "  <button class=\"colab-df-quickchart\" onclick=\"quickchart('df-3974ef2c-f1db-4f0a-be40-3dfcbb176339')\"\n",
              "            title=\"Suggest charts\"\n",
              "            style=\"display:none;\">\n",
              "\n",
              "<svg xmlns=\"http://www.w3.org/2000/svg\" height=\"24px\"viewBox=\"0 0 24 24\"\n",
              "     width=\"24px\">\n",
              "    <g>\n",
              "        <path d=\"M19 3H5c-1.1 0-2 .9-2 2v14c0 1.1.9 2 2 2h14c1.1 0 2-.9 2-2V5c0-1.1-.9-2-2-2zM9 17H7v-7h2v7zm4 0h-2V7h2v10zm4 0h-2v-4h2v4z\"/>\n",
              "    </g>\n",
              "</svg>\n",
              "  </button>\n",
              "\n",
              "<style>\n",
              "  .colab-df-quickchart {\n",
              "      --bg-color: #E8F0FE;\n",
              "      --fill-color: #1967D2;\n",
              "      --hover-bg-color: #E2EBFA;\n",
              "      --hover-fill-color: #174EA6;\n",
              "      --disabled-fill-color: #AAA;\n",
              "      --disabled-bg-color: #DDD;\n",
              "  }\n",
              "\n",
              "  [theme=dark] .colab-df-quickchart {\n",
              "      --bg-color: #3B4455;\n",
              "      --fill-color: #D2E3FC;\n",
              "      --hover-bg-color: #434B5C;\n",
              "      --hover-fill-color: #FFFFFF;\n",
              "      --disabled-bg-color: #3B4455;\n",
              "      --disabled-fill-color: #666;\n",
              "  }\n",
              "\n",
              "  .colab-df-quickchart {\n",
              "    background-color: var(--bg-color);\n",
              "    border: none;\n",
              "    border-radius: 50%;\n",
              "    cursor: pointer;\n",
              "    display: none;\n",
              "    fill: var(--fill-color);\n",
              "    height: 32px;\n",
              "    padding: 0;\n",
              "    width: 32px;\n",
              "  }\n",
              "\n",
              "  .colab-df-quickchart:hover {\n",
              "    background-color: var(--hover-bg-color);\n",
              "    box-shadow: 0 1px 2px rgba(60, 64, 67, 0.3), 0 1px 3px 1px rgba(60, 64, 67, 0.15);\n",
              "    fill: var(--button-hover-fill-color);\n",
              "  }\n",
              "\n",
              "  .colab-df-quickchart-complete:disabled,\n",
              "  .colab-df-quickchart-complete:disabled:hover {\n",
              "    background-color: var(--disabled-bg-color);\n",
              "    fill: var(--disabled-fill-color);\n",
              "    box-shadow: none;\n",
              "  }\n",
              "\n",
              "  .colab-df-spinner {\n",
              "    border: 2px solid var(--fill-color);\n",
              "    border-color: transparent;\n",
              "    border-bottom-color: var(--fill-color);\n",
              "    animation:\n",
              "      spin 1s steps(1) infinite;\n",
              "  }\n",
              "\n",
              "  @keyframes spin {\n",
              "    0% {\n",
              "      border-color: transparent;\n",
              "      border-bottom-color: var(--fill-color);\n",
              "      border-left-color: var(--fill-color);\n",
              "    }\n",
              "    20% {\n",
              "      border-color: transparent;\n",
              "      border-left-color: var(--fill-color);\n",
              "      border-top-color: var(--fill-color);\n",
              "    }\n",
              "    30% {\n",
              "      border-color: transparent;\n",
              "      border-left-color: var(--fill-color);\n",
              "      border-top-color: var(--fill-color);\n",
              "      border-right-color: var(--fill-color);\n",
              "    }\n",
              "    40% {\n",
              "      border-color: transparent;\n",
              "      border-right-color: var(--fill-color);\n",
              "      border-top-color: var(--fill-color);\n",
              "    }\n",
              "    60% {\n",
              "      border-color: transparent;\n",
              "      border-right-color: var(--fill-color);\n",
              "    }\n",
              "    80% {\n",
              "      border-color: transparent;\n",
              "      border-right-color: var(--fill-color);\n",
              "      border-bottom-color: var(--fill-color);\n",
              "    }\n",
              "    90% {\n",
              "      border-color: transparent;\n",
              "      border-bottom-color: var(--fill-color);\n",
              "    }\n",
              "  }\n",
              "</style>\n",
              "\n",
              "  <script>\n",
              "    async function quickchart(key) {\n",
              "      const quickchartButtonEl =\n",
              "        document.querySelector('#' + key + ' button');\n",
              "      quickchartButtonEl.disabled = true;  // To prevent multiple clicks.\n",
              "      quickchartButtonEl.classList.add('colab-df-spinner');\n",
              "      try {\n",
              "        const charts = await google.colab.kernel.invokeFunction(\n",
              "            'suggestCharts', [key], {});\n",
              "      } catch (error) {\n",
              "        console.error('Error during call to suggestCharts:', error);\n",
              "      }\n",
              "      quickchartButtonEl.classList.remove('colab-df-spinner');\n",
              "      quickchartButtonEl.classList.add('colab-df-quickchart-complete');\n",
              "    }\n",
              "    (() => {\n",
              "      let quickchartButtonEl =\n",
              "        document.querySelector('#df-3974ef2c-f1db-4f0a-be40-3dfcbb176339 button');\n",
              "      quickchartButtonEl.style.display =\n",
              "        google.colab.kernel.accessAllowed ? 'block' : 'none';\n",
              "    })();\n",
              "  </script>\n",
              "</div>\n",
              "\n",
              "    </div>\n",
              "  </div>\n"
            ],
            "application/vnd.google.colaboratory.intrinsic+json": {
              "type": "dataframe",
              "variable_name": "df",
              "summary": "{\n  \"name\": \"df\",\n  \"rows\": 999,\n  \"fields\": [\n    {\n      \"column\": \"Unnamed: 0\",\n      \"properties\": {\n        \"dtype\": \"number\",\n        \"std\": 288,\n        \"min\": 1,\n        \"max\": 999,\n        \"num_unique_values\": 999,\n        \"samples\": [\n          454,\n          794,\n          210\n        ],\n        \"semantic_type\": \"\",\n        \"description\": \"\"\n      }\n    },\n    {\n      \"column\": \"Series_Title\",\n      \"properties\": {\n        \"dtype\": \"string\",\n        \"num_unique_values\": 998,\n        \"samples\": [\n          \"Arsenic and Old Lace\",\n          \"Hedwig and the Angry Inch\",\n          \"\\u00d4kami kodomo no Ame to Yuki\"\n        ],\n        \"semantic_type\": \"\",\n        \"description\": \"\"\n      }\n    },\n    {\n      \"column\": \"Released_Year\",\n      \"properties\": {\n        \"dtype\": \"category\",\n        \"num_unique_values\": 100,\n        \"samples\": [\n          \"1934\",\n          \"1992\",\n          \"1989\"\n        ],\n        \"semantic_type\": \"\",\n        \"description\": \"\"\n      }\n    },\n    {\n      \"column\": \"Certificate\",\n      \"properties\": {\n        \"dtype\": \"category\",\n        \"num_unique_values\": 16,\n        \"samples\": [\n          \"A\",\n          \"UA\",\n          \"PG\"\n        ],\n        \"semantic_type\": \"\",\n        \"description\": \"\"\n      }\n    },\n    {\n      \"column\": \"Runtime\",\n      \"properties\": {\n        \"dtype\": \"category\",\n        \"num_unique_values\": 140,\n        \"samples\": [\n          \"205 min\",\n          \"129 min\",\n          \"112 min\"\n        ],\n        \"semantic_type\": \"\",\n        \"description\": \"\"\n      }\n    },\n    {\n      \"column\": \"Genre\",\n      \"properties\": {\n        \"dtype\": \"category\",\n        \"num_unique_values\": 202,\n        \"samples\": [\n          \"Comedy, Drama, Fantasy\",\n          \"Crime, Drama, Fantasy\",\n          \"Drama, Romance, War\"\n        ],\n        \"semantic_type\": \"\",\n        \"description\": \"\"\n      }\n    },\n    {\n      \"column\": \"IMDB_Rating\",\n      \"properties\": {\n        \"dtype\": \"number\",\n        \"std\": 0.2722895085128798,\n        \"min\": 7.6,\n        \"max\": 9.2,\n        \"num_unique_values\": 16,\n        \"samples\": [\n          9.2,\n          9.0,\n          8.6\n        ],\n        \"semantic_type\": \"\",\n        \"description\": \"\"\n      }\n    },\n    {\n      \"column\": \"Overview\",\n      \"properties\": {\n        \"dtype\": \"string\",\n        \"num_unique_values\": 999,\n        \"samples\": [\n          \"Three World War II veterans return home to small-town America to discover that they and their families have been irreparably changed.\",\n          \"A gender-queer punk-rock singer from East Berlin tours the U.S. with her band as she tells her life story and follows the former lover/band-mate who stole her songs.\",\n          \"With his wife's disappearance having become the focus of an intense media circus, a man sees the spotlight turned on him when it's suspected that he may not be innocent.\"\n        ],\n        \"semantic_type\": \"\",\n        \"description\": \"\"\n      }\n    },\n    {\n      \"column\": \"Meta_score\",\n      \"properties\": {\n        \"dtype\": \"number\",\n        \"std\": 12.383257326288946,\n        \"min\": 28.0,\n        \"max\": 100.0,\n        \"num_unique_values\": 63,\n        \"samples\": [\n          30.0,\n          52.0,\n          100.0\n        ],\n        \"semantic_type\": \"\",\n        \"description\": \"\"\n      }\n    },\n    {\n      \"column\": \"Director\",\n      \"properties\": {\n        \"dtype\": \"string\",\n        \"num_unique_values\": 548,\n        \"samples\": [\n          \"Satoshi Kon\",\n          \"David Lean\",\n          \"Yilmaz Erdogan\"\n        ],\n        \"semantic_type\": \"\",\n        \"description\": \"\"\n      }\n    },\n    {\n      \"column\": \"Star1\",\n      \"properties\": {\n        \"dtype\": \"string\",\n        \"num_unique_values\": 659,\n        \"samples\": [\n          \"Peter Dinklage\",\n          \"Jay Baruchel\",\n          \"Steve McQueen\"\n        ],\n        \"semantic_type\": \"\",\n        \"description\": \"\"\n      }\n    },\n    {\n      \"column\": \"Star2\",\n      \"properties\": {\n        \"dtype\": \"string\",\n        \"num_unique_values\": 840,\n        \"samples\": [\n          \"Jacques Villeret\",\n          \"Meg Ryan\",\n          \"J.K. Simmons\"\n        ],\n        \"semantic_type\": \"\",\n        \"description\": \"\"\n      }\n    },\n    {\n      \"column\": \"Star3\",\n      \"properties\": {\n        \"dtype\": \"string\",\n        \"num_unique_values\": 890,\n        \"samples\": [\n          \"Yacef Saadi\",\n          \"John Wray\",\n          \"Chazz Palminteri\"\n        ],\n        \"semantic_type\": \"\",\n        \"description\": \"\"\n      }\n    },\n    {\n      \"column\": \"Star4\",\n      \"properties\": {\n        \"dtype\": \"string\",\n        \"num_unique_values\": 938,\n        \"samples\": [\n          \"Veronica Cartwright\",\n          \"Domhnall Gleeson\",\n          \"Jennifer Ulrich\"\n        ],\n        \"semantic_type\": \"\",\n        \"description\": \"\"\n      }\n    },\n    {\n      \"column\": \"No_of_Votes\",\n      \"properties\": {\n        \"dtype\": \"number\",\n        \"std\": 320912,\n        \"min\": 25088,\n        \"max\": 2303232,\n        \"num_unique_values\": 998,\n        \"samples\": [\n          57259,\n          31957,\n          859695\n        ],\n        \"semantic_type\": \"\",\n        \"description\": \"\"\n      }\n    },\n    {\n      \"column\": \"Gross\",\n      \"properties\": {\n        \"dtype\": \"string\",\n        \"num_unique_values\": 822,\n        \"samples\": [\n          \"136,025,503\",\n          \"356,461,711\",\n          \"275,902\"\n        ],\n        \"semantic_type\": \"\",\n        \"description\": \"\"\n      }\n    }\n  ]\n}"
            }
          },
          "metadata": {},
          "execution_count": 3
        }
      ]
    },
    {
      "cell_type": "markdown",
      "source": [
        "Neste primeiro contato, podemos notar que nossa base de dados possui diversos tipos de dados, desde numéricos até categóricos. Dito isso, vamos observar as dimensões deste nosso dataset."
      ],
      "metadata": {
        "id": "MBYZbyvv5Zcf"
      }
    },
    {
      "cell_type": "code",
      "source": [
        "# Dimensão do nosso DF\n",
        "df.shape"
      ],
      "metadata": {
        "colab": {
          "base_uri": "https://localhost:8080/"
        },
        "id": "-oOH_FdT6YOn",
        "outputId": "e9492954-df41-4480-c6f1-955404fdeecb"
      },
      "execution_count": 4,
      "outputs": [
        {
          "output_type": "execute_result",
          "data": {
            "text/plain": [
              "(999, 16)"
            ]
          },
          "metadata": {},
          "execution_count": 4
        }
      ]
    },
    {
      "cell_type": "markdown",
      "source": [
        "Temos um total de 999 linhas e 16 colunas. Sabendo disso, vamos dar uma olhada no nosso dicionário de dados."
      ],
      "metadata": {
        "id": "2xKJmBuz6dlu"
      }
    },
    {
      "cell_type": "markdown",
      "source": [
        "Agora vamos observar o dicionário dos dados.\n",
        "\n",
        "- Series_Title – Nome do filme\n",
        "- Released_Year - Ano de lançamento\n",
        "- Certificate - Classificação etária\n",
        "- Runtime – Tempo de duração\n",
        "- Genre - Gênero\n",
        "- IMDB_Rating - Nota do IMDB\n",
        "- Overview - Overview do filme\n",
        "- Meta_score - Média ponderada de todas as críticas\n",
        "- Director – Diretor\n",
        "- Star1 - Ator/atriz #1\n",
        "- Star2 - Ator/atriz #2\n",
        "- Star3 - Ator/atriz #3\n",
        "- Star4 - Ator/atriz #4\n",
        "- No_of_Votes - Número de votos\n",
        "- Gross - Faturamento\n"
      ],
      "metadata": {
        "id": "MK2JIVrG5ocH"
      }
    },
    {
      "cell_type": "markdown",
      "source": [
        "Agora que temos o dicionário para nos auxiliar, vamos observar o tipo de dado presente em cada uma das nossas colunas."
      ],
      "metadata": {
        "id": "mbLHTH946j93"
      }
    },
    {
      "cell_type": "code",
      "source": [
        "# Observando o tipo dos dados\n",
        "df.info()"
      ],
      "metadata": {
        "colab": {
          "base_uri": "https://localhost:8080/"
        },
        "id": "O4GPwLlw6r_e",
        "outputId": "c4bcd064-f8b7-46f3-c226-c0d79beb5c3f"
      },
      "execution_count": 5,
      "outputs": [
        {
          "output_type": "stream",
          "name": "stdout",
          "text": [
            "<class 'pandas.core.frame.DataFrame'>\n",
            "RangeIndex: 999 entries, 0 to 998\n",
            "Data columns (total 16 columns):\n",
            " #   Column         Non-Null Count  Dtype  \n",
            "---  ------         --------------  -----  \n",
            " 0   Unnamed: 0     999 non-null    int64  \n",
            " 1   Series_Title   999 non-null    object \n",
            " 2   Released_Year  999 non-null    object \n",
            " 3   Certificate    898 non-null    object \n",
            " 4   Runtime        999 non-null    object \n",
            " 5   Genre          999 non-null    object \n",
            " 6   IMDB_Rating    999 non-null    float64\n",
            " 7   Overview       999 non-null    object \n",
            " 8   Meta_score     842 non-null    float64\n",
            " 9   Director       999 non-null    object \n",
            " 10  Star1          999 non-null    object \n",
            " 11  Star2          999 non-null    object \n",
            " 12  Star3          999 non-null    object \n",
            " 13  Star4          999 non-null    object \n",
            " 14  No_of_Votes    999 non-null    int64  \n",
            " 15  Gross          830 non-null    object \n",
            "dtypes: float64(2), int64(2), object(12)\n",
            "memory usage: 125.0+ KB\n"
          ]
        }
      ]
    },
    {
      "cell_type": "markdown",
      "source": [
        "Agora podemos notar que a variável 'Unnamed' é do tipo inteiro. Essa variável normalmente aparece em arquivos do tipo CSV; ela é algo como um índice sem nome. Dito isso vamos excluir ela do nosso df"
      ],
      "metadata": {
        "id": "WPAr66Xlv4Ds"
      }
    },
    {
      "cell_type": "code",
      "source": [
        "# Excluindo a coluna 'Unnamed:0'\n",
        "df = df.drop('Unnamed: 0', axis = 1)"
      ],
      "metadata": {
        "id": "c1IUcsfqwEz9"
      },
      "execution_count": 6,
      "outputs": []
    },
    {
      "cell_type": "markdown",
      "source": [
        "Agora, vamos seguir para as próximas e dividir nossos dados numéricos dos nossos dados categóricos.\n",
        "\n",
        "**Dados numéricos**\n",
        "\n",
        "- A variável 'IMDB_Rating' é uma variável numérica do tipo float.\n",
        "- A variável 'Meta_score' também é numérica do tipo float.\n",
        "- A variável 'No_of_Votes' é do tipo numérica e int.\n",
        "\n",
        "**Dados categóricos**\n",
        "\n",
        "Já os dados categóricos são compostos pelas seguintes variáveis:\n",
        "\n",
        "- 'Series_Title', 'Released_Year', 'Certificate', 'Runtime', 'Genre', 'Overview', 'Director', 'Star1', 'Star2', 'Star3', 'Star4', 'Gross'.\n"
      ],
      "metadata": {
        "id": "n92dd7uE6-K3"
      }
    },
    {
      "cell_type": "markdown",
      "source": [
        "Aqui podemos notar que alguns dados categóricos deveriam ser do tipo numérico. Um exemplo é a variável 'Gross', que é referente ao faturamento e deveria ser do tipo float. Algo semelhante acontece com a variável 'Released_Year', que deveria ser do tipo numérico ou do tipo date. Também podemos observar a variável 'Runtime', que representa o tempo do filme em minutos e está como categórica.\n",
        "\n",
        "É possível realizar algumas conversões necessárias para que possamos trabalhar melhor com esses dados.\n"
      ],
      "metadata": {
        "id": "cUkc_F1n96an"
      }
    },
    {
      "cell_type": "markdown",
      "source": [
        "Dito isso antes de partirmos para os proximos passos vamos realizar essas conversões visando conseguirmos analisar os dados de forma mais assertiva"
      ],
      "metadata": {
        "id": "_eU1cxvHmbMz"
      }
    },
    {
      "cell_type": "markdown",
      "source": [
        "Ajustando os dados presentes na coluna **'Gross'**"
      ],
      "metadata": {
        "id": "0QCF4aAVpnhE"
      }
    },
    {
      "cell_type": "code",
      "source": [
        "# Removendo as vírgulas, convertendo para numérico e substituindo valores inválidos por NaN\n",
        "df['Gross'] = df['Gross'].str.replace(',', '')\n",
        "df['Gross'] = pd.to_numeric(df['Gross'], errors='coerce')\n",
        "\n",
        "# Convertendo para float\n",
        "df['Gross'] = df['Gross'].astype(float)\n",
        "\n",
        "# Formatando a coluna 'Gross' para exibição\n",
        "df['Gross_formatted'] = df['Gross'].apply(lambda x: f\"{x:,.0f}\" if pd.notnull(x) else 'NaN')"
      ],
      "metadata": {
        "id": "sSK7e1rapsFL"
      },
      "execution_count": 7,
      "outputs": []
    },
    {
      "cell_type": "markdown",
      "source": [
        "Apos essas operações nossos dados na coluna 'Gross_formatted' que criamos ja devem estar no formato float, dito isso vamos ajustar o restante das nossas variaveis"
      ],
      "metadata": {
        "id": "1OWdE9gks8mz"
      }
    },
    {
      "cell_type": "markdown",
      "source": [
        "Ajustando os dados rpesentes na coluna **'Realeased_Year'**"
      ],
      "metadata": {
        "id": "D6tpUPMFuF7z"
      }
    },
    {
      "cell_type": "code",
      "source": [
        "# Convertendo as datas\n",
        "df['Released_Year'] = pd.to_datetime(df['Released_Year'], format='%Y', errors='coerce')\n",
        "df['Released_Year'] = df['Released_Year'].dt.year"
      ],
      "metadata": {
        "id": "hZ5z5vU3qEsk"
      },
      "execution_count": 8,
      "outputs": []
    },
    {
      "cell_type": "markdown",
      "source": [
        "Dessa forma nossos dados na coluna 'Realeased_Year' assumem o tipo float"
      ],
      "metadata": {
        "id": "8rjh3F4_vj7N"
      }
    },
    {
      "cell_type": "markdown",
      "source": [
        "Ajustando os dados presentes na coluna **'Runtime'**"
      ],
      "metadata": {
        "id": "51OfZIENuLic"
      }
    },
    {
      "cell_type": "code",
      "source": [
        "# Removendo a unidade de tempo e transformando para inteiro\n",
        "df['Runtime/min'] = df['Runtime'].str.replace(' min', '').astype(float)\n",
        "\n",
        "# Excluindo a coluna Runtime\n",
        "df.drop('Runtime', axis = 1)"
      ],
      "metadata": {
        "id": "UmB5dFLRrzaU",
        "colab": {
          "base_uri": "https://localhost:8080/",
          "height": 771
        },
        "outputId": "a77e73b4-f61d-4063-a655-3e2289697763"
      },
      "execution_count": 9,
      "outputs": [
        {
          "output_type": "execute_result",
          "data": {
            "text/plain": [
              "                                      Series_Title  Released_Year Certificate  \\\n",
              "0                                    The Godfather         1972.0           A   \n",
              "1                                  The Dark Knight         2008.0          UA   \n",
              "2                           The Godfather: Part II         1974.0           A   \n",
              "3                                     12 Angry Men         1957.0           U   \n",
              "4    The Lord of the Rings: The Return of the King         2003.0           U   \n",
              "..                                             ...            ...         ...   \n",
              "994                         Breakfast at Tiffany's         1961.0           A   \n",
              "995                                          Giant         1956.0           G   \n",
              "996                          From Here to Eternity         1953.0      Passed   \n",
              "997                                       Lifeboat         1944.0         NaN   \n",
              "998                                   The 39 Steps         1935.0         NaN   \n",
              "\n",
              "                        Genre  IMDB_Rating  \\\n",
              "0                Crime, Drama          9.2   \n",
              "1        Action, Crime, Drama          9.0   \n",
              "2                Crime, Drama          9.0   \n",
              "3                Crime, Drama          9.0   \n",
              "4    Action, Adventure, Drama          8.9   \n",
              "..                        ...          ...   \n",
              "994    Comedy, Drama, Romance          7.6   \n",
              "995            Drama, Western          7.6   \n",
              "996       Drama, Romance, War          7.6   \n",
              "997                Drama, War          7.6   \n",
              "998  Crime, Mystery, Thriller          7.6   \n",
              "\n",
              "                                              Overview  Meta_score  \\\n",
              "0    An organized crime dynasty's aging patriarch t...       100.0   \n",
              "1    When the menace known as the Joker wreaks havo...        84.0   \n",
              "2    The early life and career of Vito Corleone in ...        90.0   \n",
              "3    A jury holdout attempts to prevent a miscarria...        96.0   \n",
              "4    Gandalf and Aragorn lead the World of Men agai...        94.0   \n",
              "..                                                 ...         ...   \n",
              "994  A young New York socialite becomes interested ...        76.0   \n",
              "995  Sprawling epic covering the life of a Texas ca...        84.0   \n",
              "996  In Hawaii in 1941, a private is cruelly punish...        85.0   \n",
              "997  Several survivors of a torpedoed merchant ship...        78.0   \n",
              "998  A man in London tries to help a counter-espion...        93.0   \n",
              "\n",
              "                 Director              Star1              Star2  \\\n",
              "0    Francis Ford Coppola      Marlon Brando          Al Pacino   \n",
              "1       Christopher Nolan     Christian Bale       Heath Ledger   \n",
              "2    Francis Ford Coppola          Al Pacino     Robert De Niro   \n",
              "3            Sidney Lumet        Henry Fonda        Lee J. Cobb   \n",
              "4           Peter Jackson        Elijah Wood    Viggo Mortensen   \n",
              "..                    ...                ...                ...   \n",
              "994         Blake Edwards     Audrey Hepburn     George Peppard   \n",
              "995        George Stevens   Elizabeth Taylor        Rock Hudson   \n",
              "996        Fred Zinnemann     Burt Lancaster   Montgomery Clift   \n",
              "997      Alfred Hitchcock  Tallulah Bankhead        John Hodiak   \n",
              "998      Alfred Hitchcock       Robert Donat  Madeleine Carroll   \n",
              "\n",
              "              Star3           Star4  No_of_Votes        Gross Gross_formatted  \\\n",
              "0        James Caan    Diane Keaton      1620367  134966411.0     134,966,411   \n",
              "1     Aaron Eckhart   Michael Caine      2303232  534858444.0     534,858,444   \n",
              "2     Robert Duvall    Diane Keaton      1129952   57300000.0      57,300,000   \n",
              "3     Martin Balsam    John Fiedler       689845    4360000.0       4,360,000   \n",
              "4      Ian McKellen   Orlando Bloom      1642758  377845905.0     377,845,905   \n",
              "..              ...             ...          ...          ...             ...   \n",
              "994   Patricia Neal     Buddy Ebsen       166544          NaN             NaN   \n",
              "995      James Dean   Carroll Baker        34075          NaN             NaN   \n",
              "996    Deborah Kerr      Donna Reed        43374   30500000.0      30,500,000   \n",
              "997   Walter Slezak  William Bendix        26471          NaN             NaN   \n",
              "998  Lucie Mannheim  Godfrey Tearle        51853          NaN             NaN   \n",
              "\n",
              "     Runtime/min  \n",
              "0          175.0  \n",
              "1          152.0  \n",
              "2          202.0  \n",
              "3           96.0  \n",
              "4          201.0  \n",
              "..           ...  \n",
              "994        115.0  \n",
              "995        201.0  \n",
              "996        118.0  \n",
              "997         97.0  \n",
              "998         86.0  \n",
              "\n",
              "[999 rows x 16 columns]"
            ],
            "text/html": [
              "\n",
              "  <div id=\"df-f053a80c-a5e8-4421-a4ac-7e09403f020d\" class=\"colab-df-container\">\n",
              "    <div>\n",
              "<style scoped>\n",
              "    .dataframe tbody tr th:only-of-type {\n",
              "        vertical-align: middle;\n",
              "    }\n",
              "\n",
              "    .dataframe tbody tr th {\n",
              "        vertical-align: top;\n",
              "    }\n",
              "\n",
              "    .dataframe thead th {\n",
              "        text-align: right;\n",
              "    }\n",
              "</style>\n",
              "<table border=\"1\" class=\"dataframe\">\n",
              "  <thead>\n",
              "    <tr style=\"text-align: right;\">\n",
              "      <th></th>\n",
              "      <th>Series_Title</th>\n",
              "      <th>Released_Year</th>\n",
              "      <th>Certificate</th>\n",
              "      <th>Genre</th>\n",
              "      <th>IMDB_Rating</th>\n",
              "      <th>Overview</th>\n",
              "      <th>Meta_score</th>\n",
              "      <th>Director</th>\n",
              "      <th>Star1</th>\n",
              "      <th>Star2</th>\n",
              "      <th>Star3</th>\n",
              "      <th>Star4</th>\n",
              "      <th>No_of_Votes</th>\n",
              "      <th>Gross</th>\n",
              "      <th>Gross_formatted</th>\n",
              "      <th>Runtime/min</th>\n",
              "    </tr>\n",
              "  </thead>\n",
              "  <tbody>\n",
              "    <tr>\n",
              "      <th>0</th>\n",
              "      <td>The Godfather</td>\n",
              "      <td>1972.0</td>\n",
              "      <td>A</td>\n",
              "      <td>Crime, Drama</td>\n",
              "      <td>9.2</td>\n",
              "      <td>An organized crime dynasty's aging patriarch t...</td>\n",
              "      <td>100.0</td>\n",
              "      <td>Francis Ford Coppola</td>\n",
              "      <td>Marlon Brando</td>\n",
              "      <td>Al Pacino</td>\n",
              "      <td>James Caan</td>\n",
              "      <td>Diane Keaton</td>\n",
              "      <td>1620367</td>\n",
              "      <td>134966411.0</td>\n",
              "      <td>134,966,411</td>\n",
              "      <td>175.0</td>\n",
              "    </tr>\n",
              "    <tr>\n",
              "      <th>1</th>\n",
              "      <td>The Dark Knight</td>\n",
              "      <td>2008.0</td>\n",
              "      <td>UA</td>\n",
              "      <td>Action, Crime, Drama</td>\n",
              "      <td>9.0</td>\n",
              "      <td>When the menace known as the Joker wreaks havo...</td>\n",
              "      <td>84.0</td>\n",
              "      <td>Christopher Nolan</td>\n",
              "      <td>Christian Bale</td>\n",
              "      <td>Heath Ledger</td>\n",
              "      <td>Aaron Eckhart</td>\n",
              "      <td>Michael Caine</td>\n",
              "      <td>2303232</td>\n",
              "      <td>534858444.0</td>\n",
              "      <td>534,858,444</td>\n",
              "      <td>152.0</td>\n",
              "    </tr>\n",
              "    <tr>\n",
              "      <th>2</th>\n",
              "      <td>The Godfather: Part II</td>\n",
              "      <td>1974.0</td>\n",
              "      <td>A</td>\n",
              "      <td>Crime, Drama</td>\n",
              "      <td>9.0</td>\n",
              "      <td>The early life and career of Vito Corleone in ...</td>\n",
              "      <td>90.0</td>\n",
              "      <td>Francis Ford Coppola</td>\n",
              "      <td>Al Pacino</td>\n",
              "      <td>Robert De Niro</td>\n",
              "      <td>Robert Duvall</td>\n",
              "      <td>Diane Keaton</td>\n",
              "      <td>1129952</td>\n",
              "      <td>57300000.0</td>\n",
              "      <td>57,300,000</td>\n",
              "      <td>202.0</td>\n",
              "    </tr>\n",
              "    <tr>\n",
              "      <th>3</th>\n",
              "      <td>12 Angry Men</td>\n",
              "      <td>1957.0</td>\n",
              "      <td>U</td>\n",
              "      <td>Crime, Drama</td>\n",
              "      <td>9.0</td>\n",
              "      <td>A jury holdout attempts to prevent a miscarria...</td>\n",
              "      <td>96.0</td>\n",
              "      <td>Sidney Lumet</td>\n",
              "      <td>Henry Fonda</td>\n",
              "      <td>Lee J. Cobb</td>\n",
              "      <td>Martin Balsam</td>\n",
              "      <td>John Fiedler</td>\n",
              "      <td>689845</td>\n",
              "      <td>4360000.0</td>\n",
              "      <td>4,360,000</td>\n",
              "      <td>96.0</td>\n",
              "    </tr>\n",
              "    <tr>\n",
              "      <th>4</th>\n",
              "      <td>The Lord of the Rings: The Return of the King</td>\n",
              "      <td>2003.0</td>\n",
              "      <td>U</td>\n",
              "      <td>Action, Adventure, Drama</td>\n",
              "      <td>8.9</td>\n",
              "      <td>Gandalf and Aragorn lead the World of Men agai...</td>\n",
              "      <td>94.0</td>\n",
              "      <td>Peter Jackson</td>\n",
              "      <td>Elijah Wood</td>\n",
              "      <td>Viggo Mortensen</td>\n",
              "      <td>Ian McKellen</td>\n",
              "      <td>Orlando Bloom</td>\n",
              "      <td>1642758</td>\n",
              "      <td>377845905.0</td>\n",
              "      <td>377,845,905</td>\n",
              "      <td>201.0</td>\n",
              "    </tr>\n",
              "    <tr>\n",
              "      <th>...</th>\n",
              "      <td>...</td>\n",
              "      <td>...</td>\n",
              "      <td>...</td>\n",
              "      <td>...</td>\n",
              "      <td>...</td>\n",
              "      <td>...</td>\n",
              "      <td>...</td>\n",
              "      <td>...</td>\n",
              "      <td>...</td>\n",
              "      <td>...</td>\n",
              "      <td>...</td>\n",
              "      <td>...</td>\n",
              "      <td>...</td>\n",
              "      <td>...</td>\n",
              "      <td>...</td>\n",
              "      <td>...</td>\n",
              "    </tr>\n",
              "    <tr>\n",
              "      <th>994</th>\n",
              "      <td>Breakfast at Tiffany's</td>\n",
              "      <td>1961.0</td>\n",
              "      <td>A</td>\n",
              "      <td>Comedy, Drama, Romance</td>\n",
              "      <td>7.6</td>\n",
              "      <td>A young New York socialite becomes interested ...</td>\n",
              "      <td>76.0</td>\n",
              "      <td>Blake Edwards</td>\n",
              "      <td>Audrey Hepburn</td>\n",
              "      <td>George Peppard</td>\n",
              "      <td>Patricia Neal</td>\n",
              "      <td>Buddy Ebsen</td>\n",
              "      <td>166544</td>\n",
              "      <td>NaN</td>\n",
              "      <td>NaN</td>\n",
              "      <td>115.0</td>\n",
              "    </tr>\n",
              "    <tr>\n",
              "      <th>995</th>\n",
              "      <td>Giant</td>\n",
              "      <td>1956.0</td>\n",
              "      <td>G</td>\n",
              "      <td>Drama, Western</td>\n",
              "      <td>7.6</td>\n",
              "      <td>Sprawling epic covering the life of a Texas ca...</td>\n",
              "      <td>84.0</td>\n",
              "      <td>George Stevens</td>\n",
              "      <td>Elizabeth Taylor</td>\n",
              "      <td>Rock Hudson</td>\n",
              "      <td>James Dean</td>\n",
              "      <td>Carroll Baker</td>\n",
              "      <td>34075</td>\n",
              "      <td>NaN</td>\n",
              "      <td>NaN</td>\n",
              "      <td>201.0</td>\n",
              "    </tr>\n",
              "    <tr>\n",
              "      <th>996</th>\n",
              "      <td>From Here to Eternity</td>\n",
              "      <td>1953.0</td>\n",
              "      <td>Passed</td>\n",
              "      <td>Drama, Romance, War</td>\n",
              "      <td>7.6</td>\n",
              "      <td>In Hawaii in 1941, a private is cruelly punish...</td>\n",
              "      <td>85.0</td>\n",
              "      <td>Fred Zinnemann</td>\n",
              "      <td>Burt Lancaster</td>\n",
              "      <td>Montgomery Clift</td>\n",
              "      <td>Deborah Kerr</td>\n",
              "      <td>Donna Reed</td>\n",
              "      <td>43374</td>\n",
              "      <td>30500000.0</td>\n",
              "      <td>30,500,000</td>\n",
              "      <td>118.0</td>\n",
              "    </tr>\n",
              "    <tr>\n",
              "      <th>997</th>\n",
              "      <td>Lifeboat</td>\n",
              "      <td>1944.0</td>\n",
              "      <td>NaN</td>\n",
              "      <td>Drama, War</td>\n",
              "      <td>7.6</td>\n",
              "      <td>Several survivors of a torpedoed merchant ship...</td>\n",
              "      <td>78.0</td>\n",
              "      <td>Alfred Hitchcock</td>\n",
              "      <td>Tallulah Bankhead</td>\n",
              "      <td>John Hodiak</td>\n",
              "      <td>Walter Slezak</td>\n",
              "      <td>William Bendix</td>\n",
              "      <td>26471</td>\n",
              "      <td>NaN</td>\n",
              "      <td>NaN</td>\n",
              "      <td>97.0</td>\n",
              "    </tr>\n",
              "    <tr>\n",
              "      <th>998</th>\n",
              "      <td>The 39 Steps</td>\n",
              "      <td>1935.0</td>\n",
              "      <td>NaN</td>\n",
              "      <td>Crime, Mystery, Thriller</td>\n",
              "      <td>7.6</td>\n",
              "      <td>A man in London tries to help a counter-espion...</td>\n",
              "      <td>93.0</td>\n",
              "      <td>Alfred Hitchcock</td>\n",
              "      <td>Robert Donat</td>\n",
              "      <td>Madeleine Carroll</td>\n",
              "      <td>Lucie Mannheim</td>\n",
              "      <td>Godfrey Tearle</td>\n",
              "      <td>51853</td>\n",
              "      <td>NaN</td>\n",
              "      <td>NaN</td>\n",
              "      <td>86.0</td>\n",
              "    </tr>\n",
              "  </tbody>\n",
              "</table>\n",
              "<p>999 rows × 16 columns</p>\n",
              "</div>\n",
              "    <div class=\"colab-df-buttons\">\n",
              "\n",
              "  <div class=\"colab-df-container\">\n",
              "    <button class=\"colab-df-convert\" onclick=\"convertToInteractive('df-f053a80c-a5e8-4421-a4ac-7e09403f020d')\"\n",
              "            title=\"Convert this dataframe to an interactive table.\"\n",
              "            style=\"display:none;\">\n",
              "\n",
              "  <svg xmlns=\"http://www.w3.org/2000/svg\" height=\"24px\" viewBox=\"0 -960 960 960\">\n",
              "    <path d=\"M120-120v-720h720v720H120Zm60-500h600v-160H180v160Zm220 220h160v-160H400v160Zm0 220h160v-160H400v160ZM180-400h160v-160H180v160Zm440 0h160v-160H620v160ZM180-180h160v-160H180v160Zm440 0h160v-160H620v160Z\"/>\n",
              "  </svg>\n",
              "    </button>\n",
              "\n",
              "  <style>\n",
              "    .colab-df-container {\n",
              "      display:flex;\n",
              "      gap: 12px;\n",
              "    }\n",
              "\n",
              "    .colab-df-convert {\n",
              "      background-color: #E8F0FE;\n",
              "      border: none;\n",
              "      border-radius: 50%;\n",
              "      cursor: pointer;\n",
              "      display: none;\n",
              "      fill: #1967D2;\n",
              "      height: 32px;\n",
              "      padding: 0 0 0 0;\n",
              "      width: 32px;\n",
              "    }\n",
              "\n",
              "    .colab-df-convert:hover {\n",
              "      background-color: #E2EBFA;\n",
              "      box-shadow: 0px 1px 2px rgba(60, 64, 67, 0.3), 0px 1px 3px 1px rgba(60, 64, 67, 0.15);\n",
              "      fill: #174EA6;\n",
              "    }\n",
              "\n",
              "    .colab-df-buttons div {\n",
              "      margin-bottom: 4px;\n",
              "    }\n",
              "\n",
              "    [theme=dark] .colab-df-convert {\n",
              "      background-color: #3B4455;\n",
              "      fill: #D2E3FC;\n",
              "    }\n",
              "\n",
              "    [theme=dark] .colab-df-convert:hover {\n",
              "      background-color: #434B5C;\n",
              "      box-shadow: 0px 1px 3px 1px rgba(0, 0, 0, 0.15);\n",
              "      filter: drop-shadow(0px 1px 2px rgba(0, 0, 0, 0.3));\n",
              "      fill: #FFFFFF;\n",
              "    }\n",
              "  </style>\n",
              "\n",
              "    <script>\n",
              "      const buttonEl =\n",
              "        document.querySelector('#df-f053a80c-a5e8-4421-a4ac-7e09403f020d button.colab-df-convert');\n",
              "      buttonEl.style.display =\n",
              "        google.colab.kernel.accessAllowed ? 'block' : 'none';\n",
              "\n",
              "      async function convertToInteractive(key) {\n",
              "        const element = document.querySelector('#df-f053a80c-a5e8-4421-a4ac-7e09403f020d');\n",
              "        const dataTable =\n",
              "          await google.colab.kernel.invokeFunction('convertToInteractive',\n",
              "                                                    [key], {});\n",
              "        if (!dataTable) return;\n",
              "\n",
              "        const docLinkHtml = 'Like what you see? Visit the ' +\n",
              "          '<a target=\"_blank\" href=https://colab.research.google.com/notebooks/data_table.ipynb>data table notebook</a>'\n",
              "          + ' to learn more about interactive tables.';\n",
              "        element.innerHTML = '';\n",
              "        dataTable['output_type'] = 'display_data';\n",
              "        await google.colab.output.renderOutput(dataTable, element);\n",
              "        const docLink = document.createElement('div');\n",
              "        docLink.innerHTML = docLinkHtml;\n",
              "        element.appendChild(docLink);\n",
              "      }\n",
              "    </script>\n",
              "  </div>\n",
              "\n",
              "\n",
              "<div id=\"df-14511690-511e-495a-ad63-ac9bb02f06dc\">\n",
              "  <button class=\"colab-df-quickchart\" onclick=\"quickchart('df-14511690-511e-495a-ad63-ac9bb02f06dc')\"\n",
              "            title=\"Suggest charts\"\n",
              "            style=\"display:none;\">\n",
              "\n",
              "<svg xmlns=\"http://www.w3.org/2000/svg\" height=\"24px\"viewBox=\"0 0 24 24\"\n",
              "     width=\"24px\">\n",
              "    <g>\n",
              "        <path d=\"M19 3H5c-1.1 0-2 .9-2 2v14c0 1.1.9 2 2 2h14c1.1 0 2-.9 2-2V5c0-1.1-.9-2-2-2zM9 17H7v-7h2v7zm4 0h-2V7h2v10zm4 0h-2v-4h2v4z\"/>\n",
              "    </g>\n",
              "</svg>\n",
              "  </button>\n",
              "\n",
              "<style>\n",
              "  .colab-df-quickchart {\n",
              "      --bg-color: #E8F0FE;\n",
              "      --fill-color: #1967D2;\n",
              "      --hover-bg-color: #E2EBFA;\n",
              "      --hover-fill-color: #174EA6;\n",
              "      --disabled-fill-color: #AAA;\n",
              "      --disabled-bg-color: #DDD;\n",
              "  }\n",
              "\n",
              "  [theme=dark] .colab-df-quickchart {\n",
              "      --bg-color: #3B4455;\n",
              "      --fill-color: #D2E3FC;\n",
              "      --hover-bg-color: #434B5C;\n",
              "      --hover-fill-color: #FFFFFF;\n",
              "      --disabled-bg-color: #3B4455;\n",
              "      --disabled-fill-color: #666;\n",
              "  }\n",
              "\n",
              "  .colab-df-quickchart {\n",
              "    background-color: var(--bg-color);\n",
              "    border: none;\n",
              "    border-radius: 50%;\n",
              "    cursor: pointer;\n",
              "    display: none;\n",
              "    fill: var(--fill-color);\n",
              "    height: 32px;\n",
              "    padding: 0;\n",
              "    width: 32px;\n",
              "  }\n",
              "\n",
              "  .colab-df-quickchart:hover {\n",
              "    background-color: var(--hover-bg-color);\n",
              "    box-shadow: 0 1px 2px rgba(60, 64, 67, 0.3), 0 1px 3px 1px rgba(60, 64, 67, 0.15);\n",
              "    fill: var(--button-hover-fill-color);\n",
              "  }\n",
              "\n",
              "  .colab-df-quickchart-complete:disabled,\n",
              "  .colab-df-quickchart-complete:disabled:hover {\n",
              "    background-color: var(--disabled-bg-color);\n",
              "    fill: var(--disabled-fill-color);\n",
              "    box-shadow: none;\n",
              "  }\n",
              "\n",
              "  .colab-df-spinner {\n",
              "    border: 2px solid var(--fill-color);\n",
              "    border-color: transparent;\n",
              "    border-bottom-color: var(--fill-color);\n",
              "    animation:\n",
              "      spin 1s steps(1) infinite;\n",
              "  }\n",
              "\n",
              "  @keyframes spin {\n",
              "    0% {\n",
              "      border-color: transparent;\n",
              "      border-bottom-color: var(--fill-color);\n",
              "      border-left-color: var(--fill-color);\n",
              "    }\n",
              "    20% {\n",
              "      border-color: transparent;\n",
              "      border-left-color: var(--fill-color);\n",
              "      border-top-color: var(--fill-color);\n",
              "    }\n",
              "    30% {\n",
              "      border-color: transparent;\n",
              "      border-left-color: var(--fill-color);\n",
              "      border-top-color: var(--fill-color);\n",
              "      border-right-color: var(--fill-color);\n",
              "    }\n",
              "    40% {\n",
              "      border-color: transparent;\n",
              "      border-right-color: var(--fill-color);\n",
              "      border-top-color: var(--fill-color);\n",
              "    }\n",
              "    60% {\n",
              "      border-color: transparent;\n",
              "      border-right-color: var(--fill-color);\n",
              "    }\n",
              "    80% {\n",
              "      border-color: transparent;\n",
              "      border-right-color: var(--fill-color);\n",
              "      border-bottom-color: var(--fill-color);\n",
              "    }\n",
              "    90% {\n",
              "      border-color: transparent;\n",
              "      border-bottom-color: var(--fill-color);\n",
              "    }\n",
              "  }\n",
              "</style>\n",
              "\n",
              "  <script>\n",
              "    async function quickchart(key) {\n",
              "      const quickchartButtonEl =\n",
              "        document.querySelector('#' + key + ' button');\n",
              "      quickchartButtonEl.disabled = true;  // To prevent multiple clicks.\n",
              "      quickchartButtonEl.classList.add('colab-df-spinner');\n",
              "      try {\n",
              "        const charts = await google.colab.kernel.invokeFunction(\n",
              "            'suggestCharts', [key], {});\n",
              "      } catch (error) {\n",
              "        console.error('Error during call to suggestCharts:', error);\n",
              "      }\n",
              "      quickchartButtonEl.classList.remove('colab-df-spinner');\n",
              "      quickchartButtonEl.classList.add('colab-df-quickchart-complete');\n",
              "    }\n",
              "    (() => {\n",
              "      let quickchartButtonEl =\n",
              "        document.querySelector('#df-14511690-511e-495a-ad63-ac9bb02f06dc button');\n",
              "      quickchartButtonEl.style.display =\n",
              "        google.colab.kernel.accessAllowed ? 'block' : 'none';\n",
              "    })();\n",
              "  </script>\n",
              "</div>\n",
              "\n",
              "    </div>\n",
              "  </div>\n"
            ],
            "application/vnd.google.colaboratory.intrinsic+json": {
              "type": "dataframe",
              "summary": "{\n  \"name\": \"df\",\n  \"rows\": 999,\n  \"fields\": [\n    {\n      \"column\": \"Series_Title\",\n      \"properties\": {\n        \"dtype\": \"string\",\n        \"num_unique_values\": 998,\n        \"samples\": [\n          \"Arsenic and Old Lace\",\n          \"Hedwig and the Angry Inch\",\n          \"\\u00d4kami kodomo no Ame to Yuki\"\n        ],\n        \"semantic_type\": \"\",\n        \"description\": \"\"\n      }\n    },\n    {\n      \"column\": \"Released_Year\",\n      \"properties\": {\n        \"dtype\": \"number\",\n        \"std\": 23.308538696214047,\n        \"min\": 1920.0,\n        \"max\": 2020.0,\n        \"num_unique_values\": 99,\n        \"samples\": [\n          1952.0,\n          2009.0,\n          1933.0\n        ],\n        \"semantic_type\": \"\",\n        \"description\": \"\"\n      }\n    },\n    {\n      \"column\": \"Certificate\",\n      \"properties\": {\n        \"dtype\": \"category\",\n        \"num_unique_values\": 16,\n        \"samples\": [\n          \"A\",\n          \"UA\",\n          \"PG\"\n        ],\n        \"semantic_type\": \"\",\n        \"description\": \"\"\n      }\n    },\n    {\n      \"column\": \"Genre\",\n      \"properties\": {\n        \"dtype\": \"category\",\n        \"num_unique_values\": 202,\n        \"samples\": [\n          \"Comedy, Drama, Fantasy\",\n          \"Crime, Drama, Fantasy\",\n          \"Drama, Romance, War\"\n        ],\n        \"semantic_type\": \"\",\n        \"description\": \"\"\n      }\n    },\n    {\n      \"column\": \"IMDB_Rating\",\n      \"properties\": {\n        \"dtype\": \"number\",\n        \"std\": 0.2722895085128798,\n        \"min\": 7.6,\n        \"max\": 9.2,\n        \"num_unique_values\": 16,\n        \"samples\": [\n          9.2,\n          9.0,\n          8.6\n        ],\n        \"semantic_type\": \"\",\n        \"description\": \"\"\n      }\n    },\n    {\n      \"column\": \"Overview\",\n      \"properties\": {\n        \"dtype\": \"string\",\n        \"num_unique_values\": 999,\n        \"samples\": [\n          \"Three World War II veterans return home to small-town America to discover that they and their families have been irreparably changed.\",\n          \"A gender-queer punk-rock singer from East Berlin tours the U.S. with her band as she tells her life story and follows the former lover/band-mate who stole her songs.\",\n          \"With his wife's disappearance having become the focus of an intense media circus, a man sees the spotlight turned on him when it's suspected that he may not be innocent.\"\n        ],\n        \"semantic_type\": \"\",\n        \"description\": \"\"\n      }\n    },\n    {\n      \"column\": \"Meta_score\",\n      \"properties\": {\n        \"dtype\": \"number\",\n        \"std\": 12.383257326288946,\n        \"min\": 28.0,\n        \"max\": 100.0,\n        \"num_unique_values\": 63,\n        \"samples\": [\n          30.0,\n          52.0,\n          100.0\n        ],\n        \"semantic_type\": \"\",\n        \"description\": \"\"\n      }\n    },\n    {\n      \"column\": \"Director\",\n      \"properties\": {\n        \"dtype\": \"string\",\n        \"num_unique_values\": 548,\n        \"samples\": [\n          \"Satoshi Kon\",\n          \"David Lean\",\n          \"Yilmaz Erdogan\"\n        ],\n        \"semantic_type\": \"\",\n        \"description\": \"\"\n      }\n    },\n    {\n      \"column\": \"Star1\",\n      \"properties\": {\n        \"dtype\": \"string\",\n        \"num_unique_values\": 659,\n        \"samples\": [\n          \"Peter Dinklage\",\n          \"Jay Baruchel\",\n          \"Steve McQueen\"\n        ],\n        \"semantic_type\": \"\",\n        \"description\": \"\"\n      }\n    },\n    {\n      \"column\": \"Star2\",\n      \"properties\": {\n        \"dtype\": \"string\",\n        \"num_unique_values\": 840,\n        \"samples\": [\n          \"Jacques Villeret\",\n          \"Meg Ryan\",\n          \"J.K. Simmons\"\n        ],\n        \"semantic_type\": \"\",\n        \"description\": \"\"\n      }\n    },\n    {\n      \"column\": \"Star3\",\n      \"properties\": {\n        \"dtype\": \"string\",\n        \"num_unique_values\": 890,\n        \"samples\": [\n          \"Yacef Saadi\",\n          \"John Wray\",\n          \"Chazz Palminteri\"\n        ],\n        \"semantic_type\": \"\",\n        \"description\": \"\"\n      }\n    },\n    {\n      \"column\": \"Star4\",\n      \"properties\": {\n        \"dtype\": \"string\",\n        \"num_unique_values\": 938,\n        \"samples\": [\n          \"Veronica Cartwright\",\n          \"Domhnall Gleeson\",\n          \"Jennifer Ulrich\"\n        ],\n        \"semantic_type\": \"\",\n        \"description\": \"\"\n      }\n    },\n    {\n      \"column\": \"No_of_Votes\",\n      \"properties\": {\n        \"dtype\": \"number\",\n        \"std\": 320912,\n        \"min\": 25088,\n        \"max\": 2303232,\n        \"num_unique_values\": 998,\n        \"samples\": [\n          57259,\n          31957,\n          859695\n        ],\n        \"semantic_type\": \"\",\n        \"description\": \"\"\n      }\n    },\n    {\n      \"column\": \"Gross\",\n      \"properties\": {\n        \"dtype\": \"number\",\n        \"std\": 109807553.3857229,\n        \"min\": 1305.0,\n        \"max\": 936662225.0,\n        \"num_unique_values\": 822,\n        \"samples\": [\n          136025503.0,\n          356461711.0,\n          275902.0\n        ],\n        \"semantic_type\": \"\",\n        \"description\": \"\"\n      }\n    },\n    {\n      \"column\": \"Gross_formatted\",\n      \"properties\": {\n        \"dtype\": \"string\",\n        \"num_unique_values\": 823,\n        \"samples\": [\n          \"132,092,958\",\n          \"67,209,615\",\n          \"78,900,000\"\n        ],\n        \"semantic_type\": \"\",\n        \"description\": \"\"\n      }\n    },\n    {\n      \"column\": \"Runtime/min\",\n      \"properties\": {\n        \"dtype\": \"number\",\n        \"std\": 28.10122697525197,\n        \"min\": 45.0,\n        \"max\": 321.0,\n        \"num_unique_values\": 140,\n        \"samples\": [\n          205.0,\n          129.0,\n          112.0\n        ],\n        \"semantic_type\": \"\",\n        \"description\": \"\"\n      }\n    }\n  ]\n}"
            }
          },
          "metadata": {},
          "execution_count": 9
        }
      ]
    },
    {
      "cell_type": "markdown",
      "source": [
        "Apos essa mudança os dados na coluna 'Runtime' assumem o tipo float"
      ],
      "metadata": {
        "id": "p8eGvwPevpKD"
      }
    },
    {
      "cell_type": "markdown",
      "source": [
        "Dessa forma acabamos de converter os valores presentes na coluna 'gross' para valores do tipo float, já na coluna 'Released_Year' estamos convertendo os dados para o tipo float, enquanto a coluna runtime retiramos a palavra 'min' deixamos um espaço em branco no lugar e transformamos o restante do valor que sobrou em valores do tipo int\n",
        "\n",
        "Vamos confirmar as mudanãs observando algumas informações dos nossos dados"
      ],
      "metadata": {
        "id": "jSVPevqdteYz"
      }
    },
    {
      "cell_type": "code",
      "source": [
        "# Observando algumas informações\n",
        "df.info()"
      ],
      "metadata": {
        "colab": {
          "base_uri": "https://localhost:8080/"
        },
        "id": "qx6PY1ttpxzb",
        "outputId": "d703977b-4354-477b-bc8c-f7520a6ffb57"
      },
      "execution_count": 10,
      "outputs": [
        {
          "output_type": "stream",
          "name": "stdout",
          "text": [
            "<class 'pandas.core.frame.DataFrame'>\n",
            "RangeIndex: 999 entries, 0 to 998\n",
            "Data columns (total 17 columns):\n",
            " #   Column           Non-Null Count  Dtype  \n",
            "---  ------           --------------  -----  \n",
            " 0   Series_Title     999 non-null    object \n",
            " 1   Released_Year    998 non-null    float64\n",
            " 2   Certificate      898 non-null    object \n",
            " 3   Runtime          999 non-null    object \n",
            " 4   Genre            999 non-null    object \n",
            " 5   IMDB_Rating      999 non-null    float64\n",
            " 6   Overview         999 non-null    object \n",
            " 7   Meta_score       842 non-null    float64\n",
            " 8   Director         999 non-null    object \n",
            " 9   Star1            999 non-null    object \n",
            " 10  Star2            999 non-null    object \n",
            " 11  Star3            999 non-null    object \n",
            " 12  Star4            999 non-null    object \n",
            " 13  No_of_Votes      999 non-null    int64  \n",
            " 14  Gross            830 non-null    float64\n",
            " 15  Gross_formatted  999 non-null    object \n",
            " 16  Runtime/min      999 non-null    float64\n",
            "dtypes: float64(5), int64(1), object(11)\n",
            "memory usage: 132.8+ KB\n"
          ]
        }
      ]
    },
    {
      "cell_type": "markdown",
      "source": [
        "Aqui podemos confirmar que nossas mudanças foram aplicadas com exito, dito isso vamos avançar com a nossa analise"
      ],
      "metadata": {
        "id": "o1NoHolBn9NU"
      }
    },
    {
      "cell_type": "markdown",
      "source": [
        "# **Análise inicial nos dados**"
      ],
      "metadata": {
        "id": "MHKu9Bga3jXv"
      }
    },
    {
      "cell_type": "markdown",
      "source": [
        "Nessa etapa, vamos estabelecer um primeiro contato com os nossos dados. Para começar, vamos responder algumas perguntas:\n",
        "\n"
      ],
      "metadata": {
        "id": "uvjk1B-n3r2G"
      }
    },
    {
      "cell_type": "markdown",
      "source": [
        "- Quantos dados temos? (Número de linhas e colunas)\n",
        "\n",
        "- Quais são as colunas numéricas?\n",
        "\n",
        "- Existem dados nulos nesta base de dados? O que será que esses dados indicam ?\n",
        "\n",
        "- Qual é a média, mediana, 25º percentil, 75º percentil, mínimo e máximo de cada uma das colunas numéricas?"
      ],
      "metadata": {
        "id": "ZwQj6Ake3ycH"
      }
    },
    {
      "cell_type": "markdown",
      "source": [
        "Como vimos anteriormente nosso df possui 999 linhas e 16 colunas"
      ],
      "metadata": {
        "id": "6pIh5sKmCwBU"
      }
    },
    {
      "cell_type": "markdown",
      "source": [
        "Agora vamos checar quantas colunas numericas restaram após aplicarmos as devidas transformações"
      ],
      "metadata": {
        "id": "_uDWLVIVDBKC"
      }
    },
    {
      "cell_type": "code",
      "source": [
        "# Observando algumas informações\n",
        "df.info()"
      ],
      "metadata": {
        "colab": {
          "base_uri": "https://localhost:8080/"
        },
        "id": "UAONpCjiC_58",
        "outputId": "180eb4da-57d5-460a-d36a-4c7a3e10121f"
      },
      "execution_count": 11,
      "outputs": [
        {
          "output_type": "stream",
          "name": "stdout",
          "text": [
            "<class 'pandas.core.frame.DataFrame'>\n",
            "RangeIndex: 999 entries, 0 to 998\n",
            "Data columns (total 17 columns):\n",
            " #   Column           Non-Null Count  Dtype  \n",
            "---  ------           --------------  -----  \n",
            " 0   Series_Title     999 non-null    object \n",
            " 1   Released_Year    998 non-null    float64\n",
            " 2   Certificate      898 non-null    object \n",
            " 3   Runtime          999 non-null    object \n",
            " 4   Genre            999 non-null    object \n",
            " 5   IMDB_Rating      999 non-null    float64\n",
            " 6   Overview         999 non-null    object \n",
            " 7   Meta_score       842 non-null    float64\n",
            " 8   Director         999 non-null    object \n",
            " 9   Star1            999 non-null    object \n",
            " 10  Star2            999 non-null    object \n",
            " 11  Star3            999 non-null    object \n",
            " 12  Star4            999 non-null    object \n",
            " 13  No_of_Votes      999 non-null    int64  \n",
            " 14  Gross            830 non-null    float64\n",
            " 15  Gross_formatted  999 non-null    object \n",
            " 16  Runtime/min      999 non-null    float64\n",
            "dtypes: float64(5), int64(1), object(11)\n",
            "memory usage: 132.8+ KB\n"
          ]
        }
      ]
    },
    {
      "cell_type": "markdown",
      "source": [
        "**Dados numéricos**\n",
        "\n",
        "- As variáveis 'IMDB_Rating', 'Meta_score', 'No_of_Votes', 'Runtime/min'.\n",
        "\n",
        "**Dados do tipo data**\n",
        "\n",
        "- A variavel 'Released_Year'\n",
        "\n",
        "**Dados categóricos**\n",
        "\n",
        "- 'Series_Title', 'Certificate', 'Genre', 'Overview', 'Director', 'Star1', 'Star2', 'Star3', 'Star4'."
      ],
      "metadata": {
        "id": "AuUv9dqKDRq8"
      }
    },
    {
      "cell_type": "markdown",
      "source": [
        "Agora vamos observar quantos valores ausentes existem em nossa base."
      ],
      "metadata": {
        "id": "tUND7r2iEa5D"
      }
    },
    {
      "cell_type": "code",
      "source": [
        "# Observando os valores ausentes\n",
        "def percent_ausentes(df):\n",
        "    p_faltantes = df.isnull().mean()\n",
        "    valores_faltantes = pd.DataFrame({'Variavéis': df.columns,\n",
        "                                           '% de ausentes': p_faltantes}\n",
        "                                      ).reset_index(drop = True)\n",
        "\n",
        "    return valores_faltantes.sort_values(by = ['% de ausentes'], ascending = False)\n",
        "\n",
        "# Exibindo a quantidade de valores ausentes\n",
        "percent_ausentes(df)"
      ],
      "metadata": {
        "colab": {
          "base_uri": "https://localhost:8080/",
          "height": 0
        },
        "id": "K7chSHE0EccC",
        "outputId": "1f005051-d30f-4724-ec04-674cd494f644"
      },
      "execution_count": 12,
      "outputs": [
        {
          "output_type": "execute_result",
          "data": {
            "text/plain": [
              "          Variavéis  % de ausentes\n",
              "14            Gross       0.169169\n",
              "7        Meta_score       0.157157\n",
              "2       Certificate       0.101101\n",
              "1     Released_Year       0.001001\n",
              "0      Series_Title       0.000000\n",
              "10            Star2       0.000000\n",
              "15  Gross_formatted       0.000000\n",
              "13      No_of_Votes       0.000000\n",
              "12            Star4       0.000000\n",
              "11            Star3       0.000000\n",
              "8          Director       0.000000\n",
              "9             Star1       0.000000\n",
              "6          Overview       0.000000\n",
              "5       IMDB_Rating       0.000000\n",
              "4             Genre       0.000000\n",
              "3           Runtime       0.000000\n",
              "16      Runtime/min       0.000000"
            ],
            "text/html": [
              "\n",
              "  <div id=\"df-b7895eff-a4d3-41eb-904e-2fcf993ad875\" class=\"colab-df-container\">\n",
              "    <div>\n",
              "<style scoped>\n",
              "    .dataframe tbody tr th:only-of-type {\n",
              "        vertical-align: middle;\n",
              "    }\n",
              "\n",
              "    .dataframe tbody tr th {\n",
              "        vertical-align: top;\n",
              "    }\n",
              "\n",
              "    .dataframe thead th {\n",
              "        text-align: right;\n",
              "    }\n",
              "</style>\n",
              "<table border=\"1\" class=\"dataframe\">\n",
              "  <thead>\n",
              "    <tr style=\"text-align: right;\">\n",
              "      <th></th>\n",
              "      <th>Variavéis</th>\n",
              "      <th>% de ausentes</th>\n",
              "    </tr>\n",
              "  </thead>\n",
              "  <tbody>\n",
              "    <tr>\n",
              "      <th>14</th>\n",
              "      <td>Gross</td>\n",
              "      <td>0.169169</td>\n",
              "    </tr>\n",
              "    <tr>\n",
              "      <th>7</th>\n",
              "      <td>Meta_score</td>\n",
              "      <td>0.157157</td>\n",
              "    </tr>\n",
              "    <tr>\n",
              "      <th>2</th>\n",
              "      <td>Certificate</td>\n",
              "      <td>0.101101</td>\n",
              "    </tr>\n",
              "    <tr>\n",
              "      <th>1</th>\n",
              "      <td>Released_Year</td>\n",
              "      <td>0.001001</td>\n",
              "    </tr>\n",
              "    <tr>\n",
              "      <th>0</th>\n",
              "      <td>Series_Title</td>\n",
              "      <td>0.000000</td>\n",
              "    </tr>\n",
              "    <tr>\n",
              "      <th>10</th>\n",
              "      <td>Star2</td>\n",
              "      <td>0.000000</td>\n",
              "    </tr>\n",
              "    <tr>\n",
              "      <th>15</th>\n",
              "      <td>Gross_formatted</td>\n",
              "      <td>0.000000</td>\n",
              "    </tr>\n",
              "    <tr>\n",
              "      <th>13</th>\n",
              "      <td>No_of_Votes</td>\n",
              "      <td>0.000000</td>\n",
              "    </tr>\n",
              "    <tr>\n",
              "      <th>12</th>\n",
              "      <td>Star4</td>\n",
              "      <td>0.000000</td>\n",
              "    </tr>\n",
              "    <tr>\n",
              "      <th>11</th>\n",
              "      <td>Star3</td>\n",
              "      <td>0.000000</td>\n",
              "    </tr>\n",
              "    <tr>\n",
              "      <th>8</th>\n",
              "      <td>Director</td>\n",
              "      <td>0.000000</td>\n",
              "    </tr>\n",
              "    <tr>\n",
              "      <th>9</th>\n",
              "      <td>Star1</td>\n",
              "      <td>0.000000</td>\n",
              "    </tr>\n",
              "    <tr>\n",
              "      <th>6</th>\n",
              "      <td>Overview</td>\n",
              "      <td>0.000000</td>\n",
              "    </tr>\n",
              "    <tr>\n",
              "      <th>5</th>\n",
              "      <td>IMDB_Rating</td>\n",
              "      <td>0.000000</td>\n",
              "    </tr>\n",
              "    <tr>\n",
              "      <th>4</th>\n",
              "      <td>Genre</td>\n",
              "      <td>0.000000</td>\n",
              "    </tr>\n",
              "    <tr>\n",
              "      <th>3</th>\n",
              "      <td>Runtime</td>\n",
              "      <td>0.000000</td>\n",
              "    </tr>\n",
              "    <tr>\n",
              "      <th>16</th>\n",
              "      <td>Runtime/min</td>\n",
              "      <td>0.000000</td>\n",
              "    </tr>\n",
              "  </tbody>\n",
              "</table>\n",
              "</div>\n",
              "    <div class=\"colab-df-buttons\">\n",
              "\n",
              "  <div class=\"colab-df-container\">\n",
              "    <button class=\"colab-df-convert\" onclick=\"convertToInteractive('df-b7895eff-a4d3-41eb-904e-2fcf993ad875')\"\n",
              "            title=\"Convert this dataframe to an interactive table.\"\n",
              "            style=\"display:none;\">\n",
              "\n",
              "  <svg xmlns=\"http://www.w3.org/2000/svg\" height=\"24px\" viewBox=\"0 -960 960 960\">\n",
              "    <path d=\"M120-120v-720h720v720H120Zm60-500h600v-160H180v160Zm220 220h160v-160H400v160Zm0 220h160v-160H400v160ZM180-400h160v-160H180v160Zm440 0h160v-160H620v160ZM180-180h160v-160H180v160Zm440 0h160v-160H620v160Z\"/>\n",
              "  </svg>\n",
              "    </button>\n",
              "\n",
              "  <style>\n",
              "    .colab-df-container {\n",
              "      display:flex;\n",
              "      gap: 12px;\n",
              "    }\n",
              "\n",
              "    .colab-df-convert {\n",
              "      background-color: #E8F0FE;\n",
              "      border: none;\n",
              "      border-radius: 50%;\n",
              "      cursor: pointer;\n",
              "      display: none;\n",
              "      fill: #1967D2;\n",
              "      height: 32px;\n",
              "      padding: 0 0 0 0;\n",
              "      width: 32px;\n",
              "    }\n",
              "\n",
              "    .colab-df-convert:hover {\n",
              "      background-color: #E2EBFA;\n",
              "      box-shadow: 0px 1px 2px rgba(60, 64, 67, 0.3), 0px 1px 3px 1px rgba(60, 64, 67, 0.15);\n",
              "      fill: #174EA6;\n",
              "    }\n",
              "\n",
              "    .colab-df-buttons div {\n",
              "      margin-bottom: 4px;\n",
              "    }\n",
              "\n",
              "    [theme=dark] .colab-df-convert {\n",
              "      background-color: #3B4455;\n",
              "      fill: #D2E3FC;\n",
              "    }\n",
              "\n",
              "    [theme=dark] .colab-df-convert:hover {\n",
              "      background-color: #434B5C;\n",
              "      box-shadow: 0px 1px 3px 1px rgba(0, 0, 0, 0.15);\n",
              "      filter: drop-shadow(0px 1px 2px rgba(0, 0, 0, 0.3));\n",
              "      fill: #FFFFFF;\n",
              "    }\n",
              "  </style>\n",
              "\n",
              "    <script>\n",
              "      const buttonEl =\n",
              "        document.querySelector('#df-b7895eff-a4d3-41eb-904e-2fcf993ad875 button.colab-df-convert');\n",
              "      buttonEl.style.display =\n",
              "        google.colab.kernel.accessAllowed ? 'block' : 'none';\n",
              "\n",
              "      async function convertToInteractive(key) {\n",
              "        const element = document.querySelector('#df-b7895eff-a4d3-41eb-904e-2fcf993ad875');\n",
              "        const dataTable =\n",
              "          await google.colab.kernel.invokeFunction('convertToInteractive',\n",
              "                                                    [key], {});\n",
              "        if (!dataTable) return;\n",
              "\n",
              "        const docLinkHtml = 'Like what you see? Visit the ' +\n",
              "          '<a target=\"_blank\" href=https://colab.research.google.com/notebooks/data_table.ipynb>data table notebook</a>'\n",
              "          + ' to learn more about interactive tables.';\n",
              "        element.innerHTML = '';\n",
              "        dataTable['output_type'] = 'display_data';\n",
              "        await google.colab.output.renderOutput(dataTable, element);\n",
              "        const docLink = document.createElement('div');\n",
              "        docLink.innerHTML = docLinkHtml;\n",
              "        element.appendChild(docLink);\n",
              "      }\n",
              "    </script>\n",
              "  </div>\n",
              "\n",
              "\n",
              "<div id=\"df-894c0e36-8925-46c0-a94c-4f3dd5f0f842\">\n",
              "  <button class=\"colab-df-quickchart\" onclick=\"quickchart('df-894c0e36-8925-46c0-a94c-4f3dd5f0f842')\"\n",
              "            title=\"Suggest charts\"\n",
              "            style=\"display:none;\">\n",
              "\n",
              "<svg xmlns=\"http://www.w3.org/2000/svg\" height=\"24px\"viewBox=\"0 0 24 24\"\n",
              "     width=\"24px\">\n",
              "    <g>\n",
              "        <path d=\"M19 3H5c-1.1 0-2 .9-2 2v14c0 1.1.9 2 2 2h14c1.1 0 2-.9 2-2V5c0-1.1-.9-2-2-2zM9 17H7v-7h2v7zm4 0h-2V7h2v10zm4 0h-2v-4h2v4z\"/>\n",
              "    </g>\n",
              "</svg>\n",
              "  </button>\n",
              "\n",
              "<style>\n",
              "  .colab-df-quickchart {\n",
              "      --bg-color: #E8F0FE;\n",
              "      --fill-color: #1967D2;\n",
              "      --hover-bg-color: #E2EBFA;\n",
              "      --hover-fill-color: #174EA6;\n",
              "      --disabled-fill-color: #AAA;\n",
              "      --disabled-bg-color: #DDD;\n",
              "  }\n",
              "\n",
              "  [theme=dark] .colab-df-quickchart {\n",
              "      --bg-color: #3B4455;\n",
              "      --fill-color: #D2E3FC;\n",
              "      --hover-bg-color: #434B5C;\n",
              "      --hover-fill-color: #FFFFFF;\n",
              "      --disabled-bg-color: #3B4455;\n",
              "      --disabled-fill-color: #666;\n",
              "  }\n",
              "\n",
              "  .colab-df-quickchart {\n",
              "    background-color: var(--bg-color);\n",
              "    border: none;\n",
              "    border-radius: 50%;\n",
              "    cursor: pointer;\n",
              "    display: none;\n",
              "    fill: var(--fill-color);\n",
              "    height: 32px;\n",
              "    padding: 0;\n",
              "    width: 32px;\n",
              "  }\n",
              "\n",
              "  .colab-df-quickchart:hover {\n",
              "    background-color: var(--hover-bg-color);\n",
              "    box-shadow: 0 1px 2px rgba(60, 64, 67, 0.3), 0 1px 3px 1px rgba(60, 64, 67, 0.15);\n",
              "    fill: var(--button-hover-fill-color);\n",
              "  }\n",
              "\n",
              "  .colab-df-quickchart-complete:disabled,\n",
              "  .colab-df-quickchart-complete:disabled:hover {\n",
              "    background-color: var(--disabled-bg-color);\n",
              "    fill: var(--disabled-fill-color);\n",
              "    box-shadow: none;\n",
              "  }\n",
              "\n",
              "  .colab-df-spinner {\n",
              "    border: 2px solid var(--fill-color);\n",
              "    border-color: transparent;\n",
              "    border-bottom-color: var(--fill-color);\n",
              "    animation:\n",
              "      spin 1s steps(1) infinite;\n",
              "  }\n",
              "\n",
              "  @keyframes spin {\n",
              "    0% {\n",
              "      border-color: transparent;\n",
              "      border-bottom-color: var(--fill-color);\n",
              "      border-left-color: var(--fill-color);\n",
              "    }\n",
              "    20% {\n",
              "      border-color: transparent;\n",
              "      border-left-color: var(--fill-color);\n",
              "      border-top-color: var(--fill-color);\n",
              "    }\n",
              "    30% {\n",
              "      border-color: transparent;\n",
              "      border-left-color: var(--fill-color);\n",
              "      border-top-color: var(--fill-color);\n",
              "      border-right-color: var(--fill-color);\n",
              "    }\n",
              "    40% {\n",
              "      border-color: transparent;\n",
              "      border-right-color: var(--fill-color);\n",
              "      border-top-color: var(--fill-color);\n",
              "    }\n",
              "    60% {\n",
              "      border-color: transparent;\n",
              "      border-right-color: var(--fill-color);\n",
              "    }\n",
              "    80% {\n",
              "      border-color: transparent;\n",
              "      border-right-color: var(--fill-color);\n",
              "      border-bottom-color: var(--fill-color);\n",
              "    }\n",
              "    90% {\n",
              "      border-color: transparent;\n",
              "      border-bottom-color: var(--fill-color);\n",
              "    }\n",
              "  }\n",
              "</style>\n",
              "\n",
              "  <script>\n",
              "    async function quickchart(key) {\n",
              "      const quickchartButtonEl =\n",
              "        document.querySelector('#' + key + ' button');\n",
              "      quickchartButtonEl.disabled = true;  // To prevent multiple clicks.\n",
              "      quickchartButtonEl.classList.add('colab-df-spinner');\n",
              "      try {\n",
              "        const charts = await google.colab.kernel.invokeFunction(\n",
              "            'suggestCharts', [key], {});\n",
              "      } catch (error) {\n",
              "        console.error('Error during call to suggestCharts:', error);\n",
              "      }\n",
              "      quickchartButtonEl.classList.remove('colab-df-spinner');\n",
              "      quickchartButtonEl.classList.add('colab-df-quickchart-complete');\n",
              "    }\n",
              "    (() => {\n",
              "      let quickchartButtonEl =\n",
              "        document.querySelector('#df-894c0e36-8925-46c0-a94c-4f3dd5f0f842 button');\n",
              "      quickchartButtonEl.style.display =\n",
              "        google.colab.kernel.accessAllowed ? 'block' : 'none';\n",
              "    })();\n",
              "  </script>\n",
              "</div>\n",
              "\n",
              "    </div>\n",
              "  </div>\n"
            ],
            "application/vnd.google.colaboratory.intrinsic+json": {
              "type": "dataframe",
              "summary": "{\n  \"name\": \"percent_ausentes(df)\",\n  \"rows\": 17,\n  \"fields\": [\n    {\n      \"column\": \"Variav\\u00e9is\",\n      \"properties\": {\n        \"dtype\": \"string\",\n        \"num_unique_values\": 17,\n        \"samples\": [\n          \"Gross\",\n          \"Meta_score\",\n          \"Star2\"\n        ],\n        \"semantic_type\": \"\",\n        \"description\": \"\"\n      }\n    },\n    {\n      \"column\": \"% de ausentes\",\n      \"properties\": {\n        \"dtype\": \"number\",\n        \"std\": 0.057414012689430236,\n        \"min\": 0.0,\n        \"max\": 0.16916916916916916,\n        \"num_unique_values\": 5,\n        \"samples\": [\n          0.15715715715715717,\n          0.0,\n          0.1011011011011011\n        ],\n        \"semantic_type\": \"\",\n        \"description\": \"\"\n      }\n    }\n  ]\n}"
            }
          },
          "metadata": {},
          "execution_count": 12
        }
      ]
    },
    {
      "cell_type": "markdown",
      "source": [
        "A variavel 'Gross' apresenta cerca de 16,9% de valores ausentes também podemos observar cerca de 15,7% dados ausentes na variavel 'Meta_score', 10,1% em 'Certificate' e 1% em 'Released_Year'. Levando em consideração a quantidade dos nosso dados muito provavelmente teremos 169 valores ausentes em 'Gross', 157 em 'Meta_score', 101 em 'Certificate' e 1 em 'Released_Year'\n",
        "\n",
        "Vamos ver se essas suspeitas realmente estão corretas"
      ],
      "metadata": {
        "id": "x9nTQqnNF1Bd"
      }
    },
    {
      "cell_type": "code",
      "source": [
        "# Observando a soma dos valores ausentes\n",
        "df.isnull().sum().sort_values(ascending = False)"
      ],
      "metadata": {
        "colab": {
          "base_uri": "https://localhost:8080/"
        },
        "id": "S3qUOAk5FIyf",
        "outputId": "32e22c16-7070-4397-b4b4-a1a61412d972"
      },
      "execution_count": 13,
      "outputs": [
        {
          "output_type": "execute_result",
          "data": {
            "text/plain": [
              "Gross              169\n",
              "Meta_score         157\n",
              "Certificate        101\n",
              "Released_Year        1\n",
              "Series_Title         0\n",
              "Star2                0\n",
              "Gross_formatted      0\n",
              "No_of_Votes          0\n",
              "Star4                0\n",
              "Star3                0\n",
              "Director             0\n",
              "Star1                0\n",
              "Overview             0\n",
              "IMDB_Rating          0\n",
              "Genre                0\n",
              "Runtime              0\n",
              "Runtime/min          0\n",
              "dtype: int64"
            ]
          },
          "metadata": {},
          "execution_count": 13
        }
      ]
    },
    {
      "cell_type": "markdown",
      "source": [
        "Confirmarmos nossas suspetias, agora podemos seguir para a observação do resumo estatistico dos nossos dados"
      ],
      "metadata": {
        "id": "7bsKQ5P7EqCT"
      }
    },
    {
      "cell_type": "code",
      "source": [
        "# Resumo estatístico dos dados\n",
        "desc = df.describe()\n",
        "\n",
        "# Formatar números para exibir menos casas decimais\n",
        "pd.options.display.float_format = '{:.3f}'.format\n",
        "\n",
        "# Exibindo as estatísticas descritivas formatadas\n",
        "desc"
      ],
      "metadata": {
        "colab": {
          "base_uri": "https://localhost:8080/",
          "height": 0
        },
        "id": "1pTVnOnyEtpi",
        "outputId": "b04ec429-86fc-4129-ecc3-71ec6cf51683"
      },
      "execution_count": 14,
      "outputs": [
        {
          "output_type": "execute_result",
          "data": {
            "text/plain": [
              "       Released_Year  IMDB_Rating  Meta_score  No_of_Votes         Gross  \\\n",
              "count        998.000      999.000     842.000      999.000       830.000   \n",
              "mean        1991.214        7.948      77.969   271621.422  68082574.105   \n",
              "std           23.309        0.272      12.383   320912.621 109807553.386   \n",
              "min         1920.000        7.600      28.000    25088.000      1305.000   \n",
              "25%         1976.000        7.700      70.000    55471.500   3245338.500   \n",
              "50%         1999.000        7.900      79.000   138356.000  23457439.500   \n",
              "75%         2009.000        8.100      87.000   373167.500  80876340.250   \n",
              "max         2020.000        9.200     100.000  2303232.000 936662225.000   \n",
              "\n",
              "       Runtime/min  \n",
              "count      999.000  \n",
              "mean       122.872  \n",
              "std         28.101  \n",
              "min         45.000  \n",
              "25%        103.000  \n",
              "50%        119.000  \n",
              "75%        137.000  \n",
              "max        321.000  "
            ],
            "text/html": [
              "\n",
              "  <div id=\"df-1717975b-3d6f-4fce-80ba-42c36842175e\" class=\"colab-df-container\">\n",
              "    <div>\n",
              "<style scoped>\n",
              "    .dataframe tbody tr th:only-of-type {\n",
              "        vertical-align: middle;\n",
              "    }\n",
              "\n",
              "    .dataframe tbody tr th {\n",
              "        vertical-align: top;\n",
              "    }\n",
              "\n",
              "    .dataframe thead th {\n",
              "        text-align: right;\n",
              "    }\n",
              "</style>\n",
              "<table border=\"1\" class=\"dataframe\">\n",
              "  <thead>\n",
              "    <tr style=\"text-align: right;\">\n",
              "      <th></th>\n",
              "      <th>Released_Year</th>\n",
              "      <th>IMDB_Rating</th>\n",
              "      <th>Meta_score</th>\n",
              "      <th>No_of_Votes</th>\n",
              "      <th>Gross</th>\n",
              "      <th>Runtime/min</th>\n",
              "    </tr>\n",
              "  </thead>\n",
              "  <tbody>\n",
              "    <tr>\n",
              "      <th>count</th>\n",
              "      <td>998.000</td>\n",
              "      <td>999.000</td>\n",
              "      <td>842.000</td>\n",
              "      <td>999.000</td>\n",
              "      <td>830.000</td>\n",
              "      <td>999.000</td>\n",
              "    </tr>\n",
              "    <tr>\n",
              "      <th>mean</th>\n",
              "      <td>1991.214</td>\n",
              "      <td>7.948</td>\n",
              "      <td>77.969</td>\n",
              "      <td>271621.422</td>\n",
              "      <td>68082574.105</td>\n",
              "      <td>122.872</td>\n",
              "    </tr>\n",
              "    <tr>\n",
              "      <th>std</th>\n",
              "      <td>23.309</td>\n",
              "      <td>0.272</td>\n",
              "      <td>12.383</td>\n",
              "      <td>320912.621</td>\n",
              "      <td>109807553.386</td>\n",
              "      <td>28.101</td>\n",
              "    </tr>\n",
              "    <tr>\n",
              "      <th>min</th>\n",
              "      <td>1920.000</td>\n",
              "      <td>7.600</td>\n",
              "      <td>28.000</td>\n",
              "      <td>25088.000</td>\n",
              "      <td>1305.000</td>\n",
              "      <td>45.000</td>\n",
              "    </tr>\n",
              "    <tr>\n",
              "      <th>25%</th>\n",
              "      <td>1976.000</td>\n",
              "      <td>7.700</td>\n",
              "      <td>70.000</td>\n",
              "      <td>55471.500</td>\n",
              "      <td>3245338.500</td>\n",
              "      <td>103.000</td>\n",
              "    </tr>\n",
              "    <tr>\n",
              "      <th>50%</th>\n",
              "      <td>1999.000</td>\n",
              "      <td>7.900</td>\n",
              "      <td>79.000</td>\n",
              "      <td>138356.000</td>\n",
              "      <td>23457439.500</td>\n",
              "      <td>119.000</td>\n",
              "    </tr>\n",
              "    <tr>\n",
              "      <th>75%</th>\n",
              "      <td>2009.000</td>\n",
              "      <td>8.100</td>\n",
              "      <td>87.000</td>\n",
              "      <td>373167.500</td>\n",
              "      <td>80876340.250</td>\n",
              "      <td>137.000</td>\n",
              "    </tr>\n",
              "    <tr>\n",
              "      <th>max</th>\n",
              "      <td>2020.000</td>\n",
              "      <td>9.200</td>\n",
              "      <td>100.000</td>\n",
              "      <td>2303232.000</td>\n",
              "      <td>936662225.000</td>\n",
              "      <td>321.000</td>\n",
              "    </tr>\n",
              "  </tbody>\n",
              "</table>\n",
              "</div>\n",
              "    <div class=\"colab-df-buttons\">\n",
              "\n",
              "  <div class=\"colab-df-container\">\n",
              "    <button class=\"colab-df-convert\" onclick=\"convertToInteractive('df-1717975b-3d6f-4fce-80ba-42c36842175e')\"\n",
              "            title=\"Convert this dataframe to an interactive table.\"\n",
              "            style=\"display:none;\">\n",
              "\n",
              "  <svg xmlns=\"http://www.w3.org/2000/svg\" height=\"24px\" viewBox=\"0 -960 960 960\">\n",
              "    <path d=\"M120-120v-720h720v720H120Zm60-500h600v-160H180v160Zm220 220h160v-160H400v160Zm0 220h160v-160H400v160ZM180-400h160v-160H180v160Zm440 0h160v-160H620v160ZM180-180h160v-160H180v160Zm440 0h160v-160H620v160Z\"/>\n",
              "  </svg>\n",
              "    </button>\n",
              "\n",
              "  <style>\n",
              "    .colab-df-container {\n",
              "      display:flex;\n",
              "      gap: 12px;\n",
              "    }\n",
              "\n",
              "    .colab-df-convert {\n",
              "      background-color: #E8F0FE;\n",
              "      border: none;\n",
              "      border-radius: 50%;\n",
              "      cursor: pointer;\n",
              "      display: none;\n",
              "      fill: #1967D2;\n",
              "      height: 32px;\n",
              "      padding: 0 0 0 0;\n",
              "      width: 32px;\n",
              "    }\n",
              "\n",
              "    .colab-df-convert:hover {\n",
              "      background-color: #E2EBFA;\n",
              "      box-shadow: 0px 1px 2px rgba(60, 64, 67, 0.3), 0px 1px 3px 1px rgba(60, 64, 67, 0.15);\n",
              "      fill: #174EA6;\n",
              "    }\n",
              "\n",
              "    .colab-df-buttons div {\n",
              "      margin-bottom: 4px;\n",
              "    }\n",
              "\n",
              "    [theme=dark] .colab-df-convert {\n",
              "      background-color: #3B4455;\n",
              "      fill: #D2E3FC;\n",
              "    }\n",
              "\n",
              "    [theme=dark] .colab-df-convert:hover {\n",
              "      background-color: #434B5C;\n",
              "      box-shadow: 0px 1px 3px 1px rgba(0, 0, 0, 0.15);\n",
              "      filter: drop-shadow(0px 1px 2px rgba(0, 0, 0, 0.3));\n",
              "      fill: #FFFFFF;\n",
              "    }\n",
              "  </style>\n",
              "\n",
              "    <script>\n",
              "      const buttonEl =\n",
              "        document.querySelector('#df-1717975b-3d6f-4fce-80ba-42c36842175e button.colab-df-convert');\n",
              "      buttonEl.style.display =\n",
              "        google.colab.kernel.accessAllowed ? 'block' : 'none';\n",
              "\n",
              "      async function convertToInteractive(key) {\n",
              "        const element = document.querySelector('#df-1717975b-3d6f-4fce-80ba-42c36842175e');\n",
              "        const dataTable =\n",
              "          await google.colab.kernel.invokeFunction('convertToInteractive',\n",
              "                                                    [key], {});\n",
              "        if (!dataTable) return;\n",
              "\n",
              "        const docLinkHtml = 'Like what you see? Visit the ' +\n",
              "          '<a target=\"_blank\" href=https://colab.research.google.com/notebooks/data_table.ipynb>data table notebook</a>'\n",
              "          + ' to learn more about interactive tables.';\n",
              "        element.innerHTML = '';\n",
              "        dataTable['output_type'] = 'display_data';\n",
              "        await google.colab.output.renderOutput(dataTable, element);\n",
              "        const docLink = document.createElement('div');\n",
              "        docLink.innerHTML = docLinkHtml;\n",
              "        element.appendChild(docLink);\n",
              "      }\n",
              "    </script>\n",
              "  </div>\n",
              "\n",
              "\n",
              "<div id=\"df-7a564b8a-314e-43e5-8aed-e408c70333af\">\n",
              "  <button class=\"colab-df-quickchart\" onclick=\"quickchart('df-7a564b8a-314e-43e5-8aed-e408c70333af')\"\n",
              "            title=\"Suggest charts\"\n",
              "            style=\"display:none;\">\n",
              "\n",
              "<svg xmlns=\"http://www.w3.org/2000/svg\" height=\"24px\"viewBox=\"0 0 24 24\"\n",
              "     width=\"24px\">\n",
              "    <g>\n",
              "        <path d=\"M19 3H5c-1.1 0-2 .9-2 2v14c0 1.1.9 2 2 2h14c1.1 0 2-.9 2-2V5c0-1.1-.9-2-2-2zM9 17H7v-7h2v7zm4 0h-2V7h2v10zm4 0h-2v-4h2v4z\"/>\n",
              "    </g>\n",
              "</svg>\n",
              "  </button>\n",
              "\n",
              "<style>\n",
              "  .colab-df-quickchart {\n",
              "      --bg-color: #E8F0FE;\n",
              "      --fill-color: #1967D2;\n",
              "      --hover-bg-color: #E2EBFA;\n",
              "      --hover-fill-color: #174EA6;\n",
              "      --disabled-fill-color: #AAA;\n",
              "      --disabled-bg-color: #DDD;\n",
              "  }\n",
              "\n",
              "  [theme=dark] .colab-df-quickchart {\n",
              "      --bg-color: #3B4455;\n",
              "      --fill-color: #D2E3FC;\n",
              "      --hover-bg-color: #434B5C;\n",
              "      --hover-fill-color: #FFFFFF;\n",
              "      --disabled-bg-color: #3B4455;\n",
              "      --disabled-fill-color: #666;\n",
              "  }\n",
              "\n",
              "  .colab-df-quickchart {\n",
              "    background-color: var(--bg-color);\n",
              "    border: none;\n",
              "    border-radius: 50%;\n",
              "    cursor: pointer;\n",
              "    display: none;\n",
              "    fill: var(--fill-color);\n",
              "    height: 32px;\n",
              "    padding: 0;\n",
              "    width: 32px;\n",
              "  }\n",
              "\n",
              "  .colab-df-quickchart:hover {\n",
              "    background-color: var(--hover-bg-color);\n",
              "    box-shadow: 0 1px 2px rgba(60, 64, 67, 0.3), 0 1px 3px 1px rgba(60, 64, 67, 0.15);\n",
              "    fill: var(--button-hover-fill-color);\n",
              "  }\n",
              "\n",
              "  .colab-df-quickchart-complete:disabled,\n",
              "  .colab-df-quickchart-complete:disabled:hover {\n",
              "    background-color: var(--disabled-bg-color);\n",
              "    fill: var(--disabled-fill-color);\n",
              "    box-shadow: none;\n",
              "  }\n",
              "\n",
              "  .colab-df-spinner {\n",
              "    border: 2px solid var(--fill-color);\n",
              "    border-color: transparent;\n",
              "    border-bottom-color: var(--fill-color);\n",
              "    animation:\n",
              "      spin 1s steps(1) infinite;\n",
              "  }\n",
              "\n",
              "  @keyframes spin {\n",
              "    0% {\n",
              "      border-color: transparent;\n",
              "      border-bottom-color: var(--fill-color);\n",
              "      border-left-color: var(--fill-color);\n",
              "    }\n",
              "    20% {\n",
              "      border-color: transparent;\n",
              "      border-left-color: var(--fill-color);\n",
              "      border-top-color: var(--fill-color);\n",
              "    }\n",
              "    30% {\n",
              "      border-color: transparent;\n",
              "      border-left-color: var(--fill-color);\n",
              "      border-top-color: var(--fill-color);\n",
              "      border-right-color: var(--fill-color);\n",
              "    }\n",
              "    40% {\n",
              "      border-color: transparent;\n",
              "      border-right-color: var(--fill-color);\n",
              "      border-top-color: var(--fill-color);\n",
              "    }\n",
              "    60% {\n",
              "      border-color: transparent;\n",
              "      border-right-color: var(--fill-color);\n",
              "    }\n",
              "    80% {\n",
              "      border-color: transparent;\n",
              "      border-right-color: var(--fill-color);\n",
              "      border-bottom-color: var(--fill-color);\n",
              "    }\n",
              "    90% {\n",
              "      border-color: transparent;\n",
              "      border-bottom-color: var(--fill-color);\n",
              "    }\n",
              "  }\n",
              "</style>\n",
              "\n",
              "  <script>\n",
              "    async function quickchart(key) {\n",
              "      const quickchartButtonEl =\n",
              "        document.querySelector('#' + key + ' button');\n",
              "      quickchartButtonEl.disabled = true;  // To prevent multiple clicks.\n",
              "      quickchartButtonEl.classList.add('colab-df-spinner');\n",
              "      try {\n",
              "        const charts = await google.colab.kernel.invokeFunction(\n",
              "            'suggestCharts', [key], {});\n",
              "      } catch (error) {\n",
              "        console.error('Error during call to suggestCharts:', error);\n",
              "      }\n",
              "      quickchartButtonEl.classList.remove('colab-df-spinner');\n",
              "      quickchartButtonEl.classList.add('colab-df-quickchart-complete');\n",
              "    }\n",
              "    (() => {\n",
              "      let quickchartButtonEl =\n",
              "        document.querySelector('#df-7a564b8a-314e-43e5-8aed-e408c70333af button');\n",
              "      quickchartButtonEl.style.display =\n",
              "        google.colab.kernel.accessAllowed ? 'block' : 'none';\n",
              "    })();\n",
              "  </script>\n",
              "</div>\n",
              "\n",
              "  <div id=\"id_3534b723-5596-42e9-9066-cb087cdb8bf1\">\n",
              "    <style>\n",
              "      .colab-df-generate {\n",
              "        background-color: #E8F0FE;\n",
              "        border: none;\n",
              "        border-radius: 50%;\n",
              "        cursor: pointer;\n",
              "        display: none;\n",
              "        fill: #1967D2;\n",
              "        height: 32px;\n",
              "        padding: 0 0 0 0;\n",
              "        width: 32px;\n",
              "      }\n",
              "\n",
              "      .colab-df-generate:hover {\n",
              "        background-color: #E2EBFA;\n",
              "        box-shadow: 0px 1px 2px rgba(60, 64, 67, 0.3), 0px 1px 3px 1px rgba(60, 64, 67, 0.15);\n",
              "        fill: #174EA6;\n",
              "      }\n",
              "\n",
              "      [theme=dark] .colab-df-generate {\n",
              "        background-color: #3B4455;\n",
              "        fill: #D2E3FC;\n",
              "      }\n",
              "\n",
              "      [theme=dark] .colab-df-generate:hover {\n",
              "        background-color: #434B5C;\n",
              "        box-shadow: 0px 1px 3px 1px rgba(0, 0, 0, 0.15);\n",
              "        filter: drop-shadow(0px 1px 2px rgba(0, 0, 0, 0.3));\n",
              "        fill: #FFFFFF;\n",
              "      }\n",
              "    </style>\n",
              "    <button class=\"colab-df-generate\" onclick=\"generateWithVariable('desc')\"\n",
              "            title=\"Generate code using this dataframe.\"\n",
              "            style=\"display:none;\">\n",
              "\n",
              "  <svg xmlns=\"http://www.w3.org/2000/svg\" height=\"24px\"viewBox=\"0 0 24 24\"\n",
              "       width=\"24px\">\n",
              "    <path d=\"M7,19H8.4L18.45,9,17,7.55,7,17.6ZM5,21V16.75L18.45,3.32a2,2,0,0,1,2.83,0l1.4,1.43a1.91,1.91,0,0,1,.58,1.4,1.91,1.91,0,0,1-.58,1.4L9.25,21ZM18.45,9,17,7.55Zm-12,3A5.31,5.31,0,0,0,4.9,8.1,5.31,5.31,0,0,0,1,6.5,5.31,5.31,0,0,0,4.9,4.9,5.31,5.31,0,0,0,6.5,1,5.31,5.31,0,0,0,8.1,4.9,5.31,5.31,0,0,0,12,6.5,5.46,5.46,0,0,0,6.5,12Z\"/>\n",
              "  </svg>\n",
              "    </button>\n",
              "    <script>\n",
              "      (() => {\n",
              "      const buttonEl =\n",
              "        document.querySelector('#id_3534b723-5596-42e9-9066-cb087cdb8bf1 button.colab-df-generate');\n",
              "      buttonEl.style.display =\n",
              "        google.colab.kernel.accessAllowed ? 'block' : 'none';\n",
              "\n",
              "      buttonEl.onclick = () => {\n",
              "        google.colab.notebook.generateWithVariable('desc');\n",
              "      }\n",
              "      })();\n",
              "    </script>\n",
              "  </div>\n",
              "\n",
              "    </div>\n",
              "  </div>\n"
            ],
            "application/vnd.google.colaboratory.intrinsic+json": {
              "type": "dataframe",
              "variable_name": "desc",
              "summary": "{\n  \"name\": \"desc\",\n  \"rows\": 8,\n  \"fields\": [\n    {\n      \"column\": \"Released_Year\",\n      \"properties\": {\n        \"dtype\": \"number\",\n        \"std\": 731.5088983357833,\n        \"min\": 23.308538696214047,\n        \"max\": 2020.0,\n        \"num_unique_values\": 8,\n        \"samples\": [\n          1991.2144288577153,\n          1999.0,\n          998.0\n        ],\n        \"semantic_type\": \"\",\n        \"description\": \"\"\n      }\n    },\n    {\n      \"column\": \"IMDB_Rating\",\n      \"properties\": {\n        \"dtype\": \"number\",\n        \"std\": 350.75006201428675,\n        \"min\": 0.2722895085128798,\n        \"max\": 999.0,\n        \"num_unique_values\": 8,\n        \"samples\": [\n          7.947947947947948,\n          7.9,\n          999.0\n        ],\n        \"semantic_type\": \"\",\n        \"description\": \"\"\n      }\n    },\n    {\n      \"column\": \"Meta_score\",\n      \"properties\": {\n        \"dtype\": \"number\",\n        \"std\": 276.3601022395363,\n        \"min\": 12.383257326288946,\n        \"max\": 842.0,\n        \"num_unique_values\": 8,\n        \"samples\": [\n          77.96912114014252,\n          79.0,\n          842.0\n        ],\n        \"semantic_type\": \"\",\n        \"description\": \"\"\n      }\n    },\n    {\n      \"column\": \"No_of_Votes\",\n      \"properties\": {\n        \"dtype\": \"number\",\n        \"std\": 767392.3403630465,\n        \"min\": 999.0,\n        \"max\": 2303232.0,\n        \"num_unique_values\": 8,\n        \"samples\": [\n          271621.42242242245,\n          138356.0,\n          999.0\n        ],\n        \"semantic_type\": \"\",\n        \"description\": \"\"\n      }\n    },\n    {\n      \"column\": \"Gross\",\n      \"properties\": {\n        \"dtype\": \"number\",\n        \"std\": 319470433.8519118,\n        \"min\": 830.0,\n        \"max\": 936662225.0,\n        \"num_unique_values\": 8,\n        \"samples\": [\n          68082574.10481928,\n          23457439.5,\n          830.0\n        ],\n        \"semantic_type\": \"\",\n        \"description\": \"\"\n      }\n    },\n    {\n      \"column\": \"Runtime/min\",\n      \"properties\": {\n        \"dtype\": \"number\",\n        \"std\": 321.3926527473307,\n        \"min\": 28.10122697525197,\n        \"max\": 999.0,\n        \"num_unique_values\": 8,\n        \"samples\": [\n          122.87187187187187,\n          119.0,\n          999.0\n        ],\n        \"semantic_type\": \"\",\n        \"description\": \"\"\n      }\n    }\n  ]\n}"
            }
          },
          "metadata": {},
          "execution_count": 14
        }
      ]
    },
    {
      "cell_type": "markdown",
      "source": [
        "Observando os os dados em 'Realeased_Year' que é referente ao ano de lançamento dos filmes\n",
        "\n",
        "- Podemos observar que o filme mais antigo em nossa base é de 1920, podemos observar que 25% dos filmes foram lançados antes de 1976, sendo que metade dos filmes foram lançados antes de 1999 consequentemente a outra metade foi lançado após 1999, apenas 25% filems foram lançados depois de 2009. Aqui a média esta um pouco distante da mediana, provavelmente a distribuição apresenta alguma assimetria\n",
        "\n",
        "Agora vamos observar a coluna 'IMDB_Rating'\n",
        "\n",
        "- Temos uma nota média de 7,9 sendo que a menor nota é 7,6 25% dos nossos filmes apresentam uma nota menor que a media, 50% dos nossos filmes apresentam notas abaixo ou igual a média temos que 25% dos filems apresetam uma nota maior que 8,1. A maior nota de um filme foi de 9,2. Importante frisarmos que temos uma media bem proximo a uma mediana o que pode indicar uma distribuição bem proxima de uma normal, podemos fortalecer nossas suspeitas quando observamos o desvio padrão que é e 0,27 é um desvio bem baixo indicando que os dados variam pouco em relação a média\n",
        "\n",
        "Observando a coluna 'Meta_score'\n",
        "\n",
        "- Podemos observar que A media é de 77 enquanto a menor nota é de 28, 25% dos nossos filmes tem notas iguais ou inferior a 70 sendo que a metade dos filmes tem notas iguais ou inferior a 75 e 25% apresentam nota superior a 87, é possivel observar que temos regfistros de filmes com a nota maxima que é de 100. Não temos um desvio padrão tão alto indicando assim que os dados se distanciam mas não tanto da média\n",
        "\n",
        "Observando a coluna 'No_of_Votes'\n",
        "\n",
        "- Temos uma media de numero de votos de 271 mil enquanto o menor numero de votos é de 25 mil, 25% dos filmes apresentam um numero de votos igual ou inferior a 55 mil, sendo que metade dos nossos filmes apresentam um numero de votos igual ou inferior 138 mil 25% dos filmes apresentam um numero de notas igual ou superior a 373 mil votos enquanto o maior numero de votos é de 2 milhões e 300 mil votos, temos um desvio padrão de 320 mil e julgando pela distancia entre a media e a mediana provavelmente esses dados estão bem dispersos\n",
        "\n",
        "Coluna 'Gross'\n",
        "\n",
        "- O faturamento medio dos filmes é de 68 milhões, sendo que o menor faturamento registrado em nossa base é de 1 milhão e 300 mil, 25% dos filmes apresentam um faturamento igual ou inferior a 3 milhões, sendo que metade dos filmes faturam um valor igual ou inferior a 23 milhões enquanto 25% dos nossos filmes que mais faturam apresentam um faturamento igual ou superior a 80 milhões o filme com maior faturamento em nossa base é de 936 milhões, temos um desvio padrão bem alto de 100 milhões e a julgar também pela diferença entre a media e mediana podemos concluir que esses dados estão bem dispersos e sua distribuição muito provavelmente não esta proxima de uma normal"
      ],
      "metadata": {
        "id": "U2XQgdyQGpaT"
      }
    },
    {
      "cell_type": "markdown",
      "source": [
        "# **Analise univariada (variaveis numericas)**"
      ],
      "metadata": {
        "id": "R62rXYEzBHY4"
      }
    },
    {
      "cell_type": "markdown",
      "source": [
        "Nas etapas anteriores realizamos algumas analises iniciais para irmos nos familiarizando melhor com os nossoss dados agora vamos realizar uma analise mais indivual dos nossos dados dito isso nossos objetivos serão:\n",
        "\n",
        "- Realizar uma análise mais aprofundada das nossas variáveis de interesse.\n",
        "\n",
        "- Criar uma visualização mais agradável."
      ],
      "metadata": {
        "id": "dAloMhI5BJAn"
      }
    },
    {
      "cell_type": "code",
      "source": [
        "df.describe()"
      ],
      "metadata": {
        "colab": {
          "base_uri": "https://localhost:8080/",
          "height": 300
        },
        "id": "Y4Ie20Ew2HKm",
        "outputId": "18e38b4c-4491-4dfc-e3a3-b8d9fc87d511"
      },
      "execution_count": 15,
      "outputs": [
        {
          "output_type": "execute_result",
          "data": {
            "text/plain": [
              "       Released_Year  IMDB_Rating  Meta_score  No_of_Votes         Gross  \\\n",
              "count        998.000      999.000     842.000      999.000       830.000   \n",
              "mean        1991.214        7.948      77.969   271621.422  68082574.105   \n",
              "std           23.309        0.272      12.383   320912.621 109807553.386   \n",
              "min         1920.000        7.600      28.000    25088.000      1305.000   \n",
              "25%         1976.000        7.700      70.000    55471.500   3245338.500   \n",
              "50%         1999.000        7.900      79.000   138356.000  23457439.500   \n",
              "75%         2009.000        8.100      87.000   373167.500  80876340.250   \n",
              "max         2020.000        9.200     100.000  2303232.000 936662225.000   \n",
              "\n",
              "       Runtime/min  \n",
              "count      999.000  \n",
              "mean       122.872  \n",
              "std         28.101  \n",
              "min         45.000  \n",
              "25%        103.000  \n",
              "50%        119.000  \n",
              "75%        137.000  \n",
              "max        321.000  "
            ],
            "text/html": [
              "\n",
              "  <div id=\"df-8e5af38e-2f1d-44c0-b0f2-ccb8d5660875\" class=\"colab-df-container\">\n",
              "    <div>\n",
              "<style scoped>\n",
              "    .dataframe tbody tr th:only-of-type {\n",
              "        vertical-align: middle;\n",
              "    }\n",
              "\n",
              "    .dataframe tbody tr th {\n",
              "        vertical-align: top;\n",
              "    }\n",
              "\n",
              "    .dataframe thead th {\n",
              "        text-align: right;\n",
              "    }\n",
              "</style>\n",
              "<table border=\"1\" class=\"dataframe\">\n",
              "  <thead>\n",
              "    <tr style=\"text-align: right;\">\n",
              "      <th></th>\n",
              "      <th>Released_Year</th>\n",
              "      <th>IMDB_Rating</th>\n",
              "      <th>Meta_score</th>\n",
              "      <th>No_of_Votes</th>\n",
              "      <th>Gross</th>\n",
              "      <th>Runtime/min</th>\n",
              "    </tr>\n",
              "  </thead>\n",
              "  <tbody>\n",
              "    <tr>\n",
              "      <th>count</th>\n",
              "      <td>998.000</td>\n",
              "      <td>999.000</td>\n",
              "      <td>842.000</td>\n",
              "      <td>999.000</td>\n",
              "      <td>830.000</td>\n",
              "      <td>999.000</td>\n",
              "    </tr>\n",
              "    <tr>\n",
              "      <th>mean</th>\n",
              "      <td>1991.214</td>\n",
              "      <td>7.948</td>\n",
              "      <td>77.969</td>\n",
              "      <td>271621.422</td>\n",
              "      <td>68082574.105</td>\n",
              "      <td>122.872</td>\n",
              "    </tr>\n",
              "    <tr>\n",
              "      <th>std</th>\n",
              "      <td>23.309</td>\n",
              "      <td>0.272</td>\n",
              "      <td>12.383</td>\n",
              "      <td>320912.621</td>\n",
              "      <td>109807553.386</td>\n",
              "      <td>28.101</td>\n",
              "    </tr>\n",
              "    <tr>\n",
              "      <th>min</th>\n",
              "      <td>1920.000</td>\n",
              "      <td>7.600</td>\n",
              "      <td>28.000</td>\n",
              "      <td>25088.000</td>\n",
              "      <td>1305.000</td>\n",
              "      <td>45.000</td>\n",
              "    </tr>\n",
              "    <tr>\n",
              "      <th>25%</th>\n",
              "      <td>1976.000</td>\n",
              "      <td>7.700</td>\n",
              "      <td>70.000</td>\n",
              "      <td>55471.500</td>\n",
              "      <td>3245338.500</td>\n",
              "      <td>103.000</td>\n",
              "    </tr>\n",
              "    <tr>\n",
              "      <th>50%</th>\n",
              "      <td>1999.000</td>\n",
              "      <td>7.900</td>\n",
              "      <td>79.000</td>\n",
              "      <td>138356.000</td>\n",
              "      <td>23457439.500</td>\n",
              "      <td>119.000</td>\n",
              "    </tr>\n",
              "    <tr>\n",
              "      <th>75%</th>\n",
              "      <td>2009.000</td>\n",
              "      <td>8.100</td>\n",
              "      <td>87.000</td>\n",
              "      <td>373167.500</td>\n",
              "      <td>80876340.250</td>\n",
              "      <td>137.000</td>\n",
              "    </tr>\n",
              "    <tr>\n",
              "      <th>max</th>\n",
              "      <td>2020.000</td>\n",
              "      <td>9.200</td>\n",
              "      <td>100.000</td>\n",
              "      <td>2303232.000</td>\n",
              "      <td>936662225.000</td>\n",
              "      <td>321.000</td>\n",
              "    </tr>\n",
              "  </tbody>\n",
              "</table>\n",
              "</div>\n",
              "    <div class=\"colab-df-buttons\">\n",
              "\n",
              "  <div class=\"colab-df-container\">\n",
              "    <button class=\"colab-df-convert\" onclick=\"convertToInteractive('df-8e5af38e-2f1d-44c0-b0f2-ccb8d5660875')\"\n",
              "            title=\"Convert this dataframe to an interactive table.\"\n",
              "            style=\"display:none;\">\n",
              "\n",
              "  <svg xmlns=\"http://www.w3.org/2000/svg\" height=\"24px\" viewBox=\"0 -960 960 960\">\n",
              "    <path d=\"M120-120v-720h720v720H120Zm60-500h600v-160H180v160Zm220 220h160v-160H400v160Zm0 220h160v-160H400v160ZM180-400h160v-160H180v160Zm440 0h160v-160H620v160ZM180-180h160v-160H180v160Zm440 0h160v-160H620v160Z\"/>\n",
              "  </svg>\n",
              "    </button>\n",
              "\n",
              "  <style>\n",
              "    .colab-df-container {\n",
              "      display:flex;\n",
              "      gap: 12px;\n",
              "    }\n",
              "\n",
              "    .colab-df-convert {\n",
              "      background-color: #E8F0FE;\n",
              "      border: none;\n",
              "      border-radius: 50%;\n",
              "      cursor: pointer;\n",
              "      display: none;\n",
              "      fill: #1967D2;\n",
              "      height: 32px;\n",
              "      padding: 0 0 0 0;\n",
              "      width: 32px;\n",
              "    }\n",
              "\n",
              "    .colab-df-convert:hover {\n",
              "      background-color: #E2EBFA;\n",
              "      box-shadow: 0px 1px 2px rgba(60, 64, 67, 0.3), 0px 1px 3px 1px rgba(60, 64, 67, 0.15);\n",
              "      fill: #174EA6;\n",
              "    }\n",
              "\n",
              "    .colab-df-buttons div {\n",
              "      margin-bottom: 4px;\n",
              "    }\n",
              "\n",
              "    [theme=dark] .colab-df-convert {\n",
              "      background-color: #3B4455;\n",
              "      fill: #D2E3FC;\n",
              "    }\n",
              "\n",
              "    [theme=dark] .colab-df-convert:hover {\n",
              "      background-color: #434B5C;\n",
              "      box-shadow: 0px 1px 3px 1px rgba(0, 0, 0, 0.15);\n",
              "      filter: drop-shadow(0px 1px 2px rgba(0, 0, 0, 0.3));\n",
              "      fill: #FFFFFF;\n",
              "    }\n",
              "  </style>\n",
              "\n",
              "    <script>\n",
              "      const buttonEl =\n",
              "        document.querySelector('#df-8e5af38e-2f1d-44c0-b0f2-ccb8d5660875 button.colab-df-convert');\n",
              "      buttonEl.style.display =\n",
              "        google.colab.kernel.accessAllowed ? 'block' : 'none';\n",
              "\n",
              "      async function convertToInteractive(key) {\n",
              "        const element = document.querySelector('#df-8e5af38e-2f1d-44c0-b0f2-ccb8d5660875');\n",
              "        const dataTable =\n",
              "          await google.colab.kernel.invokeFunction('convertToInteractive',\n",
              "                                                    [key], {});\n",
              "        if (!dataTable) return;\n",
              "\n",
              "        const docLinkHtml = 'Like what you see? Visit the ' +\n",
              "          '<a target=\"_blank\" href=https://colab.research.google.com/notebooks/data_table.ipynb>data table notebook</a>'\n",
              "          + ' to learn more about interactive tables.';\n",
              "        element.innerHTML = '';\n",
              "        dataTable['output_type'] = 'display_data';\n",
              "        await google.colab.output.renderOutput(dataTable, element);\n",
              "        const docLink = document.createElement('div');\n",
              "        docLink.innerHTML = docLinkHtml;\n",
              "        element.appendChild(docLink);\n",
              "      }\n",
              "    </script>\n",
              "  </div>\n",
              "\n",
              "\n",
              "<div id=\"df-2dd9f477-1de1-4d98-9d4d-3fcd5c68ecf7\">\n",
              "  <button class=\"colab-df-quickchart\" onclick=\"quickchart('df-2dd9f477-1de1-4d98-9d4d-3fcd5c68ecf7')\"\n",
              "            title=\"Suggest charts\"\n",
              "            style=\"display:none;\">\n",
              "\n",
              "<svg xmlns=\"http://www.w3.org/2000/svg\" height=\"24px\"viewBox=\"0 0 24 24\"\n",
              "     width=\"24px\">\n",
              "    <g>\n",
              "        <path d=\"M19 3H5c-1.1 0-2 .9-2 2v14c0 1.1.9 2 2 2h14c1.1 0 2-.9 2-2V5c0-1.1-.9-2-2-2zM9 17H7v-7h2v7zm4 0h-2V7h2v10zm4 0h-2v-4h2v4z\"/>\n",
              "    </g>\n",
              "</svg>\n",
              "  </button>\n",
              "\n",
              "<style>\n",
              "  .colab-df-quickchart {\n",
              "      --bg-color: #E8F0FE;\n",
              "      --fill-color: #1967D2;\n",
              "      --hover-bg-color: #E2EBFA;\n",
              "      --hover-fill-color: #174EA6;\n",
              "      --disabled-fill-color: #AAA;\n",
              "      --disabled-bg-color: #DDD;\n",
              "  }\n",
              "\n",
              "  [theme=dark] .colab-df-quickchart {\n",
              "      --bg-color: #3B4455;\n",
              "      --fill-color: #D2E3FC;\n",
              "      --hover-bg-color: #434B5C;\n",
              "      --hover-fill-color: #FFFFFF;\n",
              "      --disabled-bg-color: #3B4455;\n",
              "      --disabled-fill-color: #666;\n",
              "  }\n",
              "\n",
              "  .colab-df-quickchart {\n",
              "    background-color: var(--bg-color);\n",
              "    border: none;\n",
              "    border-radius: 50%;\n",
              "    cursor: pointer;\n",
              "    display: none;\n",
              "    fill: var(--fill-color);\n",
              "    height: 32px;\n",
              "    padding: 0;\n",
              "    width: 32px;\n",
              "  }\n",
              "\n",
              "  .colab-df-quickchart:hover {\n",
              "    background-color: var(--hover-bg-color);\n",
              "    box-shadow: 0 1px 2px rgba(60, 64, 67, 0.3), 0 1px 3px 1px rgba(60, 64, 67, 0.15);\n",
              "    fill: var(--button-hover-fill-color);\n",
              "  }\n",
              "\n",
              "  .colab-df-quickchart-complete:disabled,\n",
              "  .colab-df-quickchart-complete:disabled:hover {\n",
              "    background-color: var(--disabled-bg-color);\n",
              "    fill: var(--disabled-fill-color);\n",
              "    box-shadow: none;\n",
              "  }\n",
              "\n",
              "  .colab-df-spinner {\n",
              "    border: 2px solid var(--fill-color);\n",
              "    border-color: transparent;\n",
              "    border-bottom-color: var(--fill-color);\n",
              "    animation:\n",
              "      spin 1s steps(1) infinite;\n",
              "  }\n",
              "\n",
              "  @keyframes spin {\n",
              "    0% {\n",
              "      border-color: transparent;\n",
              "      border-bottom-color: var(--fill-color);\n",
              "      border-left-color: var(--fill-color);\n",
              "    }\n",
              "    20% {\n",
              "      border-color: transparent;\n",
              "      border-left-color: var(--fill-color);\n",
              "      border-top-color: var(--fill-color);\n",
              "    }\n",
              "    30% {\n",
              "      border-color: transparent;\n",
              "      border-left-color: var(--fill-color);\n",
              "      border-top-color: var(--fill-color);\n",
              "      border-right-color: var(--fill-color);\n",
              "    }\n",
              "    40% {\n",
              "      border-color: transparent;\n",
              "      border-right-color: var(--fill-color);\n",
              "      border-top-color: var(--fill-color);\n",
              "    }\n",
              "    60% {\n",
              "      border-color: transparent;\n",
              "      border-right-color: var(--fill-color);\n",
              "    }\n",
              "    80% {\n",
              "      border-color: transparent;\n",
              "      border-right-color: var(--fill-color);\n",
              "      border-bottom-color: var(--fill-color);\n",
              "    }\n",
              "    90% {\n",
              "      border-color: transparent;\n",
              "      border-bottom-color: var(--fill-color);\n",
              "    }\n",
              "  }\n",
              "</style>\n",
              "\n",
              "  <script>\n",
              "    async function quickchart(key) {\n",
              "      const quickchartButtonEl =\n",
              "        document.querySelector('#' + key + ' button');\n",
              "      quickchartButtonEl.disabled = true;  // To prevent multiple clicks.\n",
              "      quickchartButtonEl.classList.add('colab-df-spinner');\n",
              "      try {\n",
              "        const charts = await google.colab.kernel.invokeFunction(\n",
              "            'suggestCharts', [key], {});\n",
              "      } catch (error) {\n",
              "        console.error('Error during call to suggestCharts:', error);\n",
              "      }\n",
              "      quickchartButtonEl.classList.remove('colab-df-spinner');\n",
              "      quickchartButtonEl.classList.add('colab-df-quickchart-complete');\n",
              "    }\n",
              "    (() => {\n",
              "      let quickchartButtonEl =\n",
              "        document.querySelector('#df-2dd9f477-1de1-4d98-9d4d-3fcd5c68ecf7 button');\n",
              "      quickchartButtonEl.style.display =\n",
              "        google.colab.kernel.accessAllowed ? 'block' : 'none';\n",
              "    })();\n",
              "  </script>\n",
              "</div>\n",
              "\n",
              "    </div>\n",
              "  </div>\n"
            ],
            "application/vnd.google.colaboratory.intrinsic+json": {
              "type": "dataframe",
              "summary": "{\n  \"name\": \"df\",\n  \"rows\": 8,\n  \"fields\": [\n    {\n      \"column\": \"Released_Year\",\n      \"properties\": {\n        \"dtype\": \"number\",\n        \"std\": 731.5088983357833,\n        \"min\": 23.308538696214047,\n        \"max\": 2020.0,\n        \"num_unique_values\": 8,\n        \"samples\": [\n          1991.2144288577153,\n          1999.0,\n          998.0\n        ],\n        \"semantic_type\": \"\",\n        \"description\": \"\"\n      }\n    },\n    {\n      \"column\": \"IMDB_Rating\",\n      \"properties\": {\n        \"dtype\": \"number\",\n        \"std\": 350.75006201428675,\n        \"min\": 0.2722895085128798,\n        \"max\": 999.0,\n        \"num_unique_values\": 8,\n        \"samples\": [\n          7.947947947947948,\n          7.9,\n          999.0\n        ],\n        \"semantic_type\": \"\",\n        \"description\": \"\"\n      }\n    },\n    {\n      \"column\": \"Meta_score\",\n      \"properties\": {\n        \"dtype\": \"number\",\n        \"std\": 276.3601022395363,\n        \"min\": 12.383257326288946,\n        \"max\": 842.0,\n        \"num_unique_values\": 8,\n        \"samples\": [\n          77.96912114014252,\n          79.0,\n          842.0\n        ],\n        \"semantic_type\": \"\",\n        \"description\": \"\"\n      }\n    },\n    {\n      \"column\": \"No_of_Votes\",\n      \"properties\": {\n        \"dtype\": \"number\",\n        \"std\": 767392.3403630465,\n        \"min\": 999.0,\n        \"max\": 2303232.0,\n        \"num_unique_values\": 8,\n        \"samples\": [\n          271621.42242242245,\n          138356.0,\n          999.0\n        ],\n        \"semantic_type\": \"\",\n        \"description\": \"\"\n      }\n    },\n    {\n      \"column\": \"Gross\",\n      \"properties\": {\n        \"dtype\": \"number\",\n        \"std\": 319470433.8519118,\n        \"min\": 830.0,\n        \"max\": 936662225.0,\n        \"num_unique_values\": 8,\n        \"samples\": [\n          68082574.10481928,\n          23457439.5,\n          830.0\n        ],\n        \"semantic_type\": \"\",\n        \"description\": \"\"\n      }\n    },\n    {\n      \"column\": \"Runtime/min\",\n      \"properties\": {\n        \"dtype\": \"number\",\n        \"std\": 321.3926527473307,\n        \"min\": 28.10122697525197,\n        \"max\": 999.0,\n        \"num_unique_values\": 8,\n        \"samples\": [\n          122.87187187187187,\n          119.0,\n          999.0\n        ],\n        \"semantic_type\": \"\",\n        \"description\": \"\"\n      }\n    }\n  ]\n}"
            }
          },
          "metadata": {},
          "execution_count": 15
        }
      ]
    },
    {
      "cell_type": "markdown",
      "source": [
        "### **Released_Year**"
      ],
      "metadata": {
        "id": "qobSwR6U2EAH"
      }
    },
    {
      "cell_type": "markdown",
      "source": [
        "Começaremos com a varaivel 'Released_Year'"
      ],
      "metadata": {
        "id": "dU_Uvjp9Bk2x"
      }
    },
    {
      "cell_type": "code",
      "source": [
        "# Resumo estátistico\n",
        "df['Released_Year'].describe()"
      ],
      "metadata": {
        "colab": {
          "base_uri": "https://localhost:8080/"
        },
        "id": "vn61X9I9IjoY",
        "outputId": "237397de-ce9f-41fe-c191-8f85f142b45e"
      },
      "execution_count": null,
      "outputs": [
        {
          "output_type": "execute_result",
          "data": {
            "text/plain": [
              "count    998.000\n",
              "mean    1991.214\n",
              "std       23.309\n",
              "min     1920.000\n",
              "25%     1976.000\n",
              "50%     1999.000\n",
              "75%     2009.000\n",
              "max     2020.000\n",
              "Name: Released_Year, dtype: float64"
            ]
          },
          "metadata": {},
          "execution_count": 78
        }
      ]
    },
    {
      "cell_type": "markdown",
      "source": [
        "**Pontos importantes:**\n",
        "\n",
        "- Como já vimos anteriormente o filme mais antigo em nossa base é de 1920 enquanto o mais recente é de 2020, metade dos nossos dados são de 1999 ou mais antigo.\n",
        "\n",
        "- Ao observarmos o grafico podemos notar que os lançamentos apresentam picos em determinados anos porém eles apresentam uma crescente com o passar dos anos, no entanto em 2020 eles apresentam uma queda brusca, muito provavelmente pelo cenario em que o mundo se encontrava já que estamos passando por uma pandemia global\n",
        "\n",
        "\n",
        "\n",
        "\n",
        "\n"
      ],
      "metadata": {
        "id": "ukiHtz-VJMC-"
      }
    },
    {
      "cell_type": "markdown",
      "source": [
        "**Insights Potenciais**\n",
        "\n",
        "*Univariadas*\n",
        "- Ciclos de Popularidade: Identificar períodos de maior ou menor atividade na produção cinematográfica.\n",
        "\n",
        "*Bivariadas*\n",
        "- Tendências de Gênero: Observar se certos gêneros se tornaram mais ou menos populares ao longo do tempo.\n",
        "- Impacto da Data de Lançamento: Verificar se a data de lançamento influencia a receita de bilheteria ou a classificação etária dos filmes."
      ],
      "metadata": {
        "id": "jfwgJYUoE2S4"
      }
    },
    {
      "cell_type": "code",
      "source": [
        "import pandas as pd\n",
        "import seaborn as sns\n",
        "import matplotlib.pyplot as plt\n",
        "\n",
        "# Supondo que df['Released_Year'] já foi convertida para o tipo int\n",
        "\n",
        "# Agrupando por décadas\n",
        "df['Decade'] = (df['Released_Year'] // 10) * 10\n",
        "\n",
        "# Contando o número de lançamentos por década\n",
        "decade_counts = df['Decade'].value_counts().sort_index()\n",
        "\n",
        "# Plotando o gráfico de barras\n",
        "plt.figure(figsize=(10, 6))\n",
        "sns.barplot(x=decade_counts.index, y=decade_counts.values)\n",
        "plt.xlabel('Década')\n",
        "plt.ylabel('Número de Lançamentos')\n",
        "plt.title('Número de Lançamentos por Década')\n",
        "plt.xticks(rotation=45)\n",
        "plt.show()"
      ],
      "metadata": {
        "colab": {
          "base_uri": "https://localhost:8080/",
          "height": 585
        },
        "id": "tZFs0-4KD5CH",
        "outputId": "c591559c-10f2-4258-8e9b-cb23e0836884"
      },
      "execution_count": null,
      "outputs": [
        {
          "output_type": "display_data",
          "data": {
            "text/plain": [
              "<Figure size 1000x600 with 1 Axes>"
            ],
            "image/png": "[encoded data removed]"
          },
          "metadata": {}
        }
      ]
    },
    {
      "cell_type": "code",
      "source": [
        "# Contando o número de lançamentos por ano\n",
        "year_counts = df['Released_Year'].value_counts().sort_index()\n",
        "\n",
        "# Plotando o gráfico de linha\n",
        "plt.figure(figsize=(12, 6))\n",
        "sns.lineplot(x=year_counts.index, y=year_counts.values)\n",
        "plt.xlabel('')\n",
        "plt.title('Número de Lançamentos por Ano')\n",
        "\n",
        "# Criando uma lista de rótulos para o eixo x a cada 5 anos e incluindo o último ano\n",
        "ticks = list(year_counts.index[::5])\n",
        "if year_counts.index[-1] not in ticks:\n",
        "    ticks.append(year_counts.index[-1])\n",
        "\n",
        "plt.xticks(ticks=ticks, rotation=45)\n",
        "plt.show()"
      ],
      "metadata": {
        "colab": {
          "base_uri": "https://localhost:8080/",
          "height": 487
        },
        "id": "zRpLwEsBIK9u",
        "outputId": "c3101345-a91c-49bb-ecc3-8bc230bb3158"
      },
      "execution_count": null,
      "outputs": [
        {
          "output_type": "display_data",
          "data": {
            "text/plain": [
              "<Figure size 1200x600 with 1 Axes>"
            ],
            "image/png": "[encoded data removed]"
          },
          "metadata": {}
        }
      ]
    },
    {
      "cell_type": "markdown",
      "source": [
        "**Conclusões**\n",
        "\n",
        "- A análise dos lançamentos de filmes entre 1920 e 2020 revela um crescimento consistente na produção cinematográfica ao longo do século, com um aumento notável nas décadas de 2000 e 2010, que registraram os maiores números de lançamentos. No entanto, em 2020, observamos uma queda abrupta no número de filmes lançados, provavelmente devido à pandemia global de COVID-19, que impactou drasticamente a indústria cinematográfica."
      ],
      "metadata": {
        "id": "MBpSq1AMMtmd"
      }
    },
    {
      "cell_type": "markdown",
      "source": [
        "### **IMDB**"
      ],
      "metadata": {
        "id": "ljv1NJ_wYwqM"
      }
    },
    {
      "cell_type": "markdown",
      "source": [
        "Vamos observar um pouco mais afundo as notas no IMDB"
      ],
      "metadata": {
        "id": "JrpME6yNZDnO"
      }
    },
    {
      "cell_type": "code",
      "source": [
        "# Resumo estátistico\n",
        "df['IMDB_Rating'].describe()"
      ],
      "metadata": {
        "colab": {
          "base_uri": "https://localhost:8080/"
        },
        "id": "2yl5q6KZY18E",
        "outputId": "b3f499dc-86f8-4683-ed53-cb1f3254c78c"
      },
      "execution_count": null,
      "outputs": [
        {
          "output_type": "execute_result",
          "data": {
            "text/plain": [
              "count    999.000000\n",
              "mean       7.947948\n",
              "std        0.272290\n",
              "min        7.600000\n",
              "25%        7.700000\n",
              "50%        7.900000\n",
              "75%        8.100000\n",
              "max        9.200000\n",
              "Name: IMDB_Rating, dtype: float64"
            ]
          },
          "metadata": {},
          "execution_count": 17
        }
      ]
    },
    {
      "cell_type": "markdown",
      "source": [
        "**Pontos importantes:**\n",
        "\n",
        "- A média das notas dos filmes é aproximadamente 7,95, com a menor nota sendo 7,6 e a maior nota sendo 9,2. A mediana das notas é 7,9, o que significa que metade dos filmes tem uma nota menor ou igual a 7,9. Além disso, 75% dos filmes possuem notas menores ou iguais a 8,1.\n",
        "\n",
        "- O desvio padrão é relativamente baixo, apenas 0,27, indicando que a maioria das notas está próxima da média."
      ],
      "metadata": {
        "id": "kk3-azKBZJQ8"
      }
    },
    {
      "cell_type": "code",
      "source": [
        "# Criando o gráfico\n",
        "sns.histplot(df['IMDB_Rating'], bins = 15, color = 'skyblue')\n",
        "\n",
        "# Definindo título e labels\n",
        "plt.title('Distribuição das notas (IMDB)')\n",
        "plt.xlabel('Notas')\n",
        "plt.ylabel('')\n",
        "\n",
        "# Exibindo o gráfico\n",
        "plt.show()"
      ],
      "metadata": {
        "colab": {
          "base_uri": "https://localhost:8080/",
          "height": 472
        },
        "id": "lo6KVML7Zyi9",
        "outputId": "273c9e3a-2cad-4cb6-ede3-e7c52605aa3a"
      },
      "execution_count": null,
      "outputs": [
        {
          "output_type": "display_data",
          "data": {
            "text/plain": [
              "<Figure size 640x480 with 1 Axes>"
            ],
            "image/png": "[encoded data removed]"
          },
          "metadata": {}
        }
      ]
    },
    {
      "cell_type": "markdown",
      "source": [
        "Embora as notas apresentem um desvio padrão relativamente baixo, indicando que a maior parte dos dados está próxima da média, a média é bem próxima da mediana. No entanto, podemos observar que os dados apresentam uma assimetria positiva (à direita), indicando que menos filmes têm notas mais altas. Vamos checar o skew dessa coluna."
      ],
      "metadata": {
        "id": "-unsnu_Fb90N"
      }
    },
    {
      "cell_type": "code",
      "source": [
        "# Medindo a simetria da distribuição de dados\n",
        "df['IMDB_Rating'].skew()"
      ],
      "metadata": {
        "colab": {
          "base_uri": "https://localhost:8080/"
        },
        "id": "h12F1tHdbLjN",
        "outputId": "cdb03ca4-5178-4698-e704-5f1d8fdea3be"
      },
      "execution_count": null,
      "outputs": [
        {
          "output_type": "execute_result",
          "data": {
            "text/plain": [
              "0.9466926905932237"
            ]
          },
          "metadata": {},
          "execution_count": 25
        }
      ]
    },
    {
      "cell_type": "markdown",
      "source": [
        "A assimetria positiva (skew = 0,94) indica que a distribuição das notas tem uma cauda mais longa à direita, com menos filmes recebendo notas muito altas."
      ],
      "metadata": {
        "id": "LCf5s3hhgtyU"
      }
    },
    {
      "cell_type": "markdown",
      "source": [
        "**Conclusões**\n",
        "\n",
        "- As notas variam entre 7,6 e 9,2, mostrando uma faixa moderada de variação. A maioria dos filmes tem notas próximas à média, como indicado pelo desvio padrão relativamente baixo de 0,27.\n",
        "\n",
        "- Apesar de a maioria das notas dos filmes se concentrar em torno da média de 7,94, a distribuição apresenta uma assimetria positiva. O desvio padrão baixo reforça a ideia de que as notas são relativamente consistentes, com poucas exceções extremas.\n",
        "\n",
        "- A assimetria positiva, refletida por um coeficiente de skew de 0,94, indica que há menos filmes com notas muito altas, resultando em uma cauda mais longa à direita na distribuição das notas."
      ],
      "metadata": {
        "id": "DGevYl1fcsZl"
      }
    },
    {
      "cell_type": "markdown",
      "source": [
        "### **Meta_score**"
      ],
      "metadata": {
        "id": "i9bBbVLKiMAF"
      }
    },
    {
      "cell_type": "markdown",
      "source": [
        "Vamos observar de uma forma mais minuciosa a variavel 'Meta_score'"
      ],
      "metadata": {
        "id": "SC3eHZA7iqZ8"
      }
    },
    {
      "cell_type": "code",
      "source": [
        "# Resumo estátistico\n",
        "df['Meta_score'].describe()"
      ],
      "metadata": {
        "colab": {
          "base_uri": "https://localhost:8080/"
        },
        "id": "Vnqe3An8i1nT",
        "outputId": "d7caa1e3-badb-439a-8cd1-b1ab5b085443"
      },
      "execution_count": null,
      "outputs": [
        {
          "output_type": "execute_result",
          "data": {
            "text/plain": [
              "count    842.000000\n",
              "mean      77.969121\n",
              "std       12.383257\n",
              "min       28.000000\n",
              "25%       70.000000\n",
              "50%       79.000000\n",
              "75%       87.000000\n",
              "max      100.000000\n",
              "Name: Meta_score, dtype: float64"
            ]
          },
          "metadata": {},
          "execution_count": 41
        }
      ]
    },
    {
      "cell_type": "markdown",
      "source": [
        "**Pontos importantes**\n",
        "\n",
        "- A média dos meta scores é de aproximadamente 77, com o menor valor sendo 28 e o maior sendo 100. Mais da metade dos filmes têm um meta score superior à média de 77.\n",
        "\n",
        "- O desvio padrão é de 12,38, indicando uma dispersão moderada dos dados em relação à média.\n",
        "\n",
        "- Os meta scores variam de 28 a 100, mostrando uma ampla variação na avaliação crítica dos filmes."
      ],
      "metadata": {
        "id": "DbW679YijDSs"
      }
    },
    {
      "cell_type": "code",
      "source": [
        "# Criando o gráfico\n",
        "sns.histplot(df['Meta_score'], bins = 15, color = 'skyblue')\n",
        "\n",
        "# Definindo título e labels\n",
        "plt.title('Distribuição das notas (Meta_score)')\n",
        "plt.xlabel('Notas')\n",
        "plt.ylabel('')\n",
        "\n",
        "# Exibindo o gráfico\n",
        "plt.show()"
      ],
      "metadata": {
        "colab": {
          "base_uri": "https://localhost:8080/",
          "height": 472
        },
        "id": "A5MzSgE7iNnl",
        "outputId": "415e110a-9441-41be-85ed-84d8b35c48c2"
      },
      "execution_count": null,
      "outputs": [
        {
          "output_type": "display_data",
          "data": {
            "text/plain": [
              "<Figure size 640x480 with 1 Axes>"
            ],
            "image/png": "[encoded data removed]"
          },
          "metadata": {}
        }
      ]
    },
    {
      "cell_type": "markdown",
      "source": [
        "Como já suspeitavamos essa variavel realmente apresentou uma assimetria a esquerda indicando assim que essa assimetria é negativa e levando em consideração que a média é de 77, podemos observar que a maior parte dos nosso dados estão acima da média"
      ],
      "metadata": {
        "id": "emPqxvFYjork"
      }
    },
    {
      "cell_type": "code",
      "source": [
        "# Medindo a simetria da distribuição de dados\n",
        "df['Meta_score'].skew()"
      ],
      "metadata": {
        "colab": {
          "base_uri": "https://localhost:8080/"
        },
        "id": "FugRfbvHjlmV",
        "outputId": "29075af8-9bda-4726-bc54-9211b6210496"
      },
      "execution_count": null,
      "outputs": [
        {
          "output_type": "execute_result",
          "data": {
            "text/plain": [
              "-0.604316230073612"
            ]
          },
          "metadata": {},
          "execution_count": 42
        }
      ]
    },
    {
      "cell_type": "markdown",
      "source": [
        "**Conclusões**\n",
        "\n",
        "- A análise dos meta scores revela que a maioria dos filmes é bem avaliada, com mais da metade recebendo meta scores superiores à média de 77. A dispersão moderada dos dados em relação à média, indicada pelo desvio padrão, reflete uma variedade significativa nas opiniões críticas.\n",
        "\n",
        "- A assimetria negativa da distribuição, conforme indicado pelo coeficiente de skew, sugere que há mais filmes com avaliações críticas mais altas do que aquelas com avaliações muito baixas, contribuindo para uma cauda mais longa à esquerda na distribuição dos meta scores."
      ],
      "metadata": {
        "id": "D1-91uzokB_8"
      }
    },
    {
      "cell_type": "markdown",
      "source": [
        "### **No_of_votes**"
      ],
      "metadata": {
        "id": "EbrikHFYn0uE"
      }
    },
    {
      "cell_type": "markdown",
      "source": [
        "Iniciando analise na variavel referente ao numero de votos dos filmes"
      ],
      "metadata": {
        "id": "ErwD7D2fjxU0"
      }
    },
    {
      "cell_type": "code",
      "source": [
        "df['No_of_Votes'].describe()"
      ],
      "metadata": {
        "colab": {
          "base_uri": "https://localhost:8080/"
        },
        "id": "gUgs3FHkoKBy",
        "outputId": "ab3d079c-c874-40b8-82c8-0bf8b7ef6a75"
      },
      "execution_count": null,
      "outputs": [
        {
          "output_type": "execute_result",
          "data": {
            "text/plain": [
              "count       999.000\n",
              "mean     271621.422\n",
              "std      320912.621\n",
              "min       25088.000\n",
              "25%       55471.500\n",
              "50%      138356.000\n",
              "75%      373167.500\n",
              "max     2303232.000\n",
              "Name: No_of_Votes, dtype: float64"
            ]
          },
          "metadata": {},
          "execution_count": 56
        }
      ]
    },
    {
      "cell_type": "markdown",
      "source": [
        "**Pontos importantes**\n",
        "\n",
        "- Aqui podemos notar que a média de votos é de 271 mil o filme com menos votos tem 25 mil votos e o filmes mais votado tem 2 milhões de votos indicando assim uma ampla variação no numero de votos\n",
        "\n",
        "- Temos um desvio padrão de 320 mil, o que pode ser considerado um desvio bem grande em relação a essa variavel muito provavelmente os dados estão bem dispersos em relação a média\n",
        "\n",
        "- Comparando a media com a mediana notamos mais uma vez a discrepancia que temos entre essas medidas o que confirma as nossas suspetias de que os dados estão bem dispersos\n",
        "\n",
        "- Quando observamos os quartis podemos notar que a maior parte dos dados estão acima da media\n"
      ],
      "metadata": {
        "id": "X1vs9f3MqmsW"
      }
    },
    {
      "cell_type": "code",
      "source": [
        "# Criando o gráfico\n",
        "sns.histplot(df['No_of_Votes'], bins = 15, color = 'skyblue')\n",
        "\n",
        "# Definindo título e labels\n",
        "plt.title('Distribuição do número de votos (No_of_Votes)')\n",
        "plt.xlabel('N° votos')\n",
        "plt.ylabel('')\n",
        "\n",
        "# Exibindo o gráfico\n",
        "plt.show()"
      ],
      "metadata": {
        "colab": {
          "base_uri": "https://localhost:8080/",
          "height": 472
        },
        "id": "tsiWTCC-7jve",
        "outputId": "e92972dd-34d3-4837-c9a8-dd5ebcbd6cdb"
      },
      "execution_count": 35,
      "outputs": [
        {
          "output_type": "display_data",
          "data": {
            "text/plain": [
              "<Figure size 640x480 with 1 Axes>"
            ],
            "image/png": "[encoded data removed]"
          },
          "metadata": {}
        }
      ]
    },
    {
      "cell_type": "markdown",
      "source": [
        "Vamos observar o skew dessa variavel"
      ],
      "metadata": {
        "id": "2gLzPUov7y7W"
      }
    },
    {
      "cell_type": "code",
      "source": [
        "skew(df['No_of_Votes'])"
      ],
      "metadata": {
        "colab": {
          "base_uri": "https://localhost:8080/"
        },
        "id": "gvYx9cdIn8YD",
        "outputId": "84fff683-95b6-453c-d7b7-fed1cf653dd5"
      },
      "execution_count": null,
      "outputs": [
        {
          "output_type": "execute_result",
          "data": {
            "text/plain": [
              "2.1910548929956533"
            ]
          },
          "metadata": {},
          "execution_count": 57
        }
      ]
    },
    {
      "cell_type": "markdown",
      "source": [
        "Aqui notamos um skew bem forte e positivo indicando uma cauda bem longa a direita dos dados como suspeitamos anteriormente existem muitos filmes com poucos votos e poucos filmes com muito votos"
      ],
      "metadata": {
        "id": "jnhlRYjwrh3c"
      }
    },
    {
      "cell_type": "markdown",
      "source": [
        "**Conclusões**\n",
        "\n",
        "- Os números de votos para filmes revelam uma distribuição amplamente variada: a média é de aproximadamente 271 mil votos, com filmes oscilando de 25 mil a 2 milhões de votos. Isso evidencia uma grande dispersão em relação à média, com um desvio padrão de 320 mil votos, indicando que a popularidade dos filmes varia consideravelmente.\n",
        "\n",
        "- A diferença significativa entre a média e a mediana dos votos confirma a assimetria na distribuição: a média é influenciada por alguns filmes com números muito altos de votos, enquanto a maioria dos filmes está abaixo dessa média. Observando os quartis, nota-se que a maior parte dos filmes está acima da média de votos, sugerindo a presença de filmes muito populares que influenciam positivamente a média.\n",
        "\n",
        "- O skewness positivo forte de 2,1 indica uma cauda longa à direita na distribuição dos votos, o que significa que há muitos filmes com votos relativamente baixos, enquanto poucos filmes recebem um número muito elevado de votos. Essa assimetria destacada reflete a disparidade na popularidade dos filmes, com alguns alcançando um grande reconhecimento e outros tendo um alcance limitado entre o público."
      ],
      "metadata": {
        "id": "rVBSsodgtQZF"
      }
    },
    {
      "cell_type": "markdown",
      "source": [
        "### **Gross**"
      ],
      "metadata": {
        "id": "nk6u79OF2deu"
      }
    },
    {
      "cell_type": "markdown",
      "source": [
        "Vamos observar o que a nossa variavel de faturamento tem a nos dizer"
      ],
      "metadata": {
        "id": "QorqO8Ep2e6e"
      }
    },
    {
      "cell_type": "code",
      "source": [
        "df['Gross'].describe()"
      ],
      "metadata": {
        "colab": {
          "base_uri": "https://localhost:8080/"
        },
        "id": "hRBswPAj2iu3",
        "outputId": "53303ab0-f1ee-4116-9043-4a5c67bf7153"
      },
      "execution_count": 17,
      "outputs": [
        {
          "output_type": "execute_result",
          "data": {
            "text/plain": [
              "count         830.000\n",
              "mean     68082574.105\n",
              "std     109807553.386\n",
              "min          1305.000\n",
              "25%       3245338.500\n",
              "50%      23457439.500\n",
              "75%      80876340.250\n",
              "max     936662225.000\n",
              "Name: Gross, dtype: float64"
            ]
          },
          "metadata": {},
          "execution_count": 17
        }
      ]
    },
    {
      "cell_type": "markdown",
      "source": [
        "**Pontos importantes**\n",
        "\n",
        "- O faturamento médio dos filmes é de aproximadamente 68 milhões, com um desvio padrão significativo de cerca de 109 milhões, indicando uma grande variabilidade nos valores.\n",
        "\n",
        "- A mediana do faturamento dos filmes é de 23 milhões, o que sugere que a metade dos filmes estão abaixo desse valor, indicando uma possível assimetria positiva na distribuição.\n",
        "\n",
        "- O filme com o menor faturamento na amostra tem 1305, enquanto o filme com o maior faturamento alcançou 936 milhões, destacando a vasta gama de valores presentes na variável."
      ],
      "metadata": {
        "id": "h2L8qD052mZ-"
      }
    },
    {
      "cell_type": "code",
      "source": [
        "# Criando o gráfico\n",
        "sns.histplot(df['Gross'], bins = 15, color = 'skyblue')\n",
        "\n",
        "# Definindo título e labels\n",
        "plt.title('Distribuição do faturamento (Gross)')\n",
        "plt.xlabel('Gross')\n",
        "plt.ylabel('')\n",
        "\n",
        "# Exibindo o gráfico\n",
        "plt.show()"
      ],
      "metadata": {
        "colab": {
          "base_uri": "https://localhost:8080/",
          "height": 472
        },
        "id": "FgRMtsDA3nrO",
        "outputId": "dbdc4949-de47-403f-b028-64526c3ff9e3"
      },
      "execution_count": 32,
      "outputs": [
        {
          "output_type": "display_data",
          "data": {
            "text/plain": [
              "<Figure size 640x480 with 1 Axes>"
            ],
            "image/png": "[encoded data removed]"
          },
          "metadata": {}
        }
      ]
    },
    {
      "cell_type": "markdown",
      "source": [
        "A notação científica está sendo usada devido aos altos valores no gráfico, mas isso não compromete a interpretação dos resultados.\n",
        "\n",
        "A distribuição dos dados parece ser assimétrica positivamente, sugerindo que há mais filmes com faturamentos menores e menos filmes com faturamentos muito altos."
      ],
      "metadata": {
        "id": "Uc3EjW264o2v"
      }
    },
    {
      "cell_type": "markdown",
      "source": [
        "Anteriormente consultamos as variaveis que apresentam valores ausentes e a variavel 'Gross' é uma delas, logo a função skew() não vai nos retornar a simetria dos dados e sim um valor nulo"
      ],
      "metadata": {
        "id": "cK4Kv5SU5nr-"
      }
    },
    {
      "cell_type": "code",
      "source": [
        "# Medindo a simetria da distribuição de dados\n",
        "skew(df['Gross'])"
      ],
      "metadata": {
        "colab": {
          "base_uri": "https://localhost:8080/"
        },
        "id": "mNxQ4yW433--",
        "outputId": "f283e7db-8f54-4c9b-b420-1fce3a719ba1"
      },
      "execution_count": 28,
      "outputs": [
        {
          "output_type": "execute_result",
          "data": {
            "text/plain": [
              "nan"
            ]
          },
          "metadata": {},
          "execution_count": 28
        }
      ]
    },
    {
      "cell_type": "markdown",
      "source": [
        "Como suspeitamos anteriormente não conseguiremos utilizar essa função no momento"
      ],
      "metadata": {
        "id": "qvUYE9ao5zgH"
      }
    },
    {
      "cell_type": "markdown",
      "source": [
        "**Conclusões**\n",
        "\n",
        "- A analise do faturamento dos filmes revela uma distribuição amplamente dispersa, com uma média significativa de aproximadamente 68 milhões de dólares e um desvio padrão elevado de cerca de 109 milhões de dólares. A mediana de 23 milhões de dólares indica que a metade dos filmes na amostra faturam abaixo desse valor, sugerindo uma predominância de filmes com faturamentos moderados a baixos.\n",
        "\n",
        "- A presença de valores extremos, desde 1305 até 936 milhões de dólares, ilustra a vasta variedade de faturamentos dentro da indústria cinematográfica.\n",
        "\n",
        "- A distribuição assimétrica positiva indica que há mais filmes com faturamentos menores do que filmes com faturamentos muito altos, sublinhando a raridade de sucessos de bilheteria extraordinários."
      ],
      "metadata": {
        "id": "gS9_I4lC71dd"
      }
    },
    {
      "cell_type": "markdown",
      "source": [
        "# **Gerando o requirements**"
      ],
      "metadata": {
        "id": "ClSVjBPZz9hQ"
      }
    },
    {
      "cell_type": "code",
      "source": [
        "\"\"\"\n",
        "\n",
        "# Gerar o arquivo de requisitos\n",
        "!pip freeze > requirements.txt\n",
        "\n",
        "# Verificar o conteúdo do arquivo de requisitos\n",
        "!cat requirements.txt\n",
        "\n",
        "# Baixar o arquivo de requisitos\n",
        "from google.colab import files\n",
        "files.download('requirements.txt')\n",
        "\n",
        "\"\"\""
      ],
      "metadata": {
        "colab": {
          "base_uri": "https://localhost:8080/",
          "height": 53
        },
        "id": "-X0vft45z2hA",
        "outputId": "21604137-4fc9-4bbb-a277-3a3608822d2d"
      },
      "execution_count": null,
      "outputs": [
        {
          "output_type": "execute_result",
          "data": {
            "text/plain": [
              "\"\\n\\n# Gerar o arquivo de requisitos\\n!pip freeze > requirements.txt\\n\\n# Verificar o conteúdo do arquivo de requisitos\\n!cat requirements.txt\\n\\n# Baixar o arquivo de requisitos\\nfrom google.colab import files\\nfiles.download('requirements.txt')\\n\\n\""
            ],
            "application/vnd.google.colaboratory.intrinsic+json": {
              "type": "string"
            }
          },
          "metadata": {},
          "execution_count": 7
        }
      ]
    }
  ]
}