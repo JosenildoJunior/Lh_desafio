{
  "nbformat": 4,
  "nbformat_minor": 0,
  "metadata": {
    "colab": {
      "provenance": [],
      "authorship_tag": "ABX9TyPGiQxEt+U6Zp+n/jzzgFDt",
      "include_colab_link": true
    },
    "kernelspec": {
      "name": "python3",
      "display_name": "Python 3"
    },
    "language_info": {
      "name": "python"
    }
  },
  "cells": [
    {
      "cell_type": "markdown",
      "metadata": {
        "id": "view-in-github",
        "colab_type": "text"
      },
      "source": [
        "<a href=\"https://colab.research.google.com/github/JosenildoJunior/Lh_desafio/blob/main/Desafio_indicium.ipynb\" target=\"_parent\"><img src=\"https://colab.research.google.com/assets/colab-badge.svg\" alt=\"Open In Colab\"/></a>"
      ]
    },
    {
      "cell_type": "markdown",
      "source": [
        "# **Desafio**"
      ],
      "metadata": {
        "id": "gFJ7CHMT1NYf"
      }
    },
    {
      "cell_type": "markdown",
      "source": [
        "Você foi contratado por um estúdio de Hollywood chamado PProductions, e agora deve fazer uma análise em cima de um banco de dados cinematográfico para orientar qual tipo de filme deve ser o próximo a ser desenvolvido. Lembre-se que há muito dinheiro envolvido, então a análise deve ser muito detalhada e levar em consideração o máximo de fatores possíveis (a introdução de dados externos é permitida - e encorajada).\n"
      ],
      "metadata": {
        "id": "LlLftPWP1QGn"
      }
    },
    {
      "cell_type": "markdown",
      "source": [
        "# **Entregas**"
      ],
      "metadata": {
        "id": "pmREMmzT1VyX"
      }
    },
    {
      "cell_type": "markdown",
      "source": [
        "- 1. Faça uma análise exploratória dos dados (EDA), demonstrando as principais características entre as variáveis e apresentando algumas hipóteses relacionadas. Seja criativo!\n",
        "\n",
        "- 2. Responda também às seguintes perguntas:\n",
        "\n",
        "  - Qual filme você recomendaria para uma pessoa que você não conhece?\n",
        "  - Quais são os principais fatores que estão relacionados com alta expectativa de faturamento de um filme?\n",
        "  - Quais insights podem ser tirados com a coluna Overview? É possível inferir o gênero do filme a partir dessa coluna?\n",
        "\n",
        "- 3. Explique como você faria a previsão da nota do imdb a partir dos dados. Quais variáveis e/ou suas transformações você utilizou e por quê? Qual tipo de problema estamos resolvendo (regressão, classificação)? Qual modelo melhor se aproxima dos dados e quais seus prós e contras? Qual medida de performance do modelo foi escolhida e por quê?\n",
        "\n",
        "- 4.Supondo um filme com as seguintes características:\n",
        "\n",
        "  {'Series_Title': 'The Shawshank Redemption',\n",
        "  'Released_Year': '1994',\n",
        "  'Certificate': 'A',\n",
        "  'Runtime': '142 min',\n",
        "  'Genre': 'Drama',\n",
        "  'Overview': 'Two imprisoned men bond over a number of years, finding solace and eventual redemption through acts of common decency.',\n",
        "  'Meta_score': 80.0,\n",
        "  'Director': 'Frank Darabont',\n",
        "  'Star1': 'Tim Robbins',\n",
        "  'Star2': 'Morgan Freeman',\n",
        "  'Star3': 'Bob Gunton',\n",
        "  'Star4': 'William Sadler',\n",
        "  'No_of_Votes': 2343110,\n",
        "  'Gross': '28,341,469'}\n",
        "\n",
        "\n",
        "Qual seria a nota do IMDB?\n",
        "\n",
        "- 5. Salve o modelo desenvolvido no formato .pkl.\n",
        "- 6. A entrega deve ser feita através de um repositório de código público que contenha:\n",
        "\n",
        "  - README explicando como instalar e executar o projeto\n",
        "  - Arquivo de requisitos com todos os pacotes utilizados e suas versões\n",
        "  - Relatórios das análises estatísticas e EDA em PDF, Jupyter Notebook ou semelhante conforme passo 1 e 2.\n",
        "  - Códigos de modelagem utilizados no passo 3 (pode ser entregue no mesmo Jupyter Notebook).\n",
        "  - Arquivo .pkl conforme passo 5 acima.\n",
        "  Todos os códigos produzidos devem seguir as boas práticas de codificação.\n"
      ],
      "metadata": {
        "id": "_RcWRPKh1XP3"
      }
    },
    {
      "cell_type": "markdown",
      "source": [
        "# **Análise inicial nos dados**"
      ],
      "metadata": {
        "id": "MHKu9Bga3jXv"
      }
    },
    {
      "cell_type": "markdown",
      "source": [
        "Nessa etapa, vamos estabelecer um primeiro contato com os nossos dados. Para começar, vamos responder algumas perguntas:\n",
        "\n"
      ],
      "metadata": {
        "id": "uvjk1B-n3r2G"
      }
    },
    {
      "cell_type": "markdown",
      "source": [
        "- Quantos dados temos? (Número de linhas e colunas)\n",
        "\n",
        "- Quais são as colunas numéricas?\n",
        "\n",
        "- Temos duplicatas na nossa base de dados? Se sim, vamos removê-las.\n",
        "\n",
        "- Existem dados nulos nesta base de dados? Será que eles indicam algo importante? O que devemos fazer com eles?\n",
        "\n",
        "- Vamos observar o dicionário dos dados.\n",
        "\n",
        "- Qual é a média, mediana, 25º percentil, 75º percentil, mínimo e máximo de cada uma das colunas numéricas?"
      ],
      "metadata": {
        "id": "ZwQj6Ake3ycH"
      }
    },
    {
      "cell_type": "markdown",
      "source": [
        "Antes de tudo, vamos importar as bibliotecas que serão necessárias para realizarmos nossas análises."
      ],
      "metadata": {
        "id": "MpU3PDun31ym"
      }
    },
    {
      "cell_type": "code",
      "source": [
        "# Manipulação de dados\n",
        "import pandas as pd\n",
        "\n",
        "# Algébra linear\n",
        "import numpy as np\n",
        "\n",
        "# Visualização de dados\n",
        "import matplotlib.pyplot as plt\n",
        "import seaborn as sns\n",
        "\n",
        "# Funções estatísticas\n",
        "import statistics\n",
        "from scipy import stats\n",
        "\n",
        "# Importando o skew\n",
        "from scipy.stats import skew"
      ],
      "metadata": {
        "id": "EaJ3sqTY3sEW"
      },
      "execution_count": 8,
      "outputs": []
    },
    {
      "cell_type": "markdown",
      "source": [
        "Agora vamos importar nossos dados."
      ],
      "metadata": {
        "id": "E1T2WCp5346O"
      }
    },
    {
      "cell_type": "code",
      "source": [
        "# Acesso ao drive\n",
        "from google.colab import drive\n",
        "drive.mount('/content/drive')"
      ],
      "metadata": {
        "colab": {
          "base_uri": "https://localhost:8080/"
        },
        "id": "F7K35Xoz35K4",
        "outputId": "390007b0-f7f9-48bd-bb73-04fb6ac980a4"
      },
      "execution_count": 9,
      "outputs": [
        {
          "output_type": "stream",
          "name": "stdout",
          "text": [
            "Mounted at /content/drive\n"
          ]
        }
      ]
    },
    {
      "cell_type": "code",
      "source": [
        "# Importando o dataset\n",
        "df = pd.read_csv('/content/drive/MyDrive/Dados/desafio_indicium_imdb.csv')\n",
        "\n",
        "# Observando os primeiro registros\n",
        "df.head()"
      ],
      "metadata": {
        "colab": {
          "base_uri": "https://localhost:8080/",
          "height": 519
        },
        "id": "dY3LaUAd38Qf",
        "outputId": "75025cf5-83fa-475f-92cc-a338ba4b4696"
      },
      "execution_count": 19,
      "outputs": [
        {
          "output_type": "execute_result",
          "data": {
            "text/plain": [
              "   Unnamed: 0                                   Series_Title Released_Year  \\\n",
              "0           1                                  The Godfather          1972   \n",
              "1           2                                The Dark Knight          2008   \n",
              "2           3                         The Godfather: Part II          1974   \n",
              "3           4                                   12 Angry Men          1957   \n",
              "4           5  The Lord of the Rings: The Return of the King          2003   \n",
              "\n",
              "  Certificate  Runtime                     Genre  IMDB_Rating  \\\n",
              "0           A  175 min              Crime, Drama          9.2   \n",
              "1          UA  152 min      Action, Crime, Drama          9.0   \n",
              "2           A  202 min              Crime, Drama          9.0   \n",
              "3           U   96 min              Crime, Drama          9.0   \n",
              "4           U  201 min  Action, Adventure, Drama          8.9   \n",
              "\n",
              "                                            Overview  Meta_score  \\\n",
              "0  An organized crime dynasty's aging patriarch t...       100.0   \n",
              "1  When the menace known as the Joker wreaks havo...        84.0   \n",
              "2  The early life and career of Vito Corleone in ...        90.0   \n",
              "3  A jury holdout attempts to prevent a miscarria...        96.0   \n",
              "4  Gandalf and Aragorn lead the World of Men agai...        94.0   \n",
              "\n",
              "               Director           Star1            Star2          Star3  \\\n",
              "0  Francis Ford Coppola   Marlon Brando        Al Pacino     James Caan   \n",
              "1     Christopher Nolan  Christian Bale     Heath Ledger  Aaron Eckhart   \n",
              "2  Francis Ford Coppola       Al Pacino   Robert De Niro  Robert Duvall   \n",
              "3          Sidney Lumet     Henry Fonda      Lee J. Cobb  Martin Balsam   \n",
              "4         Peter Jackson     Elijah Wood  Viggo Mortensen   Ian McKellen   \n",
              "\n",
              "           Star4  No_of_Votes        Gross  \n",
              "0   Diane Keaton      1620367  134,966,411  \n",
              "1  Michael Caine      2303232  534,858,444  \n",
              "2   Diane Keaton      1129952   57,300,000  \n",
              "3   John Fiedler       689845    4,360,000  \n",
              "4  Orlando Bloom      1642758  377,845,905  "
            ],
            "text/html": [
              "\n",
              "  <div id=\"df-196cac26-46c9-47d0-a9a6-d72893f79a21\" class=\"colab-df-container\">\n",
              "    <div>\n",
              "<style scoped>\n",
              "    .dataframe tbody tr th:only-of-type {\n",
              "        vertical-align: middle;\n",
              "    }\n",
              "\n",
              "    .dataframe tbody tr th {\n",
              "        vertical-align: top;\n",
              "    }\n",
              "\n",
              "    .dataframe thead th {\n",
              "        text-align: right;\n",
              "    }\n",
              "</style>\n",
              "<table border=\"1\" class=\"dataframe\">\n",
              "  <thead>\n",
              "    <tr style=\"text-align: right;\">\n",
              "      <th></th>\n",
              "      <th>Unnamed: 0</th>\n",
              "      <th>Series_Title</th>\n",
              "      <th>Released_Year</th>\n",
              "      <th>Certificate</th>\n",
              "      <th>Runtime</th>\n",
              "      <th>Genre</th>\n",
              "      <th>IMDB_Rating</th>\n",
              "      <th>Overview</th>\n",
              "      <th>Meta_score</th>\n",
              "      <th>Director</th>\n",
              "      <th>Star1</th>\n",
              "      <th>Star2</th>\n",
              "      <th>Star3</th>\n",
              "      <th>Star4</th>\n",
              "      <th>No_of_Votes</th>\n",
              "      <th>Gross</th>\n",
              "    </tr>\n",
              "  </thead>\n",
              "  <tbody>\n",
              "    <tr>\n",
              "      <th>0</th>\n",
              "      <td>1</td>\n",
              "      <td>The Godfather</td>\n",
              "      <td>1972</td>\n",
              "      <td>A</td>\n",
              "      <td>175 min</td>\n",
              "      <td>Crime, Drama</td>\n",
              "      <td>9.2</td>\n",
              "      <td>An organized crime dynasty's aging patriarch t...</td>\n",
              "      <td>100.0</td>\n",
              "      <td>Francis Ford Coppola</td>\n",
              "      <td>Marlon Brando</td>\n",
              "      <td>Al Pacino</td>\n",
              "      <td>James Caan</td>\n",
              "      <td>Diane Keaton</td>\n",
              "      <td>1620367</td>\n",
              "      <td>134,966,411</td>\n",
              "    </tr>\n",
              "    <tr>\n",
              "      <th>1</th>\n",
              "      <td>2</td>\n",
              "      <td>The Dark Knight</td>\n",
              "      <td>2008</td>\n",
              "      <td>UA</td>\n",
              "      <td>152 min</td>\n",
              "      <td>Action, Crime, Drama</td>\n",
              "      <td>9.0</td>\n",
              "      <td>When the menace known as the Joker wreaks havo...</td>\n",
              "      <td>84.0</td>\n",
              "      <td>Christopher Nolan</td>\n",
              "      <td>Christian Bale</td>\n",
              "      <td>Heath Ledger</td>\n",
              "      <td>Aaron Eckhart</td>\n",
              "      <td>Michael Caine</td>\n",
              "      <td>2303232</td>\n",
              "      <td>534,858,444</td>\n",
              "    </tr>\n",
              "    <tr>\n",
              "      <th>2</th>\n",
              "      <td>3</td>\n",
              "      <td>The Godfather: Part II</td>\n",
              "      <td>1974</td>\n",
              "      <td>A</td>\n",
              "      <td>202 min</td>\n",
              "      <td>Crime, Drama</td>\n",
              "      <td>9.0</td>\n",
              "      <td>The early life and career of Vito Corleone in ...</td>\n",
              "      <td>90.0</td>\n",
              "      <td>Francis Ford Coppola</td>\n",
              "      <td>Al Pacino</td>\n",
              "      <td>Robert De Niro</td>\n",
              "      <td>Robert Duvall</td>\n",
              "      <td>Diane Keaton</td>\n",
              "      <td>1129952</td>\n",
              "      <td>57,300,000</td>\n",
              "    </tr>\n",
              "    <tr>\n",
              "      <th>3</th>\n",
              "      <td>4</td>\n",
              "      <td>12 Angry Men</td>\n",
              "      <td>1957</td>\n",
              "      <td>U</td>\n",
              "      <td>96 min</td>\n",
              "      <td>Crime, Drama</td>\n",
              "      <td>9.0</td>\n",
              "      <td>A jury holdout attempts to prevent a miscarria...</td>\n",
              "      <td>96.0</td>\n",
              "      <td>Sidney Lumet</td>\n",
              "      <td>Henry Fonda</td>\n",
              "      <td>Lee J. Cobb</td>\n",
              "      <td>Martin Balsam</td>\n",
              "      <td>John Fiedler</td>\n",
              "      <td>689845</td>\n",
              "      <td>4,360,000</td>\n",
              "    </tr>\n",
              "    <tr>\n",
              "      <th>4</th>\n",
              "      <td>5</td>\n",
              "      <td>The Lord of the Rings: The Return of the King</td>\n",
              "      <td>2003</td>\n",
              "      <td>U</td>\n",
              "      <td>201 min</td>\n",
              "      <td>Action, Adventure, Drama</td>\n",
              "      <td>8.9</td>\n",
              "      <td>Gandalf and Aragorn lead the World of Men agai...</td>\n",
              "      <td>94.0</td>\n",
              "      <td>Peter Jackson</td>\n",
              "      <td>Elijah Wood</td>\n",
              "      <td>Viggo Mortensen</td>\n",
              "      <td>Ian McKellen</td>\n",
              "      <td>Orlando Bloom</td>\n",
              "      <td>1642758</td>\n",
              "      <td>377,845,905</td>\n",
              "    </tr>\n",
              "  </tbody>\n",
              "</table>\n",
              "</div>\n",
              "    <div class=\"colab-df-buttons\">\n",
              "\n",
              "  <div class=\"colab-df-container\">\n",
              "    <button class=\"colab-df-convert\" onclick=\"convertToInteractive('df-196cac26-46c9-47d0-a9a6-d72893f79a21')\"\n",
              "            title=\"Convert this dataframe to an interactive table.\"\n",
              "            style=\"display:none;\">\n",
              "\n",
              "  <svg xmlns=\"http://www.w3.org/2000/svg\" height=\"24px\" viewBox=\"0 -960 960 960\">\n",
              "    <path d=\"M120-120v-720h720v720H120Zm60-500h600v-160H180v160Zm220 220h160v-160H400v160Zm0 220h160v-160H400v160ZM180-400h160v-160H180v160Zm440 0h160v-160H620v160ZM180-180h160v-160H180v160Zm440 0h160v-160H620v160Z\"/>\n",
              "  </svg>\n",
              "    </button>\n",
              "\n",
              "  <style>\n",
              "    .colab-df-container {\n",
              "      display:flex;\n",
              "      gap: 12px;\n",
              "    }\n",
              "\n",
              "    .colab-df-convert {\n",
              "      background-color: #E8F0FE;\n",
              "      border: none;\n",
              "      border-radius: 50%;\n",
              "      cursor: pointer;\n",
              "      display: none;\n",
              "      fill: #1967D2;\n",
              "      height: 32px;\n",
              "      padding: 0 0 0 0;\n",
              "      width: 32px;\n",
              "    }\n",
              "\n",
              "    .colab-df-convert:hover {\n",
              "      background-color: #E2EBFA;\n",
              "      box-shadow: 0px 1px 2px rgba(60, 64, 67, 0.3), 0px 1px 3px 1px rgba(60, 64, 67, 0.15);\n",
              "      fill: #174EA6;\n",
              "    }\n",
              "\n",
              "    .colab-df-buttons div {\n",
              "      margin-bottom: 4px;\n",
              "    }\n",
              "\n",
              "    [theme=dark] .colab-df-convert {\n",
              "      background-color: #3B4455;\n",
              "      fill: #D2E3FC;\n",
              "    }\n",
              "\n",
              "    [theme=dark] .colab-df-convert:hover {\n",
              "      background-color: #434B5C;\n",
              "      box-shadow: 0px 1px 3px 1px rgba(0, 0, 0, 0.15);\n",
              "      filter: drop-shadow(0px 1px 2px rgba(0, 0, 0, 0.3));\n",
              "      fill: #FFFFFF;\n",
              "    }\n",
              "  </style>\n",
              "\n",
              "    <script>\n",
              "      const buttonEl =\n",
              "        document.querySelector('#df-196cac26-46c9-47d0-a9a6-d72893f79a21 button.colab-df-convert');\n",
              "      buttonEl.style.display =\n",
              "        google.colab.kernel.accessAllowed ? 'block' : 'none';\n",
              "\n",
              "      async function convertToInteractive(key) {\n",
              "        const element = document.querySelector('#df-196cac26-46c9-47d0-a9a6-d72893f79a21');\n",
              "        const dataTable =\n",
              "          await google.colab.kernel.invokeFunction('convertToInteractive',\n",
              "                                                    [key], {});\n",
              "        if (!dataTable) return;\n",
              "\n",
              "        const docLinkHtml = 'Like what you see? Visit the ' +\n",
              "          '<a target=\"_blank\" href=https://colab.research.google.com/notebooks/data_table.ipynb>data table notebook</a>'\n",
              "          + ' to learn more about interactive tables.';\n",
              "        element.innerHTML = '';\n",
              "        dataTable['output_type'] = 'display_data';\n",
              "        await google.colab.output.renderOutput(dataTable, element);\n",
              "        const docLink = document.createElement('div');\n",
              "        docLink.innerHTML = docLinkHtml;\n",
              "        element.appendChild(docLink);\n",
              "      }\n",
              "    </script>\n",
              "  </div>\n",
              "\n",
              "\n",
              "<div id=\"df-01c5c161-33c2-48fb-afdf-3a1125f1f0e0\">\n",
              "  <button class=\"colab-df-quickchart\" onclick=\"quickchart('df-01c5c161-33c2-48fb-afdf-3a1125f1f0e0')\"\n",
              "            title=\"Suggest charts\"\n",
              "            style=\"display:none;\">\n",
              "\n",
              "<svg xmlns=\"http://www.w3.org/2000/svg\" height=\"24px\"viewBox=\"0 0 24 24\"\n",
              "     width=\"24px\">\n",
              "    <g>\n",
              "        <path d=\"M19 3H5c-1.1 0-2 .9-2 2v14c0 1.1.9 2 2 2h14c1.1 0 2-.9 2-2V5c0-1.1-.9-2-2-2zM9 17H7v-7h2v7zm4 0h-2V7h2v10zm4 0h-2v-4h2v4z\"/>\n",
              "    </g>\n",
              "</svg>\n",
              "  </button>\n",
              "\n",
              "<style>\n",
              "  .colab-df-quickchart {\n",
              "      --bg-color: #E8F0FE;\n",
              "      --fill-color: #1967D2;\n",
              "      --hover-bg-color: #E2EBFA;\n",
              "      --hover-fill-color: #174EA6;\n",
              "      --disabled-fill-color: #AAA;\n",
              "      --disabled-bg-color: #DDD;\n",
              "  }\n",
              "\n",
              "  [theme=dark] .colab-df-quickchart {\n",
              "      --bg-color: #3B4455;\n",
              "      --fill-color: #D2E3FC;\n",
              "      --hover-bg-color: #434B5C;\n",
              "      --hover-fill-color: #FFFFFF;\n",
              "      --disabled-bg-color: #3B4455;\n",
              "      --disabled-fill-color: #666;\n",
              "  }\n",
              "\n",
              "  .colab-df-quickchart {\n",
              "    background-color: var(--bg-color);\n",
              "    border: none;\n",
              "    border-radius: 50%;\n",
              "    cursor: pointer;\n",
              "    display: none;\n",
              "    fill: var(--fill-color);\n",
              "    height: 32px;\n",
              "    padding: 0;\n",
              "    width: 32px;\n",
              "  }\n",
              "\n",
              "  .colab-df-quickchart:hover {\n",
              "    background-color: var(--hover-bg-color);\n",
              "    box-shadow: 0 1px 2px rgba(60, 64, 67, 0.3), 0 1px 3px 1px rgba(60, 64, 67, 0.15);\n",
              "    fill: var(--button-hover-fill-color);\n",
              "  }\n",
              "\n",
              "  .colab-df-quickchart-complete:disabled,\n",
              "  .colab-df-quickchart-complete:disabled:hover {\n",
              "    background-color: var(--disabled-bg-color);\n",
              "    fill: var(--disabled-fill-color);\n",
              "    box-shadow: none;\n",
              "  }\n",
              "\n",
              "  .colab-df-spinner {\n",
              "    border: 2px solid var(--fill-color);\n",
              "    border-color: transparent;\n",
              "    border-bottom-color: var(--fill-color);\n",
              "    animation:\n",
              "      spin 1s steps(1) infinite;\n",
              "  }\n",
              "\n",
              "  @keyframes spin {\n",
              "    0% {\n",
              "      border-color: transparent;\n",
              "      border-bottom-color: var(--fill-color);\n",
              "      border-left-color: var(--fill-color);\n",
              "    }\n",
              "    20% {\n",
              "      border-color: transparent;\n",
              "      border-left-color: var(--fill-color);\n",
              "      border-top-color: var(--fill-color);\n",
              "    }\n",
              "    30% {\n",
              "      border-color: transparent;\n",
              "      border-left-color: var(--fill-color);\n",
              "      border-top-color: var(--fill-color);\n",
              "      border-right-color: var(--fill-color);\n",
              "    }\n",
              "    40% {\n",
              "      border-color: transparent;\n",
              "      border-right-color: var(--fill-color);\n",
              "      border-top-color: var(--fill-color);\n",
              "    }\n",
              "    60% {\n",
              "      border-color: transparent;\n",
              "      border-right-color: var(--fill-color);\n",
              "    }\n",
              "    80% {\n",
              "      border-color: transparent;\n",
              "      border-right-color: var(--fill-color);\n",
              "      border-bottom-color: var(--fill-color);\n",
              "    }\n",
              "    90% {\n",
              "      border-color: transparent;\n",
              "      border-bottom-color: var(--fill-color);\n",
              "    }\n",
              "  }\n",
              "</style>\n",
              "\n",
              "  <script>\n",
              "    async function quickchart(key) {\n",
              "      const quickchartButtonEl =\n",
              "        document.querySelector('#' + key + ' button');\n",
              "      quickchartButtonEl.disabled = true;  // To prevent multiple clicks.\n",
              "      quickchartButtonEl.classList.add('colab-df-spinner');\n",
              "      try {\n",
              "        const charts = await google.colab.kernel.invokeFunction(\n",
              "            'suggestCharts', [key], {});\n",
              "      } catch (error) {\n",
              "        console.error('Error during call to suggestCharts:', error);\n",
              "      }\n",
              "      quickchartButtonEl.classList.remove('colab-df-spinner');\n",
              "      quickchartButtonEl.classList.add('colab-df-quickchart-complete');\n",
              "    }\n",
              "    (() => {\n",
              "      let quickchartButtonEl =\n",
              "        document.querySelector('#df-01c5c161-33c2-48fb-afdf-3a1125f1f0e0 button');\n",
              "      quickchartButtonEl.style.display =\n",
              "        google.colab.kernel.accessAllowed ? 'block' : 'none';\n",
              "    })();\n",
              "  </script>\n",
              "</div>\n",
              "\n",
              "    </div>\n",
              "  </div>\n"
            ],
            "application/vnd.google.colaboratory.intrinsic+json": {
              "type": "dataframe",
              "variable_name": "df",
              "summary": "{\n  \"name\": \"df\",\n  \"rows\": 999,\n  \"fields\": [\n    {\n      \"column\": \"Unnamed: 0\",\n      \"properties\": {\n        \"dtype\": \"number\",\n        \"std\": 288,\n        \"min\": 1,\n        \"max\": 999,\n        \"num_unique_values\": 999,\n        \"samples\": [\n          454,\n          794,\n          210\n        ],\n        \"semantic_type\": \"\",\n        \"description\": \"\"\n      }\n    },\n    {\n      \"column\": \"Series_Title\",\n      \"properties\": {\n        \"dtype\": \"string\",\n        \"num_unique_values\": 998,\n        \"samples\": [\n          \"Arsenic and Old Lace\",\n          \"Hedwig and the Angry Inch\",\n          \"\\u00d4kami kodomo no Ame to Yuki\"\n        ],\n        \"semantic_type\": \"\",\n        \"description\": \"\"\n      }\n    },\n    {\n      \"column\": \"Released_Year\",\n      \"properties\": {\n        \"dtype\": \"category\",\n        \"num_unique_values\": 100,\n        \"samples\": [\n          \"1934\",\n          \"1992\",\n          \"1989\"\n        ],\n        \"semantic_type\": \"\",\n        \"description\": \"\"\n      }\n    },\n    {\n      \"column\": \"Certificate\",\n      \"properties\": {\n        \"dtype\": \"category\",\n        \"num_unique_values\": 16,\n        \"samples\": [\n          \"A\",\n          \"UA\",\n          \"PG\"\n        ],\n        \"semantic_type\": \"\",\n        \"description\": \"\"\n      }\n    },\n    {\n      \"column\": \"Runtime\",\n      \"properties\": {\n        \"dtype\": \"category\",\n        \"num_unique_values\": 140,\n        \"samples\": [\n          \"205 min\",\n          \"129 min\",\n          \"112 min\"\n        ],\n        \"semantic_type\": \"\",\n        \"description\": \"\"\n      }\n    },\n    {\n      \"column\": \"Genre\",\n      \"properties\": {\n        \"dtype\": \"category\",\n        \"num_unique_values\": 202,\n        \"samples\": [\n          \"Comedy, Drama, Fantasy\",\n          \"Crime, Drama, Fantasy\",\n          \"Drama, Romance, War\"\n        ],\n        \"semantic_type\": \"\",\n        \"description\": \"\"\n      }\n    },\n    {\n      \"column\": \"IMDB_Rating\",\n      \"properties\": {\n        \"dtype\": \"number\",\n        \"std\": 0.2722895085128798,\n        \"min\": 7.6,\n        \"max\": 9.2,\n        \"num_unique_values\": 16,\n        \"samples\": [\n          9.2,\n          9.0,\n          8.6\n        ],\n        \"semantic_type\": \"\",\n        \"description\": \"\"\n      }\n    },\n    {\n      \"column\": \"Overview\",\n      \"properties\": {\n        \"dtype\": \"string\",\n        \"num_unique_values\": 999,\n        \"samples\": [\n          \"Three World War II veterans return home to small-town America to discover that they and their families have been irreparably changed.\",\n          \"A gender-queer punk-rock singer from East Berlin tours the U.S. with her band as she tells her life story and follows the former lover/band-mate who stole her songs.\",\n          \"With his wife's disappearance having become the focus of an intense media circus, a man sees the spotlight turned on him when it's suspected that he may not be innocent.\"\n        ],\n        \"semantic_type\": \"\",\n        \"description\": \"\"\n      }\n    },\n    {\n      \"column\": \"Meta_score\",\n      \"properties\": {\n        \"dtype\": \"number\",\n        \"std\": 12.383257326288946,\n        \"min\": 28.0,\n        \"max\": 100.0,\n        \"num_unique_values\": 63,\n        \"samples\": [\n          30.0,\n          52.0,\n          100.0\n        ],\n        \"semantic_type\": \"\",\n        \"description\": \"\"\n      }\n    },\n    {\n      \"column\": \"Director\",\n      \"properties\": {\n        \"dtype\": \"string\",\n        \"num_unique_values\": 548,\n        \"samples\": [\n          \"Satoshi Kon\",\n          \"David Lean\",\n          \"Yilmaz Erdogan\"\n        ],\n        \"semantic_type\": \"\",\n        \"description\": \"\"\n      }\n    },\n    {\n      \"column\": \"Star1\",\n      \"properties\": {\n        \"dtype\": \"string\",\n        \"num_unique_values\": 659,\n        \"samples\": [\n          \"Peter Dinklage\",\n          \"Jay Baruchel\",\n          \"Steve McQueen\"\n        ],\n        \"semantic_type\": \"\",\n        \"description\": \"\"\n      }\n    },\n    {\n      \"column\": \"Star2\",\n      \"properties\": {\n        \"dtype\": \"string\",\n        \"num_unique_values\": 840,\n        \"samples\": [\n          \"Jacques Villeret\",\n          \"Meg Ryan\",\n          \"J.K. Simmons\"\n        ],\n        \"semantic_type\": \"\",\n        \"description\": \"\"\n      }\n    },\n    {\n      \"column\": \"Star3\",\n      \"properties\": {\n        \"dtype\": \"string\",\n        \"num_unique_values\": 890,\n        \"samples\": [\n          \"Yacef Saadi\",\n          \"John Wray\",\n          \"Chazz Palminteri\"\n        ],\n        \"semantic_type\": \"\",\n        \"description\": \"\"\n      }\n    },\n    {\n      \"column\": \"Star4\",\n      \"properties\": {\n        \"dtype\": \"string\",\n        \"num_unique_values\": 938,\n        \"samples\": [\n          \"Veronica Cartwright\",\n          \"Domhnall Gleeson\",\n          \"Jennifer Ulrich\"\n        ],\n        \"semantic_type\": \"\",\n        \"description\": \"\"\n      }\n    },\n    {\n      \"column\": \"No_of_Votes\",\n      \"properties\": {\n        \"dtype\": \"number\",\n        \"std\": 320912,\n        \"min\": 25088,\n        \"max\": 2303232,\n        \"num_unique_values\": 998,\n        \"samples\": [\n          57259,\n          31957,\n          859695\n        ],\n        \"semantic_type\": \"\",\n        \"description\": \"\"\n      }\n    },\n    {\n      \"column\": \"Gross\",\n      \"properties\": {\n        \"dtype\": \"string\",\n        \"num_unique_values\": 822,\n        \"samples\": [\n          \"136,025,503\",\n          \"356,461,711\",\n          \"275,902\"\n        ],\n        \"semantic_type\": \"\",\n        \"description\": \"\"\n      }\n    }\n  ]\n}"
            }
          },
          "metadata": {},
          "execution_count": 19
        }
      ]
    },
    {
      "cell_type": "markdown",
      "source": [
        "Nesse primeiro contato podemos notar que nossa base de dados possui diversos, tipos de dados desde numericos a categoricos, dito isso vamos observar as dimensões desse nosso data set  "
      ],
      "metadata": {
        "id": "MBYZbyvv5Zcf"
      }
    },
    {
      "cell_type": "code",
      "source": [
        "# Dimensão do nosso DF\n",
        "df.shape"
      ],
      "metadata": {
        "colab": {
          "base_uri": "https://localhost:8080/"
        },
        "id": "-oOH_FdT6YOn",
        "outputId": "cfc1a8f3-ba88-4c5f-825f-1518729165f6"
      },
      "execution_count": 21,
      "outputs": [
        {
          "output_type": "execute_result",
          "data": {
            "text/plain": [
              "(999, 16)"
            ]
          },
          "metadata": {},
          "execution_count": 21
        }
      ]
    },
    {
      "cell_type": "markdown",
      "source": [
        "Temos um total de 999 linhas e 16 colunas, sabendo disso vamos dar uma olhada no nosso dicionario de dados"
      ],
      "metadata": {
        "id": "2xKJmBuz6dlu"
      }
    },
    {
      "cell_type": "markdown",
      "source": [
        "Agora vamos observar o dicionário dos dados.\n",
        "\n",
        "- Series_Title – Nome do filme\n",
        "- Released_Year - Ano de lançamento\n",
        "- Certificate - Classificação etária\n",
        "- Runtime – Tempo de duração\n",
        "- Genre - Gênero\n",
        "- IMDB_Rating - Nota do IMDB\n",
        "- Overview - Overview do filme\n",
        "- Meta_score - Média ponderada de todas as críticas\n",
        "- Director – Diretor\n",
        "- Star1 - Ator/atriz #1\n",
        "- Star2 - Ator/atriz #2\n",
        "- Star3 - Ator/atriz #3\n",
        "- Star4 - Ator/atriz #4\n",
        "- No_of_Votes - Número de votos\n",
        "- Gross - Faturamento\n"
      ],
      "metadata": {
        "id": "MK2JIVrG5ocH"
      }
    },
    {
      "cell_type": "markdown",
      "source": [
        "Agora que temos o dicionario para nos auxiliar vamos observar o tipo de dado presente em cada uma das nossas colunas"
      ],
      "metadata": {
        "id": "mbLHTH946j93"
      }
    },
    {
      "cell_type": "code",
      "source": [
        "# Observando o tipo dos dados\n",
        "df.info()"
      ],
      "metadata": {
        "colab": {
          "base_uri": "https://localhost:8080/"
        },
        "id": "O4GPwLlw6r_e",
        "outputId": "868b7d36-1cce-4452-9cd7-ed19931bea86"
      },
      "execution_count": 22,
      "outputs": [
        {
          "output_type": "stream",
          "name": "stdout",
          "text": [
            "<class 'pandas.core.frame.DataFrame'>\n",
            "RangeIndex: 999 entries, 0 to 998\n",
            "Data columns (total 16 columns):\n",
            " #   Column         Non-Null Count  Dtype  \n",
            "---  ------         --------------  -----  \n",
            " 0   Unnamed: 0     999 non-null    int64  \n",
            " 1   Series_Title   999 non-null    object \n",
            " 2   Released_Year  999 non-null    object \n",
            " 3   Certificate    898 non-null    object \n",
            " 4   Runtime        999 non-null    object \n",
            " 5   Genre          999 non-null    object \n",
            " 6   IMDB_Rating    999 non-null    float64\n",
            " 7   Overview       999 non-null    object \n",
            " 8   Meta_score     842 non-null    float64\n",
            " 9   Director       999 non-null    object \n",
            " 10  Star1          999 non-null    object \n",
            " 11  Star2          999 non-null    object \n",
            " 12  Star3          999 non-null    object \n",
            " 13  Star4          999 non-null    object \n",
            " 14  No_of_Votes    999 non-null    int64  \n",
            " 15  Gross          830 non-null    object \n",
            "dtypes: float64(2), int64(2), object(12)\n",
            "memory usage: 125.0+ KB\n"
          ]
        }
      ]
    },
    {
      "cell_type": "markdown",
      "source": [
        "Agora podemos notar que a variavel 'Unnamed' é do tipo inteiro essa variavel normalmente aparece em arquivos do tipo csv ela é algo como um indice sem nome, então vamos seguir para as proximas e dividir nossos dados numericos dos nossos dados categoricas\n",
        "\n",
        "**Dados númericos**\n",
        "\n",
        "- A variavel 'IMDB_Rating' é uma variavel numerica do tipo float\n",
        "- A variavel 'Meta_score' também é numerica do tipo float\n",
        "- A varaivel 'No_of_Votes' é do tipo numerica e int\n",
        "\n",
        "**Dados categoricos**\n",
        "\n",
        "Já os dados categoricos são compostos pelas seguintes variaveis:\n",
        "\n",
        "- 'Series_Title', 'Released_Year', 'Certificate', 'Runtime', 'Genre', 'Overview ', 'Director', 'Star1', 'Star2', 'Star3', 'Star4', 'Gross'.\n",
        "\n",
        "\n",
        "\n",
        "\n"
      ],
      "metadata": {
        "id": "n92dd7uE6-K3"
      }
    },
    {
      "cell_type": "markdown",
      "source": [
        "Aqui podemos notar que alguns dados categoricos deveriam ser do tipo numerico, como é o exemplo da varaivel 'Gross' que é referente ao faturamento ela deveria ser do tipo float, algo semelhante acontece com a variavel 'Released_Year' que deveria ser do tipo numerico ou do tipo date e também podemos observar a variavel 'Runtime' é o tempo do filme em minutos e esta do tipo categorico.\n",
        "\n",
        "É possivel realizarmos algumas voncerções são necessarias para que possamos trabalhar melhor com esses dados"
      ],
      "metadata": {
        "id": "cUkc_F1n96an"
      }
    },
    {
      "cell_type": "markdown",
      "source": [
        "#### **Observar os tipos dos dados categoricos**"
      ],
      "metadata": {
        "id": "0FFBQOdm9VS5"
      }
    },
    {
      "cell_type": "markdown",
      "source": [
        "# **Gerando o requirements**"
      ],
      "metadata": {
        "id": "ClSVjBPZz9hQ"
      }
    },
    {
      "cell_type": "code",
      "source": [
        "\"\"\"\n",
        "\n",
        "# Gerar o arquivo de requisitos\n",
        "!pip freeze > requirements.txt\n",
        "\n",
        "# Verificar o conteúdo do arquivo de requisitos\n",
        "!cat requirements.txt\n",
        "\n",
        "# Baixar o arquivo de requisitos\n",
        "from google.colab import files\n",
        "files.download('requirements.txt')\n",
        "\n",
        "\"\"\""
      ],
      "metadata": {
        "colab": {
          "base_uri": "https://localhost:8080/",
          "height": 53
        },
        "id": "-X0vft45z2hA",
        "outputId": "21604137-4fc9-4bbb-a277-3a3608822d2d"
      },
      "execution_count": 7,
      "outputs": [
        {
          "output_type": "execute_result",
          "data": {
            "text/plain": [
              "\"\\n\\n# Gerar o arquivo de requisitos\\n!pip freeze > requirements.txt\\n\\n# Verificar o conteúdo do arquivo de requisitos\\n!cat requirements.txt\\n\\n# Baixar o arquivo de requisitos\\nfrom google.colab import files\\nfiles.download('requirements.txt')\\n\\n\""
            ],
            "application/vnd.google.colaboratory.intrinsic+json": {
              "type": "string"
            }
          },
          "metadata": {},
          "execution_count": 7
        }
      ]
    }
  ]
}