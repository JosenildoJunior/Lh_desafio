{
  "nbformat": 4,
  "nbformat_minor": 0,
  "metadata": {
    "colab": {
      "provenance": [],
      "collapsed_sections": [
        "gFJ7CHMT1NYf",
        "pmREMmzT1VyX",
        "qFJsoXVFxUwT",
        "MHKu9Bga3jXv",
        "R62rXYEzBHY4",
        "QoHcx49WQYML",
        "qobSwR6U2EAH",
        "ljv1NJ_wYwqM",
        "i9bBbVLKiMAF",
        "EbrikHFYn0uE",
        "nk6u79OF2deu",
        "9qd2Dclr8kNu",
        "mLD9i8WSQhD6",
        "_d-tp6RIabJI",
        "K8u0eATmo3V9",
        "GY_sLd-xvtpN",
        "wwxncEVUKsIg",
        "G6BDWPeWPWVX",
        "OyNd245gO-m-",
        "tIoxp2d1tQ-w",
        "6FXMoN2jtX8W",
        "ClSVjBPZz9hQ"
      ],
      "authorship_tag": "ABX9TyMvnVM+4w98QQjtpLgRX/9G",
      "include_colab_link": true
    },
    "kernelspec": {
      "name": "python3",
      "display_name": "Python 3"
    },
    "language_info": {
      "name": "python"
    }
  },
  "cells": [
    {
      "cell_type": "markdown",
      "metadata": {
        "id": "view-in-github",
        "colab_type": "text"
      },
      "source": [
        "<a href=\"https://colab.research.google.com/github/JosenildoJunior/Lh_desafio/blob/main/Desafio_indicium.ipynb\" target=\"_parent\"><img src=\"https://colab.research.google.com/assets/colab-badge.svg\" alt=\"Open In Colab\"/></a>"
      ]
    },
    {
      "cell_type": "markdown",
      "source": [
        "# **Desafio**"
      ],
      "metadata": {
        "id": "gFJ7CHMT1NYf"
      }
    },
    {
      "cell_type": "markdown",
      "source": [
        "Você foi contratado por um estúdio de Hollywood chamado PProductions, e agora deve fazer uma análise em cima de um banco de dados cinematográfico para orientar qual tipo de filme deve ser o próximo a ser desenvolvido. Lembre-se que há muito dinheiro envolvido, então a análise deve ser muito detalhada e levar em consideração o máximo de fatores possíveis (a introdução de dados externos é permitida - e encorajada).\n"
      ],
      "metadata": {
        "id": "LlLftPWP1QGn"
      }
    },
    {
      "cell_type": "markdown",
      "source": [
        "# **Entregas**"
      ],
      "metadata": {
        "id": "pmREMmzT1VyX"
      }
    },
    {
      "cell_type": "markdown",
      "source": [
        "- 1. Faça uma análise exploratória dos dados (EDA), demonstrando as principais características entre as variáveis e apresentando algumas hipóteses relacionadas. Seja criativo!\n",
        "\n",
        "- 2. Responda também às seguintes perguntas:\n",
        "\n",
        "  - Qual filme você recomendaria para uma pessoa que você não conhece?\n",
        "  - Quais são os principais fatores que estão relacionados com alta expectativa de faturamento de um filme?\n",
        "  - Quais insights podem ser tirados com a coluna Overview? É possível inferir o gênero do filme a partir dessa coluna?\n",
        "\n",
        "- 3. Explique como você faria a previsão da nota do imdb a partir dos dados. Quais variáveis e/ou suas transformações você utilizou e por quê? Qual tipo de problema estamos resolvendo (regressão, classificação)? Qual modelo melhor se aproxima dos dados e quais seus prós e contras? Qual medida de performance do modelo foi escolhida e por quê?\n",
        "\n",
        "- 4.Supondo um filme com as seguintes características:\n",
        "\n",
        "  {'Series_Title': 'The Shawshank Redemption',\n",
        "  'Released_Year': '1994',\n",
        "  'Certificate': 'A',\n",
        "  'Runtime': '142 min',\n",
        "  'Genre': 'Drama',\n",
        "  'Overview': 'Two imprisoned men bond over a number of years, finding solace and eventual redemption through acts of common decency.',\n",
        "  'Meta_score': 80.0,\n",
        "  'Director': 'Frank Darabont',\n",
        "  'Star1': 'Tim Robbins',\n",
        "  'Star2': 'Morgan Freeman',\n",
        "  'Star3': 'Bob Gunton',\n",
        "  'Star4': 'William Sadler',\n",
        "  'No_of_Votes': 2343110,\n",
        "  'Gross': '28,341,469'}\n",
        "\n",
        "\n",
        "Qual seria a nota do IMDB?\n",
        "\n",
        "- 5. Salve o modelo desenvolvido no formato .pkl.\n",
        "- 6. A entrega deve ser feita através de um repositório de código público que contenha:\n",
        "\n",
        "  - README explicando como instalar e executar o projeto\n",
        "  - Arquivo de requisitos com todos os pacotes utilizados e suas versões\n",
        "  - Relatórios das análises estatísticas e EDA em PDF, Jupyter Notebook ou semelhante conforme passo 1 e 2.\n",
        "  - Códigos de modelagem utilizados no passo 3 (pode ser entregue no mesmo Jupyter Notebook).\n",
        "  - Arquivo .pkl conforme passo 5 acima.\n",
        "  Todos os códigos produzidos devem seguir as boas práticas de codificação.\n"
      ],
      "metadata": {
        "id": "_RcWRPKh1XP3"
      }
    },
    {
      "cell_type": "markdown",
      "source": [
        "# **Ajustes iniciais**"
      ],
      "metadata": {
        "id": "qFJsoXVFxUwT"
      }
    },
    {
      "cell_type": "markdown",
      "source": [
        "Antes de tudo, vamos importar as bibliotecas que serão necessárias para realizarmos nossas análises."
      ],
      "metadata": {
        "id": "MpU3PDun31ym"
      }
    },
    {
      "cell_type": "code",
      "source": [
        "# Manipulação de dados\n",
        "import pandas as pd\n",
        "\n",
        "# Algébra linear\n",
        "import numpy as np\n",
        "\n",
        "# Visualização de dados\n",
        "import matplotlib.pyplot as plt\n",
        "import seaborn as sns\n",
        "\n",
        "# Funções estatísticas\n",
        "import statistics\n",
        "from scipy import stats\n",
        "\n",
        "# Importando o skew\n",
        "from scipy.stats import skew"
      ],
      "metadata": {
        "id": "EaJ3sqTY3sEW"
      },
      "execution_count": null,
      "outputs": []
    },
    {
      "cell_type": "markdown",
      "source": [
        "Agora vamos importar nossos dados."
      ],
      "metadata": {
        "id": "E1T2WCp5346O"
      }
    },
    {
      "cell_type": "code",
      "source": [
        "# Acesso ao drive\n",
        "from google.colab import drive\n",
        "drive.mount('/content/drive')"
      ],
      "metadata": {
        "colab": {
          "base_uri": "https://localhost:8080/"
        },
        "id": "F7K35Xoz35K4",
        "outputId": "2ca63ee2-8b7c-48a3-fe2b-b91d9b27b429"
      },
      "execution_count": null,
      "outputs": [
        {
          "output_type": "stream",
          "name": "stdout",
          "text": [
            "Mounted at /content/drive\n"
          ]
        }
      ]
    },
    {
      "cell_type": "code",
      "source": [
        "# Importando o dataset\n",
        "df = pd.read_csv('/content/drive/MyDrive/Dados/desafio_indicium_imdb.csv')\n",
        "\n",
        "# Observando os primeiro registros\n",
        "df.head()"
      ],
      "metadata": {
        "colab": {
          "base_uri": "https://localhost:8080/",
          "height": 328
        },
        "id": "dY3LaUAd38Qf",
        "outputId": "bcd5093f-62dd-4ae7-9115-62e049b403da"
      },
      "execution_count": null,
      "outputs": [
        {
          "output_type": "execute_result",
          "data": {
            "text/plain": [
              "   Unnamed: 0                                   Series_Title Released_Year  \\\n",
              "0           1                                  The Godfather          1972   \n",
              "1           2                                The Dark Knight          2008   \n",
              "2           3                         The Godfather: Part II          1974   \n",
              "3           4                                   12 Angry Men          1957   \n",
              "4           5  The Lord of the Rings: The Return of the King          2003   \n",
              "\n",
              "  Certificate  Runtime                     Genre  IMDB_Rating  \\\n",
              "0           A  175 min              Crime, Drama          9.2   \n",
              "1          UA  152 min      Action, Crime, Drama          9.0   \n",
              "2           A  202 min              Crime, Drama          9.0   \n",
              "3           U   96 min              Crime, Drama          9.0   \n",
              "4           U  201 min  Action, Adventure, Drama          8.9   \n",
              "\n",
              "                                            Overview  Meta_score  \\\n",
              "0  An organized crime dynasty's aging patriarch t...       100.0   \n",
              "1  When the menace known as the Joker wreaks havo...        84.0   \n",
              "2  The early life and career of Vito Corleone in ...        90.0   \n",
              "3  A jury holdout attempts to prevent a miscarria...        96.0   \n",
              "4  Gandalf and Aragorn lead the World of Men agai...        94.0   \n",
              "\n",
              "               Director           Star1            Star2          Star3  \\\n",
              "0  Francis Ford Coppola   Marlon Brando        Al Pacino     James Caan   \n",
              "1     Christopher Nolan  Christian Bale     Heath Ledger  Aaron Eckhart   \n",
              "2  Francis Ford Coppola       Al Pacino   Robert De Niro  Robert Duvall   \n",
              "3          Sidney Lumet     Henry Fonda      Lee J. Cobb  Martin Balsam   \n",
              "4         Peter Jackson     Elijah Wood  Viggo Mortensen   Ian McKellen   \n",
              "\n",
              "           Star4  No_of_Votes        Gross  \n",
              "0   Diane Keaton      1620367  134,966,411  \n",
              "1  Michael Caine      2303232  534,858,444  \n",
              "2   Diane Keaton      1129952   57,300,000  \n",
              "3   John Fiedler       689845    4,360,000  \n",
              "4  Orlando Bloom      1642758  377,845,905  "
            ],
            "text/html": [
              "\n",
              "  <div id=\"df-89808ed6-7303-4f14-9180-df43901225a5\" class=\"colab-df-container\">\n",
              "    <div>\n",
              "<style scoped>\n",
              "    .dataframe tbody tr th:only-of-type {\n",
              "        vertical-align: middle;\n",
              "    }\n",
              "\n",
              "    .dataframe tbody tr th {\n",
              "        vertical-align: top;\n",
              "    }\n",
              "\n",
              "    .dataframe thead th {\n",
              "        text-align: right;\n",
              "    }\n",
              "</style>\n",
              "<table border=\"1\" class=\"dataframe\">\n",
              "  <thead>\n",
              "    <tr style=\"text-align: right;\">\n",
              "      <th></th>\n",
              "      <th>Unnamed: 0</th>\n",
              "      <th>Series_Title</th>\n",
              "      <th>Released_Year</th>\n",
              "      <th>Certificate</th>\n",
              "      <th>Runtime</th>\n",
              "      <th>Genre</th>\n",
              "      <th>IMDB_Rating</th>\n",
              "      <th>Overview</th>\n",
              "      <th>Meta_score</th>\n",
              "      <th>Director</th>\n",
              "      <th>Star1</th>\n",
              "      <th>Star2</th>\n",
              "      <th>Star3</th>\n",
              "      <th>Star4</th>\n",
              "      <th>No_of_Votes</th>\n",
              "      <th>Gross</th>\n",
              "    </tr>\n",
              "  </thead>\n",
              "  <tbody>\n",
              "    <tr>\n",
              "      <th>0</th>\n",
              "      <td>1</td>\n",
              "      <td>The Godfather</td>\n",
              "      <td>1972</td>\n",
              "      <td>A</td>\n",
              "      <td>175 min</td>\n",
              "      <td>Crime, Drama</td>\n",
              "      <td>9.2</td>\n",
              "      <td>An organized crime dynasty's aging patriarch t...</td>\n",
              "      <td>100.0</td>\n",
              "      <td>Francis Ford Coppola</td>\n",
              "      <td>Marlon Brando</td>\n",
              "      <td>Al Pacino</td>\n",
              "      <td>James Caan</td>\n",
              "      <td>Diane Keaton</td>\n",
              "      <td>1620367</td>\n",
              "      <td>134,966,411</td>\n",
              "    </tr>\n",
              "    <tr>\n",
              "      <th>1</th>\n",
              "      <td>2</td>\n",
              "      <td>The Dark Knight</td>\n",
              "      <td>2008</td>\n",
              "      <td>UA</td>\n",
              "      <td>152 min</td>\n",
              "      <td>Action, Crime, Drama</td>\n",
              "      <td>9.0</td>\n",
              "      <td>When the menace known as the Joker wreaks havo...</td>\n",
              "      <td>84.0</td>\n",
              "      <td>Christopher Nolan</td>\n",
              "      <td>Christian Bale</td>\n",
              "      <td>Heath Ledger</td>\n",
              "      <td>Aaron Eckhart</td>\n",
              "      <td>Michael Caine</td>\n",
              "      <td>2303232</td>\n",
              "      <td>534,858,444</td>\n",
              "    </tr>\n",
              "    <tr>\n",
              "      <th>2</th>\n",
              "      <td>3</td>\n",
              "      <td>The Godfather: Part II</td>\n",
              "      <td>1974</td>\n",
              "      <td>A</td>\n",
              "      <td>202 min</td>\n",
              "      <td>Crime, Drama</td>\n",
              "      <td>9.0</td>\n",
              "      <td>The early life and career of Vito Corleone in ...</td>\n",
              "      <td>90.0</td>\n",
              "      <td>Francis Ford Coppola</td>\n",
              "      <td>Al Pacino</td>\n",
              "      <td>Robert De Niro</td>\n",
              "      <td>Robert Duvall</td>\n",
              "      <td>Diane Keaton</td>\n",
              "      <td>1129952</td>\n",
              "      <td>57,300,000</td>\n",
              "    </tr>\n",
              "    <tr>\n",
              "      <th>3</th>\n",
              "      <td>4</td>\n",
              "      <td>12 Angry Men</td>\n",
              "      <td>1957</td>\n",
              "      <td>U</td>\n",
              "      <td>96 min</td>\n",
              "      <td>Crime, Drama</td>\n",
              "      <td>9.0</td>\n",
              "      <td>A jury holdout attempts to prevent a miscarria...</td>\n",
              "      <td>96.0</td>\n",
              "      <td>Sidney Lumet</td>\n",
              "      <td>Henry Fonda</td>\n",
              "      <td>Lee J. Cobb</td>\n",
              "      <td>Martin Balsam</td>\n",
              "      <td>John Fiedler</td>\n",
              "      <td>689845</td>\n",
              "      <td>4,360,000</td>\n",
              "    </tr>\n",
              "    <tr>\n",
              "      <th>4</th>\n",
              "      <td>5</td>\n",
              "      <td>The Lord of the Rings: The Return of the King</td>\n",
              "      <td>2003</td>\n",
              "      <td>U</td>\n",
              "      <td>201 min</td>\n",
              "      <td>Action, Adventure, Drama</td>\n",
              "      <td>8.9</td>\n",
              "      <td>Gandalf and Aragorn lead the World of Men agai...</td>\n",
              "      <td>94.0</td>\n",
              "      <td>Peter Jackson</td>\n",
              "      <td>Elijah Wood</td>\n",
              "      <td>Viggo Mortensen</td>\n",
              "      <td>Ian McKellen</td>\n",
              "      <td>Orlando Bloom</td>\n",
              "      <td>1642758</td>\n",
              "      <td>377,845,905</td>\n",
              "    </tr>\n",
              "  </tbody>\n",
              "</table>\n",
              "</div>\n",
              "    <div class=\"colab-df-buttons\">\n",
              "\n",
              "  <div class=\"colab-df-container\">\n",
              "    <button class=\"colab-df-convert\" onclick=\"convertToInteractive('df-89808ed6-7303-4f14-9180-df43901225a5')\"\n",
              "            title=\"Convert this dataframe to an interactive table.\"\n",
              "            style=\"display:none;\">\n",
              "\n",
              "  <svg xmlns=\"http://www.w3.org/2000/svg\" height=\"24px\" viewBox=\"0 -960 960 960\">\n",
              "    <path d=\"M120-120v-720h720v720H120Zm60-500h600v-160H180v160Zm220 220h160v-160H400v160Zm0 220h160v-160H400v160ZM180-400h160v-160H180v160Zm440 0h160v-160H620v160ZM180-180h160v-160H180v160Zm440 0h160v-160H620v160Z\"/>\n",
              "  </svg>\n",
              "    </button>\n",
              "\n",
              "  <style>\n",
              "    .colab-df-container {\n",
              "      display:flex;\n",
              "      gap: 12px;\n",
              "    }\n",
              "\n",
              "    .colab-df-convert {\n",
              "      background-color: #E8F0FE;\n",
              "      border: none;\n",
              "      border-radius: 50%;\n",
              "      cursor: pointer;\n",
              "      display: none;\n",
              "      fill: #1967D2;\n",
              "      height: 32px;\n",
              "      padding: 0 0 0 0;\n",
              "      width: 32px;\n",
              "    }\n",
              "\n",
              "    .colab-df-convert:hover {\n",
              "      background-color: #E2EBFA;\n",
              "      box-shadow: 0px 1px 2px rgba(60, 64, 67, 0.3), 0px 1px 3px 1px rgba(60, 64, 67, 0.15);\n",
              "      fill: #174EA6;\n",
              "    }\n",
              "\n",
              "    .colab-df-buttons div {\n",
              "      margin-bottom: 4px;\n",
              "    }\n",
              "\n",
              "    [theme=dark] .colab-df-convert {\n",
              "      background-color: #3B4455;\n",
              "      fill: #D2E3FC;\n",
              "    }\n",
              "\n",
              "    [theme=dark] .colab-df-convert:hover {\n",
              "      background-color: #434B5C;\n",
              "      box-shadow: 0px 1px 3px 1px rgba(0, 0, 0, 0.15);\n",
              "      filter: drop-shadow(0px 1px 2px rgba(0, 0, 0, 0.3));\n",
              "      fill: #FFFFFF;\n",
              "    }\n",
              "  </style>\n",
              "\n",
              "    <script>\n",
              "      const buttonEl =\n",
              "        document.querySelector('#df-89808ed6-7303-4f14-9180-df43901225a5 button.colab-df-convert');\n",
              "      buttonEl.style.display =\n",
              "        google.colab.kernel.accessAllowed ? 'block' : 'none';\n",
              "\n",
              "      async function convertToInteractive(key) {\n",
              "        const element = document.querySelector('#df-89808ed6-7303-4f14-9180-df43901225a5');\n",
              "        const dataTable =\n",
              "          await google.colab.kernel.invokeFunction('convertToInteractive',\n",
              "                                                    [key], {});\n",
              "        if (!dataTable) return;\n",
              "\n",
              "        const docLinkHtml = 'Like what you see? Visit the ' +\n",
              "          '<a target=\"_blank\" href=https://colab.research.google.com/notebooks/data_table.ipynb>data table notebook</a>'\n",
              "          + ' to learn more about interactive tables.';\n",
              "        element.innerHTML = '';\n",
              "        dataTable['output_type'] = 'display_data';\n",
              "        await google.colab.output.renderOutput(dataTable, element);\n",
              "        const docLink = document.createElement('div');\n",
              "        docLink.innerHTML = docLinkHtml;\n",
              "        element.appendChild(docLink);\n",
              "      }\n",
              "    </script>\n",
              "  </div>\n",
              "\n",
              "\n",
              "<div id=\"df-746760ac-0500-4de3-9cac-8362d7f9163b\">\n",
              "  <button class=\"colab-df-quickchart\" onclick=\"quickchart('df-746760ac-0500-4de3-9cac-8362d7f9163b')\"\n",
              "            title=\"Suggest charts\"\n",
              "            style=\"display:none;\">\n",
              "\n",
              "<svg xmlns=\"http://www.w3.org/2000/svg\" height=\"24px\"viewBox=\"0 0 24 24\"\n",
              "     width=\"24px\">\n",
              "    <g>\n",
              "        <path d=\"M19 3H5c-1.1 0-2 .9-2 2v14c0 1.1.9 2 2 2h14c1.1 0 2-.9 2-2V5c0-1.1-.9-2-2-2zM9 17H7v-7h2v7zm4 0h-2V7h2v10zm4 0h-2v-4h2v4z\"/>\n",
              "    </g>\n",
              "</svg>\n",
              "  </button>\n",
              "\n",
              "<style>\n",
              "  .colab-df-quickchart {\n",
              "      --bg-color: #E8F0FE;\n",
              "      --fill-color: #1967D2;\n",
              "      --hover-bg-color: #E2EBFA;\n",
              "      --hover-fill-color: #174EA6;\n",
              "      --disabled-fill-color: #AAA;\n",
              "      --disabled-bg-color: #DDD;\n",
              "  }\n",
              "\n",
              "  [theme=dark] .colab-df-quickchart {\n",
              "      --bg-color: #3B4455;\n",
              "      --fill-color: #D2E3FC;\n",
              "      --hover-bg-color: #434B5C;\n",
              "      --hover-fill-color: #FFFFFF;\n",
              "      --disabled-bg-color: #3B4455;\n",
              "      --disabled-fill-color: #666;\n",
              "  }\n",
              "\n",
              "  .colab-df-quickchart {\n",
              "    background-color: var(--bg-color);\n",
              "    border: none;\n",
              "    border-radius: 50%;\n",
              "    cursor: pointer;\n",
              "    display: none;\n",
              "    fill: var(--fill-color);\n",
              "    height: 32px;\n",
              "    padding: 0;\n",
              "    width: 32px;\n",
              "  }\n",
              "\n",
              "  .colab-df-quickchart:hover {\n",
              "    background-color: var(--hover-bg-color);\n",
              "    box-shadow: 0 1px 2px rgba(60, 64, 67, 0.3), 0 1px 3px 1px rgba(60, 64, 67, 0.15);\n",
              "    fill: var(--button-hover-fill-color);\n",
              "  }\n",
              "\n",
              "  .colab-df-quickchart-complete:disabled,\n",
              "  .colab-df-quickchart-complete:disabled:hover {\n",
              "    background-color: var(--disabled-bg-color);\n",
              "    fill: var(--disabled-fill-color);\n",
              "    box-shadow: none;\n",
              "  }\n",
              "\n",
              "  .colab-df-spinner {\n",
              "    border: 2px solid var(--fill-color);\n",
              "    border-color: transparent;\n",
              "    border-bottom-color: var(--fill-color);\n",
              "    animation:\n",
              "      spin 1s steps(1) infinite;\n",
              "  }\n",
              "\n",
              "  @keyframes spin {\n",
              "    0% {\n",
              "      border-color: transparent;\n",
              "      border-bottom-color: var(--fill-color);\n",
              "      border-left-color: var(--fill-color);\n",
              "    }\n",
              "    20% {\n",
              "      border-color: transparent;\n",
              "      border-left-color: var(--fill-color);\n",
              "      border-top-color: var(--fill-color);\n",
              "    }\n",
              "    30% {\n",
              "      border-color: transparent;\n",
              "      border-left-color: var(--fill-color);\n",
              "      border-top-color: var(--fill-color);\n",
              "      border-right-color: var(--fill-color);\n",
              "    }\n",
              "    40% {\n",
              "      border-color: transparent;\n",
              "      border-right-color: var(--fill-color);\n",
              "      border-top-color: var(--fill-color);\n",
              "    }\n",
              "    60% {\n",
              "      border-color: transparent;\n",
              "      border-right-color: var(--fill-color);\n",
              "    }\n",
              "    80% {\n",
              "      border-color: transparent;\n",
              "      border-right-color: var(--fill-color);\n",
              "      border-bottom-color: var(--fill-color);\n",
              "    }\n",
              "    90% {\n",
              "      border-color: transparent;\n",
              "      border-bottom-color: var(--fill-color);\n",
              "    }\n",
              "  }\n",
              "</style>\n",
              "\n",
              "  <script>\n",
              "    async function quickchart(key) {\n",
              "      const quickchartButtonEl =\n",
              "        document.querySelector('#' + key + ' button');\n",
              "      quickchartButtonEl.disabled = true;  // To prevent multiple clicks.\n",
              "      quickchartButtonEl.classList.add('colab-df-spinner');\n",
              "      try {\n",
              "        const charts = await google.colab.kernel.invokeFunction(\n",
              "            'suggestCharts', [key], {});\n",
              "      } catch (error) {\n",
              "        console.error('Error during call to suggestCharts:', error);\n",
              "      }\n",
              "      quickchartButtonEl.classList.remove('colab-df-spinner');\n",
              "      quickchartButtonEl.classList.add('colab-df-quickchart-complete');\n",
              "    }\n",
              "    (() => {\n",
              "      let quickchartButtonEl =\n",
              "        document.querySelector('#df-746760ac-0500-4de3-9cac-8362d7f9163b button');\n",
              "      quickchartButtonEl.style.display =\n",
              "        google.colab.kernel.accessAllowed ? 'block' : 'none';\n",
              "    })();\n",
              "  </script>\n",
              "</div>\n",
              "\n",
              "    </div>\n",
              "  </div>\n"
            ],
            "application/vnd.google.colaboratory.intrinsic+json": {
              "type": "dataframe",
              "variable_name": "df",
              "summary": "{\n  \"name\": \"df\",\n  \"rows\": 999,\n  \"fields\": [\n    {\n      \"column\": \"Unnamed: 0\",\n      \"properties\": {\n        \"dtype\": \"number\",\n        \"std\": 288,\n        \"min\": 1,\n        \"max\": 999,\n        \"num_unique_values\": 999,\n        \"samples\": [\n          454,\n          794,\n          210\n        ],\n        \"semantic_type\": \"\",\n        \"description\": \"\"\n      }\n    },\n    {\n      \"column\": \"Series_Title\",\n      \"properties\": {\n        \"dtype\": \"string\",\n        \"num_unique_values\": 998,\n        \"samples\": [\n          \"Arsenic and Old Lace\",\n          \"Hedwig and the Angry Inch\",\n          \"\\u00d4kami kodomo no Ame to Yuki\"\n        ],\n        \"semantic_type\": \"\",\n        \"description\": \"\"\n      }\n    },\n    {\n      \"column\": \"Released_Year\",\n      \"properties\": {\n        \"dtype\": \"category\",\n        \"num_unique_values\": 100,\n        \"samples\": [\n          \"1934\",\n          \"1992\",\n          \"1989\"\n        ],\n        \"semantic_type\": \"\",\n        \"description\": \"\"\n      }\n    },\n    {\n      \"column\": \"Certificate\",\n      \"properties\": {\n        \"dtype\": \"category\",\n        \"num_unique_values\": 16,\n        \"samples\": [\n          \"A\",\n          \"UA\",\n          \"PG\"\n        ],\n        \"semantic_type\": \"\",\n        \"description\": \"\"\n      }\n    },\n    {\n      \"column\": \"Runtime\",\n      \"properties\": {\n        \"dtype\": \"category\",\n        \"num_unique_values\": 140,\n        \"samples\": [\n          \"205 min\",\n          \"129 min\",\n          \"112 min\"\n        ],\n        \"semantic_type\": \"\",\n        \"description\": \"\"\n      }\n    },\n    {\n      \"column\": \"Genre\",\n      \"properties\": {\n        \"dtype\": \"category\",\n        \"num_unique_values\": 202,\n        \"samples\": [\n          \"Comedy, Drama, Fantasy\",\n          \"Crime, Drama, Fantasy\",\n          \"Drama, Romance, War\"\n        ],\n        \"semantic_type\": \"\",\n        \"description\": \"\"\n      }\n    },\n    {\n      \"column\": \"IMDB_Rating\",\n      \"properties\": {\n        \"dtype\": \"number\",\n        \"std\": 0.2722895085128798,\n        \"min\": 7.6,\n        \"max\": 9.2,\n        \"num_unique_values\": 16,\n        \"samples\": [\n          9.2,\n          9.0,\n          8.6\n        ],\n        \"semantic_type\": \"\",\n        \"description\": \"\"\n      }\n    },\n    {\n      \"column\": \"Overview\",\n      \"properties\": {\n        \"dtype\": \"string\",\n        \"num_unique_values\": 999,\n        \"samples\": [\n          \"Three World War II veterans return home to small-town America to discover that they and their families have been irreparably changed.\",\n          \"A gender-queer punk-rock singer from East Berlin tours the U.S. with her band as she tells her life story and follows the former lover/band-mate who stole her songs.\",\n          \"With his wife's disappearance having become the focus of an intense media circus, a man sees the spotlight turned on him when it's suspected that he may not be innocent.\"\n        ],\n        \"semantic_type\": \"\",\n        \"description\": \"\"\n      }\n    },\n    {\n      \"column\": \"Meta_score\",\n      \"properties\": {\n        \"dtype\": \"number\",\n        \"std\": 12.383257326288946,\n        \"min\": 28.0,\n        \"max\": 100.0,\n        \"num_unique_values\": 63,\n        \"samples\": [\n          30.0,\n          52.0,\n          100.0\n        ],\n        \"semantic_type\": \"\",\n        \"description\": \"\"\n      }\n    },\n    {\n      \"column\": \"Director\",\n      \"properties\": {\n        \"dtype\": \"string\",\n        \"num_unique_values\": 548,\n        \"samples\": [\n          \"Satoshi Kon\",\n          \"David Lean\",\n          \"Yilmaz Erdogan\"\n        ],\n        \"semantic_type\": \"\",\n        \"description\": \"\"\n      }\n    },\n    {\n      \"column\": \"Star1\",\n      \"properties\": {\n        \"dtype\": \"string\",\n        \"num_unique_values\": 659,\n        \"samples\": [\n          \"Peter Dinklage\",\n          \"Jay Baruchel\",\n          \"Steve McQueen\"\n        ],\n        \"semantic_type\": \"\",\n        \"description\": \"\"\n      }\n    },\n    {\n      \"column\": \"Star2\",\n      \"properties\": {\n        \"dtype\": \"string\",\n        \"num_unique_values\": 840,\n        \"samples\": [\n          \"Jacques Villeret\",\n          \"Meg Ryan\",\n          \"J.K. Simmons\"\n        ],\n        \"semantic_type\": \"\",\n        \"description\": \"\"\n      }\n    },\n    {\n      \"column\": \"Star3\",\n      \"properties\": {\n        \"dtype\": \"string\",\n        \"num_unique_values\": 890,\n        \"samples\": [\n          \"Yacef Saadi\",\n          \"John Wray\",\n          \"Chazz Palminteri\"\n        ],\n        \"semantic_type\": \"\",\n        \"description\": \"\"\n      }\n    },\n    {\n      \"column\": \"Star4\",\n      \"properties\": {\n        \"dtype\": \"string\",\n        \"num_unique_values\": 938,\n        \"samples\": [\n          \"Veronica Cartwright\",\n          \"Domhnall Gleeson\",\n          \"Jennifer Ulrich\"\n        ],\n        \"semantic_type\": \"\",\n        \"description\": \"\"\n      }\n    },\n    {\n      \"column\": \"No_of_Votes\",\n      \"properties\": {\n        \"dtype\": \"number\",\n        \"std\": 320912,\n        \"min\": 25088,\n        \"max\": 2303232,\n        \"num_unique_values\": 998,\n        \"samples\": [\n          57259,\n          31957,\n          859695\n        ],\n        \"semantic_type\": \"\",\n        \"description\": \"\"\n      }\n    },\n    {\n      \"column\": \"Gross\",\n      \"properties\": {\n        \"dtype\": \"string\",\n        \"num_unique_values\": 822,\n        \"samples\": [\n          \"136,025,503\",\n          \"356,461,711\",\n          \"275,902\"\n        ],\n        \"semantic_type\": \"\",\n        \"description\": \"\"\n      }\n    }\n  ]\n}"
            }
          },
          "metadata": {},
          "execution_count": 3
        }
      ]
    },
    {
      "cell_type": "markdown",
      "source": [
        "Neste primeiro contato, podemos notar que nossa base de dados possui diversos tipos de dados, desde numéricos até categóricos. Dito isso, vamos observar as dimensões deste nosso dataset."
      ],
      "metadata": {
        "id": "MBYZbyvv5Zcf"
      }
    },
    {
      "cell_type": "code",
      "source": [
        "# Dimensão do nosso DF\n",
        "df.shape"
      ],
      "metadata": {
        "colab": {
          "base_uri": "https://localhost:8080/"
        },
        "id": "-oOH_FdT6YOn",
        "outputId": "51926fe4-cb74-4a8c-a768-052874b2b583"
      },
      "execution_count": null,
      "outputs": [
        {
          "output_type": "execute_result",
          "data": {
            "text/plain": [
              "(999, 16)"
            ]
          },
          "metadata": {},
          "execution_count": 4
        }
      ]
    },
    {
      "cell_type": "markdown",
      "source": [
        "Temos um total de 999 linhas e 16 colunas. Sabendo disso, vamos dar uma olhada no nosso dicionário de dados."
      ],
      "metadata": {
        "id": "2xKJmBuz6dlu"
      }
    },
    {
      "cell_type": "markdown",
      "source": [
        "Agora vamos observar o dicionário dos dados.\n",
        "\n",
        "- Series_Title – Nome do filme\n",
        "- Released_Year - Ano de lançamento\n",
        "- Certificate - Classificação etária\n",
        "- Runtime – Tempo de duração\n",
        "- Genre - Gênero\n",
        "- IMDB_Rating - Nota do IMDB\n",
        "- Overview - Overview do filme\n",
        "- Meta_score - Média ponderada de todas as críticas\n",
        "- Director – Diretor\n",
        "- Star1 - Ator/atriz #1\n",
        "- Star2 - Ator/atriz #2\n",
        "- Star3 - Ator/atriz #3\n",
        "- Star4 - Ator/atriz #4\n",
        "- No_of_Votes - Número de votos\n",
        "- Gross - Faturamento\n"
      ],
      "metadata": {
        "id": "MK2JIVrG5ocH"
      }
    },
    {
      "cell_type": "markdown",
      "source": [
        "Agora que temos o dicionário para nos auxiliar, vamos observar o tipo de dado presente em cada uma das nossas colunas."
      ],
      "metadata": {
        "id": "mbLHTH946j93"
      }
    },
    {
      "cell_type": "code",
      "source": [
        "# Observando o tipo dos dados\n",
        "df.info()"
      ],
      "metadata": {
        "colab": {
          "base_uri": "https://localhost:8080/"
        },
        "id": "O4GPwLlw6r_e",
        "outputId": "d798b961-6fc1-4f92-d23d-25afbfcb3a55"
      },
      "execution_count": null,
      "outputs": [
        {
          "output_type": "stream",
          "name": "stdout",
          "text": [
            "<class 'pandas.core.frame.DataFrame'>\n",
            "RangeIndex: 999 entries, 0 to 998\n",
            "Data columns (total 16 columns):\n",
            " #   Column         Non-Null Count  Dtype  \n",
            "---  ------         --------------  -----  \n",
            " 0   Unnamed: 0     999 non-null    int64  \n",
            " 1   Series_Title   999 non-null    object \n",
            " 2   Released_Year  999 non-null    object \n",
            " 3   Certificate    898 non-null    object \n",
            " 4   Runtime        999 non-null    object \n",
            " 5   Genre          999 non-null    object \n",
            " 6   IMDB_Rating    999 non-null    float64\n",
            " 7   Overview       999 non-null    object \n",
            " 8   Meta_score     842 non-null    float64\n",
            " 9   Director       999 non-null    object \n",
            " 10  Star1          999 non-null    object \n",
            " 11  Star2          999 non-null    object \n",
            " 12  Star3          999 non-null    object \n",
            " 13  Star4          999 non-null    object \n",
            " 14  No_of_Votes    999 non-null    int64  \n",
            " 15  Gross          830 non-null    object \n",
            "dtypes: float64(2), int64(2), object(12)\n",
            "memory usage: 125.0+ KB\n"
          ]
        }
      ]
    },
    {
      "cell_type": "markdown",
      "source": [
        "Agora podemos notar que a variável 'Unnamed' é do tipo inteiro. Essa variável normalmente aparece em arquivos do tipo CSV; ela é algo como um índice sem nome. Dito isso, vamos excluí-la do nosso df."
      ],
      "metadata": {
        "id": "WPAr66Xlv4Ds"
      }
    },
    {
      "cell_type": "code",
      "source": [
        "# Excluindo a coluna 'Unnamed:0'\n",
        "df = df.drop('Unnamed: 0', axis = 1)"
      ],
      "metadata": {
        "id": "c1IUcsfqwEz9"
      },
      "execution_count": null,
      "outputs": []
    },
    {
      "cell_type": "markdown",
      "source": [
        "Agora, vamos seguir para as próximas etapas e dividir nossos dados numéricos dos nossos dados categóricos.\n",
        "\n",
        "**Dados numéricos**\n",
        "\n",
        "- A variável 'IMDB_Rating' é uma variável numérica do tipo float.\n",
        "- A variável 'Meta_score' também é numérica do tipo float.\n",
        "- A variável 'No_of_Votes' é numérica do tipo int.\n",
        "\n",
        "**Dados categóricos**\n",
        "\n",
        "Já os dados categóricos são compostos pelas seguintes variáveis:\n",
        "\n",
        "- 'Series_Title', 'Released_Year', 'Certificate', 'Runtime', 'Genre', 'Overview', 'Director', 'Star1', 'Star2', 'Star3', 'Star4', 'Gross'."
      ],
      "metadata": {
        "id": "n92dd7uE6-K3"
      }
    },
    {
      "cell_type": "markdown",
      "source": [
        "Aqui podemos notar que alguns dados categóricos deveriam ser do tipo numérico. Um exemplo é a variável 'Gross', que se refere ao faturamento e deveria ser do tipo float. Algo semelhante acontece com a variável 'Released_Year', que deveria ser do tipo numérico ou do tipo date. Também podemos observar a variável 'Runtime', que representa o tempo do filme em minutos e está como categórica.\n",
        "\n",
        "É possível realizar algumas conversões necessárias para que possamos trabalhar melhor com esses dados."
      ],
      "metadata": {
        "id": "cUkc_F1n96an"
      }
    },
    {
      "cell_type": "markdown",
      "source": [
        "Dito isso, antes de partirmos para os próximos passos, vamos realizar essas conversões visando analisar os dados de forma mais assertiva."
      ],
      "metadata": {
        "id": "_eU1cxvHmbMz"
      }
    },
    {
      "cell_type": "markdown",
      "source": [
        "Ajustando os dados presentes na coluna **'Gross'**."
      ],
      "metadata": {
        "id": "0QCF4aAVpnhE"
      }
    },
    {
      "cell_type": "code",
      "source": [
        "# Removendo as vírgulas, convertendo para numérico e substituindo valores inválidos por NaN\n",
        "df['Gross'] = df['Gross'].str.replace(',', '')\n",
        "df['Gross'] = pd.to_numeric(df['Gross'], errors='coerce')\n",
        "\n",
        "# Convertendo para float\n",
        "df['Gross'] = df['Gross'].astype(float)\n",
        "\n",
        "# Formatando a coluna 'Gross' para exibição\n",
        "df['Gross_formatted'] = df['Gross'].apply(lambda x: f\"{x:,.0f}\" if pd.notnull(x) else 'NaN')"
      ],
      "metadata": {
        "id": "sSK7e1rapsFL"
      },
      "execution_count": null,
      "outputs": []
    },
    {
      "cell_type": "markdown",
      "source": [
        "Após essas operações, os dados na coluna 'Gross_formatted' que criamos já devem estar em um formato que vai facilitar a nossa leitura, enquanto os dados presentes na variável 'Gross' agora são float. Dito isso, vamos ajustar o restante das nossas variáveis."
      ],
      "metadata": {
        "id": "1OWdE9gks8mz"
      }
    },
    {
      "cell_type": "markdown",
      "source": [
        "Ajustando os dados presentes na coluna **'Released_Year'**."
      ],
      "metadata": {
        "id": "D6tpUPMFuF7z"
      }
    },
    {
      "cell_type": "code",
      "source": [
        "# Convertendo as datas\n",
        "df['Released_Year'] = pd.to_datetime(df['Released_Year'], format='%Y', errors='coerce')\n",
        "df['Released_Year'] = df['Released_Year'].dt.year"
      ],
      "metadata": {
        "id": "hZ5z5vU3qEsk"
      },
      "execution_count": null,
      "outputs": []
    },
    {
      "cell_type": "markdown",
      "source": [
        "Dessa forma, nossos dados na coluna 'Released_Year' assumem o tipo float."
      ],
      "metadata": {
        "id": "8rjh3F4_vj7N"
      }
    },
    {
      "cell_type": "markdown",
      "source": [
        "Ajustando os dados presentes na coluna **'Runtime'**."
      ],
      "metadata": {
        "id": "51OfZIENuLic"
      }
    },
    {
      "cell_type": "code",
      "source": [
        "# Removendo a unidade de tempo e transformando para inteiro\n",
        "df['Runtime/min'] = df['Runtime'].str.replace(' min', '').astype(float)\n",
        "\n",
        "# Excluindo a coluna Runtime\n",
        "df.drop('Runtime', axis = 1)"
      ],
      "metadata": {
        "id": "UmB5dFLRrzaU",
        "colab": {
          "base_uri": "https://localhost:8080/",
          "height": 771
        },
        "outputId": "bd31b7d5-69ff-4f4e-8e2e-0e8e89b1bde8"
      },
      "execution_count": null,
      "outputs": [
        {
          "output_type": "execute_result",
          "data": {
            "text/plain": [
              "                                      Series_Title  Released_Year Certificate  \\\n",
              "0                                    The Godfather         1972.0           A   \n",
              "1                                  The Dark Knight         2008.0          UA   \n",
              "2                           The Godfather: Part II         1974.0           A   \n",
              "3                                     12 Angry Men         1957.0           U   \n",
              "4    The Lord of the Rings: The Return of the King         2003.0           U   \n",
              "..                                             ...            ...         ...   \n",
              "994                         Breakfast at Tiffany's         1961.0           A   \n",
              "995                                          Giant         1956.0           G   \n",
              "996                          From Here to Eternity         1953.0      Passed   \n",
              "997                                       Lifeboat         1944.0         NaN   \n",
              "998                                   The 39 Steps         1935.0         NaN   \n",
              "\n",
              "                        Genre  IMDB_Rating  \\\n",
              "0                Crime, Drama          9.2   \n",
              "1        Action, Crime, Drama          9.0   \n",
              "2                Crime, Drama          9.0   \n",
              "3                Crime, Drama          9.0   \n",
              "4    Action, Adventure, Drama          8.9   \n",
              "..                        ...          ...   \n",
              "994    Comedy, Drama, Romance          7.6   \n",
              "995            Drama, Western          7.6   \n",
              "996       Drama, Romance, War          7.6   \n",
              "997                Drama, War          7.6   \n",
              "998  Crime, Mystery, Thriller          7.6   \n",
              "\n",
              "                                              Overview  Meta_score  \\\n",
              "0    An organized crime dynasty's aging patriarch t...       100.0   \n",
              "1    When the menace known as the Joker wreaks havo...        84.0   \n",
              "2    The early life and career of Vito Corleone in ...        90.0   \n",
              "3    A jury holdout attempts to prevent a miscarria...        96.0   \n",
              "4    Gandalf and Aragorn lead the World of Men agai...        94.0   \n",
              "..                                                 ...         ...   \n",
              "994  A young New York socialite becomes interested ...        76.0   \n",
              "995  Sprawling epic covering the life of a Texas ca...        84.0   \n",
              "996  In Hawaii in 1941, a private is cruelly punish...        85.0   \n",
              "997  Several survivors of a torpedoed merchant ship...        78.0   \n",
              "998  A man in London tries to help a counter-espion...        93.0   \n",
              "\n",
              "                 Director              Star1              Star2  \\\n",
              "0    Francis Ford Coppola      Marlon Brando          Al Pacino   \n",
              "1       Christopher Nolan     Christian Bale       Heath Ledger   \n",
              "2    Francis Ford Coppola          Al Pacino     Robert De Niro   \n",
              "3            Sidney Lumet        Henry Fonda        Lee J. Cobb   \n",
              "4           Peter Jackson        Elijah Wood    Viggo Mortensen   \n",
              "..                    ...                ...                ...   \n",
              "994         Blake Edwards     Audrey Hepburn     George Peppard   \n",
              "995        George Stevens   Elizabeth Taylor        Rock Hudson   \n",
              "996        Fred Zinnemann     Burt Lancaster   Montgomery Clift   \n",
              "997      Alfred Hitchcock  Tallulah Bankhead        John Hodiak   \n",
              "998      Alfred Hitchcock       Robert Donat  Madeleine Carroll   \n",
              "\n",
              "              Star3           Star4  No_of_Votes        Gross Gross_formatted  \\\n",
              "0        James Caan    Diane Keaton      1620367  134966411.0     134,966,411   \n",
              "1     Aaron Eckhart   Michael Caine      2303232  534858444.0     534,858,444   \n",
              "2     Robert Duvall    Diane Keaton      1129952   57300000.0      57,300,000   \n",
              "3     Martin Balsam    John Fiedler       689845    4360000.0       4,360,000   \n",
              "4      Ian McKellen   Orlando Bloom      1642758  377845905.0     377,845,905   \n",
              "..              ...             ...          ...          ...             ...   \n",
              "994   Patricia Neal     Buddy Ebsen       166544          NaN             NaN   \n",
              "995      James Dean   Carroll Baker        34075          NaN             NaN   \n",
              "996    Deborah Kerr      Donna Reed        43374   30500000.0      30,500,000   \n",
              "997   Walter Slezak  William Bendix        26471          NaN             NaN   \n",
              "998  Lucie Mannheim  Godfrey Tearle        51853          NaN             NaN   \n",
              "\n",
              "     Runtime/min  \n",
              "0          175.0  \n",
              "1          152.0  \n",
              "2          202.0  \n",
              "3           96.0  \n",
              "4          201.0  \n",
              "..           ...  \n",
              "994        115.0  \n",
              "995        201.0  \n",
              "996        118.0  \n",
              "997         97.0  \n",
              "998         86.0  \n",
              "\n",
              "[999 rows x 16 columns]"
            ],
            "text/html": [
              "\n",
              "  <div id=\"df-8ffa0c94-acb4-4384-ae02-2ddf90ece443\" class=\"colab-df-container\">\n",
              "    <div>\n",
              "<style scoped>\n",
              "    .dataframe tbody tr th:only-of-type {\n",
              "        vertical-align: middle;\n",
              "    }\n",
              "\n",
              "    .dataframe tbody tr th {\n",
              "        vertical-align: top;\n",
              "    }\n",
              "\n",
              "    .dataframe thead th {\n",
              "        text-align: right;\n",
              "    }\n",
              "</style>\n",
              "<table border=\"1\" class=\"dataframe\">\n",
              "  <thead>\n",
              "    <tr style=\"text-align: right;\">\n",
              "      <th></th>\n",
              "      <th>Series_Title</th>\n",
              "      <th>Released_Year</th>\n",
              "      <th>Certificate</th>\n",
              "      <th>Genre</th>\n",
              "      <th>IMDB_Rating</th>\n",
              "      <th>Overview</th>\n",
              "      <th>Meta_score</th>\n",
              "      <th>Director</th>\n",
              "      <th>Star1</th>\n",
              "      <th>Star2</th>\n",
              "      <th>Star3</th>\n",
              "      <th>Star4</th>\n",
              "      <th>No_of_Votes</th>\n",
              "      <th>Gross</th>\n",
              "      <th>Gross_formatted</th>\n",
              "      <th>Runtime/min</th>\n",
              "    </tr>\n",
              "  </thead>\n",
              "  <tbody>\n",
              "    <tr>\n",
              "      <th>0</th>\n",
              "      <td>The Godfather</td>\n",
              "      <td>1972.0</td>\n",
              "      <td>A</td>\n",
              "      <td>Crime, Drama</td>\n",
              "      <td>9.2</td>\n",
              "      <td>An organized crime dynasty's aging patriarch t...</td>\n",
              "      <td>100.0</td>\n",
              "      <td>Francis Ford Coppola</td>\n",
              "      <td>Marlon Brando</td>\n",
              "      <td>Al Pacino</td>\n",
              "      <td>James Caan</td>\n",
              "      <td>Diane Keaton</td>\n",
              "      <td>1620367</td>\n",
              "      <td>134966411.0</td>\n",
              "      <td>134,966,411</td>\n",
              "      <td>175.0</td>\n",
              "    </tr>\n",
              "    <tr>\n",
              "      <th>1</th>\n",
              "      <td>The Dark Knight</td>\n",
              "      <td>2008.0</td>\n",
              "      <td>UA</td>\n",
              "      <td>Action, Crime, Drama</td>\n",
              "      <td>9.0</td>\n",
              "      <td>When the menace known as the Joker wreaks havo...</td>\n",
              "      <td>84.0</td>\n",
              "      <td>Christopher Nolan</td>\n",
              "      <td>Christian Bale</td>\n",
              "      <td>Heath Ledger</td>\n",
              "      <td>Aaron Eckhart</td>\n",
              "      <td>Michael Caine</td>\n",
              "      <td>2303232</td>\n",
              "      <td>534858444.0</td>\n",
              "      <td>534,858,444</td>\n",
              "      <td>152.0</td>\n",
              "    </tr>\n",
              "    <tr>\n",
              "      <th>2</th>\n",
              "      <td>The Godfather: Part II</td>\n",
              "      <td>1974.0</td>\n",
              "      <td>A</td>\n",
              "      <td>Crime, Drama</td>\n",
              "      <td>9.0</td>\n",
              "      <td>The early life and career of Vito Corleone in ...</td>\n",
              "      <td>90.0</td>\n",
              "      <td>Francis Ford Coppola</td>\n",
              "      <td>Al Pacino</td>\n",
              "      <td>Robert De Niro</td>\n",
              "      <td>Robert Duvall</td>\n",
              "      <td>Diane Keaton</td>\n",
              "      <td>1129952</td>\n",
              "      <td>57300000.0</td>\n",
              "      <td>57,300,000</td>\n",
              "      <td>202.0</td>\n",
              "    </tr>\n",
              "    <tr>\n",
              "      <th>3</th>\n",
              "      <td>12 Angry Men</td>\n",
              "      <td>1957.0</td>\n",
              "      <td>U</td>\n",
              "      <td>Crime, Drama</td>\n",
              "      <td>9.0</td>\n",
              "      <td>A jury holdout attempts to prevent a miscarria...</td>\n",
              "      <td>96.0</td>\n",
              "      <td>Sidney Lumet</td>\n",
              "      <td>Henry Fonda</td>\n",
              "      <td>Lee J. Cobb</td>\n",
              "      <td>Martin Balsam</td>\n",
              "      <td>John Fiedler</td>\n",
              "      <td>689845</td>\n",
              "      <td>4360000.0</td>\n",
              "      <td>4,360,000</td>\n",
              "      <td>96.0</td>\n",
              "    </tr>\n",
              "    <tr>\n",
              "      <th>4</th>\n",
              "      <td>The Lord of the Rings: The Return of the King</td>\n",
              "      <td>2003.0</td>\n",
              "      <td>U</td>\n",
              "      <td>Action, Adventure, Drama</td>\n",
              "      <td>8.9</td>\n",
              "      <td>Gandalf and Aragorn lead the World of Men agai...</td>\n",
              "      <td>94.0</td>\n",
              "      <td>Peter Jackson</td>\n",
              "      <td>Elijah Wood</td>\n",
              "      <td>Viggo Mortensen</td>\n",
              "      <td>Ian McKellen</td>\n",
              "      <td>Orlando Bloom</td>\n",
              "      <td>1642758</td>\n",
              "      <td>377845905.0</td>\n",
              "      <td>377,845,905</td>\n",
              "      <td>201.0</td>\n",
              "    </tr>\n",
              "    <tr>\n",
              "      <th>...</th>\n",
              "      <td>...</td>\n",
              "      <td>...</td>\n",
              "      <td>...</td>\n",
              "      <td>...</td>\n",
              "      <td>...</td>\n",
              "      <td>...</td>\n",
              "      <td>...</td>\n",
              "      <td>...</td>\n",
              "      <td>...</td>\n",
              "      <td>...</td>\n",
              "      <td>...</td>\n",
              "      <td>...</td>\n",
              "      <td>...</td>\n",
              "      <td>...</td>\n",
              "      <td>...</td>\n",
              "      <td>...</td>\n",
              "    </tr>\n",
              "    <tr>\n",
              "      <th>994</th>\n",
              "      <td>Breakfast at Tiffany's</td>\n",
              "      <td>1961.0</td>\n",
              "      <td>A</td>\n",
              "      <td>Comedy, Drama, Romance</td>\n",
              "      <td>7.6</td>\n",
              "      <td>A young New York socialite becomes interested ...</td>\n",
              "      <td>76.0</td>\n",
              "      <td>Blake Edwards</td>\n",
              "      <td>Audrey Hepburn</td>\n",
              "      <td>George Peppard</td>\n",
              "      <td>Patricia Neal</td>\n",
              "      <td>Buddy Ebsen</td>\n",
              "      <td>166544</td>\n",
              "      <td>NaN</td>\n",
              "      <td>NaN</td>\n",
              "      <td>115.0</td>\n",
              "    </tr>\n",
              "    <tr>\n",
              "      <th>995</th>\n",
              "      <td>Giant</td>\n",
              "      <td>1956.0</td>\n",
              "      <td>G</td>\n",
              "      <td>Drama, Western</td>\n",
              "      <td>7.6</td>\n",
              "      <td>Sprawling epic covering the life of a Texas ca...</td>\n",
              "      <td>84.0</td>\n",
              "      <td>George Stevens</td>\n",
              "      <td>Elizabeth Taylor</td>\n",
              "      <td>Rock Hudson</td>\n",
              "      <td>James Dean</td>\n",
              "      <td>Carroll Baker</td>\n",
              "      <td>34075</td>\n",
              "      <td>NaN</td>\n",
              "      <td>NaN</td>\n",
              "      <td>201.0</td>\n",
              "    </tr>\n",
              "    <tr>\n",
              "      <th>996</th>\n",
              "      <td>From Here to Eternity</td>\n",
              "      <td>1953.0</td>\n",
              "      <td>Passed</td>\n",
              "      <td>Drama, Romance, War</td>\n",
              "      <td>7.6</td>\n",
              "      <td>In Hawaii in 1941, a private is cruelly punish...</td>\n",
              "      <td>85.0</td>\n",
              "      <td>Fred Zinnemann</td>\n",
              "      <td>Burt Lancaster</td>\n",
              "      <td>Montgomery Clift</td>\n",
              "      <td>Deborah Kerr</td>\n",
              "      <td>Donna Reed</td>\n",
              "      <td>43374</td>\n",
              "      <td>30500000.0</td>\n",
              "      <td>30,500,000</td>\n",
              "      <td>118.0</td>\n",
              "    </tr>\n",
              "    <tr>\n",
              "      <th>997</th>\n",
              "      <td>Lifeboat</td>\n",
              "      <td>1944.0</td>\n",
              "      <td>NaN</td>\n",
              "      <td>Drama, War</td>\n",
              "      <td>7.6</td>\n",
              "      <td>Several survivors of a torpedoed merchant ship...</td>\n",
              "      <td>78.0</td>\n",
              "      <td>Alfred Hitchcock</td>\n",
              "      <td>Tallulah Bankhead</td>\n",
              "      <td>John Hodiak</td>\n",
              "      <td>Walter Slezak</td>\n",
              "      <td>William Bendix</td>\n",
              "      <td>26471</td>\n",
              "      <td>NaN</td>\n",
              "      <td>NaN</td>\n",
              "      <td>97.0</td>\n",
              "    </tr>\n",
              "    <tr>\n",
              "      <th>998</th>\n",
              "      <td>The 39 Steps</td>\n",
              "      <td>1935.0</td>\n",
              "      <td>NaN</td>\n",
              "      <td>Crime, Mystery, Thriller</td>\n",
              "      <td>7.6</td>\n",
              "      <td>A man in London tries to help a counter-espion...</td>\n",
              "      <td>93.0</td>\n",
              "      <td>Alfred Hitchcock</td>\n",
              "      <td>Robert Donat</td>\n",
              "      <td>Madeleine Carroll</td>\n",
              "      <td>Lucie Mannheim</td>\n",
              "      <td>Godfrey Tearle</td>\n",
              "      <td>51853</td>\n",
              "      <td>NaN</td>\n",
              "      <td>NaN</td>\n",
              "      <td>86.0</td>\n",
              "    </tr>\n",
              "  </tbody>\n",
              "</table>\n",
              "<p>999 rows × 16 columns</p>\n",
              "</div>\n",
              "    <div class=\"colab-df-buttons\">\n",
              "\n",
              "  <div class=\"colab-df-container\">\n",
              "    <button class=\"colab-df-convert\" onclick=\"convertToInteractive('df-8ffa0c94-acb4-4384-ae02-2ddf90ece443')\"\n",
              "            title=\"Convert this dataframe to an interactive table.\"\n",
              "            style=\"display:none;\">\n",
              "\n",
              "  <svg xmlns=\"http://www.w3.org/2000/svg\" height=\"24px\" viewBox=\"0 -960 960 960\">\n",
              "    <path d=\"M120-120v-720h720v720H120Zm60-500h600v-160H180v160Zm220 220h160v-160H400v160Zm0 220h160v-160H400v160ZM180-400h160v-160H180v160Zm440 0h160v-160H620v160ZM180-180h160v-160H180v160Zm440 0h160v-160H620v160Z\"/>\n",
              "  </svg>\n",
              "    </button>\n",
              "\n",
              "  <style>\n",
              "    .colab-df-container {\n",
              "      display:flex;\n",
              "      gap: 12px;\n",
              "    }\n",
              "\n",
              "    .colab-df-convert {\n",
              "      background-color: #E8F0FE;\n",
              "      border: none;\n",
              "      border-radius: 50%;\n",
              "      cursor: pointer;\n",
              "      display: none;\n",
              "      fill: #1967D2;\n",
              "      height: 32px;\n",
              "      padding: 0 0 0 0;\n",
              "      width: 32px;\n",
              "    }\n",
              "\n",
              "    .colab-df-convert:hover {\n",
              "      background-color: #E2EBFA;\n",
              "      box-shadow: 0px 1px 2px rgba(60, 64, 67, 0.3), 0px 1px 3px 1px rgba(60, 64, 67, 0.15);\n",
              "      fill: #174EA6;\n",
              "    }\n",
              "\n",
              "    .colab-df-buttons div {\n",
              "      margin-bottom: 4px;\n",
              "    }\n",
              "\n",
              "    [theme=dark] .colab-df-convert {\n",
              "      background-color: #3B4455;\n",
              "      fill: #D2E3FC;\n",
              "    }\n",
              "\n",
              "    [theme=dark] .colab-df-convert:hover {\n",
              "      background-color: #434B5C;\n",
              "      box-shadow: 0px 1px 3px 1px rgba(0, 0, 0, 0.15);\n",
              "      filter: drop-shadow(0px 1px 2px rgba(0, 0, 0, 0.3));\n",
              "      fill: #FFFFFF;\n",
              "    }\n",
              "  </style>\n",
              "\n",
              "    <script>\n",
              "      const buttonEl =\n",
              "        document.querySelector('#df-8ffa0c94-acb4-4384-ae02-2ddf90ece443 button.colab-df-convert');\n",
              "      buttonEl.style.display =\n",
              "        google.colab.kernel.accessAllowed ? 'block' : 'none';\n",
              "\n",
              "      async function convertToInteractive(key) {\n",
              "        const element = document.querySelector('#df-8ffa0c94-acb4-4384-ae02-2ddf90ece443');\n",
              "        const dataTable =\n",
              "          await google.colab.kernel.invokeFunction('convertToInteractive',\n",
              "                                                    [key], {});\n",
              "        if (!dataTable) return;\n",
              "\n",
              "        const docLinkHtml = 'Like what you see? Visit the ' +\n",
              "          '<a target=\"_blank\" href=https://colab.research.google.com/notebooks/data_table.ipynb>data table notebook</a>'\n",
              "          + ' to learn more about interactive tables.';\n",
              "        element.innerHTML = '';\n",
              "        dataTable['output_type'] = 'display_data';\n",
              "        await google.colab.output.renderOutput(dataTable, element);\n",
              "        const docLink = document.createElement('div');\n",
              "        docLink.innerHTML = docLinkHtml;\n",
              "        element.appendChild(docLink);\n",
              "      }\n",
              "    </script>\n",
              "  </div>\n",
              "\n",
              "\n",
              "<div id=\"df-b075e7a4-0aaf-46fa-ba1b-cdef51cb6b03\">\n",
              "  <button class=\"colab-df-quickchart\" onclick=\"quickchart('df-b075e7a4-0aaf-46fa-ba1b-cdef51cb6b03')\"\n",
              "            title=\"Suggest charts\"\n",
              "            style=\"display:none;\">\n",
              "\n",
              "<svg xmlns=\"http://www.w3.org/2000/svg\" height=\"24px\"viewBox=\"0 0 24 24\"\n",
              "     width=\"24px\">\n",
              "    <g>\n",
              "        <path d=\"M19 3H5c-1.1 0-2 .9-2 2v14c0 1.1.9 2 2 2h14c1.1 0 2-.9 2-2V5c0-1.1-.9-2-2-2zM9 17H7v-7h2v7zm4 0h-2V7h2v10zm4 0h-2v-4h2v4z\"/>\n",
              "    </g>\n",
              "</svg>\n",
              "  </button>\n",
              "\n",
              "<style>\n",
              "  .colab-df-quickchart {\n",
              "      --bg-color: #E8F0FE;\n",
              "      --fill-color: #1967D2;\n",
              "      --hover-bg-color: #E2EBFA;\n",
              "      --hover-fill-color: #174EA6;\n",
              "      --disabled-fill-color: #AAA;\n",
              "      --disabled-bg-color: #DDD;\n",
              "  }\n",
              "\n",
              "  [theme=dark] .colab-df-quickchart {\n",
              "      --bg-color: #3B4455;\n",
              "      --fill-color: #D2E3FC;\n",
              "      --hover-bg-color: #434B5C;\n",
              "      --hover-fill-color: #FFFFFF;\n",
              "      --disabled-bg-color: #3B4455;\n",
              "      --disabled-fill-color: #666;\n",
              "  }\n",
              "\n",
              "  .colab-df-quickchart {\n",
              "    background-color: var(--bg-color);\n",
              "    border: none;\n",
              "    border-radius: 50%;\n",
              "    cursor: pointer;\n",
              "    display: none;\n",
              "    fill: var(--fill-color);\n",
              "    height: 32px;\n",
              "    padding: 0;\n",
              "    width: 32px;\n",
              "  }\n",
              "\n",
              "  .colab-df-quickchart:hover {\n",
              "    background-color: var(--hover-bg-color);\n",
              "    box-shadow: 0 1px 2px rgba(60, 64, 67, 0.3), 0 1px 3px 1px rgba(60, 64, 67, 0.15);\n",
              "    fill: var(--button-hover-fill-color);\n",
              "  }\n",
              "\n",
              "  .colab-df-quickchart-complete:disabled,\n",
              "  .colab-df-quickchart-complete:disabled:hover {\n",
              "    background-color: var(--disabled-bg-color);\n",
              "    fill: var(--disabled-fill-color);\n",
              "    box-shadow: none;\n",
              "  }\n",
              "\n",
              "  .colab-df-spinner {\n",
              "    border: 2px solid var(--fill-color);\n",
              "    border-color: transparent;\n",
              "    border-bottom-color: var(--fill-color);\n",
              "    animation:\n",
              "      spin 1s steps(1) infinite;\n",
              "  }\n",
              "\n",
              "  @keyframes spin {\n",
              "    0% {\n",
              "      border-color: transparent;\n",
              "      border-bottom-color: var(--fill-color);\n",
              "      border-left-color: var(--fill-color);\n",
              "    }\n",
              "    20% {\n",
              "      border-color: transparent;\n",
              "      border-left-color: var(--fill-color);\n",
              "      border-top-color: var(--fill-color);\n",
              "    }\n",
              "    30% {\n",
              "      border-color: transparent;\n",
              "      border-left-color: var(--fill-color);\n",
              "      border-top-color: var(--fill-color);\n",
              "      border-right-color: var(--fill-color);\n",
              "    }\n",
              "    40% {\n",
              "      border-color: transparent;\n",
              "      border-right-color: var(--fill-color);\n",
              "      border-top-color: var(--fill-color);\n",
              "    }\n",
              "    60% {\n",
              "      border-color: transparent;\n",
              "      border-right-color: var(--fill-color);\n",
              "    }\n",
              "    80% {\n",
              "      border-color: transparent;\n",
              "      border-right-color: var(--fill-color);\n",
              "      border-bottom-color: var(--fill-color);\n",
              "    }\n",
              "    90% {\n",
              "      border-color: transparent;\n",
              "      border-bottom-color: var(--fill-color);\n",
              "    }\n",
              "  }\n",
              "</style>\n",
              "\n",
              "  <script>\n",
              "    async function quickchart(key) {\n",
              "      const quickchartButtonEl =\n",
              "        document.querySelector('#' + key + ' button');\n",
              "      quickchartButtonEl.disabled = true;  // To prevent multiple clicks.\n",
              "      quickchartButtonEl.classList.add('colab-df-spinner');\n",
              "      try {\n",
              "        const charts = await google.colab.kernel.invokeFunction(\n",
              "            'suggestCharts', [key], {});\n",
              "      } catch (error) {\n",
              "        console.error('Error during call to suggestCharts:', error);\n",
              "      }\n",
              "      quickchartButtonEl.classList.remove('colab-df-spinner');\n",
              "      quickchartButtonEl.classList.add('colab-df-quickchart-complete');\n",
              "    }\n",
              "    (() => {\n",
              "      let quickchartButtonEl =\n",
              "        document.querySelector('#df-b075e7a4-0aaf-46fa-ba1b-cdef51cb6b03 button');\n",
              "      quickchartButtonEl.style.display =\n",
              "        google.colab.kernel.accessAllowed ? 'block' : 'none';\n",
              "    })();\n",
              "  </script>\n",
              "</div>\n",
              "\n",
              "    </div>\n",
              "  </div>\n"
            ],
            "application/vnd.google.colaboratory.intrinsic+json": {
              "type": "dataframe",
              "summary": "{\n  \"name\": \"df\",\n  \"rows\": 999,\n  \"fields\": [\n    {\n      \"column\": \"Series_Title\",\n      \"properties\": {\n        \"dtype\": \"string\",\n        \"num_unique_values\": 998,\n        \"samples\": [\n          \"Arsenic and Old Lace\",\n          \"Hedwig and the Angry Inch\",\n          \"\\u00d4kami kodomo no Ame to Yuki\"\n        ],\n        \"semantic_type\": \"\",\n        \"description\": \"\"\n      }\n    },\n    {\n      \"column\": \"Released_Year\",\n      \"properties\": {\n        \"dtype\": \"number\",\n        \"std\": 23.308538696214047,\n        \"min\": 1920.0,\n        \"max\": 2020.0,\n        \"num_unique_values\": 99,\n        \"samples\": [\n          1952.0,\n          2009.0,\n          1933.0\n        ],\n        \"semantic_type\": \"\",\n        \"description\": \"\"\n      }\n    },\n    {\n      \"column\": \"Certificate\",\n      \"properties\": {\n        \"dtype\": \"category\",\n        \"num_unique_values\": 16,\n        \"samples\": [\n          \"A\",\n          \"UA\",\n          \"PG\"\n        ],\n        \"semantic_type\": \"\",\n        \"description\": \"\"\n      }\n    },\n    {\n      \"column\": \"Genre\",\n      \"properties\": {\n        \"dtype\": \"category\",\n        \"num_unique_values\": 202,\n        \"samples\": [\n          \"Comedy, Drama, Fantasy\",\n          \"Crime, Drama, Fantasy\",\n          \"Drama, Romance, War\"\n        ],\n        \"semantic_type\": \"\",\n        \"description\": \"\"\n      }\n    },\n    {\n      \"column\": \"IMDB_Rating\",\n      \"properties\": {\n        \"dtype\": \"number\",\n        \"std\": 0.2722895085128798,\n        \"min\": 7.6,\n        \"max\": 9.2,\n        \"num_unique_values\": 16,\n        \"samples\": [\n          9.2,\n          9.0,\n          8.6\n        ],\n        \"semantic_type\": \"\",\n        \"description\": \"\"\n      }\n    },\n    {\n      \"column\": \"Overview\",\n      \"properties\": {\n        \"dtype\": \"string\",\n        \"num_unique_values\": 999,\n        \"samples\": [\n          \"Three World War II veterans return home to small-town America to discover that they and their families have been irreparably changed.\",\n          \"A gender-queer punk-rock singer from East Berlin tours the U.S. with her band as she tells her life story and follows the former lover/band-mate who stole her songs.\",\n          \"With his wife's disappearance having become the focus of an intense media circus, a man sees the spotlight turned on him when it's suspected that he may not be innocent.\"\n        ],\n        \"semantic_type\": \"\",\n        \"description\": \"\"\n      }\n    },\n    {\n      \"column\": \"Meta_score\",\n      \"properties\": {\n        \"dtype\": \"number\",\n        \"std\": 12.383257326288946,\n        \"min\": 28.0,\n        \"max\": 100.0,\n        \"num_unique_values\": 63,\n        \"samples\": [\n          30.0,\n          52.0,\n          100.0\n        ],\n        \"semantic_type\": \"\",\n        \"description\": \"\"\n      }\n    },\n    {\n      \"column\": \"Director\",\n      \"properties\": {\n        \"dtype\": \"string\",\n        \"num_unique_values\": 548,\n        \"samples\": [\n          \"Satoshi Kon\",\n          \"David Lean\",\n          \"Yilmaz Erdogan\"\n        ],\n        \"semantic_type\": \"\",\n        \"description\": \"\"\n      }\n    },\n    {\n      \"column\": \"Star1\",\n      \"properties\": {\n        \"dtype\": \"string\",\n        \"num_unique_values\": 659,\n        \"samples\": [\n          \"Peter Dinklage\",\n          \"Jay Baruchel\",\n          \"Steve McQueen\"\n        ],\n        \"semantic_type\": \"\",\n        \"description\": \"\"\n      }\n    },\n    {\n      \"column\": \"Star2\",\n      \"properties\": {\n        \"dtype\": \"string\",\n        \"num_unique_values\": 840,\n        \"samples\": [\n          \"Jacques Villeret\",\n          \"Meg Ryan\",\n          \"J.K. Simmons\"\n        ],\n        \"semantic_type\": \"\",\n        \"description\": \"\"\n      }\n    },\n    {\n      \"column\": \"Star3\",\n      \"properties\": {\n        \"dtype\": \"string\",\n        \"num_unique_values\": 890,\n        \"samples\": [\n          \"Yacef Saadi\",\n          \"John Wray\",\n          \"Chazz Palminteri\"\n        ],\n        \"semantic_type\": \"\",\n        \"description\": \"\"\n      }\n    },\n    {\n      \"column\": \"Star4\",\n      \"properties\": {\n        \"dtype\": \"string\",\n        \"num_unique_values\": 938,\n        \"samples\": [\n          \"Veronica Cartwright\",\n          \"Domhnall Gleeson\",\n          \"Jennifer Ulrich\"\n        ],\n        \"semantic_type\": \"\",\n        \"description\": \"\"\n      }\n    },\n    {\n      \"column\": \"No_of_Votes\",\n      \"properties\": {\n        \"dtype\": \"number\",\n        \"std\": 320912,\n        \"min\": 25088,\n        \"max\": 2303232,\n        \"num_unique_values\": 998,\n        \"samples\": [\n          57259,\n          31957,\n          859695\n        ],\n        \"semantic_type\": \"\",\n        \"description\": \"\"\n      }\n    },\n    {\n      \"column\": \"Gross\",\n      \"properties\": {\n        \"dtype\": \"number\",\n        \"std\": 109807553.3857229,\n        \"min\": 1305.0,\n        \"max\": 936662225.0,\n        \"num_unique_values\": 822,\n        \"samples\": [\n          136025503.0,\n          356461711.0,\n          275902.0\n        ],\n        \"semantic_type\": \"\",\n        \"description\": \"\"\n      }\n    },\n    {\n      \"column\": \"Gross_formatted\",\n      \"properties\": {\n        \"dtype\": \"string\",\n        \"num_unique_values\": 823,\n        \"samples\": [\n          \"132,092,958\",\n          \"67,209,615\",\n          \"78,900,000\"\n        ],\n        \"semantic_type\": \"\",\n        \"description\": \"\"\n      }\n    },\n    {\n      \"column\": \"Runtime/min\",\n      \"properties\": {\n        \"dtype\": \"number\",\n        \"std\": 28.10122697525197,\n        \"min\": 45.0,\n        \"max\": 321.0,\n        \"num_unique_values\": 140,\n        \"samples\": [\n          205.0,\n          129.0,\n          112.0\n        ],\n        \"semantic_type\": \"\",\n        \"description\": \"\"\n      }\n    }\n  ]\n}"
            }
          },
          "metadata": {},
          "execution_count": 9
        }
      ]
    },
    {
      "cell_type": "markdown",
      "source": [
        "Após essa mudança, os dados na coluna 'Runtime' assumem o tipo float."
      ],
      "metadata": {
        "id": "p8eGvwPevpKD"
      }
    },
    {
      "cell_type": "markdown",
      "source": [
        "Para confirmar as mudanças, vamos observar algumas informações dos nossos dados:\n",
        "\n",
        "- Os valores presentes na coluna 'Gross' foram convertidos para tipo float.\n",
        "- Os dados na coluna 'Released_Year' foram convertidos para tipo float.\n",
        "- Na coluna 'Runtime', removemos 'min', deixamos um espaço em branco no lugar e transformamos o restante do valor em tipo int.\n",
        "\n",
        "Vamos proceder com a verificação dos dados para confirmar essas alterações."
      ],
      "metadata": {
        "id": "jSVPevqdteYz"
      }
    },
    {
      "cell_type": "code",
      "source": [
        "# Observando algumas informações\n",
        "df.info()"
      ],
      "metadata": {
        "colab": {
          "base_uri": "https://localhost:8080/"
        },
        "id": "qx6PY1ttpxzb",
        "outputId": "7b8e2c17-0a88-471d-dcdb-9befb9153398"
      },
      "execution_count": null,
      "outputs": [
        {
          "output_type": "stream",
          "name": "stdout",
          "text": [
            "<class 'pandas.core.frame.DataFrame'>\n",
            "RangeIndex: 999 entries, 0 to 998\n",
            "Data columns (total 17 columns):\n",
            " #   Column           Non-Null Count  Dtype  \n",
            "---  ------           --------------  -----  \n",
            " 0   Series_Title     999 non-null    object \n",
            " 1   Released_Year    998 non-null    float64\n",
            " 2   Certificate      898 non-null    object \n",
            " 3   Runtime          999 non-null    object \n",
            " 4   Genre            999 non-null    object \n",
            " 5   IMDB_Rating      999 non-null    float64\n",
            " 6   Overview         999 non-null    object \n",
            " 7   Meta_score       842 non-null    float64\n",
            " 8   Director         999 non-null    object \n",
            " 9   Star1            999 non-null    object \n",
            " 10  Star2            999 non-null    object \n",
            " 11  Star3            999 non-null    object \n",
            " 12  Star4            999 non-null    object \n",
            " 13  No_of_Votes      999 non-null    int64  \n",
            " 14  Gross            830 non-null    float64\n",
            " 15  Gross_formatted  999 non-null    object \n",
            " 16  Runtime/min      999 non-null    float64\n",
            "dtypes: float64(5), int64(1), object(11)\n",
            "memory usage: 132.8+ KB\n"
          ]
        }
      ]
    },
    {
      "cell_type": "markdown",
      "source": [
        "Com as mudanças aplicadas com sucesso, podemos avançar com a nossa análise. Se precisar de mais alguma coisa ou tiver outras dúvidas, estou à disposição para ajudar!"
      ],
      "metadata": {
        "id": "o1NoHolBn9NU"
      }
    },
    {
      "cell_type": "markdown",
      "source": [
        "# **Análise inicial nos dados**"
      ],
      "metadata": {
        "id": "MHKu9Bga3jXv"
      }
    },
    {
      "cell_type": "markdown",
      "source": [
        "Nessa etapa, vamos estabelecer um primeiro contato com os nossos dados. Para começar, vamos responder algumas perguntas:\n",
        "\n"
      ],
      "metadata": {
        "id": "uvjk1B-n3r2G"
      }
    },
    {
      "cell_type": "markdown",
      "source": [
        "- Quantos dados temos? (Número de linhas e colunas)\n",
        "\n",
        "- Quais são as colunas numéricas?\n",
        "\n",
        "- Existem dados nulos nesta base de dados? O que será que esses dados indicam ?\n",
        "\n",
        "- Qual é a média, mediana, 25º percentil, 75º percentil, mínimo e máximo de cada uma das colunas numéricas?"
      ],
      "metadata": {
        "id": "ZwQj6Ake3ycH"
      }
    },
    {
      "cell_type": "markdown",
      "source": [
        "Como vimos anteriormente, nosso DataFrame possui 999 linhas e 16 colunas."
      ],
      "metadata": {
        "id": "6pIh5sKmCwBU"
      }
    },
    {
      "cell_type": "markdown",
      "source": [
        "Vamos verificar quantas colunas numéricas restaram após aplicarmos as devidas transformações."
      ],
      "metadata": {
        "id": "_uDWLVIVDBKC"
      }
    },
    {
      "cell_type": "code",
      "source": [
        "# Observando algumas informações\n",
        "df.info()"
      ],
      "metadata": {
        "colab": {
          "base_uri": "https://localhost:8080/"
        },
        "id": "UAONpCjiC_58",
        "outputId": "5cb0a8e7-1652-49e0-a603-c3883a25feab"
      },
      "execution_count": null,
      "outputs": [
        {
          "output_type": "stream",
          "name": "stdout",
          "text": [
            "<class 'pandas.core.frame.DataFrame'>\n",
            "RangeIndex: 999 entries, 0 to 998\n",
            "Data columns (total 17 columns):\n",
            " #   Column           Non-Null Count  Dtype  \n",
            "---  ------           --------------  -----  \n",
            " 0   Series_Title     999 non-null    object \n",
            " 1   Released_Year    998 non-null    float64\n",
            " 2   Certificate      898 non-null    object \n",
            " 3   Runtime          999 non-null    object \n",
            " 4   Genre            999 non-null    object \n",
            " 5   IMDB_Rating      999 non-null    float64\n",
            " 6   Overview         999 non-null    object \n",
            " 7   Meta_score       842 non-null    float64\n",
            " 8   Director         999 non-null    object \n",
            " 9   Star1            999 non-null    object \n",
            " 10  Star2            999 non-null    object \n",
            " 11  Star3            999 non-null    object \n",
            " 12  Star4            999 non-null    object \n",
            " 13  No_of_Votes      999 non-null    int64  \n",
            " 14  Gross            830 non-null    float64\n",
            " 15  Gross_formatted  999 non-null    object \n",
            " 16  Runtime/min      999 non-null    float64\n",
            "dtypes: float64(5), int64(1), object(11)\n",
            "memory usage: 132.8+ KB\n"
          ]
        }
      ]
    },
    {
      "cell_type": "markdown",
      "source": [
        "**Dados numéricos**\n",
        "\n",
        "- As variáveis 'IMDB_Rating', 'Meta_score', 'No_of_Votes', 'Runtime/min'.\n",
        "\n",
        "**Dados do tipo data**\n",
        "\n",
        "- A variavel 'Released_Year'\n",
        "\n",
        "**Dados categóricos**\n",
        "\n",
        "- 'Series_Title', 'Certificate', 'Genre', 'Overview', 'Director', 'Star1', 'Star2', 'Star3', 'Star4'."
      ],
      "metadata": {
        "id": "AuUv9dqKDRq8"
      }
    },
    {
      "cell_type": "markdown",
      "source": [
        "Agora vamos observar quantos valores ausentes existem em nossa base."
      ],
      "metadata": {
        "id": "tUND7r2iEa5D"
      }
    },
    {
      "cell_type": "code",
      "source": [
        "# Observando os valores ausentes\n",
        "def percent_ausentes(df):\n",
        "    p_faltantes = df.isnull().mean()\n",
        "    valores_faltantes = pd.DataFrame({'Variavéis': df.columns,\n",
        "                                           '% de ausentes': p_faltantes}\n",
        "                                      ).reset_index(drop = True)\n",
        "\n",
        "    return valores_faltantes.sort_values(by = ['% de ausentes'], ascending = False)\n",
        "\n",
        "# Exibindo a quantidade de valores ausentes\n",
        "percent_ausentes(df)"
      ],
      "metadata": {
        "colab": {
          "base_uri": "https://localhost:8080/",
          "height": 582
        },
        "id": "K7chSHE0EccC",
        "outputId": "453165fa-553b-4e40-84cc-1ee12e576a1e"
      },
      "execution_count": null,
      "outputs": [
        {
          "output_type": "execute_result",
          "data": {
            "text/plain": [
              "          Variavéis  % de ausentes\n",
              "14            Gross       0.169169\n",
              "7        Meta_score       0.157157\n",
              "2       Certificate       0.101101\n",
              "1     Released_Year       0.001001\n",
              "0      Series_Title       0.000000\n",
              "10            Star2       0.000000\n",
              "15  Gross_formatted       0.000000\n",
              "13      No_of_Votes       0.000000\n",
              "12            Star4       0.000000\n",
              "11            Star3       0.000000\n",
              "8          Director       0.000000\n",
              "9             Star1       0.000000\n",
              "6          Overview       0.000000\n",
              "5       IMDB_Rating       0.000000\n",
              "4             Genre       0.000000\n",
              "3           Runtime       0.000000\n",
              "16      Runtime/min       0.000000"
            ],
            "text/html": [
              "\n",
              "  <div id=\"df-41c37cd9-b58f-4296-a52b-553568c8c244\" class=\"colab-df-container\">\n",
              "    <div>\n",
              "<style scoped>\n",
              "    .dataframe tbody tr th:only-of-type {\n",
              "        vertical-align: middle;\n",
              "    }\n",
              "\n",
              "    .dataframe tbody tr th {\n",
              "        vertical-align: top;\n",
              "    }\n",
              "\n",
              "    .dataframe thead th {\n",
              "        text-align: right;\n",
              "    }\n",
              "</style>\n",
              "<table border=\"1\" class=\"dataframe\">\n",
              "  <thead>\n",
              "    <tr style=\"text-align: right;\">\n",
              "      <th></th>\n",
              "      <th>Variavéis</th>\n",
              "      <th>% de ausentes</th>\n",
              "    </tr>\n",
              "  </thead>\n",
              "  <tbody>\n",
              "    <tr>\n",
              "      <th>14</th>\n",
              "      <td>Gross</td>\n",
              "      <td>0.169169</td>\n",
              "    </tr>\n",
              "    <tr>\n",
              "      <th>7</th>\n",
              "      <td>Meta_score</td>\n",
              "      <td>0.157157</td>\n",
              "    </tr>\n",
              "    <tr>\n",
              "      <th>2</th>\n",
              "      <td>Certificate</td>\n",
              "      <td>0.101101</td>\n",
              "    </tr>\n",
              "    <tr>\n",
              "      <th>1</th>\n",
              "      <td>Released_Year</td>\n",
              "      <td>0.001001</td>\n",
              "    </tr>\n",
              "    <tr>\n",
              "      <th>0</th>\n",
              "      <td>Series_Title</td>\n",
              "      <td>0.000000</td>\n",
              "    </tr>\n",
              "    <tr>\n",
              "      <th>10</th>\n",
              "      <td>Star2</td>\n",
              "      <td>0.000000</td>\n",
              "    </tr>\n",
              "    <tr>\n",
              "      <th>15</th>\n",
              "      <td>Gross_formatted</td>\n",
              "      <td>0.000000</td>\n",
              "    </tr>\n",
              "    <tr>\n",
              "      <th>13</th>\n",
              "      <td>No_of_Votes</td>\n",
              "      <td>0.000000</td>\n",
              "    </tr>\n",
              "    <tr>\n",
              "      <th>12</th>\n",
              "      <td>Star4</td>\n",
              "      <td>0.000000</td>\n",
              "    </tr>\n",
              "    <tr>\n",
              "      <th>11</th>\n",
              "      <td>Star3</td>\n",
              "      <td>0.000000</td>\n",
              "    </tr>\n",
              "    <tr>\n",
              "      <th>8</th>\n",
              "      <td>Director</td>\n",
              "      <td>0.000000</td>\n",
              "    </tr>\n",
              "    <tr>\n",
              "      <th>9</th>\n",
              "      <td>Star1</td>\n",
              "      <td>0.000000</td>\n",
              "    </tr>\n",
              "    <tr>\n",
              "      <th>6</th>\n",
              "      <td>Overview</td>\n",
              "      <td>0.000000</td>\n",
              "    </tr>\n",
              "    <tr>\n",
              "      <th>5</th>\n",
              "      <td>IMDB_Rating</td>\n",
              "      <td>0.000000</td>\n",
              "    </tr>\n",
              "    <tr>\n",
              "      <th>4</th>\n",
              "      <td>Genre</td>\n",
              "      <td>0.000000</td>\n",
              "    </tr>\n",
              "    <tr>\n",
              "      <th>3</th>\n",
              "      <td>Runtime</td>\n",
              "      <td>0.000000</td>\n",
              "    </tr>\n",
              "    <tr>\n",
              "      <th>16</th>\n",
              "      <td>Runtime/min</td>\n",
              "      <td>0.000000</td>\n",
              "    </tr>\n",
              "  </tbody>\n",
              "</table>\n",
              "</div>\n",
              "    <div class=\"colab-df-buttons\">\n",
              "\n",
              "  <div class=\"colab-df-container\">\n",
              "    <button class=\"colab-df-convert\" onclick=\"convertToInteractive('df-41c37cd9-b58f-4296-a52b-553568c8c244')\"\n",
              "            title=\"Convert this dataframe to an interactive table.\"\n",
              "            style=\"display:none;\">\n",
              "\n",
              "  <svg xmlns=\"http://www.w3.org/2000/svg\" height=\"24px\" viewBox=\"0 -960 960 960\">\n",
              "    <path d=\"M120-120v-720h720v720H120Zm60-500h600v-160H180v160Zm220 220h160v-160H400v160Zm0 220h160v-160H400v160ZM180-400h160v-160H180v160Zm440 0h160v-160H620v160ZM180-180h160v-160H180v160Zm440 0h160v-160H620v160Z\"/>\n",
              "  </svg>\n",
              "    </button>\n",
              "\n",
              "  <style>\n",
              "    .colab-df-container {\n",
              "      display:flex;\n",
              "      gap: 12px;\n",
              "    }\n",
              "\n",
              "    .colab-df-convert {\n",
              "      background-color: #E8F0FE;\n",
              "      border: none;\n",
              "      border-radius: 50%;\n",
              "      cursor: pointer;\n",
              "      display: none;\n",
              "      fill: #1967D2;\n",
              "      height: 32px;\n",
              "      padding: 0 0 0 0;\n",
              "      width: 32px;\n",
              "    }\n",
              "\n",
              "    .colab-df-convert:hover {\n",
              "      background-color: #E2EBFA;\n",
              "      box-shadow: 0px 1px 2px rgba(60, 64, 67, 0.3), 0px 1px 3px 1px rgba(60, 64, 67, 0.15);\n",
              "      fill: #174EA6;\n",
              "    }\n",
              "\n",
              "    .colab-df-buttons div {\n",
              "      margin-bottom: 4px;\n",
              "    }\n",
              "\n",
              "    [theme=dark] .colab-df-convert {\n",
              "      background-color: #3B4455;\n",
              "      fill: #D2E3FC;\n",
              "    }\n",
              "\n",
              "    [theme=dark] .colab-df-convert:hover {\n",
              "      background-color: #434B5C;\n",
              "      box-shadow: 0px 1px 3px 1px rgba(0, 0, 0, 0.15);\n",
              "      filter: drop-shadow(0px 1px 2px rgba(0, 0, 0, 0.3));\n",
              "      fill: #FFFFFF;\n",
              "    }\n",
              "  </style>\n",
              "\n",
              "    <script>\n",
              "      const buttonEl =\n",
              "        document.querySelector('#df-41c37cd9-b58f-4296-a52b-553568c8c244 button.colab-df-convert');\n",
              "      buttonEl.style.display =\n",
              "        google.colab.kernel.accessAllowed ? 'block' : 'none';\n",
              "\n",
              "      async function convertToInteractive(key) {\n",
              "        const element = document.querySelector('#df-41c37cd9-b58f-4296-a52b-553568c8c244');\n",
              "        const dataTable =\n",
              "          await google.colab.kernel.invokeFunction('convertToInteractive',\n",
              "                                                    [key], {});\n",
              "        if (!dataTable) return;\n",
              "\n",
              "        const docLinkHtml = 'Like what you see? Visit the ' +\n",
              "          '<a target=\"_blank\" href=https://colab.research.google.com/notebooks/data_table.ipynb>data table notebook</a>'\n",
              "          + ' to learn more about interactive tables.';\n",
              "        element.innerHTML = '';\n",
              "        dataTable['output_type'] = 'display_data';\n",
              "        await google.colab.output.renderOutput(dataTable, element);\n",
              "        const docLink = document.createElement('div');\n",
              "        docLink.innerHTML = docLinkHtml;\n",
              "        element.appendChild(docLink);\n",
              "      }\n",
              "    </script>\n",
              "  </div>\n",
              "\n",
              "\n",
              "<div id=\"df-8d6edacc-d75d-4431-8aa2-0e9ed015fdd6\">\n",
              "  <button class=\"colab-df-quickchart\" onclick=\"quickchart('df-8d6edacc-d75d-4431-8aa2-0e9ed015fdd6')\"\n",
              "            title=\"Suggest charts\"\n",
              "            style=\"display:none;\">\n",
              "\n",
              "<svg xmlns=\"http://www.w3.org/2000/svg\" height=\"24px\"viewBox=\"0 0 24 24\"\n",
              "     width=\"24px\">\n",
              "    <g>\n",
              "        <path d=\"M19 3H5c-1.1 0-2 .9-2 2v14c0 1.1.9 2 2 2h14c1.1 0 2-.9 2-2V5c0-1.1-.9-2-2-2zM9 17H7v-7h2v7zm4 0h-2V7h2v10zm4 0h-2v-4h2v4z\"/>\n",
              "    </g>\n",
              "</svg>\n",
              "  </button>\n",
              "\n",
              "<style>\n",
              "  .colab-df-quickchart {\n",
              "      --bg-color: #E8F0FE;\n",
              "      --fill-color: #1967D2;\n",
              "      --hover-bg-color: #E2EBFA;\n",
              "      --hover-fill-color: #174EA6;\n",
              "      --disabled-fill-color: #AAA;\n",
              "      --disabled-bg-color: #DDD;\n",
              "  }\n",
              "\n",
              "  [theme=dark] .colab-df-quickchart {\n",
              "      --bg-color: #3B4455;\n",
              "      --fill-color: #D2E3FC;\n",
              "      --hover-bg-color: #434B5C;\n",
              "      --hover-fill-color: #FFFFFF;\n",
              "      --disabled-bg-color: #3B4455;\n",
              "      --disabled-fill-color: #666;\n",
              "  }\n",
              "\n",
              "  .colab-df-quickchart {\n",
              "    background-color: var(--bg-color);\n",
              "    border: none;\n",
              "    border-radius: 50%;\n",
              "    cursor: pointer;\n",
              "    display: none;\n",
              "    fill: var(--fill-color);\n",
              "    height: 32px;\n",
              "    padding: 0;\n",
              "    width: 32px;\n",
              "  }\n",
              "\n",
              "  .colab-df-quickchart:hover {\n",
              "    background-color: var(--hover-bg-color);\n",
              "    box-shadow: 0 1px 2px rgba(60, 64, 67, 0.3), 0 1px 3px 1px rgba(60, 64, 67, 0.15);\n",
              "    fill: var(--button-hover-fill-color);\n",
              "  }\n",
              "\n",
              "  .colab-df-quickchart-complete:disabled,\n",
              "  .colab-df-quickchart-complete:disabled:hover {\n",
              "    background-color: var(--disabled-bg-color);\n",
              "    fill: var(--disabled-fill-color);\n",
              "    box-shadow: none;\n",
              "  }\n",
              "\n",
              "  .colab-df-spinner {\n",
              "    border: 2px solid var(--fill-color);\n",
              "    border-color: transparent;\n",
              "    border-bottom-color: var(--fill-color);\n",
              "    animation:\n",
              "      spin 1s steps(1) infinite;\n",
              "  }\n",
              "\n",
              "  @keyframes spin {\n",
              "    0% {\n",
              "      border-color: transparent;\n",
              "      border-bottom-color: var(--fill-color);\n",
              "      border-left-color: var(--fill-color);\n",
              "    }\n",
              "    20% {\n",
              "      border-color: transparent;\n",
              "      border-left-color: var(--fill-color);\n",
              "      border-top-color: var(--fill-color);\n",
              "    }\n",
              "    30% {\n",
              "      border-color: transparent;\n",
              "      border-left-color: var(--fill-color);\n",
              "      border-top-color: var(--fill-color);\n",
              "      border-right-color: var(--fill-color);\n",
              "    }\n",
              "    40% {\n",
              "      border-color: transparent;\n",
              "      border-right-color: var(--fill-color);\n",
              "      border-top-color: var(--fill-color);\n",
              "    }\n",
              "    60% {\n",
              "      border-color: transparent;\n",
              "      border-right-color: var(--fill-color);\n",
              "    }\n",
              "    80% {\n",
              "      border-color: transparent;\n",
              "      border-right-color: var(--fill-color);\n",
              "      border-bottom-color: var(--fill-color);\n",
              "    }\n",
              "    90% {\n",
              "      border-color: transparent;\n",
              "      border-bottom-color: var(--fill-color);\n",
              "    }\n",
              "  }\n",
              "</style>\n",
              "\n",
              "  <script>\n",
              "    async function quickchart(key) {\n",
              "      const quickchartButtonEl =\n",
              "        document.querySelector('#' + key + ' button');\n",
              "      quickchartButtonEl.disabled = true;  // To prevent multiple clicks.\n",
              "      quickchartButtonEl.classList.add('colab-df-spinner');\n",
              "      try {\n",
              "        const charts = await google.colab.kernel.invokeFunction(\n",
              "            'suggestCharts', [key], {});\n",
              "      } catch (error) {\n",
              "        console.error('Error during call to suggestCharts:', error);\n",
              "      }\n",
              "      quickchartButtonEl.classList.remove('colab-df-spinner');\n",
              "      quickchartButtonEl.classList.add('colab-df-quickchart-complete');\n",
              "    }\n",
              "    (() => {\n",
              "      let quickchartButtonEl =\n",
              "        document.querySelector('#df-8d6edacc-d75d-4431-8aa2-0e9ed015fdd6 button');\n",
              "      quickchartButtonEl.style.display =\n",
              "        google.colab.kernel.accessAllowed ? 'block' : 'none';\n",
              "    })();\n",
              "  </script>\n",
              "</div>\n",
              "\n",
              "    </div>\n",
              "  </div>\n"
            ],
            "application/vnd.google.colaboratory.intrinsic+json": {
              "type": "dataframe",
              "summary": "{\n  \"name\": \"percent_ausentes(df)\",\n  \"rows\": 17,\n  \"fields\": [\n    {\n      \"column\": \"Variav\\u00e9is\",\n      \"properties\": {\n        \"dtype\": \"string\",\n        \"num_unique_values\": 17,\n        \"samples\": [\n          \"Gross\",\n          \"Meta_score\",\n          \"Star2\"\n        ],\n        \"semantic_type\": \"\",\n        \"description\": \"\"\n      }\n    },\n    {\n      \"column\": \"% de ausentes\",\n      \"properties\": {\n        \"dtype\": \"number\",\n        \"std\": 0.057414012689430236,\n        \"min\": 0.0,\n        \"max\": 0.16916916916916916,\n        \"num_unique_values\": 5,\n        \"samples\": [\n          0.15715715715715717,\n          0.0,\n          0.1011011011011011\n        ],\n        \"semantic_type\": \"\",\n        \"description\": \"\"\n      }\n    }\n  ]\n}"
            }
          },
          "metadata": {},
          "execution_count": 12
        }
      ]
    },
    {
      "cell_type": "markdown",
      "source": [
        "A variável 'Gross' apresenta cerca de 16,9% de valores ausentes. Também podemos observar cerca de 15,7% de dados ausentes na variável 'Meta_score', 10,1% em 'Certificate' e 1% em 'Released_Year'. Levando em consideração a quantidade dos nossos dados, muito provavelmente teremos 169 valores ausentes em 'Gross', 157 em 'Meta_score', 101 em 'Certificate' e 1 em 'Released_Year'.\n",
        "\n",
        "Vamos verificar se essas suspeitas realmente estão corretas."
      ],
      "metadata": {
        "id": "x9nTQqnNF1Bd"
      }
    },
    {
      "cell_type": "code",
      "source": [
        "# Observando a soma dos valores ausentes\n",
        "df.isnull().sum().sort_values(ascending = False)"
      ],
      "metadata": {
        "colab": {
          "base_uri": "https://localhost:8080/"
        },
        "id": "S3qUOAk5FIyf",
        "outputId": "5eb914fa-f4f7-4f78-ae10-7ca81c0562ac"
      },
      "execution_count": null,
      "outputs": [
        {
          "output_type": "execute_result",
          "data": {
            "text/plain": [
              "Gross              169\n",
              "Meta_score         157\n",
              "Certificate        101\n",
              "Released_Year        1\n",
              "Series_Title         0\n",
              "Star2                0\n",
              "Gross_formatted      0\n",
              "No_of_Votes          0\n",
              "Star4                0\n",
              "Star3                0\n",
              "Director             0\n",
              "Star1                0\n",
              "Overview             0\n",
              "IMDB_Rating          0\n",
              "Genre                0\n",
              "Runtime              0\n",
              "Runtime/min          0\n",
              "dtype: int64"
            ]
          },
          "metadata": {},
          "execution_count": 13
        }
      ]
    },
    {
      "cell_type": "markdown",
      "source": [
        "Confirmarmos nossas suspeitas. Agora podemos seguir para a observação do resumo estatístico dos nossos dados."
      ],
      "metadata": {
        "id": "7bsKQ5P7EqCT"
      }
    },
    {
      "cell_type": "code",
      "source": [
        "# Resumo estatístico dos dados\n",
        "desc = df.describe()\n",
        "\n",
        "# Formatar números para exibir menos casas decimais\n",
        "pd.options.display.float_format = '{:.3f}'.format\n",
        "\n",
        "# Exibindo as estatísticas descritivas formatadas\n",
        "desc"
      ],
      "metadata": {
        "colab": {
          "base_uri": "https://localhost:8080/",
          "height": 300
        },
        "id": "1pTVnOnyEtpi",
        "outputId": "25de0934-3ae2-467f-f3a7-101a0ad3d8ad"
      },
      "execution_count": null,
      "outputs": [
        {
          "output_type": "execute_result",
          "data": {
            "text/plain": [
              "       Released_Year  IMDB_Rating  Meta_score  No_of_Votes         Gross  \\\n",
              "count        998.000      999.000     842.000      999.000       830.000   \n",
              "mean        1991.214        7.948      77.969   271621.422  68082574.105   \n",
              "std           23.309        0.272      12.383   320912.621 109807553.386   \n",
              "min         1920.000        7.600      28.000    25088.000      1305.000   \n",
              "25%         1976.000        7.700      70.000    55471.500   3245338.500   \n",
              "50%         1999.000        7.900      79.000   138356.000  23457439.500   \n",
              "75%         2009.000        8.100      87.000   373167.500  80876340.250   \n",
              "max         2020.000        9.200     100.000  2303232.000 936662225.000   \n",
              "\n",
              "       Runtime/min  \n",
              "count      999.000  \n",
              "mean       122.872  \n",
              "std         28.101  \n",
              "min         45.000  \n",
              "25%        103.000  \n",
              "50%        119.000  \n",
              "75%        137.000  \n",
              "max        321.000  "
            ],
            "text/html": [
              "\n",
              "  <div id=\"df-60c2f89f-3498-4f78-9204-14c5668dc88d\" class=\"colab-df-container\">\n",
              "    <div>\n",
              "<style scoped>\n",
              "    .dataframe tbody tr th:only-of-type {\n",
              "        vertical-align: middle;\n",
              "    }\n",
              "\n",
              "    .dataframe tbody tr th {\n",
              "        vertical-align: top;\n",
              "    }\n",
              "\n",
              "    .dataframe thead th {\n",
              "        text-align: right;\n",
              "    }\n",
              "</style>\n",
              "<table border=\"1\" class=\"dataframe\">\n",
              "  <thead>\n",
              "    <tr style=\"text-align: right;\">\n",
              "      <th></th>\n",
              "      <th>Released_Year</th>\n",
              "      <th>IMDB_Rating</th>\n",
              "      <th>Meta_score</th>\n",
              "      <th>No_of_Votes</th>\n",
              "      <th>Gross</th>\n",
              "      <th>Runtime/min</th>\n",
              "    </tr>\n",
              "  </thead>\n",
              "  <tbody>\n",
              "    <tr>\n",
              "      <th>count</th>\n",
              "      <td>998.000</td>\n",
              "      <td>999.000</td>\n",
              "      <td>842.000</td>\n",
              "      <td>999.000</td>\n",
              "      <td>830.000</td>\n",
              "      <td>999.000</td>\n",
              "    </tr>\n",
              "    <tr>\n",
              "      <th>mean</th>\n",
              "      <td>1991.214</td>\n",
              "      <td>7.948</td>\n",
              "      <td>77.969</td>\n",
              "      <td>271621.422</td>\n",
              "      <td>68082574.105</td>\n",
              "      <td>122.872</td>\n",
              "    </tr>\n",
              "    <tr>\n",
              "      <th>std</th>\n",
              "      <td>23.309</td>\n",
              "      <td>0.272</td>\n",
              "      <td>12.383</td>\n",
              "      <td>320912.621</td>\n",
              "      <td>109807553.386</td>\n",
              "      <td>28.101</td>\n",
              "    </tr>\n",
              "    <tr>\n",
              "      <th>min</th>\n",
              "      <td>1920.000</td>\n",
              "      <td>7.600</td>\n",
              "      <td>28.000</td>\n",
              "      <td>25088.000</td>\n",
              "      <td>1305.000</td>\n",
              "      <td>45.000</td>\n",
              "    </tr>\n",
              "    <tr>\n",
              "      <th>25%</th>\n",
              "      <td>1976.000</td>\n",
              "      <td>7.700</td>\n",
              "      <td>70.000</td>\n",
              "      <td>55471.500</td>\n",
              "      <td>3245338.500</td>\n",
              "      <td>103.000</td>\n",
              "    </tr>\n",
              "    <tr>\n",
              "      <th>50%</th>\n",
              "      <td>1999.000</td>\n",
              "      <td>7.900</td>\n",
              "      <td>79.000</td>\n",
              "      <td>138356.000</td>\n",
              "      <td>23457439.500</td>\n",
              "      <td>119.000</td>\n",
              "    </tr>\n",
              "    <tr>\n",
              "      <th>75%</th>\n",
              "      <td>2009.000</td>\n",
              "      <td>8.100</td>\n",
              "      <td>87.000</td>\n",
              "      <td>373167.500</td>\n",
              "      <td>80876340.250</td>\n",
              "      <td>137.000</td>\n",
              "    </tr>\n",
              "    <tr>\n",
              "      <th>max</th>\n",
              "      <td>2020.000</td>\n",
              "      <td>9.200</td>\n",
              "      <td>100.000</td>\n",
              "      <td>2303232.000</td>\n",
              "      <td>936662225.000</td>\n",
              "      <td>321.000</td>\n",
              "    </tr>\n",
              "  </tbody>\n",
              "</table>\n",
              "</div>\n",
              "    <div class=\"colab-df-buttons\">\n",
              "\n",
              "  <div class=\"colab-df-container\">\n",
              "    <button class=\"colab-df-convert\" onclick=\"convertToInteractive('df-60c2f89f-3498-4f78-9204-14c5668dc88d')\"\n",
              "            title=\"Convert this dataframe to an interactive table.\"\n",
              "            style=\"display:none;\">\n",
              "\n",
              "  <svg xmlns=\"http://www.w3.org/2000/svg\" height=\"24px\" viewBox=\"0 -960 960 960\">\n",
              "    <path d=\"M120-120v-720h720v720H120Zm60-500h600v-160H180v160Zm220 220h160v-160H400v160Zm0 220h160v-160H400v160ZM180-400h160v-160H180v160Zm440 0h160v-160H620v160ZM180-180h160v-160H180v160Zm440 0h160v-160H620v160Z\"/>\n",
              "  </svg>\n",
              "    </button>\n",
              "\n",
              "  <style>\n",
              "    .colab-df-container {\n",
              "      display:flex;\n",
              "      gap: 12px;\n",
              "    }\n",
              "\n",
              "    .colab-df-convert {\n",
              "      background-color: #E8F0FE;\n",
              "      border: none;\n",
              "      border-radius: 50%;\n",
              "      cursor: pointer;\n",
              "      display: none;\n",
              "      fill: #1967D2;\n",
              "      height: 32px;\n",
              "      padding: 0 0 0 0;\n",
              "      width: 32px;\n",
              "    }\n",
              "\n",
              "    .colab-df-convert:hover {\n",
              "      background-color: #E2EBFA;\n",
              "      box-shadow: 0px 1px 2px rgba(60, 64, 67, 0.3), 0px 1px 3px 1px rgba(60, 64, 67, 0.15);\n",
              "      fill: #174EA6;\n",
              "    }\n",
              "\n",
              "    .colab-df-buttons div {\n",
              "      margin-bottom: 4px;\n",
              "    }\n",
              "\n",
              "    [theme=dark] .colab-df-convert {\n",
              "      background-color: #3B4455;\n",
              "      fill: #D2E3FC;\n",
              "    }\n",
              "\n",
              "    [theme=dark] .colab-df-convert:hover {\n",
              "      background-color: #434B5C;\n",
              "      box-shadow: 0px 1px 3px 1px rgba(0, 0, 0, 0.15);\n",
              "      filter: drop-shadow(0px 1px 2px rgba(0, 0, 0, 0.3));\n",
              "      fill: #FFFFFF;\n",
              "    }\n",
              "  </style>\n",
              "\n",
              "    <script>\n",
              "      const buttonEl =\n",
              "        document.querySelector('#df-60c2f89f-3498-4f78-9204-14c5668dc88d button.colab-df-convert');\n",
              "      buttonEl.style.display =\n",
              "        google.colab.kernel.accessAllowed ? 'block' : 'none';\n",
              "\n",
              "      async function convertToInteractive(key) {\n",
              "        const element = document.querySelector('#df-60c2f89f-3498-4f78-9204-14c5668dc88d');\n",
              "        const dataTable =\n",
              "          await google.colab.kernel.invokeFunction('convertToInteractive',\n",
              "                                                    [key], {});\n",
              "        if (!dataTable) return;\n",
              "\n",
              "        const docLinkHtml = 'Like what you see? Visit the ' +\n",
              "          '<a target=\"_blank\" href=https://colab.research.google.com/notebooks/data_table.ipynb>data table notebook</a>'\n",
              "          + ' to learn more about interactive tables.';\n",
              "        element.innerHTML = '';\n",
              "        dataTable['output_type'] = 'display_data';\n",
              "        await google.colab.output.renderOutput(dataTable, element);\n",
              "        const docLink = document.createElement('div');\n",
              "        docLink.innerHTML = docLinkHtml;\n",
              "        element.appendChild(docLink);\n",
              "      }\n",
              "    </script>\n",
              "  </div>\n",
              "\n",
              "\n",
              "<div id=\"df-0dc31523-f3e6-4a58-9c67-98307dc76702\">\n",
              "  <button class=\"colab-df-quickchart\" onclick=\"quickchart('df-0dc31523-f3e6-4a58-9c67-98307dc76702')\"\n",
              "            title=\"Suggest charts\"\n",
              "            style=\"display:none;\">\n",
              "\n",
              "<svg xmlns=\"http://www.w3.org/2000/svg\" height=\"24px\"viewBox=\"0 0 24 24\"\n",
              "     width=\"24px\">\n",
              "    <g>\n",
              "        <path d=\"M19 3H5c-1.1 0-2 .9-2 2v14c0 1.1.9 2 2 2h14c1.1 0 2-.9 2-2V5c0-1.1-.9-2-2-2zM9 17H7v-7h2v7zm4 0h-2V7h2v10zm4 0h-2v-4h2v4z\"/>\n",
              "    </g>\n",
              "</svg>\n",
              "  </button>\n",
              "\n",
              "<style>\n",
              "  .colab-df-quickchart {\n",
              "      --bg-color: #E8F0FE;\n",
              "      --fill-color: #1967D2;\n",
              "      --hover-bg-color: #E2EBFA;\n",
              "      --hover-fill-color: #174EA6;\n",
              "      --disabled-fill-color: #AAA;\n",
              "      --disabled-bg-color: #DDD;\n",
              "  }\n",
              "\n",
              "  [theme=dark] .colab-df-quickchart {\n",
              "      --bg-color: #3B4455;\n",
              "      --fill-color: #D2E3FC;\n",
              "      --hover-bg-color: #434B5C;\n",
              "      --hover-fill-color: #FFFFFF;\n",
              "      --disabled-bg-color: #3B4455;\n",
              "      --disabled-fill-color: #666;\n",
              "  }\n",
              "\n",
              "  .colab-df-quickchart {\n",
              "    background-color: var(--bg-color);\n",
              "    border: none;\n",
              "    border-radius: 50%;\n",
              "    cursor: pointer;\n",
              "    display: none;\n",
              "    fill: var(--fill-color);\n",
              "    height: 32px;\n",
              "    padding: 0;\n",
              "    width: 32px;\n",
              "  }\n",
              "\n",
              "  .colab-df-quickchart:hover {\n",
              "    background-color: var(--hover-bg-color);\n",
              "    box-shadow: 0 1px 2px rgba(60, 64, 67, 0.3), 0 1px 3px 1px rgba(60, 64, 67, 0.15);\n",
              "    fill: var(--button-hover-fill-color);\n",
              "  }\n",
              "\n",
              "  .colab-df-quickchart-complete:disabled,\n",
              "  .colab-df-quickchart-complete:disabled:hover {\n",
              "    background-color: var(--disabled-bg-color);\n",
              "    fill: var(--disabled-fill-color);\n",
              "    box-shadow: none;\n",
              "  }\n",
              "\n",
              "  .colab-df-spinner {\n",
              "    border: 2px solid var(--fill-color);\n",
              "    border-color: transparent;\n",
              "    border-bottom-color: var(--fill-color);\n",
              "    animation:\n",
              "      spin 1s steps(1) infinite;\n",
              "  }\n",
              "\n",
              "  @keyframes spin {\n",
              "    0% {\n",
              "      border-color: transparent;\n",
              "      border-bottom-color: var(--fill-color);\n",
              "      border-left-color: var(--fill-color);\n",
              "    }\n",
              "    20% {\n",
              "      border-color: transparent;\n",
              "      border-left-color: var(--fill-color);\n",
              "      border-top-color: var(--fill-color);\n",
              "    }\n",
              "    30% {\n",
              "      border-color: transparent;\n",
              "      border-left-color: var(--fill-color);\n",
              "      border-top-color: var(--fill-color);\n",
              "      border-right-color: var(--fill-color);\n",
              "    }\n",
              "    40% {\n",
              "      border-color: transparent;\n",
              "      border-right-color: var(--fill-color);\n",
              "      border-top-color: var(--fill-color);\n",
              "    }\n",
              "    60% {\n",
              "      border-color: transparent;\n",
              "      border-right-color: var(--fill-color);\n",
              "    }\n",
              "    80% {\n",
              "      border-color: transparent;\n",
              "      border-right-color: var(--fill-color);\n",
              "      border-bottom-color: var(--fill-color);\n",
              "    }\n",
              "    90% {\n",
              "      border-color: transparent;\n",
              "      border-bottom-color: var(--fill-color);\n",
              "    }\n",
              "  }\n",
              "</style>\n",
              "\n",
              "  <script>\n",
              "    async function quickchart(key) {\n",
              "      const quickchartButtonEl =\n",
              "        document.querySelector('#' + key + ' button');\n",
              "      quickchartButtonEl.disabled = true;  // To prevent multiple clicks.\n",
              "      quickchartButtonEl.classList.add('colab-df-spinner');\n",
              "      try {\n",
              "        const charts = await google.colab.kernel.invokeFunction(\n",
              "            'suggestCharts', [key], {});\n",
              "      } catch (error) {\n",
              "        console.error('Error during call to suggestCharts:', error);\n",
              "      }\n",
              "      quickchartButtonEl.classList.remove('colab-df-spinner');\n",
              "      quickchartButtonEl.classList.add('colab-df-quickchart-complete');\n",
              "    }\n",
              "    (() => {\n",
              "      let quickchartButtonEl =\n",
              "        document.querySelector('#df-0dc31523-f3e6-4a58-9c67-98307dc76702 button');\n",
              "      quickchartButtonEl.style.display =\n",
              "        google.colab.kernel.accessAllowed ? 'block' : 'none';\n",
              "    })();\n",
              "  </script>\n",
              "</div>\n",
              "\n",
              "  <div id=\"id_dcc2e623-951e-436b-879b-47f3d4170db4\">\n",
              "    <style>\n",
              "      .colab-df-generate {\n",
              "        background-color: #E8F0FE;\n",
              "        border: none;\n",
              "        border-radius: 50%;\n",
              "        cursor: pointer;\n",
              "        display: none;\n",
              "        fill: #1967D2;\n",
              "        height: 32px;\n",
              "        padding: 0 0 0 0;\n",
              "        width: 32px;\n",
              "      }\n",
              "\n",
              "      .colab-df-generate:hover {\n",
              "        background-color: #E2EBFA;\n",
              "        box-shadow: 0px 1px 2px rgba(60, 64, 67, 0.3), 0px 1px 3px 1px rgba(60, 64, 67, 0.15);\n",
              "        fill: #174EA6;\n",
              "      }\n",
              "\n",
              "      [theme=dark] .colab-df-generate {\n",
              "        background-color: #3B4455;\n",
              "        fill: #D2E3FC;\n",
              "      }\n",
              "\n",
              "      [theme=dark] .colab-df-generate:hover {\n",
              "        background-color: #434B5C;\n",
              "        box-shadow: 0px 1px 3px 1px rgba(0, 0, 0, 0.15);\n",
              "        filter: drop-shadow(0px 1px 2px rgba(0, 0, 0, 0.3));\n",
              "        fill: #FFFFFF;\n",
              "      }\n",
              "    </style>\n",
              "    <button class=\"colab-df-generate\" onclick=\"generateWithVariable('desc')\"\n",
              "            title=\"Generate code using this dataframe.\"\n",
              "            style=\"display:none;\">\n",
              "\n",
              "  <svg xmlns=\"http://www.w3.org/2000/svg\" height=\"24px\"viewBox=\"0 0 24 24\"\n",
              "       width=\"24px\">\n",
              "    <path d=\"M7,19H8.4L18.45,9,17,7.55,7,17.6ZM5,21V16.75L18.45,3.32a2,2,0,0,1,2.83,0l1.4,1.43a1.91,1.91,0,0,1,.58,1.4,1.91,1.91,0,0,1-.58,1.4L9.25,21ZM18.45,9,17,7.55Zm-12,3A5.31,5.31,0,0,0,4.9,8.1,5.31,5.31,0,0,0,1,6.5,5.31,5.31,0,0,0,4.9,4.9,5.31,5.31,0,0,0,6.5,1,5.31,5.31,0,0,0,8.1,4.9,5.31,5.31,0,0,0,12,6.5,5.46,5.46,0,0,0,6.5,12Z\"/>\n",
              "  </svg>\n",
              "    </button>\n",
              "    <script>\n",
              "      (() => {\n",
              "      const buttonEl =\n",
              "        document.querySelector('#id_dcc2e623-951e-436b-879b-47f3d4170db4 button.colab-df-generate');\n",
              "      buttonEl.style.display =\n",
              "        google.colab.kernel.accessAllowed ? 'block' : 'none';\n",
              "\n",
              "      buttonEl.onclick = () => {\n",
              "        google.colab.notebook.generateWithVariable('desc');\n",
              "      }\n",
              "      })();\n",
              "    </script>\n",
              "  </div>\n",
              "\n",
              "    </div>\n",
              "  </div>\n"
            ],
            "application/vnd.google.colaboratory.intrinsic+json": {
              "type": "dataframe",
              "variable_name": "desc",
              "summary": "{\n  \"name\": \"desc\",\n  \"rows\": 8,\n  \"fields\": [\n    {\n      \"column\": \"Released_Year\",\n      \"properties\": {\n        \"dtype\": \"number\",\n        \"std\": 731.5088983357833,\n        \"min\": 23.308538696214047,\n        \"max\": 2020.0,\n        \"num_unique_values\": 8,\n        \"samples\": [\n          1991.2144288577153,\n          1999.0,\n          998.0\n        ],\n        \"semantic_type\": \"\",\n        \"description\": \"\"\n      }\n    },\n    {\n      \"column\": \"IMDB_Rating\",\n      \"properties\": {\n        \"dtype\": \"number\",\n        \"std\": 350.75006201428675,\n        \"min\": 0.2722895085128798,\n        \"max\": 999.0,\n        \"num_unique_values\": 8,\n        \"samples\": [\n          7.947947947947948,\n          7.9,\n          999.0\n        ],\n        \"semantic_type\": \"\",\n        \"description\": \"\"\n      }\n    },\n    {\n      \"column\": \"Meta_score\",\n      \"properties\": {\n        \"dtype\": \"number\",\n        \"std\": 276.3601022395363,\n        \"min\": 12.383257326288946,\n        \"max\": 842.0,\n        \"num_unique_values\": 8,\n        \"samples\": [\n          77.96912114014252,\n          79.0,\n          842.0\n        ],\n        \"semantic_type\": \"\",\n        \"description\": \"\"\n      }\n    },\n    {\n      \"column\": \"No_of_Votes\",\n      \"properties\": {\n        \"dtype\": \"number\",\n        \"std\": 767392.3403630465,\n        \"min\": 999.0,\n        \"max\": 2303232.0,\n        \"num_unique_values\": 8,\n        \"samples\": [\n          271621.42242242245,\n          138356.0,\n          999.0\n        ],\n        \"semantic_type\": \"\",\n        \"description\": \"\"\n      }\n    },\n    {\n      \"column\": \"Gross\",\n      \"properties\": {\n        \"dtype\": \"number\",\n        \"std\": 319470433.8519118,\n        \"min\": 830.0,\n        \"max\": 936662225.0,\n        \"num_unique_values\": 8,\n        \"samples\": [\n          68082574.10481928,\n          23457439.5,\n          830.0\n        ],\n        \"semantic_type\": \"\",\n        \"description\": \"\"\n      }\n    },\n    {\n      \"column\": \"Runtime/min\",\n      \"properties\": {\n        \"dtype\": \"number\",\n        \"std\": 321.3926527473307,\n        \"min\": 28.10122697525197,\n        \"max\": 999.0,\n        \"num_unique_values\": 8,\n        \"samples\": [\n          122.87187187187187,\n          119.0,\n          999.0\n        ],\n        \"semantic_type\": \"\",\n        \"description\": \"\"\n      }\n    }\n  ]\n}"
            }
          },
          "metadata": {},
          "execution_count": 14
        }
      ]
    },
    {
      "cell_type": "markdown",
      "source": [
        "Observando os dados em 'Released_Year', que se refere ao ano de lançamento dos filmes:\n",
        "\n",
        "- Podemos observar que o filme mais antigo em nossa base é de 1920. Cerca de 25% dos filmes foram lançados antes de 1976, enquanto metade dos filmes foram lançados antes de 1999, e a outra metade após 1999. Apenas 25% dos filmes foram lançados depois de 2009. Aqui, a média está um pouco distante da mediana, indicando que a distribuição pode ser assimétrica.\n",
        "\n",
        "Agora vamos observar a coluna 'IMDB_Rating':\n",
        "\n",
        "- Temos uma nota média de 7,9, sendo que a menor nota é 7,6. Cerca de 25% dos filmes apresentam uma nota menor que a média, 50% dos filmes apresentam notas iguais ou abaixo da média, e 25% dos filmes têm notas acima de 8,1. A maior nota de um filme foi 9,2. A média é próxima da mediana, sugerindo uma distribuição próxima da normal. O desvio padrão é baixo, 0,27, o que indica pouca variação em relação à média.\n",
        "\n",
        "Observando a coluna 'Meta_score':\n",
        "\n",
        "- A média é 77, enquanto a menor nota é 28. Cerca de 25% dos filmes têm notas iguais ou inferiores a 70, metade dos filmes têm notas iguais ou inferiores a 75, e 25% têm notas acima de 87. O máximo é 100. O desvio padrão não é muito alto, sugerindo que os dados não estão muito distantes da média.\n",
        "\n",
        "Observando a coluna 'No_of_Votes':\n",
        "\n",
        "- A média de votos é 271 mil, com o menor número de votos sendo 25 mil. Cerca de 25% dos filmes têm 55 mil votos ou menos, metade dos filmes têm 138 mil votos ou menos, e 25% têm 373 mil votos ou mais. O máximo é 2 milhões e 300 mil votos. O desvio padrão é de 320 mil, indicando que os dados estão dispersos, como evidenciado pela diferença entre média e mediana.\n",
        "\n",
        "Observando a coluna 'Gross':\n",
        "\n",
        "- O faturamento médio dos filmes é de 68 milhões, com o menor faturamento sendo 1 milhão e 300 mil. Cerca de 25% dos filmes têm um faturamento de 3 milhões ou menos, metade dos filmes têm 23 milhões ou menos, e 25% têm 80 milhões ou mais. O máximo é 936 milhões. O desvio padrão é alto, 100 milhões, e a diferença entre a média e a mediana sugere uma distribuição que não se aproxima de uma normal.\n"
      ],
      "metadata": {
        "id": "U2XQgdyQGpaT"
      }
    },
    {
      "cell_type": "markdown",
      "source": [
        "# **Análise univariada**"
      ],
      "metadata": {
        "id": "R62rXYEzBHY4"
      }
    },
    {
      "cell_type": "markdown",
      "source": [
        "Nas etapas anteriores realizamos algumas analises iniciais para irmos nos familiarizando melhor com os nossoss dados agora vamos realizar uma analise mais indivual dos nossos dados dito isso nossos objetivos serão:\n",
        "\n",
        "- Realizar uma análise mais aprofundada das nossas variáveis de interesse.\n",
        "\n",
        "- Criar uma visualização mais agradável."
      ],
      "metadata": {
        "id": "dAloMhI5BJAn"
      }
    },
    {
      "cell_type": "markdown",
      "source": [
        "## **Variáveis numéricas**"
      ],
      "metadata": {
        "id": "QoHcx49WQYML"
      }
    },
    {
      "cell_type": "markdown",
      "source": [
        "Vamos prosseguir com a análise univariada das variáveis numéricas."
      ],
      "metadata": {
        "id": "is1MhAVZmyvR"
      }
    },
    {
      "cell_type": "markdown",
      "source": [
        "### **Released_Year**"
      ],
      "metadata": {
        "id": "qobSwR6U2EAH"
      }
    },
    {
      "cell_type": "markdown",
      "source": [
        "Começaremos com a variável 'Released_Year'."
      ],
      "metadata": {
        "id": "dU_Uvjp9Bk2x"
      }
    },
    {
      "cell_type": "code",
      "source": [
        "# Resumo estátistico\n",
        "df['Released_Year'].describe()"
      ],
      "metadata": {
        "colab": {
          "base_uri": "https://localhost:8080/"
        },
        "id": "vn61X9I9IjoY",
        "outputId": "86ce094f-e179-4e40-f8f6-9a5c07e8c8d1"
      },
      "execution_count": null,
      "outputs": [
        {
          "output_type": "execute_result",
          "data": {
            "text/plain": [
              "count    998.000\n",
              "mean    1991.214\n",
              "std       23.309\n",
              "min     1920.000\n",
              "25%     1976.000\n",
              "50%     1999.000\n",
              "75%     2009.000\n",
              "max     2020.000\n",
              "Name: Released_Year, dtype: float64"
            ]
          },
          "metadata": {},
          "execution_count": 15
        }
      ]
    },
    {
      "cell_type": "markdown",
      "source": [
        "**Pontos importantes:**\n",
        "\n",
        "- Como já vimos anteriormente, o filme mais antigo em nossa base é de 1920, enquanto o mais recente é de 2020. Metade dos nossos dados são de 1999 ou mais antigos.\n",
        "\n",
        "- Ao observarmos o gráfico, podemos notar que os lançamentos apresentam picos em determinados anos, porém mostram uma tendência crescente ao longo dos anos. No entanto, em 2020, há uma queda brusca, muito provavelmente devido ao cenário global de uma pandemia."
      ],
      "metadata": {
        "id": "ukiHtz-VJMC-"
      }
    },
    {
      "cell_type": "code",
      "source": [
        "# Agrupando por décadas\n",
        "df['Decade'] = (df['Released_Year'] // 10) * 10\n",
        "\n",
        "# Contando o número de lançamentos por década\n",
        "decade_counts = df['Decade'].value_counts().sort_index()\n",
        "\n",
        "# Plotando o gráfico de barras\n",
        "plt.figure(figsize=(10, 6))\n",
        "sns.barplot(x=decade_counts.index, y=decade_counts.values)\n",
        "plt.xlabel('Década')\n",
        "plt.ylabel('Número de Lançamentos')\n",
        "plt.title('Número de Lançamentos por Década')\n",
        "plt.xticks(rotation=45)\n",
        "plt.show()"
      ],
      "metadata": {
        "colab": {
          "base_uri": "https://localhost:8080/"
        },
        "id": "tZFs0-4KD5CH",
        "outputId": "784f9ba6-b292-4831-fe08-a20e7f5254bb"
      },
      "execution_count": null,
      "outputs": [
        {
          "output_type": "display_data",
          "data": {
            "text/plain": [
              "<Figure size 1000x600 with 1 Axes>"
            ],
            "image/png": "[encoded data removed]"
          },
          "metadata": {}
        }
      ]
    },
    {
      "cell_type": "code",
      "source": [
        "# Contando o número de lançamentos por ano\n",
        "year_counts = df['Released_Year'].value_counts().sort_index()\n",
        "\n",
        "# Plotando o gráfico de linha\n",
        "plt.figure(figsize=(12, 6))\n",
        "sns.lineplot(x=year_counts.index, y=year_counts.values)\n",
        "plt.xlabel('')\n",
        "plt.title('Número de Lançamentos por Ano')\n",
        "\n",
        "# Criando uma lista de rótulos para o eixo x a cada 5 anos e incluindo o último ano\n",
        "ticks = list(year_counts.index[::5])\n",
        "if year_counts.index[-1] not in ticks:\n",
        "    ticks.append(year_counts.index[-1])\n",
        "\n",
        "plt.xticks(ticks=ticks, rotation=45)\n",
        "plt.show()"
      ],
      "metadata": {
        "colab": {
          "base_uri": "https://localhost:8080/"
        },
        "id": "zRpLwEsBIK9u",
        "outputId": "50a53201-7eec-4f96-c75c-c7b7ecc11c48"
      },
      "execution_count": null,
      "outputs": [
        {
          "output_type": "display_data",
          "data": {
            "text/plain": [
              "<Figure size 1200x600 with 1 Axes>"
            ],
            "image/png": "[encoded data removed]"
          },
          "metadata": {}
        }
      ]
    },
    {
      "cell_type": "markdown",
      "source": [
        "**Conclusões**\n",
        "\n",
        "- A análise dos lançamentos de filmes entre 1920 e 2020 revela um crescimento consistente na produção cinematográfica ao longo do século, com um aumento notável nas décadas de 2000 e 2010, que registraram os maiores números de lançamentos. No entanto, em 2020, observamos uma queda abrupta no número de filmes lançados, provavelmente devido à pandemia global de COVID-19, que impactou drasticamente a indústria cinematográfica."
      ],
      "metadata": {
        "id": "MBpSq1AMMtmd"
      }
    },
    {
      "cell_type": "markdown",
      "source": [
        "### **IMDB**"
      ],
      "metadata": {
        "id": "ljv1NJ_wYwqM"
      }
    },
    {
      "cell_type": "markdown",
      "source": [
        "Vamos observar um pouco mais a fundo as notas no IMDB."
      ],
      "metadata": {
        "id": "JrpME6yNZDnO"
      }
    },
    {
      "cell_type": "code",
      "source": [
        "# Resumo estátistico\n",
        "df['IMDB_Rating'].describe()"
      ],
      "metadata": {
        "colab": {
          "base_uri": "https://localhost:8080/"
        },
        "id": "2yl5q6KZY18E",
        "outputId": "f819c7fe-d23f-4afc-f25f-bc822155e0b9"
      },
      "execution_count": null,
      "outputs": [
        {
          "output_type": "execute_result",
          "data": {
            "text/plain": [
              "count   999.000\n",
              "mean      7.948\n",
              "std       0.272\n",
              "min       7.600\n",
              "25%       7.700\n",
              "50%       7.900\n",
              "75%       8.100\n",
              "max       9.200\n",
              "Name: IMDB_Rating, dtype: float64"
            ]
          },
          "metadata": {},
          "execution_count": 18
        }
      ]
    },
    {
      "cell_type": "markdown",
      "source": [
        "**Pontos importantes:**\n",
        "\n",
        "- A média das notas dos filmes é aproximadamente 7,95, com a menor nota sendo 7,6 e a maior nota sendo 9,2. A mediana das notas é 7,9, o que significa que metade dos filmes tem uma nota menor ou igual a 7,9. Além disso, 75% dos filmes possuem notas menores ou iguais a 8,1.\n",
        "\n",
        "- O desvio padrão é relativamente baixo, apenas 0,27, indicando que a maioria das notas está próxima da média."
      ],
      "metadata": {
        "id": "kk3-azKBZJQ8"
      }
    },
    {
      "cell_type": "code",
      "source": [
        "# Criando o gráfico\n",
        "sns.histplot(df['IMDB_Rating'], bins = 15, color = 'skyblue')\n",
        "\n",
        "# Definindo título e labels\n",
        "plt.title('Distribuição das notas (IMDB)')\n",
        "plt.xlabel('Notas')\n",
        "plt.ylabel('')\n",
        "\n",
        "# Exibindo o gráfico\n",
        "plt.show()"
      ],
      "metadata": {
        "colab": {
          "base_uri": "https://localhost:8080/",
          "height": 472
        },
        "id": "lo6KVML7Zyi9",
        "outputId": "12d70dd9-f34b-449b-e5c3-3c8dcdc71a01"
      },
      "execution_count": null,
      "outputs": [
        {
          "output_type": "display_data",
          "data": {
            "text/plain": [
              "<Figure size 640x480 with 1 Axes>"
            ],
            "image/png": "[encoded data removed]"
          },
          "metadata": {}
        }
      ]
    },
    {
      "cell_type": "markdown",
      "source": [
        "Embora as notas apresentem um desvio padrão relativamente baixo, indicando que a maior parte dos dados está próxima da média, a média é bem próxima da mediana. No entanto, podemos observar que os dados apresentam uma assimetria positiva (à direita), indicando que menos filmes têm notas mais altas. Vamos checar o skew dessa coluna."
      ],
      "metadata": {
        "id": "-unsnu_Fb90N"
      }
    },
    {
      "cell_type": "code",
      "source": [
        "# Medindo a simetria da distribuição de dados\n",
        "df['IMDB_Rating'].skew()"
      ],
      "metadata": {
        "colab": {
          "base_uri": "https://localhost:8080/"
        },
        "id": "h12F1tHdbLjN",
        "outputId": "e165a032-1514-4291-c850-63c8a0699c59"
      },
      "execution_count": null,
      "outputs": [
        {
          "output_type": "execute_result",
          "data": {
            "text/plain": [
              "0.9466926905932237"
            ]
          },
          "metadata": {},
          "execution_count": 20
        }
      ]
    },
    {
      "cell_type": "markdown",
      "source": [
        "A assimetria positiva (skew = 0,94) indica que a distribuição das notas tem uma cauda mais longa à direita, com menos filmes recebendo notas muito altas."
      ],
      "metadata": {
        "id": "LCf5s3hhgtyU"
      }
    },
    {
      "cell_type": "markdown",
      "source": [
        "**Conclusões**\n",
        "\n",
        "- As notas variam entre 7,6 e 9,2, mostrando uma faixa moderada de variação. A maioria dos filmes tem notas próximas à média, como indicado pelo desvio padrão relativamente baixo de 0,27.\n",
        "\n",
        "- Apesar de a maioria das notas dos filmes se concentrar em torno da média de 7,94, a distribuição apresenta uma assimetria positiva. O desvio padrão baixo reforça a ideia de que as notas são relativamente consistentes, com poucas exceções extremas.\n",
        "\n",
        "- A assimetria positiva, refletida por um coeficiente de skew de 0,94, indica que há menos filmes com notas muito altas, resultando em uma cauda mais longa à direita na distribuição das notas."
      ],
      "metadata": {
        "id": "DGevYl1fcsZl"
      }
    },
    {
      "cell_type": "markdown",
      "source": [
        "### **Meta_score**"
      ],
      "metadata": {
        "id": "i9bBbVLKiMAF"
      }
    },
    {
      "cell_type": "markdown",
      "source": [
        "Vamos observar de forma mais detalhada a variável 'Meta_score'."
      ],
      "metadata": {
        "id": "SC3eHZA7iqZ8"
      }
    },
    {
      "cell_type": "code",
      "source": [
        "# Resumo estátistico\n",
        "df['Meta_score'].describe()"
      ],
      "metadata": {
        "colab": {
          "base_uri": "https://localhost:8080/"
        },
        "id": "Vnqe3An8i1nT",
        "outputId": "eeb41b64-6dbb-40f3-ef75-18037924ba01"
      },
      "execution_count": null,
      "outputs": [
        {
          "output_type": "execute_result",
          "data": {
            "text/plain": [
              "count   842.000\n",
              "mean     77.969\n",
              "std      12.383\n",
              "min      28.000\n",
              "25%      70.000\n",
              "50%      79.000\n",
              "75%      87.000\n",
              "max     100.000\n",
              "Name: Meta_score, dtype: float64"
            ]
          },
          "metadata": {},
          "execution_count": 21
        }
      ]
    },
    {
      "cell_type": "markdown",
      "source": [
        "**Pontos importantes**\n",
        "\n",
        "- A média dos meta scores é de aproximadamente 77, com o menor valor sendo 28 e o maior sendo 100. Mais da metade dos filmes têm um meta score superior à média de 77.\n",
        "\n",
        "- O desvio padrão é de 12,38, indicando uma dispersão moderada dos dados em relação à média.\n",
        "\n",
        "- Os meta scores variam de 28 a 100, mostrando uma ampla variação na avaliação crítica dos filmes."
      ],
      "metadata": {
        "id": "DbW679YijDSs"
      }
    },
    {
      "cell_type": "code",
      "source": [
        "# Criando o gráfico\n",
        "sns.histplot(df['Meta_score'], bins = 15, color = 'skyblue')\n",
        "\n",
        "# Definindo título e labels\n",
        "plt.title('Distribuição das notas (Meta_score)')\n",
        "plt.xlabel('Notas')\n",
        "plt.ylabel('')\n",
        "\n",
        "# Exibindo o gráfico\n",
        "plt.show()"
      ],
      "metadata": {
        "colab": {
          "base_uri": "https://localhost:8080/",
          "height": 472
        },
        "id": "A5MzSgE7iNnl",
        "outputId": "39836999-f646-4963-adc2-50756441f20b"
      },
      "execution_count": null,
      "outputs": [
        {
          "output_type": "display_data",
          "data": {
            "text/plain": [
              "<Figure size 640x480 with 1 Axes>"
            ],
            "image/png": "[encoded data removed]"
          },
          "metadata": {}
        }
      ]
    },
    {
      "cell_type": "markdown",
      "source": [
        "Como suspeitávamos, essa variável realmente apresentou uma assimetria à esquerda, indicando assim que essa assimetria é negativa. Levando em consideração que a média é 77, podemos observar que a maior parte dos nossos dados está acima dessa média."
      ],
      "metadata": {
        "id": "emPqxvFYjork"
      }
    },
    {
      "cell_type": "code",
      "source": [
        "# Medindo a simetria da distribuição de dados\n",
        "df['Meta_score'].skew()"
      ],
      "metadata": {
        "colab": {
          "base_uri": "https://localhost:8080/"
        },
        "id": "FugRfbvHjlmV",
        "outputId": "572aaea1-ed94-4563-ad92-1703df01678f"
      },
      "execution_count": null,
      "outputs": [
        {
          "output_type": "execute_result",
          "data": {
            "text/plain": [
              "-0.604316230073612"
            ]
          },
          "metadata": {},
          "execution_count": 23
        }
      ]
    },
    {
      "cell_type": "markdown",
      "source": [
        "**Conclusões**\n",
        "\n",
        "- A análise dos meta scores revela que a maioria dos filmes é bem avaliada, com mais da metade recebendo meta scores superiores à média de 77. A dispersão moderada dos dados em relação à média, indicada pelo desvio padrão, reflete uma variedade significativa nas opiniões críticas.\n",
        "\n",
        "- A assimetria negativa da distribuição, conforme indicado pelo coeficiente de skew, sugere que há mais filmes com avaliações críticas mais altas do que aquelas com avaliações muito baixas, contribuindo para uma cauda mais longa à esquerda na distribuição dos meta scores."
      ],
      "metadata": {
        "id": "D1-91uzokB_8"
      }
    },
    {
      "cell_type": "markdown",
      "source": [
        "### **No_of_votes**"
      ],
      "metadata": {
        "id": "EbrikHFYn0uE"
      }
    },
    {
      "cell_type": "markdown",
      "source": [
        "Iniciando a análise na variável referente ao número de votos dos filmes."
      ],
      "metadata": {
        "id": "ErwD7D2fjxU0"
      }
    },
    {
      "cell_type": "code",
      "source": [
        "# Resumo estátistico\n",
        "df['No_of_Votes'].describe()"
      ],
      "metadata": {
        "colab": {
          "base_uri": "https://localhost:8080/"
        },
        "id": "gUgs3FHkoKBy",
        "outputId": "90008122-c802-4a5d-b501-e670583ec6d1"
      },
      "execution_count": null,
      "outputs": [
        {
          "output_type": "execute_result",
          "data": {
            "text/plain": [
              "count       999.000\n",
              "mean     271621.422\n",
              "std      320912.621\n",
              "min       25088.000\n",
              "25%       55471.500\n",
              "50%      138356.000\n",
              "75%      373167.500\n",
              "max     2303232.000\n",
              "Name: No_of_Votes, dtype: float64"
            ]
          },
          "metadata": {},
          "execution_count": 24
        }
      ]
    },
    {
      "cell_type": "markdown",
      "source": [
        "**Pontos importantes:**\n",
        "\n",
        "- Aqui podemos notar que a média de votos é de 271 mil. O filme com menos votos tem 25 mil votos, enquanto o filme mais votado tem 2 milhões de votos, indicando uma ampla variação no número de votos.\n",
        "\n",
        "- Temos um desvio padrão de 320 mil, o que pode ser considerado um desvio bastante grande em relação a essa variável. Muito provavelmente os dados estão bem dispersos em relação à média.\n",
        "\n",
        "- Comparando a média com a mediana, notamos mais uma vez a discrepância entre essas medidas, o que confirma nossas suspeitas de que os dados estão bem dispersos.\n",
        "\n",
        "- Quando observamos os quartis, podemos notar que a maior parte dos dados está acima da média."
      ],
      "metadata": {
        "id": "X1vs9f3MqmsW"
      }
    },
    {
      "cell_type": "code",
      "source": [
        "# Criando o gráfico\n",
        "sns.histplot(df['No_of_Votes'], bins = 15, color = 'skyblue')\n",
        "\n",
        "# Definindo título e labels\n",
        "plt.title('Distribuição do número de votos (No_of_Votes)')\n",
        "plt.xlabel('N° votos')\n",
        "plt.ylabel('')\n",
        "\n",
        "# Exibindo o gráfico\n",
        "plt.show()"
      ],
      "metadata": {
        "colab": {
          "base_uri": "https://localhost:8080/",
          "height": 472
        },
        "id": "tsiWTCC-7jve",
        "outputId": "7d640080-bdd2-45b5-92ea-66cce549a5c4"
      },
      "execution_count": null,
      "outputs": [
        {
          "output_type": "display_data",
          "data": {
            "text/plain": [
              "<Figure size 640x480 with 1 Axes>"
            ],
            "image/png": "[encoded data removed]"
          },
          "metadata": {}
        }
      ]
    },
    {
      "cell_type": "markdown",
      "source": [
        "Vamos observar o skew (assimetria) dessa variável."
      ],
      "metadata": {
        "id": "2gLzPUov7y7W"
      }
    },
    {
      "cell_type": "code",
      "source": [
        "skew(df['No_of_Votes'])"
      ],
      "metadata": {
        "colab": {
          "base_uri": "https://localhost:8080/"
        },
        "id": "gvYx9cdIn8YD",
        "outputId": "dbed86c9-9095-4239-a671-b86a3c6c2294"
      },
      "execution_count": null,
      "outputs": [
        {
          "output_type": "execute_result",
          "data": {
            "text/plain": [
              "2.1910548929956533"
            ]
          },
          "metadata": {},
          "execution_count": 26
        }
      ]
    },
    {
      "cell_type": "markdown",
      "source": [
        "Aqui notamos um skew bem forte e positivo, indicando uma cauda bem longa à direita dos dados. Como suspeitamos anteriormente, existem muitos filmes com poucos votos e poucos filmes com muitos votos."
      ],
      "metadata": {
        "id": "jnhlRYjwrh3c"
      }
    },
    {
      "cell_type": "markdown",
      "source": [
        "**Conclusões**\n",
        "\n",
        "- Os números de votos para filmes revelam uma distribuição amplamente variada: a média é de aproximadamente 271 mil votos, com filmes oscilando de 25 mil a 2 milhões de votos. Isso evidencia uma grande dispersão em relação à média, com um desvio padrão de 320 mil votos, indicando que a popularidade dos filmes varia consideravelmente.\n",
        "\n",
        "- A diferença significativa entre a média e a mediana dos votos confirma a assimetria na distribuição: a média é influenciada por alguns filmes com números muito altos de votos, enquanto a maioria dos filmes está abaixo dessa média. Observando os quartis, nota-se que a maior parte dos filmes está acima da média de votos, sugerindo a presença de filmes muito populares que influenciam positivamente a média.\n",
        "\n",
        "- O skewness positivo forte de 2,1 indica uma cauda longa à direita na distribuição dos votos, o que significa que há muitos filmes com votos relativamente baixos, enquanto poucos filmes recebem um número muito elevado de votos. Essa assimetria destacada reflete a disparidade na popularidade dos filmes, com alguns alcançando um grande reconhecimento e outros tendo um alcance limitado entre o público."
      ],
      "metadata": {
        "id": "rVBSsodgtQZF"
      }
    },
    {
      "cell_type": "markdown",
      "source": [
        "### **Gross**"
      ],
      "metadata": {
        "id": "nk6u79OF2deu"
      }
    },
    {
      "cell_type": "markdown",
      "source": [
        "Vamos observar o que a nossa variável de faturamento tem a nos dizer."
      ],
      "metadata": {
        "id": "QorqO8Ep2e6e"
      }
    },
    {
      "cell_type": "code",
      "source": [
        "# Resumo estátistico\n",
        "df['Gross'].describe()"
      ],
      "metadata": {
        "colab": {
          "base_uri": "https://localhost:8080/"
        },
        "id": "hRBswPAj2iu3",
        "outputId": "515063a3-0de6-4c8f-993f-573f8cfcc9ef"
      },
      "execution_count": null,
      "outputs": [
        {
          "output_type": "execute_result",
          "data": {
            "text/plain": [
              "count         830.000\n",
              "mean     68082574.105\n",
              "std     109807553.386\n",
              "min          1305.000\n",
              "25%       3245338.500\n",
              "50%      23457439.500\n",
              "75%      80876340.250\n",
              "max     936662225.000\n",
              "Name: Gross, dtype: float64"
            ]
          },
          "metadata": {},
          "execution_count": 27
        }
      ]
    },
    {
      "cell_type": "markdown",
      "source": [
        "**Pontos importantes**\n",
        "\n",
        "- O faturamento médio dos filmes é de aproximadamente 68 milhões, com um desvio padrão significativo de cerca de 109 milhões, indicando uma grande variabilidade nos valores.\n",
        "\n",
        "- A mediana do faturamento dos filmes é de 23 milhões, o que sugere que a metade dos filmes estão abaixo desse valor, indicando uma possível assimetria positiva na distribuição.\n",
        "\n",
        "- O filme com o menor faturamento na amostra tem 1305, enquanto o filme com o maior faturamento alcançou 936 milhões, destacando a vasta gama de valores presentes na variável."
      ],
      "metadata": {
        "id": "h2L8qD052mZ-"
      }
    },
    {
      "cell_type": "markdown",
      "source": [
        "Antes de partirmos para outra visualização vamos observar a quantidade de outliers em 'Gross'"
      ],
      "metadata": {
        "id": "QPiTJhEJSkqn"
      }
    },
    {
      "cell_type": "code",
      "source": [
        "# Definindo o tamanho da figura\n",
        "plt.figure(figsize=(8, 6))\n",
        "\n",
        "# Criando o boxplot\n",
        "sns.boxplot(data = df, x = 'Gross')\n",
        "\n",
        "# Definindo título e labels\n",
        "plt.title('Outliers em \"Gross\"')\n",
        "plt.xlabel('')\n",
        "plt.ylabel('')\n",
        "\n",
        "# Exibindo o gráfico\n",
        "plt.show()"
      ],
      "metadata": {
        "colab": {
          "base_uri": "https://localhost:8080/",
          "height": 563
        },
        "id": "kUl-LJ4zRr8O",
        "outputId": "577d2720-c52d-43a4-ef6a-3ad3cc8e8eec"
      },
      "execution_count": null,
      "outputs": [
        {
          "output_type": "display_data",
          "data": {
            "text/plain": [
              "<Figure size 800x600 with 1 Axes>"
            ],
            "image/png": "[encoded data removed]"
          },
          "metadata": {}
        }
      ]
    },
    {
      "cell_type": "markdown",
      "source": [
        "Podemos observar que essa variavel possui um alto numero de outliers talvez seja mais interessante utilizar a mediana, ao inves de utilizar a média para realização de calculos"
      ],
      "metadata": {
        "id": "8SF4-t9ISsxu"
      }
    },
    {
      "cell_type": "code",
      "source": [
        "# Criando o gráfico\n",
        "sns.histplot(df['Gross'], bins = 15, color = 'skyblue')\n",
        "\n",
        "# Definindo título e labels\n",
        "plt.title('Distribuição do faturamento (Gross)')\n",
        "plt.xlabel('Gross')\n",
        "plt.ylabel('')\n",
        "\n",
        "# Exibindo o gráfico\n",
        "plt.show()"
      ],
      "metadata": {
        "colab": {
          "base_uri": "https://localhost:8080/",
          "height": 472
        },
        "id": "FgRMtsDA3nrO",
        "outputId": "4b9969d7-96af-4765-c77b-65bfbfe0d9ef"
      },
      "execution_count": null,
      "outputs": [
        {
          "output_type": "display_data",
          "data": {
            "text/plain": [
              "<Figure size 640x480 with 1 Axes>"
            ],
            "image/png": "[encoded data removed]"
          },
          "metadata": {}
        }
      ]
    },
    {
      "cell_type": "markdown",
      "source": [
        "A notação científica está sendo usada devido aos altos valores no gráfico, mas isso não compromete a interpretação dos resultados.\n",
        "\n",
        "A distribuição dos dados parece ser assimétrica positivamente, sugerindo que há mais filmes com faturamentos menores e menos filmes com faturamentos muito altos."
      ],
      "metadata": {
        "id": "Uc3EjW264o2v"
      }
    },
    {
      "cell_type": "markdown",
      "source": [
        "Entendi. Como a variável 'Gross' possui valores ausentes, a função 'skew()' não retornará a simetria dos dados, mas sim um valor nulo."
      ],
      "metadata": {
        "id": "cK4Kv5SU5nr-"
      }
    },
    {
      "cell_type": "code",
      "source": [
        "# Medindo a simetria da distribuição de dados\n",
        "skew(df['Gross'])"
      ],
      "metadata": {
        "colab": {
          "base_uri": "https://localhost:8080/"
        },
        "id": "mNxQ4yW433--",
        "outputId": "4acd907f-7359-490a-dbf8-c06f1ab4c6a2"
      },
      "execution_count": null,
      "outputs": [
        {
          "output_type": "execute_result",
          "data": {
            "text/plain": [
              "nan"
            ]
          },
          "metadata": {},
          "execution_count": 29
        }
      ]
    },
    {
      "cell_type": "markdown",
      "source": [
        "Como suspeitamos anteriormente, não conseguiremos utilizar essa função no momento devido aos valores ausentes na variável 'Gross'."
      ],
      "metadata": {
        "id": "qvUYE9ao5zgH"
      }
    },
    {
      "cell_type": "markdown",
      "source": [
        "**Conclusões**\n",
        "\n",
        "- A analise do faturamento dos filmes revela uma distribuição amplamente dispersa, com uma média significativa de aproximadamente 68 milhões de dólares e um desvio padrão elevado de cerca de 109 milhões de dólares. A mediana de 23 milhões de dólares indica que a metade dos filmes na amostra faturam abaixo desse valor, sugerindo uma predominância de filmes com faturamentos moderados a baixos.\n",
        "\n",
        "- A presença de valores extremos, desde 1305 até 936 milhões de dólares, ilustra a vasta variedade de faturamentos dentro da indústria cinematográfica.\n",
        "\n",
        "- A distribuição assimétrica positiva indica que há mais filmes com faturamentos menores do que filmes com faturamentos muito altos, sublinhando a raridade de sucessos de bilheteria extraordinários."
      ],
      "metadata": {
        "id": "gS9_I4lC71dd"
      }
    },
    {
      "cell_type": "markdown",
      "source": [
        "### **Runtime**"
      ],
      "metadata": {
        "id": "9qd2Dclr8kNu"
      }
    },
    {
      "cell_type": "markdown",
      "source": [
        "Vamos analisar mais detalhadamente a duração dos filmes."
      ],
      "metadata": {
        "id": "muA7XtmR8lpV"
      }
    },
    {
      "cell_type": "code",
      "source": [
        "# Resumo estátistico\n",
        "df['Runtime/min'].describe()"
      ],
      "metadata": {
        "colab": {
          "base_uri": "https://localhost:8080/"
        },
        "id": "11KGN4on8qCF",
        "outputId": "ef0510c3-4627-4a85-e69f-db012ae11060"
      },
      "execution_count": null,
      "outputs": [
        {
          "output_type": "execute_result",
          "data": {
            "text/plain": [
              "count   999.000\n",
              "mean    122.872\n",
              "std      28.101\n",
              "min      45.000\n",
              "25%     103.000\n",
              "50%     119.000\n",
              "75%     137.000\n",
              "max     321.000\n",
              "Name: Runtime/min, dtype: float64"
            ]
          },
          "metadata": {},
          "execution_count": 30
        }
      ]
    },
    {
      "cell_type": "markdown",
      "source": [
        "**Pontos importantes**\n",
        "\n",
        "- A duração média dos filmes é de aproximadamente 122 minutos, o que equivale a cerca de duas horas e dois minutos. O desvio padrão de 28 minutos indica que os tempos de duração dos filmes variam consideravelmente em relação à média.\n",
        "\n",
        "- O filme mais curto na amostra possui 45 minutos de duração, enquanto o mais longo atinge 321 minutos, aproximadamente cinco horas e meia. Isso destaca a ampla variação na duração dos filmes estudados.\n",
        "\n",
        "- A mediana de 119 minutos indica que metade dos filmes têm uma duração de quase duas horas, sugerindo uma concentração em torno desse valor."
      ],
      "metadata": {
        "id": "_bTQG-nX9maM"
      }
    },
    {
      "cell_type": "code",
      "source": [
        "# Criando o gráfico\n",
        "sns.histplot(df['Runtime/min'], bins = 15, color = 'skyblue')\n",
        "\n",
        "# Definindo título e labels\n",
        "plt.title('Distribuição da duração dos filmes (Runtime)')\n",
        "plt.xlabel('Minutos')\n",
        "plt.ylabel('')\n",
        "\n",
        "# Exibindo o gráfico\n",
        "plt.show()"
      ],
      "metadata": {
        "colab": {
          "base_uri": "https://localhost:8080/",
          "height": 472
        },
        "id": "_abx3IX59XI2",
        "outputId": "92558323-8c91-44e2-e6a6-39bd734b309a"
      },
      "execution_count": null,
      "outputs": [
        {
          "output_type": "display_data",
          "data": {
            "text/plain": [
              "<Figure size 640x480 with 1 Axes>"
            ],
            "image/png": "[encoded data removed]"
          },
          "metadata": {}
        }
      ]
    },
    {
      "cell_type": "markdown",
      "source": [
        "A distribuição dos dados mostra uma assimetria positiva (skewness à direita), o que sugere que a maioria dos filmes tem durações em torno de duas horas, enquanto menos filmes possuem durações significativamente mais longas."
      ],
      "metadata": {
        "id": "cIjWuXlE-XG1"
      }
    },
    {
      "cell_type": "code",
      "source": [
        "# Medindo a simetria da distribuição de dados\n",
        "skew(df['Runtime/min'])"
      ],
      "metadata": {
        "colab": {
          "base_uri": "https://localhost:8080/"
        },
        "id": "iDUwtHhh9GAc",
        "outputId": "09694664-dec6-40d0-ce0d-d4891847934d"
      },
      "execution_count": null,
      "outputs": [
        {
          "output_type": "execute_result",
          "data": {
            "text/plain": [
              "1.2080596847333653"
            ]
          },
          "metadata": {},
          "execution_count": 32
        }
      ]
    },
    {
      "cell_type": "markdown",
      "source": [
        "O valor de skewness forte de 1,2 confirma a assimetria positiva à direita, reforçando a concentração dos filmes em durações menores, com uma cauda longa de filmes com durações excepcionalmente longas."
      ],
      "metadata": {
        "id": "OT87eDb2-jQ7"
      }
    },
    {
      "cell_type": "markdown",
      "source": [
        "**Conclusões**\n",
        "\n",
        "- Os filmes têm uma duração média de aproximadamente 122 minutos, com um desvio padrão de 28 minutos, o que indica uma variação razoável em relação à média. A amplitude dos dados vai de 45 a 321 minutos, destacando uma grande diversidade nas durações dos filmes, com a maioria concentrada em torno de 125 minutos, ou seja, um pouco mais de duas horas.\n",
        "\n",
        "- A distribuição dos dados mostra uma clara assimetria positiva, evidenciada pelo valor de skewness de 1,2, indicando que a maioria dos filmes tem durações menores, enquanto uma minoria significativa apresenta durações muito longas. Essa característica sugere que filmes com durações excepcionalmente longas são menos comuns\n",
        "\n",
        "- Os dados revelam uma variedade considerável nas durações dos filmes, com uma tendência predominante para durações mais curtas, embora haja filmes com durações muito extensas que contribuem para a complexidade e diversidade na indústria cinematográfica."
      ],
      "metadata": {
        "id": "g9GUzSDz-rg8"
      }
    },
    {
      "cell_type": "markdown",
      "source": [
        "## **Variáveis categóricas**"
      ],
      "metadata": {
        "id": "mLD9i8WSQhD6"
      }
    },
    {
      "cell_type": "markdown",
      "source": [
        "O objetivo aqui é o mesmo da análise univariada numérica, que inclui:\n",
        "\n",
        "- Realizar uma análise mais aprofundada das nossas variáveis de interesse.\n",
        "- Criar visualizações mais agradáveis."
      ],
      "metadata": {
        "id": "N7_NcaztQl7q"
      }
    },
    {
      "cell_type": "markdown",
      "source": [
        "Nessa etapa, vamos realizar uma análise univariada apenas nas variáveis categóricas."
      ],
      "metadata": {
        "id": "Dk3tWVRDm5wA"
      }
    },
    {
      "cell_type": "markdown",
      "source": [
        "Antes de começarmos, vamos criar um DataFrame apenas com as variáveis categóricas. Em seguida, utilizaremos apenas as variáveis que considero relevantes para a análise no momento."
      ],
      "metadata": {
        "id": "5XyUwwuVXu1Z"
      }
    },
    {
      "cell_type": "code",
      "source": [
        "# Selecionando apenas as colunas categóricas\n",
        "df_categoricas = df.select_dtypes(include='object')\n",
        "\n",
        "# Exibir as primeiras linhas do DataFrame resultante\n",
        "df_categoricas.head()"
      ],
      "metadata": {
        "colab": {
          "base_uri": "https://localhost:8080/",
          "height": 206
        },
        "id": "lWXeanhHQ9Aj",
        "outputId": "88be242b-74e1-4ddf-8080-ccf46e2b37d1"
      },
      "execution_count": null,
      "outputs": [
        {
          "output_type": "execute_result",
          "data": {
            "text/plain": [
              "                                    Series_Title Certificate  Runtime  \\\n",
              "0                                  The Godfather           A  175 min   \n",
              "1                                The Dark Knight          UA  152 min   \n",
              "2                         The Godfather: Part II           A  202 min   \n",
              "3                                   12 Angry Men           U   96 min   \n",
              "4  The Lord of the Rings: The Return of the King           U  201 min   \n",
              "\n",
              "                      Genre  \\\n",
              "0              Crime, Drama   \n",
              "1      Action, Crime, Drama   \n",
              "2              Crime, Drama   \n",
              "3              Crime, Drama   \n",
              "4  Action, Adventure, Drama   \n",
              "\n",
              "                                            Overview              Director  \\\n",
              "0  An organized crime dynasty's aging patriarch t...  Francis Ford Coppola   \n",
              "1  When the menace known as the Joker wreaks havo...     Christopher Nolan   \n",
              "2  The early life and career of Vito Corleone in ...  Francis Ford Coppola   \n",
              "3  A jury holdout attempts to prevent a miscarria...          Sidney Lumet   \n",
              "4  Gandalf and Aragorn lead the World of Men agai...         Peter Jackson   \n",
              "\n",
              "            Star1            Star2          Star3          Star4  \\\n",
              "0   Marlon Brando        Al Pacino     James Caan   Diane Keaton   \n",
              "1  Christian Bale     Heath Ledger  Aaron Eckhart  Michael Caine   \n",
              "2       Al Pacino   Robert De Niro  Robert Duvall   Diane Keaton   \n",
              "3     Henry Fonda      Lee J. Cobb  Martin Balsam   John Fiedler   \n",
              "4     Elijah Wood  Viggo Mortensen   Ian McKellen  Orlando Bloom   \n",
              "\n",
              "  Gross_formatted  \n",
              "0     134,966,411  \n",
              "1     534,858,444  \n",
              "2      57,300,000  \n",
              "3       4,360,000  \n",
              "4     377,845,905  "
            ],
            "text/html": [
              "\n",
              "  <div id=\"df-ca5d50a7-4551-4cf2-850b-933d3a702d53\" class=\"colab-df-container\">\n",
              "    <div>\n",
              "<style scoped>\n",
              "    .dataframe tbody tr th:only-of-type {\n",
              "        vertical-align: middle;\n",
              "    }\n",
              "\n",
              "    .dataframe tbody tr th {\n",
              "        vertical-align: top;\n",
              "    }\n",
              "\n",
              "    .dataframe thead th {\n",
              "        text-align: right;\n",
              "    }\n",
              "</style>\n",
              "<table border=\"1\" class=\"dataframe\">\n",
              "  <thead>\n",
              "    <tr style=\"text-align: right;\">\n",
              "      <th></th>\n",
              "      <th>Series_Title</th>\n",
              "      <th>Certificate</th>\n",
              "      <th>Runtime</th>\n",
              "      <th>Genre</th>\n",
              "      <th>Overview</th>\n",
              "      <th>Director</th>\n",
              "      <th>Star1</th>\n",
              "      <th>Star2</th>\n",
              "      <th>Star3</th>\n",
              "      <th>Star4</th>\n",
              "      <th>Gross_formatted</th>\n",
              "    </tr>\n",
              "  </thead>\n",
              "  <tbody>\n",
              "    <tr>\n",
              "      <th>0</th>\n",
              "      <td>The Godfather</td>\n",
              "      <td>A</td>\n",
              "      <td>175 min</td>\n",
              "      <td>Crime, Drama</td>\n",
              "      <td>An organized crime dynasty's aging patriarch t...</td>\n",
              "      <td>Francis Ford Coppola</td>\n",
              "      <td>Marlon Brando</td>\n",
              "      <td>Al Pacino</td>\n",
              "      <td>James Caan</td>\n",
              "      <td>Diane Keaton</td>\n",
              "      <td>134,966,411</td>\n",
              "    </tr>\n",
              "    <tr>\n",
              "      <th>1</th>\n",
              "      <td>The Dark Knight</td>\n",
              "      <td>UA</td>\n",
              "      <td>152 min</td>\n",
              "      <td>Action, Crime, Drama</td>\n",
              "      <td>When the menace known as the Joker wreaks havo...</td>\n",
              "      <td>Christopher Nolan</td>\n",
              "      <td>Christian Bale</td>\n",
              "      <td>Heath Ledger</td>\n",
              "      <td>Aaron Eckhart</td>\n",
              "      <td>Michael Caine</td>\n",
              "      <td>534,858,444</td>\n",
              "    </tr>\n",
              "    <tr>\n",
              "      <th>2</th>\n",
              "      <td>The Godfather: Part II</td>\n",
              "      <td>A</td>\n",
              "      <td>202 min</td>\n",
              "      <td>Crime, Drama</td>\n",
              "      <td>The early life and career of Vito Corleone in ...</td>\n",
              "      <td>Francis Ford Coppola</td>\n",
              "      <td>Al Pacino</td>\n",
              "      <td>Robert De Niro</td>\n",
              "      <td>Robert Duvall</td>\n",
              "      <td>Diane Keaton</td>\n",
              "      <td>57,300,000</td>\n",
              "    </tr>\n",
              "    <tr>\n",
              "      <th>3</th>\n",
              "      <td>12 Angry Men</td>\n",
              "      <td>U</td>\n",
              "      <td>96 min</td>\n",
              "      <td>Crime, Drama</td>\n",
              "      <td>A jury holdout attempts to prevent a miscarria...</td>\n",
              "      <td>Sidney Lumet</td>\n",
              "      <td>Henry Fonda</td>\n",
              "      <td>Lee J. Cobb</td>\n",
              "      <td>Martin Balsam</td>\n",
              "      <td>John Fiedler</td>\n",
              "      <td>4,360,000</td>\n",
              "    </tr>\n",
              "    <tr>\n",
              "      <th>4</th>\n",
              "      <td>The Lord of the Rings: The Return of the King</td>\n",
              "      <td>U</td>\n",
              "      <td>201 min</td>\n",
              "      <td>Action, Adventure, Drama</td>\n",
              "      <td>Gandalf and Aragorn lead the World of Men agai...</td>\n",
              "      <td>Peter Jackson</td>\n",
              "      <td>Elijah Wood</td>\n",
              "      <td>Viggo Mortensen</td>\n",
              "      <td>Ian McKellen</td>\n",
              "      <td>Orlando Bloom</td>\n",
              "      <td>377,845,905</td>\n",
              "    </tr>\n",
              "  </tbody>\n",
              "</table>\n",
              "</div>\n",
              "    <div class=\"colab-df-buttons\">\n",
              "\n",
              "  <div class=\"colab-df-container\">\n",
              "    <button class=\"colab-df-convert\" onclick=\"convertToInteractive('df-ca5d50a7-4551-4cf2-850b-933d3a702d53')\"\n",
              "            title=\"Convert this dataframe to an interactive table.\"\n",
              "            style=\"display:none;\">\n",
              "\n",
              "  <svg xmlns=\"http://www.w3.org/2000/svg\" height=\"24px\" viewBox=\"0 -960 960 960\">\n",
              "    <path d=\"M120-120v-720h720v720H120Zm60-500h600v-160H180v160Zm220 220h160v-160H400v160Zm0 220h160v-160H400v160ZM180-400h160v-160H180v160Zm440 0h160v-160H620v160ZM180-180h160v-160H180v160Zm440 0h160v-160H620v160Z\"/>\n",
              "  </svg>\n",
              "    </button>\n",
              "\n",
              "  <style>\n",
              "    .colab-df-container {\n",
              "      display:flex;\n",
              "      gap: 12px;\n",
              "    }\n",
              "\n",
              "    .colab-df-convert {\n",
              "      background-color: #E8F0FE;\n",
              "      border: none;\n",
              "      border-radius: 50%;\n",
              "      cursor: pointer;\n",
              "      display: none;\n",
              "      fill: #1967D2;\n",
              "      height: 32px;\n",
              "      padding: 0 0 0 0;\n",
              "      width: 32px;\n",
              "    }\n",
              "\n",
              "    .colab-df-convert:hover {\n",
              "      background-color: #E2EBFA;\n",
              "      box-shadow: 0px 1px 2px rgba(60, 64, 67, 0.3), 0px 1px 3px 1px rgba(60, 64, 67, 0.15);\n",
              "      fill: #174EA6;\n",
              "    }\n",
              "\n",
              "    .colab-df-buttons div {\n",
              "      margin-bottom: 4px;\n",
              "    }\n",
              "\n",
              "    [theme=dark] .colab-df-convert {\n",
              "      background-color: #3B4455;\n",
              "      fill: #D2E3FC;\n",
              "    }\n",
              "\n",
              "    [theme=dark] .colab-df-convert:hover {\n",
              "      background-color: #434B5C;\n",
              "      box-shadow: 0px 1px 3px 1px rgba(0, 0, 0, 0.15);\n",
              "      filter: drop-shadow(0px 1px 2px rgba(0, 0, 0, 0.3));\n",
              "      fill: #FFFFFF;\n",
              "    }\n",
              "  </style>\n",
              "\n",
              "    <script>\n",
              "      const buttonEl =\n",
              "        document.querySelector('#df-ca5d50a7-4551-4cf2-850b-933d3a702d53 button.colab-df-convert');\n",
              "      buttonEl.style.display =\n",
              "        google.colab.kernel.accessAllowed ? 'block' : 'none';\n",
              "\n",
              "      async function convertToInteractive(key) {\n",
              "        const element = document.querySelector('#df-ca5d50a7-4551-4cf2-850b-933d3a702d53');\n",
              "        const dataTable =\n",
              "          await google.colab.kernel.invokeFunction('convertToInteractive',\n",
              "                                                    [key], {});\n",
              "        if (!dataTable) return;\n",
              "\n",
              "        const docLinkHtml = 'Like what you see? Visit the ' +\n",
              "          '<a target=\"_blank\" href=https://colab.research.google.com/notebooks/data_table.ipynb>data table notebook</a>'\n",
              "          + ' to learn more about interactive tables.';\n",
              "        element.innerHTML = '';\n",
              "        dataTable['output_type'] = 'display_data';\n",
              "        await google.colab.output.renderOutput(dataTable, element);\n",
              "        const docLink = document.createElement('div');\n",
              "        docLink.innerHTML = docLinkHtml;\n",
              "        element.appendChild(docLink);\n",
              "      }\n",
              "    </script>\n",
              "  </div>\n",
              "\n",
              "\n",
              "<div id=\"df-b4b31059-3fa3-4fc3-b761-f4adfb3bb3cb\">\n",
              "  <button class=\"colab-df-quickchart\" onclick=\"quickchart('df-b4b31059-3fa3-4fc3-b761-f4adfb3bb3cb')\"\n",
              "            title=\"Suggest charts\"\n",
              "            style=\"display:none;\">\n",
              "\n",
              "<svg xmlns=\"http://www.w3.org/2000/svg\" height=\"24px\"viewBox=\"0 0 24 24\"\n",
              "     width=\"24px\">\n",
              "    <g>\n",
              "        <path d=\"M19 3H5c-1.1 0-2 .9-2 2v14c0 1.1.9 2 2 2h14c1.1 0 2-.9 2-2V5c0-1.1-.9-2-2-2zM9 17H7v-7h2v7zm4 0h-2V7h2v10zm4 0h-2v-4h2v4z\"/>\n",
              "    </g>\n",
              "</svg>\n",
              "  </button>\n",
              "\n",
              "<style>\n",
              "  .colab-df-quickchart {\n",
              "      --bg-color: #E8F0FE;\n",
              "      --fill-color: #1967D2;\n",
              "      --hover-bg-color: #E2EBFA;\n",
              "      --hover-fill-color: #174EA6;\n",
              "      --disabled-fill-color: #AAA;\n",
              "      --disabled-bg-color: #DDD;\n",
              "  }\n",
              "\n",
              "  [theme=dark] .colab-df-quickchart {\n",
              "      --bg-color: #3B4455;\n",
              "      --fill-color: #D2E3FC;\n",
              "      --hover-bg-color: #434B5C;\n",
              "      --hover-fill-color: #FFFFFF;\n",
              "      --disabled-bg-color: #3B4455;\n",
              "      --disabled-fill-color: #666;\n",
              "  }\n",
              "\n",
              "  .colab-df-quickchart {\n",
              "    background-color: var(--bg-color);\n",
              "    border: none;\n",
              "    border-radius: 50%;\n",
              "    cursor: pointer;\n",
              "    display: none;\n",
              "    fill: var(--fill-color);\n",
              "    height: 32px;\n",
              "    padding: 0;\n",
              "    width: 32px;\n",
              "  }\n",
              "\n",
              "  .colab-df-quickchart:hover {\n",
              "    background-color: var(--hover-bg-color);\n",
              "    box-shadow: 0 1px 2px rgba(60, 64, 67, 0.3), 0 1px 3px 1px rgba(60, 64, 67, 0.15);\n",
              "    fill: var(--button-hover-fill-color);\n",
              "  }\n",
              "\n",
              "  .colab-df-quickchart-complete:disabled,\n",
              "  .colab-df-quickchart-complete:disabled:hover {\n",
              "    background-color: var(--disabled-bg-color);\n",
              "    fill: var(--disabled-fill-color);\n",
              "    box-shadow: none;\n",
              "  }\n",
              "\n",
              "  .colab-df-spinner {\n",
              "    border: 2px solid var(--fill-color);\n",
              "    border-color: transparent;\n",
              "    border-bottom-color: var(--fill-color);\n",
              "    animation:\n",
              "      spin 1s steps(1) infinite;\n",
              "  }\n",
              "\n",
              "  @keyframes spin {\n",
              "    0% {\n",
              "      border-color: transparent;\n",
              "      border-bottom-color: var(--fill-color);\n",
              "      border-left-color: var(--fill-color);\n",
              "    }\n",
              "    20% {\n",
              "      border-color: transparent;\n",
              "      border-left-color: var(--fill-color);\n",
              "      border-top-color: var(--fill-color);\n",
              "    }\n",
              "    30% {\n",
              "      border-color: transparent;\n",
              "      border-left-color: var(--fill-color);\n",
              "      border-top-color: var(--fill-color);\n",
              "      border-right-color: var(--fill-color);\n",
              "    }\n",
              "    40% {\n",
              "      border-color: transparent;\n",
              "      border-right-color: var(--fill-color);\n",
              "      border-top-color: var(--fill-color);\n",
              "    }\n",
              "    60% {\n",
              "      border-color: transparent;\n",
              "      border-right-color: var(--fill-color);\n",
              "    }\n",
              "    80% {\n",
              "      border-color: transparent;\n",
              "      border-right-color: var(--fill-color);\n",
              "      border-bottom-color: var(--fill-color);\n",
              "    }\n",
              "    90% {\n",
              "      border-color: transparent;\n",
              "      border-bottom-color: var(--fill-color);\n",
              "    }\n",
              "  }\n",
              "</style>\n",
              "\n",
              "  <script>\n",
              "    async function quickchart(key) {\n",
              "      const quickchartButtonEl =\n",
              "        document.querySelector('#' + key + ' button');\n",
              "      quickchartButtonEl.disabled = true;  // To prevent multiple clicks.\n",
              "      quickchartButtonEl.classList.add('colab-df-spinner');\n",
              "      try {\n",
              "        const charts = await google.colab.kernel.invokeFunction(\n",
              "            'suggestCharts', [key], {});\n",
              "      } catch (error) {\n",
              "        console.error('Error during call to suggestCharts:', error);\n",
              "      }\n",
              "      quickchartButtonEl.classList.remove('colab-df-spinner');\n",
              "      quickchartButtonEl.classList.add('colab-df-quickchart-complete');\n",
              "    }\n",
              "    (() => {\n",
              "      let quickchartButtonEl =\n",
              "        document.querySelector('#df-b4b31059-3fa3-4fc3-b761-f4adfb3bb3cb button');\n",
              "      quickchartButtonEl.style.display =\n",
              "        google.colab.kernel.accessAllowed ? 'block' : 'none';\n",
              "    })();\n",
              "  </script>\n",
              "</div>\n",
              "\n",
              "    </div>\n",
              "  </div>\n"
            ],
            "application/vnd.google.colaboratory.intrinsic+json": {
              "type": "dataframe",
              "variable_name": "df_categoricas",
              "summary": "{\n  \"name\": \"df_categoricas\",\n  \"rows\": 999,\n  \"fields\": [\n    {\n      \"column\": \"Series_Title\",\n      \"properties\": {\n        \"dtype\": \"string\",\n        \"num_unique_values\": 998,\n        \"samples\": [\n          \"Arsenic and Old Lace\",\n          \"Hedwig and the Angry Inch\",\n          \"\\u00d4kami kodomo no Ame to Yuki\"\n        ],\n        \"semantic_type\": \"\",\n        \"description\": \"\"\n      }\n    },\n    {\n      \"column\": \"Certificate\",\n      \"properties\": {\n        \"dtype\": \"category\",\n        \"num_unique_values\": 16,\n        \"samples\": [\n          \"A\",\n          \"UA\",\n          \"PG\"\n        ],\n        \"semantic_type\": \"\",\n        \"description\": \"\"\n      }\n    },\n    {\n      \"column\": \"Runtime\",\n      \"properties\": {\n        \"dtype\": \"category\",\n        \"num_unique_values\": 140,\n        \"samples\": [\n          \"205 min\",\n          \"129 min\",\n          \"112 min\"\n        ],\n        \"semantic_type\": \"\",\n        \"description\": \"\"\n      }\n    },\n    {\n      \"column\": \"Genre\",\n      \"properties\": {\n        \"dtype\": \"category\",\n        \"num_unique_values\": 202,\n        \"samples\": [\n          \"Comedy, Drama, Fantasy\",\n          \"Crime, Drama, Fantasy\",\n          \"Drama, Romance, War\"\n        ],\n        \"semantic_type\": \"\",\n        \"description\": \"\"\n      }\n    },\n    {\n      \"column\": \"Overview\",\n      \"properties\": {\n        \"dtype\": \"string\",\n        \"num_unique_values\": 999,\n        \"samples\": [\n          \"Three World War II veterans return home to small-town America to discover that they and their families have been irreparably changed.\",\n          \"A gender-queer punk-rock singer from East Berlin tours the U.S. with her band as she tells her life story and follows the former lover/band-mate who stole her songs.\",\n          \"With his wife's disappearance having become the focus of an intense media circus, a man sees the spotlight turned on him when it's suspected that he may not be innocent.\"\n        ],\n        \"semantic_type\": \"\",\n        \"description\": \"\"\n      }\n    },\n    {\n      \"column\": \"Director\",\n      \"properties\": {\n        \"dtype\": \"string\",\n        \"num_unique_values\": 548,\n        \"samples\": [\n          \"Satoshi Kon\",\n          \"David Lean\",\n          \"Yilmaz Erdogan\"\n        ],\n        \"semantic_type\": \"\",\n        \"description\": \"\"\n      }\n    },\n    {\n      \"column\": \"Star1\",\n      \"properties\": {\n        \"dtype\": \"string\",\n        \"num_unique_values\": 659,\n        \"samples\": [\n          \"Peter Dinklage\",\n          \"Jay Baruchel\",\n          \"Steve McQueen\"\n        ],\n        \"semantic_type\": \"\",\n        \"description\": \"\"\n      }\n    },\n    {\n      \"column\": \"Star2\",\n      \"properties\": {\n        \"dtype\": \"string\",\n        \"num_unique_values\": 840,\n        \"samples\": [\n          \"Jacques Villeret\",\n          \"Meg Ryan\",\n          \"J.K. Simmons\"\n        ],\n        \"semantic_type\": \"\",\n        \"description\": \"\"\n      }\n    },\n    {\n      \"column\": \"Star3\",\n      \"properties\": {\n        \"dtype\": \"string\",\n        \"num_unique_values\": 890,\n        \"samples\": [\n          \"Yacef Saadi\",\n          \"John Wray\",\n          \"Chazz Palminteri\"\n        ],\n        \"semantic_type\": \"\",\n        \"description\": \"\"\n      }\n    },\n    {\n      \"column\": \"Star4\",\n      \"properties\": {\n        \"dtype\": \"string\",\n        \"num_unique_values\": 938,\n        \"samples\": [\n          \"Veronica Cartwright\",\n          \"Domhnall Gleeson\",\n          \"Jennifer Ulrich\"\n        ],\n        \"semantic_type\": \"\",\n        \"description\": \"\"\n      }\n    },\n    {\n      \"column\": \"Gross_formatted\",\n      \"properties\": {\n        \"dtype\": \"string\",\n        \"num_unique_values\": 823,\n        \"samples\": [\n          \"132,092,958\",\n          \"67,209,615\",\n          \"78,900,000\"\n        ],\n        \"semantic_type\": \"\",\n        \"description\": \"\"\n      }\n    }\n  ]\n}"
            }
          },
          "metadata": {},
          "execution_count": 34
        }
      ]
    },
    {
      "cell_type": "markdown",
      "source": [
        "Agora podemos prosseguir com nossas análises."
      ],
      "metadata": {
        "id": "Jl5M2C0iX0Ax"
      }
    },
    {
      "cell_type": "markdown",
      "source": [
        "### **Certificate**"
      ],
      "metadata": {
        "id": "_d-tp6RIabJI"
      }
    },
    {
      "cell_type": "markdown",
      "source": [
        "Antes de iniciarmos a análise, precisaremos realizar alguns ajustes nesta variável. Como vimos no começo, ela possui valores ausentes. Vamos preencher esses valores com a seguinte denominação: 'CD', que representa 'Classificação Desconhecida'. Dito isso, vamos seguir adiante."
      ],
      "metadata": {
        "id": "hTfJPHoOcOFx"
      }
    },
    {
      "cell_type": "code",
      "source": [
        "# Preenchendo os valores ausentes com 'CD'\n",
        "df_categoricas['Certificate'] = df_categoricas['Certificate'].fillna('CD')\n",
        "\n",
        "# Realizando a contagem das frequencias\n",
        "frequencia_certificate = df_categoricas['Certificate'].value_counts()"
      ],
      "metadata": {
        "collapsed": true,
        "id": "aj6ijwrqSzrz"
      },
      "execution_count": null,
      "outputs": []
    },
    {
      "cell_type": "markdown",
      "source": [
        "Agora que já sabemos quantas vezes cada classificação se repete no nosso DataFrame, inclusive quando temos um valor ausente, vamos observar como se comporta essa variável."
      ],
      "metadata": {
        "id": "qXy85wjKYITB"
      }
    },
    {
      "cell_type": "code",
      "source": [
        "# Tamanho da figura\n",
        "plt.figure(figsize=(12, 6))\n",
        "\n",
        "# Criando o gráfico\n",
        "sns.histplot(df_categoricas['Certificate'], bins = 15, color = 'skyblue')\n",
        "\n",
        "# Definindo título e labels\n",
        "plt.title('Distribuição da classificação indicativa (Certificate)')\n",
        "plt.xlabel('')\n",
        "plt.ylabel('')\n",
        "plt.xticks(rotation=45)\n",
        "# Exibindo o gráfico\n",
        "plt.show()\n"
      ],
      "metadata": {
        "colab": {
          "base_uri": "https://localhost:8080/"
        },
        "id": "CBRZAlvFUDAD",
        "outputId": "7de862b3-9235-406c-cc39-c519dd3d1255"
      },
      "execution_count": null,
      "outputs": [
        {
          "output_type": "display_data",
          "data": {
            "text/plain": [
              "<Figure size 1200x600 with 1 Axes>"
            ],
            "image/png": "[encoded data removed]"
          },
          "metadata": {}
        }
      ]
    },
    {
      "cell_type": "markdown",
      "source": [
        "Lembrando que essas classificações são dividads da seguinte forma:\n",
        "\n",
        "- **U (Universal)**: Adequado para todos os públicos.\n",
        "- **A (Adult)**: Adequado apenas para adultos.\n",
        "- **UA (Universal/Adult)**: Adequado para públicos acima de 12 anos, podendo ser assistido por crianças acompanhadas de um adulto.\n",
        "- **R (Restricted)**: Restrito, geralmente significa que menores de 17 anos precisam estar acompanhados de um adulto.\n",
        "- **CD**: Classificação não identificada ou não especificada.\n",
        "- **PG-13 (Parents Strongly Cautioned)**: Alguns materiais podem ser inadequados para menores de 13 anos.\n",
        "- **PG (Parental Guidance)**: Supervisão dos pais sugerida, alguns materiais podem não ser adequados para crianças.\n",
        "- **Passed**: Classificação mais antiga, indicando que o filme foi aprovado pelo código de produção da época.\n",
        "- **G (General Audiences)**: Adequado para todos os públicos.\n",
        "- **Approved**: Filme aprovado pelo sistema de classificação de filmes da época.\n",
        "- **TV-PG (Parental Guidance Suggested)**: Supervisão dos pais sugerida para programas de televisão.\n",
        "- **GP**: Classificação anterior ao PG, usada brevemente no início dos anos 1970.\n",
        "- **TV-14**: Adequado para maiores de 14 anos, programas de televisão.\n",
        "- **16**: Adequado para maiores de 16 anos.\n",
        "- **TV-MA (Mature Audience)**: Adequado apenas para adultos, programas de televisão.\n",
        "- **Unrated**: Filme não classificado oficialmente.\n",
        "- **U/A**: Outra forma de denotar a classificação \"UA\" (Universal/Adult).\n"
      ],
      "metadata": {
        "id": "ypyx7Q8FclqZ"
      }
    },
    {
      "cell_type": "markdown",
      "source": [
        "**Conclusões**\n",
        "\n",
        "- A análise dos dados revela que a classificação predominante é a 'U', indicando que a maioria dos filmes são adequados para todos os públicos. Em seguida, a classificação 'A' para filmes voltados exclusivamente para adultos é a segunda mais comum. A classificação 'UA', destinada a públicos acima de 12 anos acompanhados por um adulto, também é significativa. Logo depois, a classificação 'R' sugere que muitos filmes requerem a supervisão de um adulto para menores de 17 anos. Além disso, uma quantidade notável de filmes possui classificações não identificadas ou ausentes, representadas aqui como 'CD'.\n",
        "\n",
        "Essas são as classificações mais recorrentes em nossos dados, refletindo a diversidade de públicos-alvo atendidos pelos filmes analisados."
      ],
      "metadata": {
        "id": "VOIW8Btqd-Jp"
      }
    },
    {
      "cell_type": "markdown",
      "source": [
        "### **Genre**"
      ],
      "metadata": {
        "id": "K8u0eATmo3V9"
      }
    },
    {
      "cell_type": "markdown",
      "source": [
        "Para trabalharmos melhor com essa variável, será necessário realizar alguns procedimentos. Aqui estão os passos que iremos seguir:\n",
        "\n",
        "- Criaremos uma cópia do DataFrame 'df_categoricas', pois as coisas podem ficar um pouco confusas após executarmos os passos seguintes. Faremos essas operações em um DataFrame separado.\n",
        "  \n",
        "- Observamos anteriormente que os valores na coluna 'Genre' estão divididos por uma vírgula e um espaço. Primeiramente, vamos separar os valores com base nesses dois caracteres.\n",
        "\n",
        "- Em seguida, transformaremos cada elemento dessa separação em linhas individuais, armazenando cada elemento separado em uma linha própria.\n",
        "\n",
        "- Por último, contaremos a frequência com que cada elemento aparece."
      ],
      "metadata": {
        "id": "oExPLcSfrCzW"
      }
    },
    {
      "cell_type": "code",
      "source": [
        "# Criando um novo DataFrame para evitar modificar o original\n",
        "df_categoricas_copy = (df_categoricas.copy())"
      ],
      "metadata": {
        "id": "sSvlTjLVxz2b"
      },
      "execution_count": null,
      "outputs": []
    },
    {
      "cell_type": "code",
      "source": [
        "# Dividindo os gêneros separados por vírgula em listas\n",
        "df_categoricas_copy['Genre'] = df_categoricas_copy['Genre'].str.split(', ')\n",
        "\n",
        "# Explodindo as listas de gêneros em linhas separadas (se necessário)\n",
        "df_categoricas_copy = df_categoricas_copy.explode('Genre').reset_index(drop=True)\n",
        "\n",
        "# Contando a frequência de cada gênero\n",
        "frequencia_generos = df_categoricas_copy['Genre'].value_counts()\n",
        "\n",
        "# Exibindo a frequência de cada gênero\n",
        "print(frequencia_generos)"
      ],
      "metadata": {
        "colab": {
          "base_uri": "https://localhost:8080/"
        },
        "id": "8Qev5tdmqE_d",
        "outputId": "172ddcfd-9d98-4ac7-d153-111a258db77c"
      },
      "execution_count": null,
      "outputs": [
        {
          "output_type": "stream",
          "name": "stdout",
          "text": [
            "Genre\n",
            "Drama        723\n",
            "Comedy       233\n",
            "Crime        209\n",
            "Adventure    196\n",
            "Action       189\n",
            "Thriller     137\n",
            "Romance      125\n",
            "Biography    109\n",
            "Mystery       99\n",
            "Animation     82\n",
            "Sci-Fi        67\n",
            "Fantasy       66\n",
            "Family        56\n",
            "History       56\n",
            "War           51\n",
            "Music         35\n",
            "Horror        32\n",
            "Western       20\n",
            "Film-Noir     19\n",
            "Sport         19\n",
            "Musical       17\n",
            "Name: count, dtype: int64\n"
          ]
        }
      ]
    },
    {
      "cell_type": "markdown",
      "source": [
        "Agora podemos identificar o gênero predominante em nossa base de dados. Destacamos os cinco gêneros mais comuns:\n",
        "\n",
        "- 1º: Drama\n",
        "- 2º: Comédia\n",
        "- 3º: Crime\n",
        "- 4º: Aventura\n",
        "- 5º: Ação\n",
        "\n",
        "Vamos observar graficamente essa distribuição dos gêneros."
      ],
      "metadata": {
        "id": "uBsa1gagsj0L"
      }
    },
    {
      "cell_type": "code",
      "source": [
        "# Criando o gráfico de barras\n",
        "plt.figure(figsize=(8, 6))\n",
        "frequencia_generos.plot(kind='bar', color='skyblue')\n",
        "plt.xlabel('')\n",
        "plt.ylabel('')\n",
        "plt.title('Frequência de Gêneros dos Filmes (Genre)')\n",
        "plt.xticks(rotation=45, ha='right')\n",
        "plt.tight_layout()\n",
        "plt.show()"
      ],
      "metadata": {
        "colab": {
          "base_uri": "https://localhost:8080/",
          "height": 607
        },
        "id": "ojqQh89Atj-W",
        "outputId": "0b70685a-4983-4e53-c5dc-8dd6ed137bb1"
      },
      "execution_count": null,
      "outputs": [
        {
          "output_type": "display_data",
          "data": {
            "text/plain": [
              "<Figure size 800x600 with 1 Axes>"
            ],
            "image/png": "[encoded data removed]"
          },
          "metadata": {}
        }
      ]
    },
    {
      "cell_type": "markdown",
      "source": [
        "Dessa forma, podemos ter uma visão mais gráfica, por assim dizer, de quais são os gêneros mais populares dos filmes em nosso DataFrame."
      ],
      "metadata": {
        "id": "m_ZXTA_5u4Ji"
      }
    },
    {
      "cell_type": "markdown",
      "source": [
        "### **Overview**"
      ],
      "metadata": {
        "id": "GY_sLd-xvtpN"
      }
    },
    {
      "cell_type": "markdown",
      "source": [
        "Vamos tentar uma abordagem diferente para esta coluna. Vamos tentar entender um pouco do que se passa em cada um desses resumos utilizando uma análise de sentimento. Para isso, será necessário realizar algumas importações."
      ],
      "metadata": {
        "id": "L4lRCIMGvxDD"
      }
    },
    {
      "cell_type": "code",
      "source": [
        "# Importando a biblioteca\n",
        "from textblob import TextBlob\n",
        "\n",
        "# Função para calcular a polaridade do sentimento usando TextBlob\n",
        "def analise_sentimento(texto):\n",
        "    blob = TextBlob(texto)\n",
        "    return blob.sentiment.polarity"
      ],
      "metadata": {
        "id": "7g3RN22dwCak"
      },
      "execution_count": null,
      "outputs": []
    },
    {
      "cell_type": "markdown",
      "source": [
        "Agora que importamos a biblioteca e criamos a função para analisar os sentimentos, vamos aplicar essa função na nossa coluna de resumos. Os valores positivos representarão sentimentos positivos, os valores negativos representarão sentimentos negativos e os valores nulos representarão sentimentos neutros."
      ],
      "metadata": {
        "id": "TWHQJbqQ1jOr"
      }
    },
    {
      "cell_type": "code",
      "source": [
        "# Aplicando a análise de sentimento aos resumos\n",
        "df_categoricas['Sentimento'] = df_categoricas['Overview'].apply(analise_sentimento)\n",
        "\n",
        "# Exibir os resultados\n",
        "print(df_categoricas[['Overview', 'Sentimento']])"
      ],
      "metadata": {
        "colab": {
          "base_uri": "https://localhost:8080/"
        },
        "id": "X_qJUWfxwKxs",
        "outputId": "11612227-87ea-47f2-f947-e027bd1353c7"
      },
      "execution_count": null,
      "outputs": [
        {
          "output_type": "stream",
          "name": "stdout",
          "text": [
            "                                              Overview  Sentimento\n",
            "0    An organized crime dynasty's aging patriarch t...       0.000\n",
            "1    When the menace known as the Joker wreaks havo...       0.333\n",
            "2    The early life and career of Vito Corleone in ...       0.118\n",
            "3    A jury holdout attempts to prevent a miscarria...       0.000\n",
            "4    Gandalf and Aragorn lead the World of Men agai...       0.000\n",
            "..                                                 ...         ...\n",
            "994  A young New York socialite becomes interested ...       0.067\n",
            "995  Sprawling epic covering the life of a Texas ca...       0.100\n",
            "996  In Hawaii in 1941, a private is cruelly punish...      -0.167\n",
            "997  Several survivors of a torpedoed merchant ship...       0.000\n",
            "998  A man in London tries to help a counter-espion...      -0.050\n",
            "\n",
            "[999 rows x 2 columns]\n"
          ]
        }
      ]
    },
    {
      "cell_type": "markdown",
      "source": [
        "Como podemos observar ao lado de cada overview temos uma polarização dos sentimentos, vamos observar mais de perto esses valores."
      ],
      "metadata": {
        "id": "aU-ifGh_2O6Q"
      }
    },
    {
      "cell_type": "code",
      "source": [
        "# Resumo estátistico\n",
        "df_categoricas['Sentimento'].describe()"
      ],
      "metadata": {
        "colab": {
          "base_uri": "https://localhost:8080/"
        },
        "id": "D-tdE_Zn2X2R",
        "outputId": "d0d050ca-b030-4d37-e0c6-1b27cf98f300"
      },
      "execution_count": null,
      "outputs": [
        {
          "output_type": "execute_result",
          "data": {
            "text/plain": [
              "count   999.000\n",
              "mean      0.011\n",
              "std       0.250\n",
              "min      -1.000\n",
              "25%      -0.100\n",
              "50%       0.000\n",
              "75%       0.136\n",
              "max       1.000\n",
              "Name: Sentimento, dtype: float64"
            ]
          },
          "metadata": {},
          "execution_count": 49
        }
      ]
    },
    {
      "cell_type": "markdown",
      "source": [
        "**Pontos importantes**\n",
        "\n",
        "- Podemos observar que nossos resumos têm uma média próxima de zero, indicando uma distribuição relativamente neutra dos sentimentos.\n",
        "\n",
        "- Os percentis revelam que a maioria dos dados está concentrada em valores neutros ou ligeiramente negativos, com uma pequena proporção de filmes com resumos extremamente positivos ou negativos.\n",
        "\n",
        "- A média e a mediana próximas sugerem uma distribuição simétrica ou quase simétrica dos sentimentos nos resumos."
      ],
      "metadata": {
        "id": "q2jMgZ_b2mFR"
      }
    },
    {
      "cell_type": "code",
      "source": [
        "# Criando histograma das polaridades de sentimento\n",
        "plt.figure(figsize=(8, 6))\n",
        "plt.hist(df_categoricas['Sentimento'], bins=20, color='skyblue', edgecolor='black')\n",
        "\n",
        "# Adicionar título e rótulos aos eixos\n",
        "plt.title('Distribuição das Polaridades de Sentimento')\n",
        "plt.xlabel('Polaridade do Sentimento')\n",
        "plt.ylabel('')\n",
        "\n",
        "# Exibir o histograma\n",
        "plt.show()"
      ],
      "metadata": {
        "colab": {
          "base_uri": "https://localhost:8080/",
          "height": 564
        },
        "id": "CAYUZ95bqQs9",
        "outputId": "74a316c0-e33c-40d6-a292-efa6591c86b0"
      },
      "execution_count": null,
      "outputs": [
        {
          "output_type": "display_data",
          "data": {
            "text/plain": [
              "<Figure size 800x600 with 1 Axes>"
            ],
            "image/png": "[encoded data removed]"
          },
          "metadata": {}
        }
      ]
    },
    {
      "cell_type": "markdown",
      "source": [
        "Embora a distribuição se assemelhe à normal devido à baixa variação nos dados, é perceptível essa assimetria leve, refletindo uma predominância de valores baixos de sentimento nos resumos."
      ],
      "metadata": {
        "id": "oQwwxeLi3BXC"
      }
    },
    {
      "cell_type": "code",
      "source": [
        "# Medindo a simetria da distribuição de dados\n",
        "skew(df_categoricas['Sentimento'])"
      ],
      "metadata": {
        "colab": {
          "base_uri": "https://localhost:8080/"
        },
        "id": "VcoTTX2R3Fsp",
        "outputId": "3b8f8015-237a-4abc-e97d-6b481274ef4c"
      },
      "execution_count": null,
      "outputs": [
        {
          "output_type": "execute_result",
          "data": {
            "text/plain": [
              "-0.27672970374347694"
            ]
          },
          "metadata": {},
          "execution_count": 50
        }
      ]
    },
    {
      "cell_type": "markdown",
      "source": [
        "A assimetria positiva leve (skew = 0.2) indica que a distribuição tem uma cauda ligeiramente estendida para a direita, com a maioria dos sentimentos concentrados em valores mais baixos."
      ],
      "metadata": {
        "id": "ui0XfuGp3fQB"
      }
    },
    {
      "cell_type": "markdown",
      "source": [
        "**Conclusões**\n",
        "\n",
        "- Ao analisar os resumos de filmes, observamos que a distribuição dos sentimentos é predominantemente neutra, com uma média próxima de zero. Isso sugere que a maioria dos filmes tende a apresentar resumos que não são fortemente positivos nem negativos. Os percentis revelam que a maior parte dos dados está concentrada em sentimentos neutros ou ligeiramente negativos, com uma pequena proporção de filmes apresentando resumos extremamente positivos ou negativos."
      ],
      "metadata": {
        "id": "wlt5rTHZ4W-p"
      }
    },
    {
      "cell_type": "markdown",
      "source": [
        "# **Análise bivariada**"
      ],
      "metadata": {
        "id": "wwxncEVUKsIg"
      }
    },
    {
      "cell_type": "markdown",
      "source": [
        "Nessa etapa, vamos observar as interações entre as variáveis e conferir se conseguiremos extrair algumas informações importantes. É aqui que iremos verificar algumas hipóteses."
      ],
      "metadata": {
        "id": "dpnALW6RL-YH"
      }
    },
    {
      "cell_type": "markdown",
      "source": [
        "### O ano de lançamento pode impactar no faturamento do filmes ?"
      ],
      "metadata": {
        "id": "G6BDWPeWPWVX"
      }
    },
    {
      "cell_type": "markdown",
      "source": [
        "Vamos começar observando como essas variáveis se comportam entre si."
      ],
      "metadata": {
        "id": "dlmUsggiUeb1"
      }
    },
    {
      "cell_type": "code",
      "source": [
        "# Gráfico de dispersão\n",
        "plt.figure(figsize=(10, 6))\n",
        "sns.scatterplot(x='Released_Year', y='Gross', data=df)\n",
        "plt.title('Relação entre Ano de Lançamento e Faturamento')\n",
        "plt.xlabel('')\n",
        "plt.ylabel('')\n",
        "plt.show()"
      ],
      "metadata": {
        "colab": {
          "base_uri": "https://localhost:8080/",
          "height": 564
        },
        "id": "cuP0YSSHSRAW",
        "outputId": "67f1fd9f-1973-4109-827f-b48eae9c41c4"
      },
      "execution_count": null,
      "outputs": [
        {
          "output_type": "display_data",
          "data": {
            "text/plain": [
              "<Figure size 1000x600 with 1 Axes>"
            ],
            "image/png": "[encoded data removed]"
          },
          "metadata": {}
        }
      ]
    },
    {
      "cell_type": "markdown",
      "source": [
        "Podemos observar que realmente alguns casos que apresentam um faturamento maior vão se tornando mais comuns com o passar do tempo.\n",
        "\n",
        "Mas será que esse aumento é estatisticamente significativo? Para isso, vamos realizar um teste de hipóteses. Mas, antes, precisaremos tratar os valores ausentes. Vamos criar uma cópia do nosso dataframe, onde realizaremos essas operações."
      ],
      "metadata": {
        "id": "Qc9XmSrbUp_W"
      }
    },
    {
      "cell_type": "code",
      "source": [
        "# Criando uma cópia do nosso df original\n",
        "df_copy = df.copy()"
      ],
      "metadata": {
        "id": "SL9rnBy9UIde"
      },
      "execution_count": null,
      "outputs": []
    },
    {
      "cell_type": "markdown",
      "source": [
        "Agora que criamos a cópia, vamos observar a quantidade de valores nulos e realizar o tratamento desses dados."
      ],
      "metadata": {
        "id": "kfUZ3rXqWL38"
      }
    },
    {
      "cell_type": "code",
      "source": [
        "# Observando os valores ausentes\n",
        "print(df_copy[['Released_Year', 'Gross']].isnull().sum())"
      ],
      "metadata": {
        "colab": {
          "base_uri": "https://localhost:8080/"
        },
        "id": "1j2khsENVxyF",
        "outputId": "de64fefb-e6a4-46d8-82ed-8f016dfd1b1e"
      },
      "execution_count": null,
      "outputs": [
        {
          "output_type": "stream",
          "name": "stdout",
          "text": [
            "Released_Year      1\n",
            "Gross            169\n",
            "dtype: int64\n"
          ]
        }
      ]
    },
    {
      "cell_type": "markdown",
      "source": [
        "Agora, vamos realizar o tratamento. Como a variável 'Gross' apresenta muitos outliers, para realizar o preenchimento dos valores ausentes dessa coluna, irei utilizar a mediana dos dados.\n",
        "\n",
        "Enquanto na coluna 'Released_Year' temos apenas um valor ausente, então é possível simplesmente excluirmos essa linha.\n",
        "\n",
        "Dito isso, vamos realizar esses passos."
      ],
      "metadata": {
        "id": "sSPlPJP7WRu0"
      }
    },
    {
      "cell_type": "code",
      "source": [
        "# Preenchendo os valores ausentes com a mediana\n",
        "df_copy['Gross'] = df_copy['Gross'].fillna(df_copy['Gross'].median())\n",
        "\n",
        "# Excluindo o único valor ausente\n",
        "df_copy = df_copy.dropna(subset=['Released_Year'])"
      ],
      "metadata": {
        "id": "13W5L-7fWl2v"
      },
      "execution_count": null,
      "outputs": []
    },
    {
      "cell_type": "markdown",
      "source": [
        "Agora, vamos verificar quantos valores ausentes restaram em nossa base."
      ],
      "metadata": {
        "id": "XkglwYfSMUBr"
      }
    },
    {
      "cell_type": "code",
      "source": [
        "# Exibindo a quantidade de valor ausente restante na nossa base\n",
        "print(df_copy[['Released_Year', 'Gross']].isnull().sum())"
      ],
      "metadata": {
        "colab": {
          "base_uri": "https://localhost:8080/"
        },
        "id": "XnTWXPIQWus1",
        "outputId": "d3ae755a-2709-4ea5-9564-eb90d9bbf42c"
      },
      "execution_count": null,
      "outputs": [
        {
          "output_type": "stream",
          "name": "stdout",
          "text": [
            "Released_Year    0\n",
            "Gross            0\n",
            "dtype: int64\n"
          ]
        }
      ]
    },
    {
      "cell_type": "markdown",
      "source": [
        "Agora é o momento em que poderemos aplicar o teste de hipóteses, mas antes de definirmos qual teste será utilizado, iremos observar a distribuição dos nossos dados."
      ],
      "metadata": {
        "id": "v852LchDhyct"
      }
    },
    {
      "cell_type": "code",
      "source": [
        "# Em breve!!!"
      ],
      "metadata": {
        "id": "NcNbLWlJiyRV"
      },
      "execution_count": null,
      "outputs": []
    },
    {
      "cell_type": "markdown",
      "source": [
        "### **Matriz de correlação**"
      ],
      "metadata": {
        "id": "OyNd245gO-m-"
      }
    },
    {
      "cell_type": "markdown",
      "source": [
        "Vamos criar uma matriz de correlação para observar como as nossas variáveis demonstram correlacionamentos entre si."
      ],
      "metadata": {
        "id": "FIMPIN19O-kW"
      }
    },
    {
      "cell_type": "code",
      "source": [
        "# Gerando a matriz de correlação das variáveis numéricas do DataFrame\n",
        "df_numeric = df.select_dtypes(include=['float64', 'int64'])\n",
        "\n",
        "# Calculando a matriz de correlação\n",
        "correlation_matrix = df_numeric.corr()\n",
        "\n",
        "# Gerando uma máscara para esconder a metade superior da matriz de correlação\n",
        "mask = np.triu(np.ones_like(correlation_matrix, dtype=bool))\n",
        "\n",
        "# Plotando o gráfico de correlação usando seaborn com a máscara (apenas um lado do triângulo)\n",
        "plt.figure(figsize=(15, 8))\n",
        "sns.heatmap(correlation_matrix, annot=True, cmap='coolwarm', fmt=\".2f\", mask=mask)\n",
        "\n",
        "# Adicionando o título\n",
        "plt.title('Matriz de Correlação das Variáveis Numéricas')\n",
        "\n",
        "# Exibindo o gráfico\n",
        "plt.show()"
      ],
      "metadata": {
        "colab": {
          "base_uri": "https://localhost:8080/",
          "height": 699
        },
        "id": "RSoqjfOGO83R",
        "outputId": "6174627c-e539-42da-a8cf-8d86ccb95a55"
      },
      "execution_count": null,
      "outputs": [
        {
          "output_type": "display_data",
          "data": {
            "text/plain": [
              "<Figure size 1500x800 with 2 Axes>"
            ],
            "image/png": "[encoded data removed]"
          },
          "metadata": {}
        }
      ]
    },
    {
      "cell_type": "code",
      "source": [
        "# Em breve!!!"
      ],
      "metadata": {
        "id": "Fm9Hi17W33dM"
      },
      "execution_count": null,
      "outputs": []
    },
    {
      "cell_type": "markdown",
      "source": [
        "# **Respondendo às Perguntas**"
      ],
      "metadata": {
        "id": "tIoxp2d1tQ-w"
      }
    },
    {
      "cell_type": "markdown",
      "source": [
        "## **Quais insights podem ser tirados com a coluna Overview? É possível inferir o gênero do filme a partir dessa coluna?**"
      ],
      "metadata": {
        "id": "6FXMoN2jtX8W"
      }
    },
    {
      "cell_type": "code",
      "source": [
        "from nltk.tokenize import word_tokenize\n",
        "from nltk.corpus import stopwords\n",
        "\n",
        "# Lista de palavras-chave para diferentes gêneros\n",
        "generos_palavras_chave = {\n",
        "    'Drama': ['drama', 'trágico', 'emocional', 'conflito'],\n",
        "    'Comedy': ['comédia', 'engraçado', 'riso', 'humor'],\n",
        "    'Crime': ['crime', 'criminal', 'investigação', 'detetive'],\n",
        "    'Adventure': ['aventura', 'exploração', 'viagem', 'coragem'],\n",
        "    'Action': ['ação', 'combate', 'aventura', 'luta'],\n",
        "    'Thriller': ['suspense', 'tensão', 'perigo', 'mistério'],\n",
        "    'Romance': ['romance', 'amor', 'relacionamento', 'paixão'],\n",
        "    'Biography': ['biografia', 'vida', 'história', 'real'],\n",
        "    'Mystery': ['mistério', 'enigma', 'intriga', 'segredo'],\n",
        "    'Animation': ['animação', 'animações', 'desenhos', 'infantil'],\n",
        "    'Sci-Fi': ['ficção', 'científico', 'futurista', 'tecnologia'],\n",
        "    'Fantasy': ['fantasia', 'mágico', 'místico', 'imaginário'],\n",
        "    'Family': ['família', 'infantil', 'crianças', 'união'],\n",
        "    'History': ['história', 'passado', 'historiador', 'antigo'],\n",
        "    'War': ['guerra', 'batalha', 'conflito', 'soldado'],\n",
        "    'Music': ['música', 'musical', 'melodia', 'harmonia'],\n",
        "    'Horror': ['terror', 'medo', 'assustador', 'sobrenatural'],\n",
        "    'Western': ['western', 'oeste', 'cowboy', 'fronteira'],\n",
        "    'Film-Noir': ['film-noir', 'noir', 'crime', 'mistério'],\n",
        "    'Sport': ['esporte', 'atleta', 'competição', 'jogo'],\n",
        "    'Musical': ['musical', 'música', 'canção', 'dança']\n",
        "}\n",
        "\n",
        "# Função para determinar o gênero baseado no resumo\n",
        "def determinar_genero(resumo):\n",
        "    tokens = word_tokenize(resumo.lower())\n",
        "    stopwords_pt = set(stopwords.words('portuguese'))  # stopwords em português\n",
        "\n",
        "    # Remover stopwords e pontuações\n",
        "    tokens_limpos = [token for token in tokens if token.isalnum() and token not in stopwords_pt]\n",
        "\n",
        "    # Contar ocorrências de palavras-chave por gênero\n",
        "    genero_contagem = {genero: sum(tokens_limpos.count(palavra) for palavra in palavras_chave)\n",
        "                       for genero, palavras_chave in generos_palavras_chave.items()}\n",
        "\n",
        "    # Determinar o gênero com a contagem máxima\n",
        "    genero_predito = max(genero_contagem, key=genero_contagem.get)\n",
        "\n",
        "    return genero_predito\n",
        "\n",
        "# Aplicar a função a cada resumo na coluna 'Overview'\n",
        "df['Genero_Predito'] = df['Overview'].apply(determinar_genero)\n",
        "\n",
        "# Exibir os resultados\n",
        "print(df[['Overview', 'Genero_Predito']])"
      ],
      "metadata": {
        "id": "FA92nycFwptG"
      },
      "execution_count": null,
      "outputs": []
    },
    {
      "cell_type": "markdown",
      "source": [
        "# **Gerando o requirements**"
      ],
      "metadata": {
        "id": "ClSVjBPZz9hQ"
      }
    },
    {
      "cell_type": "code",
      "source": [
        "\"\"\"\n",
        "\n",
        "# Gerar o arquivo de requisitos\n",
        "!pip freeze > requirements.txt\n",
        "\n",
        "# Verificar o conteúdo do arquivo de requisitos\n",
        "!cat requirements.txt\n",
        "\n",
        "# Baixar o arquivo de requisitos\n",
        "from google.colab import files\n",
        "files.download('requirements.txt')\n",
        "\n",
        "\"\"\""
      ],
      "metadata": {
        "colab": {
          "base_uri": "https://localhost:8080/",
          "height": 53
        },
        "id": "-X0vft45z2hA",
        "outputId": "21604137-4fc9-4bbb-a277-3a3608822d2d"
      },
      "execution_count": null,
      "outputs": [
        {
          "output_type": "execute_result",
          "data": {
            "text/plain": [
              "\"\\n\\n# Gerar o arquivo de requisitos\\n!pip freeze > requirements.txt\\n\\n# Verificar o conteúdo do arquivo de requisitos\\n!cat requirements.txt\\n\\n# Baixar o arquivo de requisitos\\nfrom google.colab import files\\nfiles.download('requirements.txt')\\n\\n\""
            ],
            "application/vnd.google.colaboratory.intrinsic+json": {
              "type": "string"
            }
          },
          "metadata": {},
          "execution_count": 7
        }
      ]
    }
  ]
}